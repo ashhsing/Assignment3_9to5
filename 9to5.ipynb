{
    "metadata": {
        "kernelspec": {
            "name": "SQL",
            "display_name": "SQL",
            "language": "sql"
        },
        "language_info": {
            "name": "sql",
            "version": ""
        },
        "extensions": {
            "azuredatastudio": {
                "version": 1,
                "views": []
            }
        }
    },
    "nbformat_minor": 2,
    "nbformat": 4,
    "cells": [
        {
            "cell_type": "markdown",
            "source": [
                "# <span style=\"font-size: 20pt; font-family: Montserrat, sans-serif; color: rgb(92, 148, 206); background-color: rgb(255, 255, 255); font-weight: 700; font-variant-east-asian: normal; vertical-align: baseline; white-space: pre-wrap;\">Graded Assignment 3: 9 to 5</span>\n",
                "\n",
                "  \n",
                "\n",
                "<span style=\"font-size: 10pt; font-family: &quot;Times New Roman&quot;; color: rgb(102, 102, 102); background-color: rgb(255, 255, 255); font-variant-east-asian: normal; vertical-align: baseline; white-space: pre-wrap;\">Time to show off your SQL skills! For each question, copy the SQL query you used and make note of the answer.</span>\n",
                "\n",
                "  \n",
                "\n",
                "## <span style=\"font-size: 12pt; font-family: Montserrat, sans-serif; color: rgb(53, 74, 95); background-color: rgb(255, 255, 255); font-weight: 700; font-variant-east-asian: normal; vertical-align: baseline; white-space: pre-wrap;\">The Dataset</span>\n",
                "\n",
                "<span style=\"font-size: 10pt; font-family: &quot;Times New Roman&quot;; color: rgb(102, 102, 102); background-color: rgb(255, 255, 255); font-variant-east-asian: normal; vertical-align: baseline; white-space: pre-wrap;\">For this assignment, you will be using the Bureau of Labor Statistics (BLS) Current Employment Survey (CES) results which can be found on</span> [<span style=\"font-size: 10pt; font-family: &quot;Times New Roman&quot;; color: rgb(17, 85, 204); background-color: rgb(255, 255, 255); font-variant-east-asian: normal; text-decoration-line: underline; vertical-align: baseline; white-space: pre-wrap;\">Kaggle</span>](https://www.kaggle.com/bls/employment)<span style=\"font-size: 10pt; font-family: &quot;Times New Roman&quot;; color: rgb(102, 102, 102); background-color: rgb(255, 255, 255); font-variant-east-asian: normal; vertical-align: baseline; white-space: pre-wrap;\">.</span>\n",
                "\n",
                "  \n",
                "\n",
                "## <span style=\"font-size: 12pt; font-family: Montserrat, sans-serif; color: rgb(53, 74, 95); background-color: rgb(255, 255, 255); font-weight: 700; font-variant-east-asian: normal; vertical-align: baseline; white-space: pre-wrap;\">Business Issue</span>\n",
                "\n",
                "<span style=\"font-size: 10pt; font-family: &quot;Times New Roman&quot;; color: rgb(102, 102, 102); background-color: rgb(255, 255, 255); font-variant-east-asian: normal; vertical-align: baseline; white-space: pre-wrap;\">You are working for the Bureau of Labor Statistics with the United States government and have been approached by your boss with an important meeting request. You have been asked by your supervisor to meet with Dolly Parton whose nonprofit is looking to shed light on the state of employment in the United States. As part of the 9 to 5 project, their research is focused on production and nonsupervisory employees and how those employees fare compared to all employees in the United States. While the data the BLS collects from the CES is publicly available, Dolly Parton and her colleagues need your assistance navigating the thousands of rows in each table in LaborStatisticsDB.</span>\n",
                "\n",
                "  \n",
                "\n",
                "## <span style=\"font-size: 12pt; font-family: Montserrat, sans-serif; color: rgb(53, 74, 95); background-color: rgb(255, 255, 255); font-weight: 700; font-variant-east-asian: normal; vertical-align: baseline; white-space: pre-wrap;\">About the Dataset</span>\n",
                "\n",
                "<span style=\"font-size: 10pt; font-family: &quot;Times New Roman&quot;; color: rgb(102, 102, 102); background-color: rgb(255, 255, 255); font-variant-east-asian: normal; vertical-align: baseline; white-space: pre-wrap;\">This dataset comes directly from the Bureau of Labor Statistics’ Current Employment Survey (CES). Here are some things you need to know:</span>\n",
                "\n",
                "1. <span style=\"font-size: 10pt; background-color: rgb(255, 255, 255); font-variant-east-asian: normal; vertical-align: baseline; white-space: pre-wrap;\">The industry table contains an NAICS code. This is different from the industry code. NAICS stands for North American Industry Classification System.</span>\n",
                "    \n",
                "2. <span style=\"font-size: 10pt; background-color: rgb(255, 255, 255); font-variant-east-asian: normal; vertical-align: baseline; white-space: pre-wrap;\">Series ID is composed of multiple different codes. CES stands for Current Employment Survey, the name of the survey which collected the data. The industry code as specified by the BLS and the data type code as specified in the datatype table.</span>\n",
                "    \n",
                "\n",
                "  \n",
                "\n",
                "## <span style=\"font-size: 12pt; font-family: Montserrat, sans-serif; color: rgb(53, 74, 95); background-color: rgb(255, 255, 255); font-weight: 700; font-variant-east-asian: normal; vertical-align: baseline; white-space: pre-wrap;\">Set Up</span>\n",
                "\n",
                "<span style=\"font-size: 10pt; font-family: &quot;Times New Roman&quot;; color: rgb(102, 102, 102); background-color: rgb(255, 255, 255); font-variant-east-asian: normal; vertical-align: baseline; white-space: pre-wrap;\">To connect to the database, use the same connection info used during the SQL lessons.&nbsp;</span> \n",
                "\n",
                "<span style=\"font-size: 10pt; font-family: &quot;Times New Roman&quot;; color: rgb(102, 102, 102); background-color: rgb(255, 255, 255); font-variant-east-asian: normal; vertical-align: baseline; white-space: pre-wrap;\">For the assignment, we will be using the LaborStatisticsDB database.</span>\n",
                "\n",
                "  \n",
                "\n",
                "## <span style=\"font-size: 12pt; font-family: Montserrat, sans-serif; color: rgb(53, 74, 95); background-color: rgb(255, 255, 255); font-weight: 700; font-variant-east-asian: normal; vertical-align: baseline; white-space: pre-wrap;\">Database Exploration</span>\n",
                "\n",
                "<span style=\"font-size: 10pt; font-family: &quot;Times New Roman&quot;; color: rgb(102, 102, 102); background-color: rgb(255, 255, 255); font-variant-east-asian: normal; vertical-align: baseline; white-space: pre-wrap;\">To start with, let’s get to know the database further.</span>\n",
                "\n",
                "1. <span style=\"background-color: rgb(255, 255, 255); color: rgb(102, 102, 102); font-family: &quot;Times New Roman&quot;; font-size: 10pt; white-space: pre-wrap;\">Use this space to make note of each table in the database, the columns within each table, each column’s data type, and how the tables are connected. You can write this down or draw a diagram. Whatever method helps you get an understanding of what is going on with LaborStatisticsDB.</span>"
            ],
            "metadata": {
                "azdata_cell_guid": "28ea70c5-f0be-4197-b6c0-ade22886a708"
            }
        },
        {
            "cell_type": "markdown",
            "source": [
                "To add a photo, diagram or document to your file, drop the file into the folder that holds this notebook.  Use the the link button to the right of the  \\</\\> symbol in the gray part of this cell, the link is just the name of your file."
            ],
            "metadata": {
                "azdata_cell_guid": "aeae906c-752c-49d3-b482-3ed6a4f54b6e"
            }
        },
        {
            "cell_type": "code",
            "source": [
                "https://lucid.app/lucidchart/36c47fee-eefb-4009-a469-d4eb57501f13/edit?invitationId=inv_505b5420-255e-40b4-a258-ddd3d86acec8\n",
                ""
            ],
            "metadata": {
                "azdata_cell_guid": "dbf3633e-8503-49e6-b128-cf010d1558cf",
                "language": "sql",
                "tags": []
            },
            "outputs": [
                {
                    "output_type": "error",
                    "ename": "",
                    "evalue": "Msg 102, Level 15, State 1, Line 1\nIncorrect syntax near '/'.",
                    "traceback": []
                },
                {
                    "output_type": "display_data",
                    "data": {
                        "text/html": "Total execution time: 00:00:00.346"
                    },
                    "metadata": {}
                }
            ],
            "execution_count": 2
        },
        {
            "cell_type": "markdown",
            "source": [
                "2. <span style=\"background-color: rgb(255, 255, 255); color: rgb(102, 102, 102); font-family: Arvo, serif; font-size: 10pt; white-space: pre-wrap;\">What is the datatype for women employees?</span>"
            ],
            "metadata": {
                "azdata_cell_guid": "01b111b7-baf1-4617-88bc-cd442826c9c9"
            }
        },
        {
            "cell_type": "code",
            "source": [
                "SELECT * \n",
                "FROM LaborStatisticsDB.dbo.datatype\n",
                "WHERE data_type_text = 'Women employees'\n",
                ""
            ],
            "metadata": {
                "azdata_cell_guid": "02fa547c-0bb7-4a40-81c2-f5c05154df04",
                "language": "sql"
            },
            "outputs": [
                {
                    "output_type": "display_data",
                    "data": {
                        "text/html": "(1 row affected)"
                    },
                    "metadata": {}
                },
                {
                    "output_type": "display_data",
                    "data": {
                        "text/html": "Total execution time: 00:00:00.074"
                    },
                    "metadata": {}
                },
                {
                    "output_type": "execute_result",
                    "execution_count": 9,
                    "data": {
                        "application/vnd.dataresource+json": {
                            "schema": {
                                "fields": [
                                    {
                                        "name": "data_type_code"
                                    },
                                    {
                                        "name": "data_type_text"
                                    }
                                ]
                            },
                            "data": [
                                {
                                    "0": "10",
                                    "1": "WOMEN EMPLOYEES"
                                }
                            ]
                        },
                        "text/html": "<table><tr><th>data_type_code</th><th>data_type_text</th></tr><tr><td>10</td><td>WOMEN EMPLOYEES</td></tr></table>"
                    },
                    "metadata": {}
                }
            ],
            "execution_count": 9
        },
        {
            "cell_type": "markdown",
            "source": [
                "3. <span style=\"background-color: rgb(255, 255, 255); font-size: 10pt; white-space: pre-wrap; color: rgb(102, 102, 102); font-family: Arvo, serif;\">What is the series id for&nbsp; women employees in the commercial banking industry in the financial activities supersector?</span>"
            ],
            "metadata": {
                "azdata_cell_guid": "325f85cc-9545-47b3-b975-3aab6278e4ea"
            }
        },
        {
            "cell_type": "code",
            "source": [
                "SELECT * \n",
                "FROM LaborStatisticsDB.dbo.series\n",
                "WHERE series_title = 'Women employees'\n",
                "AND industry_code = '55522110'\n",
                "\n",
                "SELECT industry_code, industry_name \n",
                "FROM LaborStatisticsDB.dbo.industry\n",
                "WHERE industry_name LIKE '%commercial_bank%'\n",
                "\n",
                "SELECT * \n",
                "FROM LaborStatisticsDB.dbo.supersector\n",
                "WHERE supersector_name LIKE 'Financial activities'"
            ],
            "metadata": {
                "azdata_cell_guid": "1315af1f-45f8-457d-8bbe-8e9f46303fca",
                "language": "sql",
                "tags": []
            },
            "outputs": [
                {
                    "output_type": "display_data",
                    "data": {
                        "text/html": "(2 rows affected)"
                    },
                    "metadata": {}
                },
                {
                    "output_type": "display_data",
                    "data": {
                        "text/html": "(1 row affected)"
                    },
                    "metadata": {}
                },
                {
                    "output_type": "display_data",
                    "data": {
                        "text/html": "(1 row affected)"
                    },
                    "metadata": {}
                },
                {
                    "output_type": "display_data",
                    "data": {
                        "text/html": "Total execution time: 00:00:00.116"
                    },
                    "metadata": {}
                },
                {
                    "output_type": "execute_result",
                    "execution_count": 18,
                    "data": {
                        "application/vnd.dataresource+json": {
                            "schema": {
                                "fields": [
                                    {
                                        "name": "series_id"
                                    },
                                    {
                                        "name": "supersector_code"
                                    },
                                    {
                                        "name": "industry_code"
                                    },
                                    {
                                        "name": "data_type_code"
                                    },
                                    {
                                        "name": "seasonal"
                                    },
                                    {
                                        "name": "series_title"
                                    }
                                ]
                            },
                            "data": [
                                {
                                    "0": "CES5552211010",
                                    "1": "55",
                                    "2": "55522110",
                                    "3": "10",
                                    "4": "S",
                                    "5": "Women employees"
                                },
                                {
                                    "0": "CEU5552211010",
                                    "1": "55",
                                    "2": "55522110",
                                    "3": "10",
                                    "4": "U",
                                    "5": "Women employees"
                                }
                            ]
                        },
                        "text/html": "<table><tr><th>series_id</th><th>supersector_code</th><th>industry_code</th><th>data_type_code</th><th>seasonal</th><th>series_title</th></tr><tr><td>CES5552211010</td><td>55</td><td>55522110</td><td>10</td><td>S</td><td>Women employees</td></tr><tr><td>CEU5552211010</td><td>55</td><td>55522110</td><td>10</td><td>U</td><td>Women employees</td></tr></table>"
                    },
                    "metadata": {}
                },
                {
                    "output_type": "execute_result",
                    "execution_count": 18,
                    "data": {
                        "application/vnd.dataresource+json": {
                            "schema": {
                                "fields": [
                                    {
                                        "name": "industry_code"
                                    },
                                    {
                                        "name": "industry_name"
                                    }
                                ]
                            },
                            "data": [
                                {
                                    "0": "55522110",
                                    "1": "Commercial banking"
                                }
                            ]
                        },
                        "text/html": "<table><tr><th>industry_code</th><th>industry_name</th></tr><tr><td>55522110</td><td>Commercial banking</td></tr></table>"
                    },
                    "metadata": {}
                },
                {
                    "output_type": "execute_result",
                    "execution_count": 18,
                    "data": {
                        "application/vnd.dataresource+json": {
                            "schema": {
                                "fields": [
                                    {
                                        "name": "supersector_code"
                                    },
                                    {
                                        "name": "supersector_name"
                                    }
                                ]
                            },
                            "data": [
                                {
                                    "0": "55",
                                    "1": "Financial activities"
                                }
                            ]
                        },
                        "text/html": "<table><tr><th>supersector_code</th><th>supersector_name</th></tr><tr><td>55</td><td>Financial activities</td></tr></table>"
                    },
                    "metadata": {}
                }
            ],
            "execution_count": 18
        },
        {
            "cell_type": "markdown",
            "source": [
                "## <span style=\"font-size: 12pt; font-family: Montserrat, sans-serif; color: rgb(53, 74, 95); background-color: rgb(255, 255, 255); font-weight: 700; font-variant-numeric: normal; font-variant-east-asian: normal; vertical-align: baseline; white-space: pre-wrap;\">Join in on the Fun</span>\n",
                "\n",
                "<span style=\"font-size: 10pt; font-family: Arvo, serif; color: rgb(102, 102, 102); background-color: rgb(255, 255, 255); font-variant-numeric: normal; font-variant-east-asian: normal; vertical-align: baseline; white-space: pre-wrap;\">Time to start joining! You can choose the type of join you use, just make sure to make a&nbsp; note!</span>\n",
                "\n",
                "1. <span style=\"background-color: rgb(255, 255, 255); font-size: 10pt; white-space: pre-wrap; color: rgb(102, 102, 102); font-family: Arvo, serif;\">Join&nbsp; annual_2016 with series on series_id. We only want the data in the annual_2016 table to be included in the result.</span>"
            ],
            "metadata": {
                "azdata_cell_guid": "ec1dfc63-ad41-4349-8c26-1d326ace8c6c"
            }
        },
        {
            "cell_type": "code",
            "source": [
                "SELECT TOP 100 *\n",
                "FROM LaborStatisticsDB.dbo.annual_2016 as a                                                                                                                                                                                   \n",
                "LEFT JOIN LaborStatisticsDB.dbo.series as s \n",
                "ON a.series_id = s.series_id"
            ],
            "metadata": {
                "azdata_cell_guid": "cf90f0b4-c482-4fbb-ac17-d2244881caab",
                "language": "sql"
            },
            "outputs": [
                {
                    "output_type": "display_data",
                    "data": {
                        "text/html": "(100 rows affected)"
                    },
                    "metadata": {}
                },
                {
                    "output_type": "display_data",
                    "data": {
                        "text/html": "Total execution time: 00:00:00.318"
                    },
                    "metadata": {}
                },
                {
                    "output_type": "execute_result",
                    "execution_count": 9,
                    "data": {
                        "application/vnd.dataresource+json": {
                            "schema": {
                                "fields": [
                                    {
                                        "name": "id"
                                    },
                                    {
                                        "name": "series_id"
                                    },
                                    {
                                        "name": "year"
                                    },
                                    {
                                        "name": "period"
                                    },
                                    {
                                        "name": "value"
                                    },
                                    {
                                        "name": "footnote_codes"
                                    },
                                    {
                                        "name": "original_file"
                                    },
                                    {
                                        "name": "series_id"
                                    },
                                    {
                                        "name": "supersector_code"
                                    },
                                    {
                                        "name": "industry_code"
                                    },
                                    {
                                        "name": "data_type_code"
                                    },
                                    {
                                        "name": "seasonal"
                                    },
                                    {
                                        "name": "series_title"
                                    }
                                ]
                            },
                            "data": [
                                {
                                    "0": "8755",
                                    "1": "CEU0000000001",
                                    "2": "2016",
                                    "3": "M13",
                                    "4": "144306",
                                    "5": "NULL",
                                    "6": "ce.data.0.AllCESSeries.csv",
                                    "7": "CEU0000000001",
                                    "8": "0",
                                    "9": "00000000",
                                    "10": "1",
                                    "11": "U",
                                    "12": "All employees"
                                },
                                {
                                    "0": "22220",
                                    "1": "CEU0000000001",
                                    "2": "2016",
                                    "3": "M13",
                                    "4": "144306",
                                    "5": "NULL",
                                    "6": "ce.data.00a.TotalNonfarm.Employment.csv",
                                    "7": "CEU0000000001",
                                    "8": "0",
                                    "9": "00000000",
                                    "10": "1",
                                    "11": "U",
                                    "12": "All employees"
                                },
                                {
                                    "0": "22221",
                                    "1": "CEU0000000010",
                                    "2": "2016",
                                    "3": "M13",
                                    "4": "71492",
                                    "5": "NULL",
                                    "6": "ce.data.00a.TotalNonfarm.Employment.csv",
                                    "7": "CEU0000000010",
                                    "8": "0",
                                    "9": "00000000",
                                    "10": "10",
                                    "11": "U",
                                    "12": "Women employees"
                                },
                                {
                                    "0": "8756",
                                    "1": "CEU0000000010",
                                    "2": "2016",
                                    "3": "M13",
                                    "4": "71492",
                                    "5": "NULL",
                                    "6": "ce.data.0.AllCESSeries.csv",
                                    "7": "CEU0000000010",
                                    "8": "0",
                                    "9": "00000000",
                                    "10": "10",
                                    "11": "U",
                                    "12": "Women employees"
                                },
                                {
                                    "0": "8757",
                                    "1": "CEU0500000001",
                                    "2": "2016",
                                    "3": "M13",
                                    "4": "122083",
                                    "5": "NULL",
                                    "6": "ce.data.0.AllCESSeries.csv",
                                    "7": "CEU0500000001",
                                    "8": "5",
                                    "9": "05000000",
                                    "10": "1",
                                    "11": "U",
                                    "12": "All employees"
                                },
                                {
                                    "0": "6281",
                                    "1": "CEU0500000001",
                                    "2": "2016",
                                    "3": "M13",
                                    "4": "122083",
                                    "5": "NULL",
                                    "6": "ce.data.05a.TotalPrivate.Employment.csv",
                                    "7": "CEU0500000001",
                                    "8": "5",
                                    "9": "05000000",
                                    "10": "1",
                                    "11": "U",
                                    "12": "All employees"
                                },
                                {
                                    "0": "7954",
                                    "1": "CEU0500000002",
                                    "2": "2016",
                                    "3": "M13",
                                    "4": "34.4",
                                    "5": "NULL",
                                    "6": "ce.data.05b.TotalPrivate.AllEmployeeHoursAndEarnings.csv",
                                    "7": "CEU0500000002",
                                    "8": "5",
                                    "9": "05000000",
                                    "10": "2",
                                    "11": "U",
                                    "12": "Average weekly hours of all employees"
                                },
                                {
                                    "0": "8758",
                                    "1": "CEU0500000002",
                                    "2": "2016",
                                    "3": "M13",
                                    "4": "34.4",
                                    "5": "NULL",
                                    "6": "ce.data.0.AllCESSeries.csv",
                                    "7": "CEU0500000002",
                                    "8": "5",
                                    "9": "05000000",
                                    "10": "2",
                                    "11": "U",
                                    "12": "Average weekly hours of all employees"
                                },
                                {
                                    "0": "8759",
                                    "1": "CEU0500000003",
                                    "2": "2016",
                                    "3": "M13",
                                    "4": "25.65",
                                    "5": "NULL",
                                    "6": "ce.data.0.AllCESSeries.csv",
                                    "7": "CEU0500000003",
                                    "8": "5",
                                    "9": "05000000",
                                    "10": "3",
                                    "11": "U",
                                    "12": "Average hourly earnings of all employees"
                                },
                                {
                                    "0": "7955",
                                    "1": "CEU0500000003",
                                    "2": "2016",
                                    "3": "M13",
                                    "4": "25.65",
                                    "5": "NULL",
                                    "6": "ce.data.05b.TotalPrivate.AllEmployeeHoursAndEarnings.csv",
                                    "7": "CEU0500000003",
                                    "8": "5",
                                    "9": "05000000",
                                    "10": "3",
                                    "11": "U",
                                    "12": "Average hourly earnings of all employees"
                                },
                                {
                                    "0": "6282",
                                    "1": "CEU0500000006",
                                    "2": "2016",
                                    "3": "M13",
                                    "4": "100531",
                                    "5": "NULL",
                                    "6": "ce.data.05a.TotalPrivate.Employment.csv",
                                    "7": "CEU0500000006",
                                    "8": "5",
                                    "9": "05000000",
                                    "10": "6",
                                    "11": "U",
                                    "12": "Production and nonsupervisory employees"
                                },
                                {
                                    "0": "8760",
                                    "1": "CEU0500000006",
                                    "2": "2016",
                                    "3": "M13",
                                    "4": "100531",
                                    "5": "NULL",
                                    "6": "ce.data.0.AllCESSeries.csv",
                                    "7": "CEU0500000006",
                                    "8": "5",
                                    "9": "05000000",
                                    "10": "6",
                                    "11": "U",
                                    "12": "Production and nonsupervisory employees"
                                },
                                {
                                    "0": "8761",
                                    "1": "CEU0500000007",
                                    "2": "2016",
                                    "3": "M13",
                                    "4": "33.6",
                                    "5": "NULL",
                                    "6": "ce.data.0.AllCESSeries.csv",
                                    "7": "CEU0500000007",
                                    "8": "5",
                                    "9": "05000000",
                                    "10": "7",
                                    "11": "U",
                                    "12": "Average weekly hours of production and nonsupervisory employees"
                                },
                                {
                                    "0": "5721",
                                    "1": "CEU0500000007",
                                    "2": "2016",
                                    "3": "M13",
                                    "4": "33.6",
                                    "5": "NULL",
                                    "6": "ce.data.05c.TotalPrivate.ProductionEmployeeHoursAndEarnings.csv",
                                    "7": "CEU0500000007",
                                    "8": "5",
                                    "9": "05000000",
                                    "10": "7",
                                    "11": "U",
                                    "12": "Average weekly hours of production and nonsupervisory employees"
                                },
                                {
                                    "0": "5722",
                                    "1": "CEU0500000008",
                                    "2": "2016",
                                    "3": "M13",
                                    "4": "21.54",
                                    "5": "NULL",
                                    "6": "ce.data.05c.TotalPrivate.ProductionEmployeeHoursAndEarnings.csv",
                                    "7": "CEU0500000008",
                                    "8": "5",
                                    "9": "05000000",
                                    "10": "8",
                                    "11": "U",
                                    "12": "Average hourly earnings of production and nonsupervisory employees"
                                },
                                {
                                    "0": "8762",
                                    "1": "CEU0500000008",
                                    "2": "2016",
                                    "3": "M13",
                                    "4": "21.54",
                                    "5": "NULL",
                                    "6": "ce.data.0.AllCESSeries.csv",
                                    "7": "CEU0500000008",
                                    "8": "5",
                                    "9": "05000000",
                                    "10": "8",
                                    "11": "U",
                                    "12": "Average hourly earnings of production and nonsupervisory employees"
                                },
                                {
                                    "0": "8763",
                                    "1": "CEU0500000010",
                                    "2": "2016",
                                    "3": "M13",
                                    "4": "58747",
                                    "5": "NULL",
                                    "6": "ce.data.0.AllCESSeries.csv",
                                    "7": "CEU0500000010",
                                    "8": "5",
                                    "9": "05000000",
                                    "10": "10",
                                    "11": "U",
                                    "12": "Women employees"
                                },
                                {
                                    "0": "6283",
                                    "1": "CEU0500000010",
                                    "2": "2016",
                                    "3": "M13",
                                    "4": "58747",
                                    "5": "NULL",
                                    "6": "ce.data.05a.TotalPrivate.Employment.csv",
                                    "7": "CEU0500000010",
                                    "8": "5",
                                    "9": "05000000",
                                    "10": "10",
                                    "11": "U",
                                    "12": "Women employees"
                                },
                                {
                                    "0": "7956",
                                    "1": "CEU0500000011",
                                    "2": "2016",
                                    "3": "M13",
                                    "4": "881.55",
                                    "5": "NULL",
                                    "6": "ce.data.05b.TotalPrivate.AllEmployeeHoursAndEarnings.csv",
                                    "7": "CEU0500000011",
                                    "8": "5",
                                    "9": "05000000",
                                    "10": "11",
                                    "11": "U",
                                    "12": "Average weekly earnings of all employees"
                                },
                                {
                                    "0": "8764",
                                    "1": "CEU0500000011",
                                    "2": "2016",
                                    "3": "M13",
                                    "4": "881.55",
                                    "5": "NULL",
                                    "6": "ce.data.0.AllCESSeries.csv",
                                    "7": "CEU0500000011",
                                    "8": "5",
                                    "9": "05000000",
                                    "10": "11",
                                    "11": "U",
                                    "12": "Average weekly earnings of all employees"
                                },
                                {
                                    "0": "8765",
                                    "1": "CEU0500000012",
                                    "2": "2016",
                                    "3": "M13",
                                    "4": "367.3",
                                    "5": "NULL",
                                    "6": "ce.data.0.AllCESSeries.csv",
                                    "7": "CEU0500000012",
                                    "8": "5",
                                    "9": "05000000",
                                    "10": "12",
                                    "11": "U",
                                    "12": "Average weekly earnings of all employees"
                                },
                                {
                                    "0": "7957",
                                    "1": "CEU0500000012",
                                    "2": "2016",
                                    "3": "M13",
                                    "4": "367.3",
                                    "5": "NULL",
                                    "6": "ce.data.05b.TotalPrivate.AllEmployeeHoursAndEarnings.csv",
                                    "7": "CEU0500000012",
                                    "8": "5",
                                    "9": "05000000",
                                    "10": "12",
                                    "11": "U",
                                    "12": "Average weekly earnings of all employees"
                                },
                                {
                                    "0": "3808",
                                    "1": "CEU0500000012",
                                    "2": "2016",
                                    "3": "M13",
                                    "4": "367.3",
                                    "5": "NULL",
                                    "6": "ce.data.02b.AllRealEarningsAE.csv",
                                    "7": "CEU0500000012",
                                    "8": "5",
                                    "9": "05000000",
                                    "10": "12",
                                    "11": "U",
                                    "12": "Average weekly earnings of all employees"
                                },
                                {
                                    "0": "3809",
                                    "1": "CEU0500000013",
                                    "2": "2016",
                                    "3": "M13",
                                    "4": "10.69",
                                    "5": "NULL",
                                    "6": "ce.data.02b.AllRealEarningsAE.csv",
                                    "7": "CEU0500000013",
                                    "8": "5",
                                    "9": "05000000",
                                    "10": "13",
                                    "11": "U",
                                    "12": "Average hourly earnings of all employees"
                                },
                                {
                                    "0": "7958",
                                    "1": "CEU0500000013",
                                    "2": "2016",
                                    "3": "M13",
                                    "4": "10.69",
                                    "5": "NULL",
                                    "6": "ce.data.05b.TotalPrivate.AllEmployeeHoursAndEarnings.csv",
                                    "7": "CEU0500000013",
                                    "8": "5",
                                    "9": "05000000",
                                    "10": "13",
                                    "11": "U",
                                    "12": "Average hourly earnings of all employees"
                                },
                                {
                                    "0": "8766",
                                    "1": "CEU0500000013",
                                    "2": "2016",
                                    "3": "M13",
                                    "4": "10.69",
                                    "5": "NULL",
                                    "6": "ce.data.0.AllCESSeries.csv",
                                    "7": "CEU0500000013",
                                    "8": "5",
                                    "9": "05000000",
                                    "10": "13",
                                    "11": "U",
                                    "12": "Average hourly earnings of all employees"
                                },
                                {
                                    "0": "8767",
                                    "1": "CEU0500000016",
                                    "2": "2016",
                                    "3": "M13",
                                    "4": "105.3",
                                    "5": "NULL",
                                    "6": "ce.data.0.AllCESSeries.csv",
                                    "7": "CEU0500000016",
                                    "8": "5",
                                    "9": "05000000",
                                    "10": "16",
                                    "11": "U",
                                    "12": "Indexes of aggregate weekly hours of all employees"
                                },
                                {
                                    "0": "7959",
                                    "1": "CEU0500000016",
                                    "2": "2016",
                                    "3": "M13",
                                    "4": "105.3",
                                    "5": "NULL",
                                    "6": "ce.data.05b.TotalPrivate.AllEmployeeHoursAndEarnings.csv",
                                    "7": "CEU0500000016",
                                    "8": "5",
                                    "9": "05000000",
                                    "10": "16",
                                    "11": "U",
                                    "12": "Indexes of aggregate weekly hours of all employees"
                                },
                                {
                                    "0": "7960",
                                    "1": "CEU0500000017",
                                    "2": "2016",
                                    "3": "M13",
                                    "4": "129.1",
                                    "5": "NULL",
                                    "6": "ce.data.05b.TotalPrivate.AllEmployeeHoursAndEarnings.csv",
                                    "7": "CEU0500000017",
                                    "8": "5",
                                    "9": "05000000",
                                    "10": "17",
                                    "11": "U",
                                    "12": "Indexes of aggregate weekly payrolls of all employees"
                                },
                                {
                                    "0": "8768",
                                    "1": "CEU0500000017",
                                    "2": "2016",
                                    "3": "M13",
                                    "4": "129.1",
                                    "5": "NULL",
                                    "6": "ce.data.0.AllCESSeries.csv",
                                    "7": "CEU0500000017",
                                    "8": "5",
                                    "9": "05000000",
                                    "10": "17",
                                    "11": "U",
                                    "12": "Indexes of aggregate weekly payrolls of all employees"
                                },
                                {
                                    "0": "8769",
                                    "1": "CEU0500000030",
                                    "2": "2016",
                                    "3": "M13",
                                    "4": "723.69",
                                    "5": "NULL",
                                    "6": "ce.data.0.AllCESSeries.csv",
                                    "7": "CEU0500000030",
                                    "8": "5",
                                    "9": "05000000",
                                    "10": "30",
                                    "11": "U",
                                    "12": "Average weekly earnings of production and nonsupervisory employees"
                                },
                                {
                                    "0": "5723",
                                    "1": "CEU0500000030",
                                    "2": "2016",
                                    "3": "M13",
                                    "4": "723.69",
                                    "5": "NULL",
                                    "6": "ce.data.05c.TotalPrivate.ProductionEmployeeHoursAndEarnings.csv",
                                    "7": "CEU0500000030",
                                    "8": "5",
                                    "9": "05000000",
                                    "10": "30",
                                    "11": "U",
                                    "12": "Average weekly earnings of production and nonsupervisory employees"
                                },
                                {
                                    "0": "5724",
                                    "1": "CEU0500000031",
                                    "2": "2016",
                                    "3": "M13",
                                    "4": "309.17",
                                    "5": "NULL",
                                    "6": "ce.data.05c.TotalPrivate.ProductionEmployeeHoursAndEarnings.csv",
                                    "7": "CEU0500000031",
                                    "8": "5",
                                    "9": "05000000",
                                    "10": "31",
                                    "11": "U",
                                    "12": "Average weekly earnings of production and nonsupervisory employees"
                                },
                                {
                                    "0": "8770",
                                    "1": "CEU0500000031",
                                    "2": "2016",
                                    "3": "M13",
                                    "4": "309.17",
                                    "5": "NULL",
                                    "6": "ce.data.0.AllCESSeries.csv",
                                    "7": "CEU0500000031",
                                    "8": "5",
                                    "9": "05000000",
                                    "10": "31",
                                    "11": "U",
                                    "12": "Average weekly earnings of production and nonsupervisory employees"
                                },
                                {
                                    "0": "26206",
                                    "1": "CEU0500000031",
                                    "2": "2016",
                                    "3": "M13",
                                    "4": "309.17",
                                    "5": "NULL",
                                    "6": "ce.data.03c.AllRealEarningsPE.csv",
                                    "7": "CEU0500000031",
                                    "8": "5",
                                    "9": "05000000",
                                    "10": "31",
                                    "11": "U",
                                    "12": "Average weekly earnings of production and nonsupervisory employees"
                                },
                                {
                                    "0": "26207",
                                    "1": "CEU0500000032",
                                    "2": "2016",
                                    "3": "M13",
                                    "4": "9.2",
                                    "5": "NULL",
                                    "6": "ce.data.03c.AllRealEarningsPE.csv",
                                    "7": "CEU0500000032",
                                    "8": "5",
                                    "9": "05000000",
                                    "10": "32",
                                    "11": "U",
                                    "12": "Average hourly earnings of production and nonsupervisory employees"
                                },
                                {
                                    "0": "8771",
                                    "1": "CEU0500000032",
                                    "2": "2016",
                                    "3": "M13",
                                    "4": "9.2",
                                    "5": "NULL",
                                    "6": "ce.data.0.AllCESSeries.csv",
                                    "7": "CEU0500000032",
                                    "8": "5",
                                    "9": "05000000",
                                    "10": "32",
                                    "11": "U",
                                    "12": "Average hourly earnings of production and nonsupervisory employees"
                                },
                                {
                                    "0": "5725",
                                    "1": "CEU0500000032",
                                    "2": "2016",
                                    "3": "M13",
                                    "4": "9.2",
                                    "5": "NULL",
                                    "6": "ce.data.05c.TotalPrivate.ProductionEmployeeHoursAndEarnings.csv",
                                    "7": "CEU0500000032",
                                    "8": "5",
                                    "9": "05000000",
                                    "10": "32",
                                    "11": "U",
                                    "12": "Average hourly earnings of production and nonsupervisory employees"
                                },
                                {
                                    "0": "5726",
                                    "1": "CEU0500000034",
                                    "2": "2016",
                                    "3": "M13",
                                    "4": "112.5",
                                    "5": "NULL",
                                    "6": "ce.data.05c.TotalPrivate.ProductionEmployeeHoursAndEarnings.csv",
                                    "7": "CEU0500000034",
                                    "8": "5",
                                    "9": "05000000",
                                    "10": "34",
                                    "11": "U",
                                    "12": "Indexes of aggregate weekly hours of production and nonsupervisory employees"
                                },
                                {
                                    "0": "8772",
                                    "1": "CEU0500000034",
                                    "2": "2016",
                                    "3": "M13",
                                    "4": "112.5",
                                    "5": "NULL",
                                    "6": "ce.data.0.AllCESSeries.csv",
                                    "7": "CEU0500000034",
                                    "8": "5",
                                    "9": "05000000",
                                    "10": "34",
                                    "11": "U",
                                    "12": "Indexes of aggregate weekly hours of production and nonsupervisory employees"
                                },
                                {
                                    "0": "8773",
                                    "1": "CEU0500000035",
                                    "2": "2016",
                                    "3": "M13",
                                    "4": "162",
                                    "5": "NULL",
                                    "6": "ce.data.0.AllCESSeries.csv",
                                    "7": "CEU0500000035",
                                    "8": "5",
                                    "9": "05000000",
                                    "10": "35",
                                    "11": "U",
                                    "12": "Indexes of aggregate weekly payrolls of production and nonsupervisory employees"
                                },
                                {
                                    "0": "5727",
                                    "1": "CEU0500000035",
                                    "2": "2016",
                                    "3": "M13",
                                    "4": "162",
                                    "5": "NULL",
                                    "6": "ce.data.05c.TotalPrivate.ProductionEmployeeHoursAndEarnings.csv",
                                    "7": "CEU0500000035",
                                    "8": "5",
                                    "9": "05000000",
                                    "10": "35",
                                    "11": "U",
                                    "12": "Indexes of aggregate weekly payrolls of production and nonsupervisory employees"
                                },
                                {
                                    "0": "7961",
                                    "1": "CEU0500000056",
                                    "2": "2016",
                                    "3": "M13",
                                    "4": "4195743",
                                    "5": "NULL",
                                    "6": "ce.data.05b.TotalPrivate.AllEmployeeHoursAndEarnings.csv",
                                    "7": "CEU0500000056",
                                    "8": "5",
                                    "9": "05000000",
                                    "10": "56",
                                    "11": "U",
                                    "12": "Aggregate weekly hours of all employees"
                                },
                                {
                                    "0": "8774",
                                    "1": "CEU0500000056",
                                    "2": "2016",
                                    "3": "M13",
                                    "4": "4195743",
                                    "5": "NULL",
                                    "6": "ce.data.0.AllCESSeries.csv",
                                    "7": "CEU0500000056",
                                    "8": "5",
                                    "9": "05000000",
                                    "10": "56",
                                    "11": "U",
                                    "12": "Aggregate weekly hours of all employees"
                                },
                                {
                                    "0": "8775",
                                    "1": "CEU0500000057",
                                    "2": "2016",
                                    "3": "M13",
                                    "4": "107621623",
                                    "5": "NULL",
                                    "6": "ce.data.0.AllCESSeries.csv",
                                    "7": "CEU0500000057",
                                    "8": "5",
                                    "9": "05000000",
                                    "10": "57",
                                    "11": "U",
                                    "12": "Aggregate weekly payrolls of all employees"
                                },
                                {
                                    "0": "7962",
                                    "1": "CEU0500000057",
                                    "2": "2016",
                                    "3": "M13",
                                    "4": "107621623",
                                    "5": "NULL",
                                    "6": "ce.data.05b.TotalPrivate.AllEmployeeHoursAndEarnings.csv",
                                    "7": "CEU0500000057",
                                    "8": "5",
                                    "9": "05000000",
                                    "10": "57",
                                    "11": "U",
                                    "12": "Aggregate weekly payrolls of all employees"
                                },
                                {
                                    "0": "5728",
                                    "1": "CEU0500000081",
                                    "2": "2016",
                                    "3": "M13",
                                    "4": "3377192",
                                    "5": "NULL",
                                    "6": "ce.data.05c.TotalPrivate.ProductionEmployeeHoursAndEarnings.csv",
                                    "7": "CEU0500000081",
                                    "8": "5",
                                    "9": "05000000",
                                    "10": "81",
                                    "11": "U",
                                    "12": "Aggregate weekly hours of production and nonsupervisory employees"
                                },
                                {
                                    "0": "8776",
                                    "1": "CEU0500000081",
                                    "2": "2016",
                                    "3": "M13",
                                    "4": "3377192",
                                    "5": "NULL",
                                    "6": "ce.data.0.AllCESSeries.csv",
                                    "7": "CEU0500000081",
                                    "8": "5",
                                    "9": "05000000",
                                    "10": "81",
                                    "11": "U",
                                    "12": "Aggregate weekly hours of production and nonsupervisory employees"
                                },
                                {
                                    "0": "8777",
                                    "1": "CEU0500000082",
                                    "2": "2016",
                                    "3": "M13",
                                    "4": "72752850",
                                    "5": "NULL",
                                    "6": "ce.data.0.AllCESSeries.csv",
                                    "7": "CEU0500000082",
                                    "8": "5",
                                    "9": "05000000",
                                    "10": "82",
                                    "11": "U",
                                    "12": "Aggregate weekly payrolls of production and nonsupervisory employees"
                                },
                                {
                                    "0": "5729",
                                    "1": "CEU0500000082",
                                    "2": "2016",
                                    "3": "M13",
                                    "4": "72752850",
                                    "5": "NULL",
                                    "6": "ce.data.05c.TotalPrivate.ProductionEmployeeHoursAndEarnings.csv",
                                    "7": "CEU0500000082",
                                    "8": "5",
                                    "9": "05000000",
                                    "10": "82",
                                    "11": "U",
                                    "12": "Aggregate weekly payrolls of production and nonsupervisory employees"
                                },
                                {
                                    "0": "6284",
                                    "1": "CEU0600000001",
                                    "2": "2016",
                                    "3": "M13",
                                    "4": "19736",
                                    "5": "NULL",
                                    "6": "ce.data.05a.TotalPrivate.Employment.csv",
                                    "7": "CEU0600000001",
                                    "8": "6",
                                    "9": "06000000",
                                    "10": "1",
                                    "11": "U",
                                    "12": "All employees"
                                },
                                {
                                    "0": "8778",
                                    "1": "CEU0600000001",
                                    "2": "2016",
                                    "3": "M13",
                                    "4": "19736",
                                    "5": "NULL",
                                    "6": "ce.data.0.AllCESSeries.csv",
                                    "7": "CEU0600000001",
                                    "8": "6",
                                    "9": "06000000",
                                    "10": "1",
                                    "11": "U",
                                    "12": "All employees"
                                },
                                {
                                    "0": "8779",
                                    "1": "CEU0600000002",
                                    "2": "2016",
                                    "3": "M13",
                                    "4": "40.3",
                                    "5": "NULL",
                                    "6": "ce.data.0.AllCESSeries.csv",
                                    "7": "CEU0600000002",
                                    "8": "6",
                                    "9": "06000000",
                                    "10": "2",
                                    "11": "U",
                                    "12": "Average weekly hours of all employees"
                                },
                                {
                                    "0": "7963",
                                    "1": "CEU0600000002",
                                    "2": "2016",
                                    "3": "M13",
                                    "4": "40.3",
                                    "5": "NULL",
                                    "6": "ce.data.05b.TotalPrivate.AllEmployeeHoursAndEarnings.csv",
                                    "7": "CEU0600000002",
                                    "8": "6",
                                    "9": "06000000",
                                    "10": "2",
                                    "11": "U",
                                    "12": "Average weekly hours of all employees"
                                },
                                {
                                    "0": "7964",
                                    "1": "CEU0600000003",
                                    "2": "2016",
                                    "3": "M13",
                                    "4": "26.92",
                                    "5": "NULL",
                                    "6": "ce.data.05b.TotalPrivate.AllEmployeeHoursAndEarnings.csv",
                                    "7": "CEU0600000003",
                                    "8": "6",
                                    "9": "06000000",
                                    "10": "3",
                                    "11": "U",
                                    "12": "Average hourly earnings of all employees"
                                },
                                {
                                    "0": "8780",
                                    "1": "CEU0600000003",
                                    "2": "2016",
                                    "3": "M13",
                                    "4": "26.92",
                                    "5": "NULL",
                                    "6": "ce.data.0.AllCESSeries.csv",
                                    "7": "CEU0600000003",
                                    "8": "6",
                                    "9": "06000000",
                                    "10": "3",
                                    "11": "U",
                                    "12": "Average hourly earnings of all employees"
                                },
                                {
                                    "0": "8781",
                                    "1": "CEU0600000006",
                                    "2": "2016",
                                    "3": "M13",
                                    "4": "14204",
                                    "5": "NULL",
                                    "6": "ce.data.0.AllCESSeries.csv",
                                    "7": "CEU0600000006",
                                    "8": "6",
                                    "9": "06000000",
                                    "10": "6",
                                    "11": "U",
                                    "12": "Production and nonsupervisory employees"
                                },
                                {
                                    "0": "6285",
                                    "1": "CEU0600000006",
                                    "2": "2016",
                                    "3": "M13",
                                    "4": "14204",
                                    "5": "NULL",
                                    "6": "ce.data.05a.TotalPrivate.Employment.csv",
                                    "7": "CEU0600000006",
                                    "8": "6",
                                    "9": "06000000",
                                    "10": "6",
                                    "11": "U",
                                    "12": "Production and nonsupervisory employees"
                                },
                                {
                                    "0": "5730",
                                    "1": "CEU0600000007",
                                    "2": "2016",
                                    "3": "M13",
                                    "4": "41.2",
                                    "5": "NULL",
                                    "6": "ce.data.05c.TotalPrivate.ProductionEmployeeHoursAndEarnings.csv",
                                    "7": "CEU0600000007",
                                    "8": "6",
                                    "9": "06000000",
                                    "10": "7",
                                    "11": "U",
                                    "12": "Average weekly hours of production and nonsupervisory employees"
                                },
                                {
                                    "0": "8782",
                                    "1": "CEU0600000007",
                                    "2": "2016",
                                    "3": "M13",
                                    "4": "41.2",
                                    "5": "NULL",
                                    "6": "ce.data.0.AllCESSeries.csv",
                                    "7": "CEU0600000007",
                                    "8": "6",
                                    "9": "06000000",
                                    "10": "7",
                                    "11": "U",
                                    "12": "Average weekly hours of production and nonsupervisory employees"
                                },
                                {
                                    "0": "8783",
                                    "1": "CEU0600000008",
                                    "2": "2016",
                                    "3": "M13",
                                    "4": "22.58",
                                    "5": "NULL",
                                    "6": "ce.data.0.AllCESSeries.csv",
                                    "7": "CEU0600000008",
                                    "8": "6",
                                    "9": "06000000",
                                    "10": "8",
                                    "11": "U",
                                    "12": "Average hourly earnings of production and nonsupervisory employees"
                                },
                                {
                                    "0": "5731",
                                    "1": "CEU0600000008",
                                    "2": "2016",
                                    "3": "M13",
                                    "4": "22.58",
                                    "5": "NULL",
                                    "6": "ce.data.05c.TotalPrivate.ProductionEmployeeHoursAndEarnings.csv",
                                    "7": "CEU0600000008",
                                    "8": "6",
                                    "9": "06000000",
                                    "10": "8",
                                    "11": "U",
                                    "12": "Average hourly earnings of production and nonsupervisory employees"
                                },
                                {
                                    "0": "6286",
                                    "1": "CEU0600000010",
                                    "2": "2016",
                                    "3": "M13",
                                    "4": "4321",
                                    "5": "NULL",
                                    "6": "ce.data.05a.TotalPrivate.Employment.csv",
                                    "7": "CEU0600000010",
                                    "8": "6",
                                    "9": "06000000",
                                    "10": "10",
                                    "11": "U",
                                    "12": "Women employees"
                                },
                                {
                                    "0": "8784",
                                    "1": "CEU0600000010",
                                    "2": "2016",
                                    "3": "M13",
                                    "4": "4321",
                                    "5": "NULL",
                                    "6": "ce.data.0.AllCESSeries.csv",
                                    "7": "CEU0600000010",
                                    "8": "6",
                                    "9": "06000000",
                                    "10": "10",
                                    "11": "U",
                                    "12": "Women employees"
                                },
                                {
                                    "0": "8785",
                                    "1": "CEU0600000011",
                                    "2": "2016",
                                    "3": "M13",
                                    "4": "1083.9",
                                    "5": "NULL",
                                    "6": "ce.data.0.AllCESSeries.csv",
                                    "7": "CEU0600000011",
                                    "8": "6",
                                    "9": "06000000",
                                    "10": "11",
                                    "11": "U",
                                    "12": "Average weekly earnings of all employees"
                                },
                                {
                                    "0": "7965",
                                    "1": "CEU0600000011",
                                    "2": "2016",
                                    "3": "M13",
                                    "4": "1083.9",
                                    "5": "NULL",
                                    "6": "ce.data.05b.TotalPrivate.AllEmployeeHoursAndEarnings.csv",
                                    "7": "CEU0600000011",
                                    "8": "6",
                                    "9": "06000000",
                                    "10": "11",
                                    "11": "U",
                                    "12": "Average weekly earnings of all employees"
                                },
                                {
                                    "0": "7966",
                                    "1": "CEU0600000012",
                                    "2": "2016",
                                    "3": "M13",
                                    "4": "451.61",
                                    "5": "NULL",
                                    "6": "ce.data.05b.TotalPrivate.AllEmployeeHoursAndEarnings.csv",
                                    "7": "CEU0600000012",
                                    "8": "6",
                                    "9": "06000000",
                                    "10": "12",
                                    "11": "U",
                                    "12": "Average weekly earnings of all employees"
                                },
                                {
                                    "0": "3810",
                                    "1": "CEU0600000012",
                                    "2": "2016",
                                    "3": "M13",
                                    "4": "451.61",
                                    "5": "NULL",
                                    "6": "ce.data.02b.AllRealEarningsAE.csv",
                                    "7": "CEU0600000012",
                                    "8": "6",
                                    "9": "06000000",
                                    "10": "12",
                                    "11": "U",
                                    "12": "Average weekly earnings of all employees"
                                },
                                {
                                    "0": "8786",
                                    "1": "CEU0600000012",
                                    "2": "2016",
                                    "3": "M13",
                                    "4": "451.61",
                                    "5": "NULL",
                                    "6": "ce.data.0.AllCESSeries.csv",
                                    "7": "CEU0600000012",
                                    "8": "6",
                                    "9": "06000000",
                                    "10": "12",
                                    "11": "U",
                                    "12": "Average weekly earnings of all employees"
                                },
                                {
                                    "0": "8787",
                                    "1": "CEU0600000013",
                                    "2": "2016",
                                    "3": "M13",
                                    "4": "11.22",
                                    "5": "NULL",
                                    "6": "ce.data.0.AllCESSeries.csv",
                                    "7": "CEU0600000013",
                                    "8": "6",
                                    "9": "06000000",
                                    "10": "13",
                                    "11": "U",
                                    "12": "Average hourly earnings of all employees"
                                },
                                {
                                    "0": "3811",
                                    "1": "CEU0600000013",
                                    "2": "2016",
                                    "3": "M13",
                                    "4": "11.22",
                                    "5": "NULL",
                                    "6": "ce.data.02b.AllRealEarningsAE.csv",
                                    "7": "CEU0600000013",
                                    "8": "6",
                                    "9": "06000000",
                                    "10": "13",
                                    "11": "U",
                                    "12": "Average hourly earnings of all employees"
                                },
                                {
                                    "0": "7967",
                                    "1": "CEU0600000013",
                                    "2": "2016",
                                    "3": "M13",
                                    "4": "11.22",
                                    "5": "NULL",
                                    "6": "ce.data.05b.TotalPrivate.AllEmployeeHoursAndEarnings.csv",
                                    "7": "CEU0600000013",
                                    "8": "6",
                                    "9": "06000000",
                                    "10": "13",
                                    "11": "U",
                                    "12": "Average hourly earnings of all employees"
                                },
                                {
                                    "0": "7968",
                                    "1": "CEU0600000016",
                                    "2": "2016",
                                    "3": "M13",
                                    "4": "90.6",
                                    "5": "NULL",
                                    "6": "ce.data.05b.TotalPrivate.AllEmployeeHoursAndEarnings.csv",
                                    "7": "CEU0600000016",
                                    "8": "6",
                                    "9": "06000000",
                                    "10": "16",
                                    "11": "U",
                                    "12": "Indexes of aggregate weekly hours of all employees"
                                },
                                {
                                    "0": "8788",
                                    "1": "CEU0600000016",
                                    "2": "2016",
                                    "3": "M13",
                                    "4": "90.6",
                                    "5": "NULL",
                                    "6": "ce.data.0.AllCESSeries.csv",
                                    "7": "CEU0600000016",
                                    "8": "6",
                                    "9": "06000000",
                                    "10": "16",
                                    "11": "U",
                                    "12": "Indexes of aggregate weekly hours of all employees"
                                },
                                {
                                    "0": "8789",
                                    "1": "CEU0600000017",
                                    "2": "2016",
                                    "3": "M13",
                                    "4": "110.2",
                                    "5": "NULL",
                                    "6": "ce.data.0.AllCESSeries.csv",
                                    "7": "CEU0600000017",
                                    "8": "6",
                                    "9": "06000000",
                                    "10": "17",
                                    "11": "U",
                                    "12": "Indexes of aggregate weekly payrolls of all employees"
                                },
                                {
                                    "0": "7969",
                                    "1": "CEU0600000017",
                                    "2": "2016",
                                    "3": "M13",
                                    "4": "110.2",
                                    "5": "NULL",
                                    "6": "ce.data.05b.TotalPrivate.AllEmployeeHoursAndEarnings.csv",
                                    "7": "CEU0600000017",
                                    "8": "6",
                                    "9": "06000000",
                                    "10": "17",
                                    "11": "U",
                                    "12": "Indexes of aggregate weekly payrolls of all employees"
                                },
                                {
                                    "0": "5732",
                                    "1": "CEU0600000030",
                                    "2": "2016",
                                    "3": "M13",
                                    "4": "930.33",
                                    "5": "NULL",
                                    "6": "ce.data.05c.TotalPrivate.ProductionEmployeeHoursAndEarnings.csv",
                                    "7": "CEU0600000030",
                                    "8": "6",
                                    "9": "06000000",
                                    "10": "30",
                                    "11": "U",
                                    "12": "Average weekly earnings of production and nonsupervisory employees"
                                },
                                {
                                    "0": "8790",
                                    "1": "CEU0600000030",
                                    "2": "2016",
                                    "3": "M13",
                                    "4": "930.33",
                                    "5": "NULL",
                                    "6": "ce.data.0.AllCESSeries.csv",
                                    "7": "CEU0600000030",
                                    "8": "6",
                                    "9": "06000000",
                                    "10": "30",
                                    "11": "U",
                                    "12": "Average weekly earnings of production and nonsupervisory employees"
                                },
                                {
                                    "0": "8791",
                                    "1": "CEU0600000031",
                                    "2": "2016",
                                    "3": "M13",
                                    "4": "397.45",
                                    "5": "NULL",
                                    "6": "ce.data.0.AllCESSeries.csv",
                                    "7": "CEU0600000031",
                                    "8": "6",
                                    "9": "06000000",
                                    "10": "31",
                                    "11": "U",
                                    "12": "Average weekly earnings of production and nonsupervisory employees"
                                },
                                {
                                    "0": "5733",
                                    "1": "CEU0600000031",
                                    "2": "2016",
                                    "3": "M13",
                                    "4": "397.45",
                                    "5": "NULL",
                                    "6": "ce.data.05c.TotalPrivate.ProductionEmployeeHoursAndEarnings.csv",
                                    "7": "CEU0600000031",
                                    "8": "6",
                                    "9": "06000000",
                                    "10": "31",
                                    "11": "U",
                                    "12": "Average weekly earnings of production and nonsupervisory employees"
                                },
                                {
                                    "0": "26208",
                                    "1": "CEU0600000031",
                                    "2": "2016",
                                    "3": "M13",
                                    "4": "397.45",
                                    "5": "NULL",
                                    "6": "ce.data.03c.AllRealEarningsPE.csv",
                                    "7": "CEU0600000031",
                                    "8": "6",
                                    "9": "06000000",
                                    "10": "31",
                                    "11": "U",
                                    "12": "Average weekly earnings of production and nonsupervisory employees"
                                },
                                {
                                    "0": "26209",
                                    "1": "CEU0600000032",
                                    "2": "2016",
                                    "3": "M13",
                                    "4": "9.65",
                                    "5": "NULL",
                                    "6": "ce.data.03c.AllRealEarningsPE.csv",
                                    "7": "CEU0600000032",
                                    "8": "6",
                                    "9": "06000000",
                                    "10": "32",
                                    "11": "U",
                                    "12": "Average hourly earnings of production and nonsupervisory employees"
                                },
                                {
                                    "0": "5734",
                                    "1": "CEU0600000032",
                                    "2": "2016",
                                    "3": "M13",
                                    "4": "9.65",
                                    "5": "NULL",
                                    "6": "ce.data.05c.TotalPrivate.ProductionEmployeeHoursAndEarnings.csv",
                                    "7": "CEU0600000032",
                                    "8": "6",
                                    "9": "06000000",
                                    "10": "32",
                                    "11": "U",
                                    "12": "Average hourly earnings of production and nonsupervisory employees"
                                },
                                {
                                    "0": "8792",
                                    "1": "CEU0600000032",
                                    "2": "2016",
                                    "3": "M13",
                                    "4": "9.65",
                                    "5": "NULL",
                                    "6": "ce.data.0.AllCESSeries.csv",
                                    "7": "CEU0600000032",
                                    "8": "6",
                                    "9": "06000000",
                                    "10": "32",
                                    "11": "U",
                                    "12": "Average hourly earnings of production and nonsupervisory employees"
                                },
                                {
                                    "0": "8793",
                                    "1": "CEU0600000034",
                                    "2": "2016",
                                    "3": "M13",
                                    "4": "89.4",
                                    "5": "NULL",
                                    "6": "ce.data.0.AllCESSeries.csv",
                                    "7": "CEU0600000034",
                                    "8": "6",
                                    "9": "06000000",
                                    "10": "34",
                                    "11": "U",
                                    "12": "Indexes of aggregate weekly hours of production and nonsupervisory employees"
                                },
                                {
                                    "0": "5735",
                                    "1": "CEU0600000034",
                                    "2": "2016",
                                    "3": "M13",
                                    "4": "89.4",
                                    "5": "NULL",
                                    "6": "ce.data.05c.TotalPrivate.ProductionEmployeeHoursAndEarnings.csv",
                                    "7": "CEU0600000034",
                                    "8": "6",
                                    "9": "06000000",
                                    "10": "34",
                                    "11": "U",
                                    "12": "Indexes of aggregate weekly hours of production and nonsupervisory employees"
                                },
                                {
                                    "0": "5736",
                                    "1": "CEU0600000035",
                                    "2": "2016",
                                    "3": "M13",
                                    "4": "123.6",
                                    "5": "NULL",
                                    "6": "ce.data.05c.TotalPrivate.ProductionEmployeeHoursAndEarnings.csv",
                                    "7": "CEU0600000035",
                                    "8": "6",
                                    "9": "06000000",
                                    "10": "35",
                                    "11": "U",
                                    "12": "Indexes of aggregate weekly payrolls of production and nonsupervisory employees"
                                },
                                {
                                    "0": "8794",
                                    "1": "CEU0600000035",
                                    "2": "2016",
                                    "3": "M13",
                                    "4": "123.6",
                                    "5": "NULL",
                                    "6": "ce.data.0.AllCESSeries.csv",
                                    "7": "CEU0600000035",
                                    "8": "6",
                                    "9": "06000000",
                                    "10": "35",
                                    "11": "U",
                                    "12": "Indexes of aggregate weekly payrolls of production and nonsupervisory employees"
                                },
                                {
                                    "0": "8795",
                                    "1": "CEU0600000056",
                                    "2": "2016",
                                    "3": "M13",
                                    "4": "794790",
                                    "5": "NULL",
                                    "6": "ce.data.0.AllCESSeries.csv",
                                    "7": "CEU0600000056",
                                    "8": "6",
                                    "9": "06000000",
                                    "10": "56",
                                    "11": "U",
                                    "12": "Aggregate weekly hours of all employees"
                                },
                                {
                                    "0": "7970",
                                    "1": "CEU0600000056",
                                    "2": "2016",
                                    "3": "M13",
                                    "4": "794790",
                                    "5": "NULL",
                                    "6": "ce.data.05b.TotalPrivate.AllEmployeeHoursAndEarnings.csv",
                                    "7": "CEU0600000056",
                                    "8": "6",
                                    "9": "06000000",
                                    "10": "56",
                                    "11": "U",
                                    "12": "Aggregate weekly hours of all employees"
                                },
                                {
                                    "0": "7971",
                                    "1": "CEU0600000057",
                                    "2": "2016",
                                    "3": "M13",
                                    "4": "21392396",
                                    "5": "NULL",
                                    "6": "ce.data.05b.TotalPrivate.AllEmployeeHoursAndEarnings.csv",
                                    "7": "CEU0600000057",
                                    "8": "6",
                                    "9": "06000000",
                                    "10": "57",
                                    "11": "U",
                                    "12": "Aggregate weekly payrolls of all employees"
                                },
                                {
                                    "0": "8796",
                                    "1": "CEU0600000057",
                                    "2": "2016",
                                    "3": "M13",
                                    "4": "21392396",
                                    "5": "NULL",
                                    "6": "ce.data.0.AllCESSeries.csv",
                                    "7": "CEU0600000057",
                                    "8": "6",
                                    "9": "06000000",
                                    "10": "57",
                                    "11": "U",
                                    "12": "Aggregate weekly payrolls of all employees"
                                },
                                {
                                    "0": "8797",
                                    "1": "CEU0600000081",
                                    "2": "2016",
                                    "3": "M13",
                                    "4": "585294",
                                    "5": "NULL",
                                    "6": "ce.data.0.AllCESSeries.csv",
                                    "7": "CEU0600000081",
                                    "8": "6",
                                    "9": "06000000",
                                    "10": "81",
                                    "11": "U",
                                    "12": "Aggregate weekly hours of production and nonsupervisory employees"
                                },
                                {
                                    "0": "5737",
                                    "1": "CEU0600000081",
                                    "2": "2016",
                                    "3": "M13",
                                    "4": "585294",
                                    "5": "NULL",
                                    "6": "ce.data.05c.TotalPrivate.ProductionEmployeeHoursAndEarnings.csv",
                                    "7": "CEU0600000081",
                                    "8": "6",
                                    "9": "06000000",
                                    "10": "81",
                                    "11": "U",
                                    "12": "Aggregate weekly hours of production and nonsupervisory employees"
                                },
                                {
                                    "0": "5738",
                                    "1": "CEU0600000082",
                                    "2": "2016",
                                    "3": "M13",
                                    "4": "13214434",
                                    "5": "NULL",
                                    "6": "ce.data.05c.TotalPrivate.ProductionEmployeeHoursAndEarnings.csv",
                                    "7": "CEU0600000082",
                                    "8": "6",
                                    "9": "06000000",
                                    "10": "82",
                                    "11": "U",
                                    "12": "Aggregate weekly payrolls of production and nonsupervisory employees"
                                },
                                {
                                    "0": "8798",
                                    "1": "CEU0600000082",
                                    "2": "2016",
                                    "3": "M13",
                                    "4": "13214434",
                                    "5": "NULL",
                                    "6": "ce.data.0.AllCESSeries.csv",
                                    "7": "CEU0600000082",
                                    "8": "6",
                                    "9": "06000000",
                                    "10": "82",
                                    "11": "U",
                                    "12": "Aggregate weekly payrolls of production and nonsupervisory employees"
                                },
                                {
                                    "0": "8799",
                                    "1": "CEU0700000001",
                                    "2": "2016",
                                    "3": "M13",
                                    "4": "124569",
                                    "5": "NULL",
                                    "6": "ce.data.0.AllCESSeries.csv",
                                    "7": "CEU0700000001",
                                    "8": "7",
                                    "9": "07000000",
                                    "10": "1",
                                    "11": "U",
                                    "12": "All employees"
                                },
                                {
                                    "0": "6287",
                                    "1": "CEU0700000001",
                                    "2": "2016",
                                    "3": "M13",
                                    "4": "124569",
                                    "5": "NULL",
                                    "6": "ce.data.05a.TotalPrivate.Employment.csv",
                                    "7": "CEU0700000001",
                                    "8": "7",
                                    "9": "07000000",
                                    "10": "1",
                                    "11": "U",
                                    "12": "All employees"
                                },
                                {
                                    "0": "6288",
                                    "1": "CEU0700000010",
                                    "2": "2016",
                                    "3": "M13",
                                    "4": "67171",
                                    "5": "NULL",
                                    "6": "ce.data.05a.TotalPrivate.Employment.csv",
                                    "7": "CEU0700000010",
                                    "8": "7",
                                    "9": "07000000",
                                    "10": "10",
                                    "11": "U",
                                    "12": "Women employees"
                                },
                                {
                                    "0": "8800",
                                    "1": "CEU0700000010",
                                    "2": "2016",
                                    "3": "M13",
                                    "4": "67171",
                                    "5": "NULL",
                                    "6": "ce.data.0.AllCESSeries.csv",
                                    "7": "CEU0700000010",
                                    "8": "7",
                                    "9": "07000000",
                                    "10": "10",
                                    "11": "U",
                                    "12": "Women employees"
                                }
                            ]
                        },
                        "text/html": "<table><tr><th>id</th><th>series_id</th><th>year</th><th>period</th><th>value</th><th>footnote_codes</th><th>original_file</th><th>series_id</th><th>supersector_code</th><th>industry_code</th><th>data_type_code</th><th>seasonal</th><th>series_title</th></tr><tr><td>8755</td><td>CEU0000000001</td><td>2016</td><td>M13</td><td>144306</td><td>NULL</td><td>ce.data.0.AllCESSeries.csv</td><td>CEU0000000001</td><td>0</td><td>00000000</td><td>1</td><td>U</td><td>All employees</td></tr><tr><td>22220</td><td>CEU0000000001</td><td>2016</td><td>M13</td><td>144306</td><td>NULL</td><td>ce.data.00a.TotalNonfarm.Employment.csv</td><td>CEU0000000001</td><td>0</td><td>00000000</td><td>1</td><td>U</td><td>All employees</td></tr><tr><td>22221</td><td>CEU0000000010</td><td>2016</td><td>M13</td><td>71492</td><td>NULL</td><td>ce.data.00a.TotalNonfarm.Employment.csv</td><td>CEU0000000010</td><td>0</td><td>00000000</td><td>10</td><td>U</td><td>Women employees</td></tr><tr><td>8756</td><td>CEU0000000010</td><td>2016</td><td>M13</td><td>71492</td><td>NULL</td><td>ce.data.0.AllCESSeries.csv</td><td>CEU0000000010</td><td>0</td><td>00000000</td><td>10</td><td>U</td><td>Women employees</td></tr><tr><td>8757</td><td>CEU0500000001</td><td>2016</td><td>M13</td><td>122083</td><td>NULL</td><td>ce.data.0.AllCESSeries.csv</td><td>CEU0500000001</td><td>5</td><td>05000000</td><td>1</td><td>U</td><td>All employees</td></tr><tr><td>6281</td><td>CEU0500000001</td><td>2016</td><td>M13</td><td>122083</td><td>NULL</td><td>ce.data.05a.TotalPrivate.Employment.csv</td><td>CEU0500000001</td><td>5</td><td>05000000</td><td>1</td><td>U</td><td>All employees</td></tr><tr><td>7954</td><td>CEU0500000002</td><td>2016</td><td>M13</td><td>34.4</td><td>NULL</td><td>ce.data.05b.TotalPrivate.AllEmployeeHoursAndEarnings.csv</td><td>CEU0500000002</td><td>5</td><td>05000000</td><td>2</td><td>U</td><td>Average weekly hours of all employees</td></tr><tr><td>8758</td><td>CEU0500000002</td><td>2016</td><td>M13</td><td>34.4</td><td>NULL</td><td>ce.data.0.AllCESSeries.csv</td><td>CEU0500000002</td><td>5</td><td>05000000</td><td>2</td><td>U</td><td>Average weekly hours of all employees</td></tr><tr><td>8759</td><td>CEU0500000003</td><td>2016</td><td>M13</td><td>25.65</td><td>NULL</td><td>ce.data.0.AllCESSeries.csv</td><td>CEU0500000003</td><td>5</td><td>05000000</td><td>3</td><td>U</td><td>Average hourly earnings of all employees</td></tr><tr><td>7955</td><td>CEU0500000003</td><td>2016</td><td>M13</td><td>25.65</td><td>NULL</td><td>ce.data.05b.TotalPrivate.AllEmployeeHoursAndEarnings.csv</td><td>CEU0500000003</td><td>5</td><td>05000000</td><td>3</td><td>U</td><td>Average hourly earnings of all employees</td></tr><tr><td>6282</td><td>CEU0500000006</td><td>2016</td><td>M13</td><td>100531</td><td>NULL</td><td>ce.data.05a.TotalPrivate.Employment.csv</td><td>CEU0500000006</td><td>5</td><td>05000000</td><td>6</td><td>U</td><td>Production and nonsupervisory employees</td></tr><tr><td>8760</td><td>CEU0500000006</td><td>2016</td><td>M13</td><td>100531</td><td>NULL</td><td>ce.data.0.AllCESSeries.csv</td><td>CEU0500000006</td><td>5</td><td>05000000</td><td>6</td><td>U</td><td>Production and nonsupervisory employees</td></tr><tr><td>8761</td><td>CEU0500000007</td><td>2016</td><td>M13</td><td>33.6</td><td>NULL</td><td>ce.data.0.AllCESSeries.csv</td><td>CEU0500000007</td><td>5</td><td>05000000</td><td>7</td><td>U</td><td>Average weekly hours of production and nonsupervisory employees</td></tr><tr><td>5721</td><td>CEU0500000007</td><td>2016</td><td>M13</td><td>33.6</td><td>NULL</td><td>ce.data.05c.TotalPrivate.ProductionEmployeeHoursAndEarnings.csv</td><td>CEU0500000007</td><td>5</td><td>05000000</td><td>7</td><td>U</td><td>Average weekly hours of production and nonsupervisory employees</td></tr><tr><td>5722</td><td>CEU0500000008</td><td>2016</td><td>M13</td><td>21.54</td><td>NULL</td><td>ce.data.05c.TotalPrivate.ProductionEmployeeHoursAndEarnings.csv</td><td>CEU0500000008</td><td>5</td><td>05000000</td><td>8</td><td>U</td><td>Average hourly earnings of production and nonsupervisory employees</td></tr><tr><td>8762</td><td>CEU0500000008</td><td>2016</td><td>M13</td><td>21.54</td><td>NULL</td><td>ce.data.0.AllCESSeries.csv</td><td>CEU0500000008</td><td>5</td><td>05000000</td><td>8</td><td>U</td><td>Average hourly earnings of production and nonsupervisory employees</td></tr><tr><td>8763</td><td>CEU0500000010</td><td>2016</td><td>M13</td><td>58747</td><td>NULL</td><td>ce.data.0.AllCESSeries.csv</td><td>CEU0500000010</td><td>5</td><td>05000000</td><td>10</td><td>U</td><td>Women employees</td></tr><tr><td>6283</td><td>CEU0500000010</td><td>2016</td><td>M13</td><td>58747</td><td>NULL</td><td>ce.data.05a.TotalPrivate.Employment.csv</td><td>CEU0500000010</td><td>5</td><td>05000000</td><td>10</td><td>U</td><td>Women employees</td></tr><tr><td>7956</td><td>CEU0500000011</td><td>2016</td><td>M13</td><td>881.55</td><td>NULL</td><td>ce.data.05b.TotalPrivate.AllEmployeeHoursAndEarnings.csv</td><td>CEU0500000011</td><td>5</td><td>05000000</td><td>11</td><td>U</td><td>Average weekly earnings of all employees</td></tr><tr><td>8764</td><td>CEU0500000011</td><td>2016</td><td>M13</td><td>881.55</td><td>NULL</td><td>ce.data.0.AllCESSeries.csv</td><td>CEU0500000011</td><td>5</td><td>05000000</td><td>11</td><td>U</td><td>Average weekly earnings of all employees</td></tr><tr><td>8765</td><td>CEU0500000012</td><td>2016</td><td>M13</td><td>367.3</td><td>NULL</td><td>ce.data.0.AllCESSeries.csv</td><td>CEU0500000012</td><td>5</td><td>05000000</td><td>12</td><td>U</td><td>Average weekly earnings of all employees</td></tr><tr><td>7957</td><td>CEU0500000012</td><td>2016</td><td>M13</td><td>367.3</td><td>NULL</td><td>ce.data.05b.TotalPrivate.AllEmployeeHoursAndEarnings.csv</td><td>CEU0500000012</td><td>5</td><td>05000000</td><td>12</td><td>U</td><td>Average weekly earnings of all employees</td></tr><tr><td>3808</td><td>CEU0500000012</td><td>2016</td><td>M13</td><td>367.3</td><td>NULL</td><td>ce.data.02b.AllRealEarningsAE.csv</td><td>CEU0500000012</td><td>5</td><td>05000000</td><td>12</td><td>U</td><td>Average weekly earnings of all employees</td></tr><tr><td>3809</td><td>CEU0500000013</td><td>2016</td><td>M13</td><td>10.69</td><td>NULL</td><td>ce.data.02b.AllRealEarningsAE.csv</td><td>CEU0500000013</td><td>5</td><td>05000000</td><td>13</td><td>U</td><td>Average hourly earnings of all employees</td></tr><tr><td>7958</td><td>CEU0500000013</td><td>2016</td><td>M13</td><td>10.69</td><td>NULL</td><td>ce.data.05b.TotalPrivate.AllEmployeeHoursAndEarnings.csv</td><td>CEU0500000013</td><td>5</td><td>05000000</td><td>13</td><td>U</td><td>Average hourly earnings of all employees</td></tr><tr><td>8766</td><td>CEU0500000013</td><td>2016</td><td>M13</td><td>10.69</td><td>NULL</td><td>ce.data.0.AllCESSeries.csv</td><td>CEU0500000013</td><td>5</td><td>05000000</td><td>13</td><td>U</td><td>Average hourly earnings of all employees</td></tr><tr><td>8767</td><td>CEU0500000016</td><td>2016</td><td>M13</td><td>105.3</td><td>NULL</td><td>ce.data.0.AllCESSeries.csv</td><td>CEU0500000016</td><td>5</td><td>05000000</td><td>16</td><td>U</td><td>Indexes of aggregate weekly hours of all employees</td></tr><tr><td>7959</td><td>CEU0500000016</td><td>2016</td><td>M13</td><td>105.3</td><td>NULL</td><td>ce.data.05b.TotalPrivate.AllEmployeeHoursAndEarnings.csv</td><td>CEU0500000016</td><td>5</td><td>05000000</td><td>16</td><td>U</td><td>Indexes of aggregate weekly hours of all employees</td></tr><tr><td>7960</td><td>CEU0500000017</td><td>2016</td><td>M13</td><td>129.1</td><td>NULL</td><td>ce.data.05b.TotalPrivate.AllEmployeeHoursAndEarnings.csv</td><td>CEU0500000017</td><td>5</td><td>05000000</td><td>17</td><td>U</td><td>Indexes of aggregate weekly payrolls of all employees</td></tr><tr><td>8768</td><td>CEU0500000017</td><td>2016</td><td>M13</td><td>129.1</td><td>NULL</td><td>ce.data.0.AllCESSeries.csv</td><td>CEU0500000017</td><td>5</td><td>05000000</td><td>17</td><td>U</td><td>Indexes of aggregate weekly payrolls of all employees</td></tr><tr><td>8769</td><td>CEU0500000030</td><td>2016</td><td>M13</td><td>723.69</td><td>NULL</td><td>ce.data.0.AllCESSeries.csv</td><td>CEU0500000030</td><td>5</td><td>05000000</td><td>30</td><td>U</td><td>Average weekly earnings of production and nonsupervisory employees</td></tr><tr><td>5723</td><td>CEU0500000030</td><td>2016</td><td>M13</td><td>723.69</td><td>NULL</td><td>ce.data.05c.TotalPrivate.ProductionEmployeeHoursAndEarnings.csv</td><td>CEU0500000030</td><td>5</td><td>05000000</td><td>30</td><td>U</td><td>Average weekly earnings of production and nonsupervisory employees</td></tr><tr><td>5724</td><td>CEU0500000031</td><td>2016</td><td>M13</td><td>309.17</td><td>NULL</td><td>ce.data.05c.TotalPrivate.ProductionEmployeeHoursAndEarnings.csv</td><td>CEU0500000031</td><td>5</td><td>05000000</td><td>31</td><td>U</td><td>Average weekly earnings of production and nonsupervisory employees</td></tr><tr><td>8770</td><td>CEU0500000031</td><td>2016</td><td>M13</td><td>309.17</td><td>NULL</td><td>ce.data.0.AllCESSeries.csv</td><td>CEU0500000031</td><td>5</td><td>05000000</td><td>31</td><td>U</td><td>Average weekly earnings of production and nonsupervisory employees</td></tr><tr><td>26206</td><td>CEU0500000031</td><td>2016</td><td>M13</td><td>309.17</td><td>NULL</td><td>ce.data.03c.AllRealEarningsPE.csv</td><td>CEU0500000031</td><td>5</td><td>05000000</td><td>31</td><td>U</td><td>Average weekly earnings of production and nonsupervisory employees</td></tr><tr><td>26207</td><td>CEU0500000032</td><td>2016</td><td>M13</td><td>9.2</td><td>NULL</td><td>ce.data.03c.AllRealEarningsPE.csv</td><td>CEU0500000032</td><td>5</td><td>05000000</td><td>32</td><td>U</td><td>Average hourly earnings of production and nonsupervisory employees</td></tr><tr><td>8771</td><td>CEU0500000032</td><td>2016</td><td>M13</td><td>9.2</td><td>NULL</td><td>ce.data.0.AllCESSeries.csv</td><td>CEU0500000032</td><td>5</td><td>05000000</td><td>32</td><td>U</td><td>Average hourly earnings of production and nonsupervisory employees</td></tr><tr><td>5725</td><td>CEU0500000032</td><td>2016</td><td>M13</td><td>9.2</td><td>NULL</td><td>ce.data.05c.TotalPrivate.ProductionEmployeeHoursAndEarnings.csv</td><td>CEU0500000032</td><td>5</td><td>05000000</td><td>32</td><td>U</td><td>Average hourly earnings of production and nonsupervisory employees</td></tr><tr><td>5726</td><td>CEU0500000034</td><td>2016</td><td>M13</td><td>112.5</td><td>NULL</td><td>ce.data.05c.TotalPrivate.ProductionEmployeeHoursAndEarnings.csv</td><td>CEU0500000034</td><td>5</td><td>05000000</td><td>34</td><td>U</td><td>Indexes of aggregate weekly hours of production and nonsupervisory employees</td></tr><tr><td>8772</td><td>CEU0500000034</td><td>2016</td><td>M13</td><td>112.5</td><td>NULL</td><td>ce.data.0.AllCESSeries.csv</td><td>CEU0500000034</td><td>5</td><td>05000000</td><td>34</td><td>U</td><td>Indexes of aggregate weekly hours of production and nonsupervisory employees</td></tr><tr><td>8773</td><td>CEU0500000035</td><td>2016</td><td>M13</td><td>162</td><td>NULL</td><td>ce.data.0.AllCESSeries.csv</td><td>CEU0500000035</td><td>5</td><td>05000000</td><td>35</td><td>U</td><td>Indexes of aggregate weekly payrolls of production and nonsupervisory employees</td></tr><tr><td>5727</td><td>CEU0500000035</td><td>2016</td><td>M13</td><td>162</td><td>NULL</td><td>ce.data.05c.TotalPrivate.ProductionEmployeeHoursAndEarnings.csv</td><td>CEU0500000035</td><td>5</td><td>05000000</td><td>35</td><td>U</td><td>Indexes of aggregate weekly payrolls of production and nonsupervisory employees</td></tr><tr><td>7961</td><td>CEU0500000056</td><td>2016</td><td>M13</td><td>4195743</td><td>NULL</td><td>ce.data.05b.TotalPrivate.AllEmployeeHoursAndEarnings.csv</td><td>CEU0500000056</td><td>5</td><td>05000000</td><td>56</td><td>U</td><td>Aggregate weekly hours of all employees</td></tr><tr><td>8774</td><td>CEU0500000056</td><td>2016</td><td>M13</td><td>4195743</td><td>NULL</td><td>ce.data.0.AllCESSeries.csv</td><td>CEU0500000056</td><td>5</td><td>05000000</td><td>56</td><td>U</td><td>Aggregate weekly hours of all employees</td></tr><tr><td>8775</td><td>CEU0500000057</td><td>2016</td><td>M13</td><td>107621623</td><td>NULL</td><td>ce.data.0.AllCESSeries.csv</td><td>CEU0500000057</td><td>5</td><td>05000000</td><td>57</td><td>U</td><td>Aggregate weekly payrolls of all employees</td></tr><tr><td>7962</td><td>CEU0500000057</td><td>2016</td><td>M13</td><td>107621623</td><td>NULL</td><td>ce.data.05b.TotalPrivate.AllEmployeeHoursAndEarnings.csv</td><td>CEU0500000057</td><td>5</td><td>05000000</td><td>57</td><td>U</td><td>Aggregate weekly payrolls of all employees</td></tr><tr><td>5728</td><td>CEU0500000081</td><td>2016</td><td>M13</td><td>3377192</td><td>NULL</td><td>ce.data.05c.TotalPrivate.ProductionEmployeeHoursAndEarnings.csv</td><td>CEU0500000081</td><td>5</td><td>05000000</td><td>81</td><td>U</td><td>Aggregate weekly hours of production and nonsupervisory employees</td></tr><tr><td>8776</td><td>CEU0500000081</td><td>2016</td><td>M13</td><td>3377192</td><td>NULL</td><td>ce.data.0.AllCESSeries.csv</td><td>CEU0500000081</td><td>5</td><td>05000000</td><td>81</td><td>U</td><td>Aggregate weekly hours of production and nonsupervisory employees</td></tr><tr><td>8777</td><td>CEU0500000082</td><td>2016</td><td>M13</td><td>72752850</td><td>NULL</td><td>ce.data.0.AllCESSeries.csv</td><td>CEU0500000082</td><td>5</td><td>05000000</td><td>82</td><td>U</td><td>Aggregate weekly payrolls of production and nonsupervisory employees</td></tr><tr><td>5729</td><td>CEU0500000082</td><td>2016</td><td>M13</td><td>72752850</td><td>NULL</td><td>ce.data.05c.TotalPrivate.ProductionEmployeeHoursAndEarnings.csv</td><td>CEU0500000082</td><td>5</td><td>05000000</td><td>82</td><td>U</td><td>Aggregate weekly payrolls of production and nonsupervisory employees</td></tr><tr><td>6284</td><td>CEU0600000001</td><td>2016</td><td>M13</td><td>19736</td><td>NULL</td><td>ce.data.05a.TotalPrivate.Employment.csv</td><td>CEU0600000001</td><td>6</td><td>06000000</td><td>1</td><td>U</td><td>All employees</td></tr><tr><td>8778</td><td>CEU0600000001</td><td>2016</td><td>M13</td><td>19736</td><td>NULL</td><td>ce.data.0.AllCESSeries.csv</td><td>CEU0600000001</td><td>6</td><td>06000000</td><td>1</td><td>U</td><td>All employees</td></tr><tr><td>8779</td><td>CEU0600000002</td><td>2016</td><td>M13</td><td>40.3</td><td>NULL</td><td>ce.data.0.AllCESSeries.csv</td><td>CEU0600000002</td><td>6</td><td>06000000</td><td>2</td><td>U</td><td>Average weekly hours of all employees</td></tr><tr><td>7963</td><td>CEU0600000002</td><td>2016</td><td>M13</td><td>40.3</td><td>NULL</td><td>ce.data.05b.TotalPrivate.AllEmployeeHoursAndEarnings.csv</td><td>CEU0600000002</td><td>6</td><td>06000000</td><td>2</td><td>U</td><td>Average weekly hours of all employees</td></tr><tr><td>7964</td><td>CEU0600000003</td><td>2016</td><td>M13</td><td>26.92</td><td>NULL</td><td>ce.data.05b.TotalPrivate.AllEmployeeHoursAndEarnings.csv</td><td>CEU0600000003</td><td>6</td><td>06000000</td><td>3</td><td>U</td><td>Average hourly earnings of all employees</td></tr><tr><td>8780</td><td>CEU0600000003</td><td>2016</td><td>M13</td><td>26.92</td><td>NULL</td><td>ce.data.0.AllCESSeries.csv</td><td>CEU0600000003</td><td>6</td><td>06000000</td><td>3</td><td>U</td><td>Average hourly earnings of all employees</td></tr><tr><td>8781</td><td>CEU0600000006</td><td>2016</td><td>M13</td><td>14204</td><td>NULL</td><td>ce.data.0.AllCESSeries.csv</td><td>CEU0600000006</td><td>6</td><td>06000000</td><td>6</td><td>U</td><td>Production and nonsupervisory employees</td></tr><tr><td>6285</td><td>CEU0600000006</td><td>2016</td><td>M13</td><td>14204</td><td>NULL</td><td>ce.data.05a.TotalPrivate.Employment.csv</td><td>CEU0600000006</td><td>6</td><td>06000000</td><td>6</td><td>U</td><td>Production and nonsupervisory employees</td></tr><tr><td>5730</td><td>CEU0600000007</td><td>2016</td><td>M13</td><td>41.2</td><td>NULL</td><td>ce.data.05c.TotalPrivate.ProductionEmployeeHoursAndEarnings.csv</td><td>CEU0600000007</td><td>6</td><td>06000000</td><td>7</td><td>U</td><td>Average weekly hours of production and nonsupervisory employees</td></tr><tr><td>8782</td><td>CEU0600000007</td><td>2016</td><td>M13</td><td>41.2</td><td>NULL</td><td>ce.data.0.AllCESSeries.csv</td><td>CEU0600000007</td><td>6</td><td>06000000</td><td>7</td><td>U</td><td>Average weekly hours of production and nonsupervisory employees</td></tr><tr><td>8783</td><td>CEU0600000008</td><td>2016</td><td>M13</td><td>22.58</td><td>NULL</td><td>ce.data.0.AllCESSeries.csv</td><td>CEU0600000008</td><td>6</td><td>06000000</td><td>8</td><td>U</td><td>Average hourly earnings of production and nonsupervisory employees</td></tr><tr><td>5731</td><td>CEU0600000008</td><td>2016</td><td>M13</td><td>22.58</td><td>NULL</td><td>ce.data.05c.TotalPrivate.ProductionEmployeeHoursAndEarnings.csv</td><td>CEU0600000008</td><td>6</td><td>06000000</td><td>8</td><td>U</td><td>Average hourly earnings of production and nonsupervisory employees</td></tr><tr><td>6286</td><td>CEU0600000010</td><td>2016</td><td>M13</td><td>4321</td><td>NULL</td><td>ce.data.05a.TotalPrivate.Employment.csv</td><td>CEU0600000010</td><td>6</td><td>06000000</td><td>10</td><td>U</td><td>Women employees</td></tr><tr><td>8784</td><td>CEU0600000010</td><td>2016</td><td>M13</td><td>4321</td><td>NULL</td><td>ce.data.0.AllCESSeries.csv</td><td>CEU0600000010</td><td>6</td><td>06000000</td><td>10</td><td>U</td><td>Women employees</td></tr><tr><td>8785</td><td>CEU0600000011</td><td>2016</td><td>M13</td><td>1083.9</td><td>NULL</td><td>ce.data.0.AllCESSeries.csv</td><td>CEU0600000011</td><td>6</td><td>06000000</td><td>11</td><td>U</td><td>Average weekly earnings of all employees</td></tr><tr><td>7965</td><td>CEU0600000011</td><td>2016</td><td>M13</td><td>1083.9</td><td>NULL</td><td>ce.data.05b.TotalPrivate.AllEmployeeHoursAndEarnings.csv</td><td>CEU0600000011</td><td>6</td><td>06000000</td><td>11</td><td>U</td><td>Average weekly earnings of all employees</td></tr><tr><td>7966</td><td>CEU0600000012</td><td>2016</td><td>M13</td><td>451.61</td><td>NULL</td><td>ce.data.05b.TotalPrivate.AllEmployeeHoursAndEarnings.csv</td><td>CEU0600000012</td><td>6</td><td>06000000</td><td>12</td><td>U</td><td>Average weekly earnings of all employees</td></tr><tr><td>3810</td><td>CEU0600000012</td><td>2016</td><td>M13</td><td>451.61</td><td>NULL</td><td>ce.data.02b.AllRealEarningsAE.csv</td><td>CEU0600000012</td><td>6</td><td>06000000</td><td>12</td><td>U</td><td>Average weekly earnings of all employees</td></tr><tr><td>8786</td><td>CEU0600000012</td><td>2016</td><td>M13</td><td>451.61</td><td>NULL</td><td>ce.data.0.AllCESSeries.csv</td><td>CEU0600000012</td><td>6</td><td>06000000</td><td>12</td><td>U</td><td>Average weekly earnings of all employees</td></tr><tr><td>8787</td><td>CEU0600000013</td><td>2016</td><td>M13</td><td>11.22</td><td>NULL</td><td>ce.data.0.AllCESSeries.csv</td><td>CEU0600000013</td><td>6</td><td>06000000</td><td>13</td><td>U</td><td>Average hourly earnings of all employees</td></tr><tr><td>3811</td><td>CEU0600000013</td><td>2016</td><td>M13</td><td>11.22</td><td>NULL</td><td>ce.data.02b.AllRealEarningsAE.csv</td><td>CEU0600000013</td><td>6</td><td>06000000</td><td>13</td><td>U</td><td>Average hourly earnings of all employees</td></tr><tr><td>7967</td><td>CEU0600000013</td><td>2016</td><td>M13</td><td>11.22</td><td>NULL</td><td>ce.data.05b.TotalPrivate.AllEmployeeHoursAndEarnings.csv</td><td>CEU0600000013</td><td>6</td><td>06000000</td><td>13</td><td>U</td><td>Average hourly earnings of all employees</td></tr><tr><td>7968</td><td>CEU0600000016</td><td>2016</td><td>M13</td><td>90.6</td><td>NULL</td><td>ce.data.05b.TotalPrivate.AllEmployeeHoursAndEarnings.csv</td><td>CEU0600000016</td><td>6</td><td>06000000</td><td>16</td><td>U</td><td>Indexes of aggregate weekly hours of all employees</td></tr><tr><td>8788</td><td>CEU0600000016</td><td>2016</td><td>M13</td><td>90.6</td><td>NULL</td><td>ce.data.0.AllCESSeries.csv</td><td>CEU0600000016</td><td>6</td><td>06000000</td><td>16</td><td>U</td><td>Indexes of aggregate weekly hours of all employees</td></tr><tr><td>8789</td><td>CEU0600000017</td><td>2016</td><td>M13</td><td>110.2</td><td>NULL</td><td>ce.data.0.AllCESSeries.csv</td><td>CEU0600000017</td><td>6</td><td>06000000</td><td>17</td><td>U</td><td>Indexes of aggregate weekly payrolls of all employees</td></tr><tr><td>7969</td><td>CEU0600000017</td><td>2016</td><td>M13</td><td>110.2</td><td>NULL</td><td>ce.data.05b.TotalPrivate.AllEmployeeHoursAndEarnings.csv</td><td>CEU0600000017</td><td>6</td><td>06000000</td><td>17</td><td>U</td><td>Indexes of aggregate weekly payrolls of all employees</td></tr><tr><td>5732</td><td>CEU0600000030</td><td>2016</td><td>M13</td><td>930.33</td><td>NULL</td><td>ce.data.05c.TotalPrivate.ProductionEmployeeHoursAndEarnings.csv</td><td>CEU0600000030</td><td>6</td><td>06000000</td><td>30</td><td>U</td><td>Average weekly earnings of production and nonsupervisory employees</td></tr><tr><td>8790</td><td>CEU0600000030</td><td>2016</td><td>M13</td><td>930.33</td><td>NULL</td><td>ce.data.0.AllCESSeries.csv</td><td>CEU0600000030</td><td>6</td><td>06000000</td><td>30</td><td>U</td><td>Average weekly earnings of production and nonsupervisory employees</td></tr><tr><td>8791</td><td>CEU0600000031</td><td>2016</td><td>M13</td><td>397.45</td><td>NULL</td><td>ce.data.0.AllCESSeries.csv</td><td>CEU0600000031</td><td>6</td><td>06000000</td><td>31</td><td>U</td><td>Average weekly earnings of production and nonsupervisory employees</td></tr><tr><td>5733</td><td>CEU0600000031</td><td>2016</td><td>M13</td><td>397.45</td><td>NULL</td><td>ce.data.05c.TotalPrivate.ProductionEmployeeHoursAndEarnings.csv</td><td>CEU0600000031</td><td>6</td><td>06000000</td><td>31</td><td>U</td><td>Average weekly earnings of production and nonsupervisory employees</td></tr><tr><td>26208</td><td>CEU0600000031</td><td>2016</td><td>M13</td><td>397.45</td><td>NULL</td><td>ce.data.03c.AllRealEarningsPE.csv</td><td>CEU0600000031</td><td>6</td><td>06000000</td><td>31</td><td>U</td><td>Average weekly earnings of production and nonsupervisory employees</td></tr><tr><td>26209</td><td>CEU0600000032</td><td>2016</td><td>M13</td><td>9.65</td><td>NULL</td><td>ce.data.03c.AllRealEarningsPE.csv</td><td>CEU0600000032</td><td>6</td><td>06000000</td><td>32</td><td>U</td><td>Average hourly earnings of production and nonsupervisory employees</td></tr><tr><td>5734</td><td>CEU0600000032</td><td>2016</td><td>M13</td><td>9.65</td><td>NULL</td><td>ce.data.05c.TotalPrivate.ProductionEmployeeHoursAndEarnings.csv</td><td>CEU0600000032</td><td>6</td><td>06000000</td><td>32</td><td>U</td><td>Average hourly earnings of production and nonsupervisory employees</td></tr><tr><td>8792</td><td>CEU0600000032</td><td>2016</td><td>M13</td><td>9.65</td><td>NULL</td><td>ce.data.0.AllCESSeries.csv</td><td>CEU0600000032</td><td>6</td><td>06000000</td><td>32</td><td>U</td><td>Average hourly earnings of production and nonsupervisory employees</td></tr><tr><td>8793</td><td>CEU0600000034</td><td>2016</td><td>M13</td><td>89.4</td><td>NULL</td><td>ce.data.0.AllCESSeries.csv</td><td>CEU0600000034</td><td>6</td><td>06000000</td><td>34</td><td>U</td><td>Indexes of aggregate weekly hours of production and nonsupervisory employees</td></tr><tr><td>5735</td><td>CEU0600000034</td><td>2016</td><td>M13</td><td>89.4</td><td>NULL</td><td>ce.data.05c.TotalPrivate.ProductionEmployeeHoursAndEarnings.csv</td><td>CEU0600000034</td><td>6</td><td>06000000</td><td>34</td><td>U</td><td>Indexes of aggregate weekly hours of production and nonsupervisory employees</td></tr><tr><td>5736</td><td>CEU0600000035</td><td>2016</td><td>M13</td><td>123.6</td><td>NULL</td><td>ce.data.05c.TotalPrivate.ProductionEmployeeHoursAndEarnings.csv</td><td>CEU0600000035</td><td>6</td><td>06000000</td><td>35</td><td>U</td><td>Indexes of aggregate weekly payrolls of production and nonsupervisory employees</td></tr><tr><td>8794</td><td>CEU0600000035</td><td>2016</td><td>M13</td><td>123.6</td><td>NULL</td><td>ce.data.0.AllCESSeries.csv</td><td>CEU0600000035</td><td>6</td><td>06000000</td><td>35</td><td>U</td><td>Indexes of aggregate weekly payrolls of production and nonsupervisory employees</td></tr><tr><td>8795</td><td>CEU0600000056</td><td>2016</td><td>M13</td><td>794790</td><td>NULL</td><td>ce.data.0.AllCESSeries.csv</td><td>CEU0600000056</td><td>6</td><td>06000000</td><td>56</td><td>U</td><td>Aggregate weekly hours of all employees</td></tr><tr><td>7970</td><td>CEU0600000056</td><td>2016</td><td>M13</td><td>794790</td><td>NULL</td><td>ce.data.05b.TotalPrivate.AllEmployeeHoursAndEarnings.csv</td><td>CEU0600000056</td><td>6</td><td>06000000</td><td>56</td><td>U</td><td>Aggregate weekly hours of all employees</td></tr><tr><td>7971</td><td>CEU0600000057</td><td>2016</td><td>M13</td><td>21392396</td><td>NULL</td><td>ce.data.05b.TotalPrivate.AllEmployeeHoursAndEarnings.csv</td><td>CEU0600000057</td><td>6</td><td>06000000</td><td>57</td><td>U</td><td>Aggregate weekly payrolls of all employees</td></tr><tr><td>8796</td><td>CEU0600000057</td><td>2016</td><td>M13</td><td>21392396</td><td>NULL</td><td>ce.data.0.AllCESSeries.csv</td><td>CEU0600000057</td><td>6</td><td>06000000</td><td>57</td><td>U</td><td>Aggregate weekly payrolls of all employees</td></tr><tr><td>8797</td><td>CEU0600000081</td><td>2016</td><td>M13</td><td>585294</td><td>NULL</td><td>ce.data.0.AllCESSeries.csv</td><td>CEU0600000081</td><td>6</td><td>06000000</td><td>81</td><td>U</td><td>Aggregate weekly hours of production and nonsupervisory employees</td></tr><tr><td>5737</td><td>CEU0600000081</td><td>2016</td><td>M13</td><td>585294</td><td>NULL</td><td>ce.data.05c.TotalPrivate.ProductionEmployeeHoursAndEarnings.csv</td><td>CEU0600000081</td><td>6</td><td>06000000</td><td>81</td><td>U</td><td>Aggregate weekly hours of production and nonsupervisory employees</td></tr><tr><td>5738</td><td>CEU0600000082</td><td>2016</td><td>M13</td><td>13214434</td><td>NULL</td><td>ce.data.05c.TotalPrivate.ProductionEmployeeHoursAndEarnings.csv</td><td>CEU0600000082</td><td>6</td><td>06000000</td><td>82</td><td>U</td><td>Aggregate weekly payrolls of production and nonsupervisory employees</td></tr><tr><td>8798</td><td>CEU0600000082</td><td>2016</td><td>M13</td><td>13214434</td><td>NULL</td><td>ce.data.0.AllCESSeries.csv</td><td>CEU0600000082</td><td>6</td><td>06000000</td><td>82</td><td>U</td><td>Aggregate weekly payrolls of production and nonsupervisory employees</td></tr><tr><td>8799</td><td>CEU0700000001</td><td>2016</td><td>M13</td><td>124569</td><td>NULL</td><td>ce.data.0.AllCESSeries.csv</td><td>CEU0700000001</td><td>7</td><td>07000000</td><td>1</td><td>U</td><td>All employees</td></tr><tr><td>6287</td><td>CEU0700000001</td><td>2016</td><td>M13</td><td>124569</td><td>NULL</td><td>ce.data.05a.TotalPrivate.Employment.csv</td><td>CEU0700000001</td><td>7</td><td>07000000</td><td>1</td><td>U</td><td>All employees</td></tr><tr><td>6288</td><td>CEU0700000010</td><td>2016</td><td>M13</td><td>67171</td><td>NULL</td><td>ce.data.05a.TotalPrivate.Employment.csv</td><td>CEU0700000010</td><td>7</td><td>07000000</td><td>10</td><td>U</td><td>Women employees</td></tr><tr><td>8800</td><td>CEU0700000010</td><td>2016</td><td>M13</td><td>67171</td><td>NULL</td><td>ce.data.0.AllCESSeries.csv</td><td>CEU0700000010</td><td>7</td><td>07000000</td><td>10</td><td>U</td><td>Women employees</td></tr></table>"
                    },
                    "metadata": {}
                }
            ],
            "execution_count": 9
        },
        {
            "cell_type": "markdown",
            "source": [
                "2. <span style=\"background-color: rgb(255, 255, 255); font-size: 10pt; white-space: pre-wrap; color: rgb(102, 102, 102); font-family: Arvo, serif;\">Join series and datatype on data_type_code</span>"
            ],
            "metadata": {
                "azdata_cell_guid": "710b59ae-224b-4f9d-b1a4-4a6b89048bbb"
            }
        },
        {
            "cell_type": "code",
            "source": [
                "SELECT TOP 100 *\n",
                "FROM LaborStatisticsDB.dbo.series as s                                                                                                                                                                                   \n",
                "JOIN LaborStatisticsDB.dbo.datatype as dt \n",
                "ON s.data_type_code = dt.data_type_code"
            ],
            "metadata": {
                "azdata_cell_guid": "fca61371-c9b5-4823-a4b4-34c1279ece3e",
                "language": "sql"
            },
            "outputs": [
                {
                    "output_type": "display_data",
                    "data": {
                        "text/html": "(100 rows affected)"
                    },
                    "metadata": {}
                },
                {
                    "output_type": "display_data",
                    "data": {
                        "text/html": "Total execution time: 00:00:00.386"
                    },
                    "metadata": {}
                },
                {
                    "output_type": "execute_result",
                    "execution_count": 10,
                    "data": {
                        "application/vnd.dataresource+json": {
                            "schema": {
                                "fields": [
                                    {
                                        "name": "series_id"
                                    },
                                    {
                                        "name": "supersector_code"
                                    },
                                    {
                                        "name": "industry_code"
                                    },
                                    {
                                        "name": "data_type_code"
                                    },
                                    {
                                        "name": "seasonal"
                                    },
                                    {
                                        "name": "series_title"
                                    },
                                    {
                                        "name": "data_type_code"
                                    },
                                    {
                                        "name": "data_type_text"
                                    }
                                ]
                            },
                            "data": [
                                {
                                    "0": "CES0000000001",
                                    "1": "0",
                                    "2": "00000000",
                                    "3": "1",
                                    "4": "S",
                                    "5": "All employees",
                                    "6": "1",
                                    "7": "ALL EMPLOYEES"
                                },
                                {
                                    "0": "CES0000000010",
                                    "1": "0",
                                    "2": "00000000",
                                    "3": "10",
                                    "4": "S",
                                    "5": "Women employees",
                                    "6": "10",
                                    "7": "WOMEN EMPLOYEES"
                                },
                                {
                                    "0": "CES0000000025",
                                    "1": "0",
                                    "2": "00000000",
                                    "3": "25",
                                    "4": "S",
                                    "5": "All employees",
                                    "6": "25",
                                    "7": "ALL EMPLOYEES"
                                },
                                {
                                    "0": "CES0000000026",
                                    "1": "0",
                                    "2": "00000000",
                                    "3": "26",
                                    "4": "S",
                                    "5": "All employees",
                                    "6": "26",
                                    "7": "ALL EMPLOYEES"
                                },
                                {
                                    "0": "CES0500000001",
                                    "1": "5",
                                    "2": "05000000",
                                    "3": "1",
                                    "4": "S",
                                    "5": "All employees",
                                    "6": "1",
                                    "7": "ALL EMPLOYEES"
                                },
                                {
                                    "0": "CES0500000002",
                                    "1": "5",
                                    "2": "05000000",
                                    "3": "2",
                                    "4": "S",
                                    "5": "Average weekly hours of all employees",
                                    "6": "2",
                                    "7": "AVERAGE WEEKLY HOURS OF ALL EMPLOYEES"
                                },
                                {
                                    "0": "CES0500000003",
                                    "1": "5",
                                    "2": "05000000",
                                    "3": "3",
                                    "4": "S",
                                    "5": "Average hourly earnings of all employees",
                                    "6": "3",
                                    "7": "AVERAGE HOURLY EARNINGS OF ALL EMPLOYEES"
                                },
                                {
                                    "0": "CES0500000006",
                                    "1": "5",
                                    "2": "05000000",
                                    "3": "6",
                                    "4": "S",
                                    "5": "Production and nonsupervisory employees",
                                    "6": "6",
                                    "7": "PRODUCTION AND NONSUPERVISORY EMPLOYEES"
                                },
                                {
                                    "0": "CES0500000007",
                                    "1": "5",
                                    "2": "05000000",
                                    "3": "7",
                                    "4": "S",
                                    "5": "Average weekly hours of production and nonsupervisory employees",
                                    "6": "7",
                                    "7": "AVERAGE WEEKLY HOURS OF PRODUCTION AND NONSUPERVISORY EMPLOYEES"
                                },
                                {
                                    "0": "CES0500000008",
                                    "1": "5",
                                    "2": "05000000",
                                    "3": "8",
                                    "4": "S",
                                    "5": "Average hourly earnings of production and nonsupervisory employees",
                                    "6": "8",
                                    "7": "AVERAGE HOURLY EARNINGS OF PRODUCTION AND NONSUPERVISORY EMPLOYEES"
                                },
                                {
                                    "0": "CES0500000010",
                                    "1": "5",
                                    "2": "05000000",
                                    "3": "10",
                                    "4": "S",
                                    "5": "Women employees",
                                    "6": "10",
                                    "7": "WOMEN EMPLOYEES"
                                },
                                {
                                    "0": "CES0500000011",
                                    "1": "5",
                                    "2": "05000000",
                                    "3": "11",
                                    "4": "S",
                                    "5": "Average weekly earnings of all employees",
                                    "6": "11",
                                    "7": "AVERAGE WEEKLY EARNINGS OF ALL EMPLOYEES"
                                },
                                {
                                    "0": "CES0500000012",
                                    "1": "5",
                                    "2": "05000000",
                                    "3": "12",
                                    "4": "S",
                                    "5": "Average weekly earnings of all employees",
                                    "6": "12",
                                    "7": "AVERAGE WEEKLY EARNINGS OF ALL EMPLOYEES"
                                },
                                {
                                    "0": "CES0500000013",
                                    "1": "5",
                                    "2": "05000000",
                                    "3": "13",
                                    "4": "S",
                                    "5": "Average hourly earnings of all employees",
                                    "6": "13",
                                    "7": "AVERAGE HOURLY EARNINGS OF ALL EMPLOYEES"
                                },
                                {
                                    "0": "CES0500000016",
                                    "1": "5",
                                    "2": "05000000",
                                    "3": "16",
                                    "4": "S",
                                    "5": "Indexes of aggregate weekly hours of all employees",
                                    "6": "16",
                                    "7": "INDEXES OF AGGREGATE WEEKLY HOURS OF ALL EMPLOYEES"
                                },
                                {
                                    "0": "CES0500000017",
                                    "1": "5",
                                    "2": "05000000",
                                    "3": "17",
                                    "4": "S",
                                    "5": "Indexes of aggregate weekly payrolls of all employees",
                                    "6": "17",
                                    "7": "INDEXES OF AGGREGATE WEEKLY PAYROLLS OF ALL EMPLOYEES"
                                },
                                {
                                    "0": "CES0500000019",
                                    "1": "5",
                                    "2": "05000000",
                                    "3": "19",
                                    "4": "S",
                                    "5": "Average weekly hours of all employees",
                                    "6": "19",
                                    "7": "AVERAGE WEEKLY HOURS OF ALL EMPLOYEES"
                                },
                                {
                                    "0": "CES0500000021",
                                    "1": "5",
                                    "2": "05000000",
                                    "3": "21",
                                    "4": "S",
                                    "5": "Diffusion indexes",
                                    "6": "21",
                                    "7": "DIFFUSION INDEXES"
                                },
                                {
                                    "0": "CES0500000022",
                                    "1": "5",
                                    "2": "05000000",
                                    "3": "22",
                                    "4": "S",
                                    "5": "Diffusion indexes",
                                    "6": "22",
                                    "7": "DIFFUSION INDEXES"
                                },
                                {
                                    "0": "CES0500000023",
                                    "1": "5",
                                    "2": "05000000",
                                    "3": "23",
                                    "4": "S",
                                    "5": "Diffusion indexes",
                                    "6": "23",
                                    "7": "DIFFUSION INDEXES"
                                },
                                {
                                    "0": "CES0500000025",
                                    "1": "5",
                                    "2": "05000000",
                                    "3": "25",
                                    "4": "S",
                                    "5": "All employees",
                                    "6": "25",
                                    "7": "ALL EMPLOYEES"
                                },
                                {
                                    "0": "CES0500000026",
                                    "1": "5",
                                    "2": "05000000",
                                    "3": "26",
                                    "4": "S",
                                    "5": "All employees",
                                    "6": "26",
                                    "7": "ALL EMPLOYEES"
                                },
                                {
                                    "0": "CES0500000030",
                                    "1": "5",
                                    "2": "05000000",
                                    "3": "30",
                                    "4": "S",
                                    "5": "Average weekly earnings of production and nonsupervisory employees",
                                    "6": "30",
                                    "7": "AVERAGE WEEKLY EARNINGS OF PRODUCTION AND NONSUPERVISORY EMPLOYEES"
                                },
                                {
                                    "0": "CES0500000031",
                                    "1": "5",
                                    "2": "05000000",
                                    "3": "31",
                                    "4": "S",
                                    "5": "Average weekly earnings of production and nonsupervisory employees",
                                    "6": "31",
                                    "7": "AVERAGE WEEKLY EARNINGS OF PRODUCTION AND NONSUPERVISORY EMPLOYEES"
                                },
                                {
                                    "0": "CES0500000032",
                                    "1": "5",
                                    "2": "05000000",
                                    "3": "32",
                                    "4": "S",
                                    "5": "Average hourly earnings of production and nonsupervisory employees",
                                    "6": "32",
                                    "7": "AVERAGE HOURLY EARNINGS OF PRODUCTION AND NONSUPERVISORY EMPLOYEES"
                                },
                                {
                                    "0": "CES0500000034",
                                    "1": "5",
                                    "2": "05000000",
                                    "3": "34",
                                    "4": "S",
                                    "5": "Indexes of aggregate weekly hours of production and nonsupervisory employees",
                                    "6": "34",
                                    "7": "INDEXES OF AGGREGATE WEEKLY HOURS OF PRODUCTION AND NONSUPERVISORY EMPLOYEES"
                                },
                                {
                                    "0": "CES0500000035",
                                    "1": "5",
                                    "2": "05000000",
                                    "3": "35",
                                    "4": "S",
                                    "5": "Indexes of aggregate weekly payrolls of production and nonsupervisory employees",
                                    "6": "35",
                                    "7": "INDEXES OF AGGREGATE WEEKLY PAYROLLS OF PRODUCTION AND NONSUPERVISORY EMPLOYEES"
                                },
                                {
                                    "0": "CES0500000036",
                                    "1": "5",
                                    "2": "05000000",
                                    "3": "36",
                                    "4": "S",
                                    "5": "Average weekly hours",
                                    "6": "36",
                                    "7": "AVERAGE WEEKLY HOURS"
                                },
                                {
                                    "0": "CES0500000056",
                                    "1": "5",
                                    "2": "05000000",
                                    "3": "56",
                                    "4": "S",
                                    "5": "Aggregate weekly hours of all employees",
                                    "6": "56",
                                    "7": "AGGREGATE WEEKLY HOURS OF ALL EMPLOYEES"
                                },
                                {
                                    "0": "CES0500000057",
                                    "1": "5",
                                    "2": "05000000",
                                    "3": "57",
                                    "4": "S",
                                    "5": "Aggregate weekly payrolls of all employees",
                                    "6": "57",
                                    "7": "AGGREGATE WEEKLY PAYROLLS OF ALL EMPLOYEES"
                                },
                                {
                                    "0": "CES0500000081",
                                    "1": "5",
                                    "2": "05000000",
                                    "3": "81",
                                    "4": "S",
                                    "5": "Aggregate weekly hours of production and nonsupervisory employees",
                                    "6": "81",
                                    "7": "AGGREGATE WEEKLY HOURS OF PRODUCTION AND NONSUPERVISORY EMPLOYEES"
                                },
                                {
                                    "0": "CES0500000082",
                                    "1": "5",
                                    "2": "05000000",
                                    "3": "82",
                                    "4": "S",
                                    "5": "Aggregate weekly payrolls of production and nonsupervisory employees",
                                    "6": "82",
                                    "7": "AGGREGATE WEEKLY PAYROLLS OF PRODUCTION AND NONSUPERVISORY EMPLOYEES"
                                },
                                {
                                    "0": "CES0600000001",
                                    "1": "6",
                                    "2": "06000000",
                                    "3": "1",
                                    "4": "S",
                                    "5": "All employees",
                                    "6": "1",
                                    "7": "ALL EMPLOYEES"
                                },
                                {
                                    "0": "CES0600000002",
                                    "1": "6",
                                    "2": "06000000",
                                    "3": "2",
                                    "4": "S",
                                    "5": "Average weekly hours of all employees",
                                    "6": "2",
                                    "7": "AVERAGE WEEKLY HOURS OF ALL EMPLOYEES"
                                },
                                {
                                    "0": "CES0600000003",
                                    "1": "6",
                                    "2": "06000000",
                                    "3": "3",
                                    "4": "S",
                                    "5": "Average hourly earnings of all employees",
                                    "6": "3",
                                    "7": "AVERAGE HOURLY EARNINGS OF ALL EMPLOYEES"
                                },
                                {
                                    "0": "CES0600000006",
                                    "1": "6",
                                    "2": "06000000",
                                    "3": "6",
                                    "4": "S",
                                    "5": "Production and nonsupervisory employees",
                                    "6": "6",
                                    "7": "PRODUCTION AND NONSUPERVISORY EMPLOYEES"
                                },
                                {
                                    "0": "CES0600000007",
                                    "1": "6",
                                    "2": "06000000",
                                    "3": "7",
                                    "4": "S",
                                    "5": "Average weekly hours of production and nonsupervisory employees",
                                    "6": "7",
                                    "7": "AVERAGE WEEKLY HOURS OF PRODUCTION AND NONSUPERVISORY EMPLOYEES"
                                },
                                {
                                    "0": "CES0600000008",
                                    "1": "6",
                                    "2": "06000000",
                                    "3": "8",
                                    "4": "S",
                                    "5": "Average hourly earnings of production and nonsupervisory employees",
                                    "6": "8",
                                    "7": "AVERAGE HOURLY EARNINGS OF PRODUCTION AND NONSUPERVISORY EMPLOYEES"
                                },
                                {
                                    "0": "CES0600000010",
                                    "1": "6",
                                    "2": "06000000",
                                    "3": "10",
                                    "4": "S",
                                    "5": "Women employees",
                                    "6": "10",
                                    "7": "WOMEN EMPLOYEES"
                                },
                                {
                                    "0": "CES0600000011",
                                    "1": "6",
                                    "2": "06000000",
                                    "3": "11",
                                    "4": "S",
                                    "5": "Average weekly earnings of all employees",
                                    "6": "11",
                                    "7": "AVERAGE WEEKLY EARNINGS OF ALL EMPLOYEES"
                                },
                                {
                                    "0": "CES0600000012",
                                    "1": "6",
                                    "2": "06000000",
                                    "3": "12",
                                    "4": "S",
                                    "5": "Average weekly earnings of all employees",
                                    "6": "12",
                                    "7": "AVERAGE WEEKLY EARNINGS OF ALL EMPLOYEES"
                                },
                                {
                                    "0": "CES0600000013",
                                    "1": "6",
                                    "2": "06000000",
                                    "3": "13",
                                    "4": "S",
                                    "5": "Average hourly earnings of all employees",
                                    "6": "13",
                                    "7": "AVERAGE HOURLY EARNINGS OF ALL EMPLOYEES"
                                },
                                {
                                    "0": "CES0600000016",
                                    "1": "6",
                                    "2": "06000000",
                                    "3": "16",
                                    "4": "S",
                                    "5": "Indexes of aggregate weekly hours of all employees",
                                    "6": "16",
                                    "7": "INDEXES OF AGGREGATE WEEKLY HOURS OF ALL EMPLOYEES"
                                },
                                {
                                    "0": "CES0600000017",
                                    "1": "6",
                                    "2": "06000000",
                                    "3": "17",
                                    "4": "S",
                                    "5": "Indexes of aggregate weekly payrolls of all employees",
                                    "6": "17",
                                    "7": "INDEXES OF AGGREGATE WEEKLY PAYROLLS OF ALL EMPLOYEES"
                                },
                                {
                                    "0": "CES0600000025",
                                    "1": "6",
                                    "2": "06000000",
                                    "3": "25",
                                    "4": "S",
                                    "5": "All employees",
                                    "6": "25",
                                    "7": "ALL EMPLOYEES"
                                },
                                {
                                    "0": "CES0600000030",
                                    "1": "6",
                                    "2": "06000000",
                                    "3": "30",
                                    "4": "S",
                                    "5": "Average weekly earnings of production and nonsupervisory employees",
                                    "6": "30",
                                    "7": "AVERAGE WEEKLY EARNINGS OF PRODUCTION AND NONSUPERVISORY EMPLOYEES"
                                },
                                {
                                    "0": "CES0600000031",
                                    "1": "6",
                                    "2": "06000000",
                                    "3": "31",
                                    "4": "S",
                                    "5": "Average weekly earnings of production and nonsupervisory employees",
                                    "6": "31",
                                    "7": "AVERAGE WEEKLY EARNINGS OF PRODUCTION AND NONSUPERVISORY EMPLOYEES"
                                },
                                {
                                    "0": "CES0600000032",
                                    "1": "6",
                                    "2": "06000000",
                                    "3": "32",
                                    "4": "S",
                                    "5": "Average hourly earnings of production and nonsupervisory employees",
                                    "6": "32",
                                    "7": "AVERAGE HOURLY EARNINGS OF PRODUCTION AND NONSUPERVISORY EMPLOYEES"
                                },
                                {
                                    "0": "CES0600000034",
                                    "1": "6",
                                    "2": "06000000",
                                    "3": "34",
                                    "4": "S",
                                    "5": "Indexes of aggregate weekly hours of production and nonsupervisory employees",
                                    "6": "34",
                                    "7": "INDEXES OF AGGREGATE WEEKLY HOURS OF PRODUCTION AND NONSUPERVISORY EMPLOYEES"
                                },
                                {
                                    "0": "CES0600000035",
                                    "1": "6",
                                    "2": "06000000",
                                    "3": "35",
                                    "4": "S",
                                    "5": "Indexes of aggregate weekly payrolls of production and nonsupervisory employees",
                                    "6": "35",
                                    "7": "INDEXES OF AGGREGATE WEEKLY PAYROLLS OF PRODUCTION AND NONSUPERVISORY EMPLOYEES"
                                },
                                {
                                    "0": "CES0600000056",
                                    "1": "6",
                                    "2": "06000000",
                                    "3": "56",
                                    "4": "S",
                                    "5": "Aggregate weekly hours of all employees",
                                    "6": "56",
                                    "7": "AGGREGATE WEEKLY HOURS OF ALL EMPLOYEES"
                                },
                                {
                                    "0": "CES0600000057",
                                    "1": "6",
                                    "2": "06000000",
                                    "3": "57",
                                    "4": "S",
                                    "5": "Aggregate weekly payrolls of all employees",
                                    "6": "57",
                                    "7": "AGGREGATE WEEKLY PAYROLLS OF ALL EMPLOYEES"
                                },
                                {
                                    "0": "CES0600000081",
                                    "1": "6",
                                    "2": "06000000",
                                    "3": "81",
                                    "4": "S",
                                    "5": "Aggregate weekly hours of production and nonsupervisory employees",
                                    "6": "81",
                                    "7": "AGGREGATE WEEKLY HOURS OF PRODUCTION AND NONSUPERVISORY EMPLOYEES"
                                },
                                {
                                    "0": "CES0600000082",
                                    "1": "6",
                                    "2": "06000000",
                                    "3": "82",
                                    "4": "S",
                                    "5": "Aggregate weekly payrolls of production and nonsupervisory employees",
                                    "6": "82",
                                    "7": "AGGREGATE WEEKLY PAYROLLS OF PRODUCTION AND NONSUPERVISORY EMPLOYEES"
                                },
                                {
                                    "0": "CES0700000001",
                                    "1": "7",
                                    "2": "07000000",
                                    "3": "1",
                                    "4": "S",
                                    "5": "All employees",
                                    "6": "1",
                                    "7": "ALL EMPLOYEES"
                                },
                                {
                                    "0": "CES0700000010",
                                    "1": "7",
                                    "2": "07000000",
                                    "3": "10",
                                    "4": "S",
                                    "5": "Women employees",
                                    "6": "10",
                                    "7": "WOMEN EMPLOYEES"
                                },
                                {
                                    "0": "CES0700000025",
                                    "1": "7",
                                    "2": "07000000",
                                    "3": "25",
                                    "4": "S",
                                    "5": "All employees",
                                    "6": "25",
                                    "7": "ALL EMPLOYEES"
                                },
                                {
                                    "0": "CES0800000001",
                                    "1": "8",
                                    "2": "08000000",
                                    "3": "1",
                                    "4": "S",
                                    "5": "All employees",
                                    "6": "1",
                                    "7": "ALL EMPLOYEES"
                                },
                                {
                                    "0": "CES0800000002",
                                    "1": "8",
                                    "2": "08000000",
                                    "3": "2",
                                    "4": "S",
                                    "5": "Average weekly hours of all employees",
                                    "6": "2",
                                    "7": "AVERAGE WEEKLY HOURS OF ALL EMPLOYEES"
                                },
                                {
                                    "0": "CES0800000003",
                                    "1": "8",
                                    "2": "08000000",
                                    "3": "3",
                                    "4": "S",
                                    "5": "Average hourly earnings of all employees",
                                    "6": "3",
                                    "7": "AVERAGE HOURLY EARNINGS OF ALL EMPLOYEES"
                                },
                                {
                                    "0": "CES0800000006",
                                    "1": "8",
                                    "2": "08000000",
                                    "3": "6",
                                    "4": "S",
                                    "5": "Production and nonsupervisory employees",
                                    "6": "6",
                                    "7": "PRODUCTION AND NONSUPERVISORY EMPLOYEES"
                                },
                                {
                                    "0": "CES0800000007",
                                    "1": "8",
                                    "2": "08000000",
                                    "3": "7",
                                    "4": "S",
                                    "5": "Average weekly hours of production and nonsupervisory employees",
                                    "6": "7",
                                    "7": "AVERAGE WEEKLY HOURS OF PRODUCTION AND NONSUPERVISORY EMPLOYEES"
                                },
                                {
                                    "0": "CES0800000008",
                                    "1": "8",
                                    "2": "08000000",
                                    "3": "8",
                                    "4": "S",
                                    "5": "Average hourly earnings of production and nonsupervisory employees",
                                    "6": "8",
                                    "7": "AVERAGE HOURLY EARNINGS OF PRODUCTION AND NONSUPERVISORY EMPLOYEES"
                                },
                                {
                                    "0": "CES0800000010",
                                    "1": "8",
                                    "2": "08000000",
                                    "3": "10",
                                    "4": "S",
                                    "5": "Women employees",
                                    "6": "10",
                                    "7": "WOMEN EMPLOYEES"
                                },
                                {
                                    "0": "CES0800000011",
                                    "1": "8",
                                    "2": "08000000",
                                    "3": "11",
                                    "4": "S",
                                    "5": "Average weekly earnings of all employees",
                                    "6": "11",
                                    "7": "AVERAGE WEEKLY EARNINGS OF ALL EMPLOYEES"
                                },
                                {
                                    "0": "CES0800000012",
                                    "1": "8",
                                    "2": "08000000",
                                    "3": "12",
                                    "4": "S",
                                    "5": "Average weekly earnings of all employees",
                                    "6": "12",
                                    "7": "AVERAGE WEEKLY EARNINGS OF ALL EMPLOYEES"
                                },
                                {
                                    "0": "CES0800000013",
                                    "1": "8",
                                    "2": "08000000",
                                    "3": "13",
                                    "4": "S",
                                    "5": "Average hourly earnings of all employees",
                                    "6": "13",
                                    "7": "AVERAGE HOURLY EARNINGS OF ALL EMPLOYEES"
                                },
                                {
                                    "0": "CES0800000016",
                                    "1": "8",
                                    "2": "08000000",
                                    "3": "16",
                                    "4": "S",
                                    "5": "Indexes of aggregate weekly hours of all employees",
                                    "6": "16",
                                    "7": "INDEXES OF AGGREGATE WEEKLY HOURS OF ALL EMPLOYEES"
                                },
                                {
                                    "0": "CES0800000017",
                                    "1": "8",
                                    "2": "08000000",
                                    "3": "17",
                                    "4": "S",
                                    "5": "Indexes of aggregate weekly payrolls of all employees",
                                    "6": "17",
                                    "7": "INDEXES OF AGGREGATE WEEKLY PAYROLLS OF ALL EMPLOYEES"
                                },
                                {
                                    "0": "CES0800000030",
                                    "1": "8",
                                    "2": "08000000",
                                    "3": "30",
                                    "4": "S",
                                    "5": "Average weekly earnings of production and nonsupervisory employees",
                                    "6": "30",
                                    "7": "AVERAGE WEEKLY EARNINGS OF PRODUCTION AND NONSUPERVISORY EMPLOYEES"
                                },
                                {
                                    "0": "CES0800000031",
                                    "1": "8",
                                    "2": "08000000",
                                    "3": "31",
                                    "4": "S",
                                    "5": "Average weekly earnings of production and nonsupervisory employees",
                                    "6": "31",
                                    "7": "AVERAGE WEEKLY EARNINGS OF PRODUCTION AND NONSUPERVISORY EMPLOYEES"
                                },
                                {
                                    "0": "CES0800000032",
                                    "1": "8",
                                    "2": "08000000",
                                    "3": "32",
                                    "4": "S",
                                    "5": "Average hourly earnings of production and nonsupervisory employees",
                                    "6": "32",
                                    "7": "AVERAGE HOURLY EARNINGS OF PRODUCTION AND NONSUPERVISORY EMPLOYEES"
                                },
                                {
                                    "0": "CES0800000034",
                                    "1": "8",
                                    "2": "08000000",
                                    "3": "34",
                                    "4": "S",
                                    "5": "Indexes of aggregate weekly hours of production and nonsupervisory employees",
                                    "6": "34",
                                    "7": "INDEXES OF AGGREGATE WEEKLY HOURS OF PRODUCTION AND NONSUPERVISORY EMPLOYEES"
                                },
                                {
                                    "0": "CES0800000035",
                                    "1": "8",
                                    "2": "08000000",
                                    "3": "35",
                                    "4": "S",
                                    "5": "Indexes of aggregate weekly payrolls of production and nonsupervisory employees",
                                    "6": "35",
                                    "7": "INDEXES OF AGGREGATE WEEKLY PAYROLLS OF PRODUCTION AND NONSUPERVISORY EMPLOYEES"
                                },
                                {
                                    "0": "CES0800000056",
                                    "1": "8",
                                    "2": "08000000",
                                    "3": "56",
                                    "4": "S",
                                    "5": "Aggregate weekly hours of all employees",
                                    "6": "56",
                                    "7": "AGGREGATE WEEKLY HOURS OF ALL EMPLOYEES"
                                },
                                {
                                    "0": "CES0800000057",
                                    "1": "8",
                                    "2": "08000000",
                                    "3": "57",
                                    "4": "S",
                                    "5": "Aggregate weekly payrolls of all employees",
                                    "6": "57",
                                    "7": "AGGREGATE WEEKLY PAYROLLS OF ALL EMPLOYEES"
                                },
                                {
                                    "0": "CES0800000081",
                                    "1": "8",
                                    "2": "08000000",
                                    "3": "81",
                                    "4": "S",
                                    "5": "Aggregate weekly hours of production and nonsupervisory employees",
                                    "6": "81",
                                    "7": "AGGREGATE WEEKLY HOURS OF PRODUCTION AND NONSUPERVISORY EMPLOYEES"
                                },
                                {
                                    "0": "CES0800000082",
                                    "1": "8",
                                    "2": "08000000",
                                    "3": "82",
                                    "4": "S",
                                    "5": "Aggregate weekly payrolls of production and nonsupervisory employees",
                                    "6": "82",
                                    "7": "AGGREGATE WEEKLY PAYROLLS OF PRODUCTION AND NONSUPERVISORY EMPLOYEES"
                                },
                                {
                                    "0": "CES1000000001",
                                    "1": "10",
                                    "2": "10000000",
                                    "3": "1",
                                    "4": "S",
                                    "5": "All employees",
                                    "6": "1",
                                    "7": "ALL EMPLOYEES"
                                },
                                {
                                    "0": "CES1000000002",
                                    "1": "10",
                                    "2": "10000000",
                                    "3": "2",
                                    "4": "S",
                                    "5": "Average weekly hours of all employees",
                                    "6": "2",
                                    "7": "AVERAGE WEEKLY HOURS OF ALL EMPLOYEES"
                                },
                                {
                                    "0": "CES1000000003",
                                    "1": "10",
                                    "2": "10000000",
                                    "3": "3",
                                    "4": "S",
                                    "5": "Average hourly earnings of all employees",
                                    "6": "3",
                                    "7": "AVERAGE HOURLY EARNINGS OF ALL EMPLOYEES"
                                },
                                {
                                    "0": "CES1000000006",
                                    "1": "10",
                                    "2": "10000000",
                                    "3": "6",
                                    "4": "S",
                                    "5": "Production and nonsupervisory employees",
                                    "6": "6",
                                    "7": "PRODUCTION AND NONSUPERVISORY EMPLOYEES"
                                },
                                {
                                    "0": "CES1000000007",
                                    "1": "10",
                                    "2": "10000000",
                                    "3": "7",
                                    "4": "S",
                                    "5": "Average weekly hours of production and nonsupervisory employees",
                                    "6": "7",
                                    "7": "AVERAGE WEEKLY HOURS OF PRODUCTION AND NONSUPERVISORY EMPLOYEES"
                                },
                                {
                                    "0": "CES1000000008",
                                    "1": "10",
                                    "2": "10000000",
                                    "3": "8",
                                    "4": "S",
                                    "5": "Average hourly earnings of production and nonsupervisory employees",
                                    "6": "8",
                                    "7": "AVERAGE HOURLY EARNINGS OF PRODUCTION AND NONSUPERVISORY EMPLOYEES"
                                },
                                {
                                    "0": "CES1000000010",
                                    "1": "10",
                                    "2": "10000000",
                                    "3": "10",
                                    "4": "S",
                                    "5": "Women employees",
                                    "6": "10",
                                    "7": "WOMEN EMPLOYEES"
                                },
                                {
                                    "0": "CES1000000011",
                                    "1": "10",
                                    "2": "10000000",
                                    "3": "11",
                                    "4": "S",
                                    "5": "Average weekly earnings of all employees",
                                    "6": "11",
                                    "7": "AVERAGE WEEKLY EARNINGS OF ALL EMPLOYEES"
                                },
                                {
                                    "0": "CES1000000012",
                                    "1": "10",
                                    "2": "10000000",
                                    "3": "12",
                                    "4": "S",
                                    "5": "Average weekly earnings of all employees",
                                    "6": "12",
                                    "7": "AVERAGE WEEKLY EARNINGS OF ALL EMPLOYEES"
                                },
                                {
                                    "0": "CES1000000013",
                                    "1": "10",
                                    "2": "10000000",
                                    "3": "13",
                                    "4": "S",
                                    "5": "Average hourly earnings of all employees",
                                    "6": "13",
                                    "7": "AVERAGE HOURLY EARNINGS OF ALL EMPLOYEES"
                                },
                                {
                                    "0": "CES1000000016",
                                    "1": "10",
                                    "2": "10000000",
                                    "3": "16",
                                    "4": "S",
                                    "5": "Indexes of aggregate weekly hours of all employees",
                                    "6": "16",
                                    "7": "INDEXES OF AGGREGATE WEEKLY HOURS OF ALL EMPLOYEES"
                                },
                                {
                                    "0": "CES1000000017",
                                    "1": "10",
                                    "2": "10000000",
                                    "3": "17",
                                    "4": "S",
                                    "5": "Indexes of aggregate weekly payrolls of all employees",
                                    "6": "17",
                                    "7": "INDEXES OF AGGREGATE WEEKLY PAYROLLS OF ALL EMPLOYEES"
                                },
                                {
                                    "0": "CES1000000030",
                                    "1": "10",
                                    "2": "10000000",
                                    "3": "30",
                                    "4": "S",
                                    "5": "Average weekly earnings of production and nonsupervisory employees",
                                    "6": "30",
                                    "7": "AVERAGE WEEKLY EARNINGS OF PRODUCTION AND NONSUPERVISORY EMPLOYEES"
                                },
                                {
                                    "0": "CES1000000031",
                                    "1": "10",
                                    "2": "10000000",
                                    "3": "31",
                                    "4": "S",
                                    "5": "Average weekly earnings of production and nonsupervisory employees",
                                    "6": "31",
                                    "7": "AVERAGE WEEKLY EARNINGS OF PRODUCTION AND NONSUPERVISORY EMPLOYEES"
                                },
                                {
                                    "0": "CES1000000032",
                                    "1": "10",
                                    "2": "10000000",
                                    "3": "32",
                                    "4": "S",
                                    "5": "Average hourly earnings of production and nonsupervisory employees",
                                    "6": "32",
                                    "7": "AVERAGE HOURLY EARNINGS OF PRODUCTION AND NONSUPERVISORY EMPLOYEES"
                                },
                                {
                                    "0": "CES1000000034",
                                    "1": "10",
                                    "2": "10000000",
                                    "3": "34",
                                    "4": "S",
                                    "5": "Indexes of aggregate weekly hours of production and nonsupervisory employees",
                                    "6": "34",
                                    "7": "INDEXES OF AGGREGATE WEEKLY HOURS OF PRODUCTION AND NONSUPERVISORY EMPLOYEES"
                                },
                                {
                                    "0": "CES1000000035",
                                    "1": "10",
                                    "2": "10000000",
                                    "3": "35",
                                    "4": "S",
                                    "5": "Indexes of aggregate weekly payrolls of production and nonsupervisory employees",
                                    "6": "35",
                                    "7": "INDEXES OF AGGREGATE WEEKLY PAYROLLS OF PRODUCTION AND NONSUPERVISORY EMPLOYEES"
                                },
                                {
                                    "0": "CES1000000056",
                                    "1": "10",
                                    "2": "10000000",
                                    "3": "56",
                                    "4": "S",
                                    "5": "Aggregate weekly hours of all employees",
                                    "6": "56",
                                    "7": "AGGREGATE WEEKLY HOURS OF ALL EMPLOYEES"
                                },
                                {
                                    "0": "CES1000000057",
                                    "1": "10",
                                    "2": "10000000",
                                    "3": "57",
                                    "4": "S",
                                    "5": "Aggregate weekly payrolls of all employees",
                                    "6": "57",
                                    "7": "AGGREGATE WEEKLY PAYROLLS OF ALL EMPLOYEES"
                                },
                                {
                                    "0": "CES1000000081",
                                    "1": "10",
                                    "2": "10000000",
                                    "3": "81",
                                    "4": "S",
                                    "5": "Aggregate weekly hours of production and nonsupervisory employees",
                                    "6": "81",
                                    "7": "AGGREGATE WEEKLY HOURS OF PRODUCTION AND NONSUPERVISORY EMPLOYEES"
                                },
                                {
                                    "0": "CES1000000082",
                                    "1": "10",
                                    "2": "10000000",
                                    "3": "82",
                                    "4": "S",
                                    "5": "Aggregate weekly payrolls of production and nonsupervisory employees",
                                    "6": "82",
                                    "7": "AGGREGATE WEEKLY PAYROLLS OF PRODUCTION AND NONSUPERVISORY EMPLOYEES"
                                },
                                {
                                    "0": "CES1011330001",
                                    "1": "10",
                                    "2": "10113300",
                                    "3": "1",
                                    "4": "S",
                                    "5": "All employees",
                                    "6": "1",
                                    "7": "ALL EMPLOYEES"
                                }
                            ]
                        },
                        "text/html": "<table><tr><th>series_id</th><th>supersector_code</th><th>industry_code</th><th>data_type_code</th><th>seasonal</th><th>series_title</th><th>data_type_code</th><th>data_type_text</th></tr><tr><td>CES0000000001</td><td>0</td><td>00000000</td><td>1</td><td>S</td><td>All employees</td><td>1</td><td>ALL EMPLOYEES</td></tr><tr><td>CES0000000010</td><td>0</td><td>00000000</td><td>10</td><td>S</td><td>Women employees</td><td>10</td><td>WOMEN EMPLOYEES</td></tr><tr><td>CES0000000025</td><td>0</td><td>00000000</td><td>25</td><td>S</td><td>All employees</td><td>25</td><td>ALL EMPLOYEES</td></tr><tr><td>CES0000000026</td><td>0</td><td>00000000</td><td>26</td><td>S</td><td>All employees</td><td>26</td><td>ALL EMPLOYEES</td></tr><tr><td>CES0500000001</td><td>5</td><td>05000000</td><td>1</td><td>S</td><td>All employees</td><td>1</td><td>ALL EMPLOYEES</td></tr><tr><td>CES0500000002</td><td>5</td><td>05000000</td><td>2</td><td>S</td><td>Average weekly hours of all employees</td><td>2</td><td>AVERAGE WEEKLY HOURS OF ALL EMPLOYEES</td></tr><tr><td>CES0500000003</td><td>5</td><td>05000000</td><td>3</td><td>S</td><td>Average hourly earnings of all employees</td><td>3</td><td>AVERAGE HOURLY EARNINGS OF ALL EMPLOYEES</td></tr><tr><td>CES0500000006</td><td>5</td><td>05000000</td><td>6</td><td>S</td><td>Production and nonsupervisory employees</td><td>6</td><td>PRODUCTION AND NONSUPERVISORY EMPLOYEES</td></tr><tr><td>CES0500000007</td><td>5</td><td>05000000</td><td>7</td><td>S</td><td>Average weekly hours of production and nonsupervisory employees</td><td>7</td><td>AVERAGE WEEKLY HOURS OF PRODUCTION AND NONSUPERVISORY EMPLOYEES</td></tr><tr><td>CES0500000008</td><td>5</td><td>05000000</td><td>8</td><td>S</td><td>Average hourly earnings of production and nonsupervisory employees</td><td>8</td><td>AVERAGE HOURLY EARNINGS OF PRODUCTION AND NONSUPERVISORY EMPLOYEES</td></tr><tr><td>CES0500000010</td><td>5</td><td>05000000</td><td>10</td><td>S</td><td>Women employees</td><td>10</td><td>WOMEN EMPLOYEES</td></tr><tr><td>CES0500000011</td><td>5</td><td>05000000</td><td>11</td><td>S</td><td>Average weekly earnings of all employees</td><td>11</td><td>AVERAGE WEEKLY EARNINGS OF ALL EMPLOYEES</td></tr><tr><td>CES0500000012</td><td>5</td><td>05000000</td><td>12</td><td>S</td><td>Average weekly earnings of all employees</td><td>12</td><td>AVERAGE WEEKLY EARNINGS OF ALL EMPLOYEES</td></tr><tr><td>CES0500000013</td><td>5</td><td>05000000</td><td>13</td><td>S</td><td>Average hourly earnings of all employees</td><td>13</td><td>AVERAGE HOURLY EARNINGS OF ALL EMPLOYEES</td></tr><tr><td>CES0500000016</td><td>5</td><td>05000000</td><td>16</td><td>S</td><td>Indexes of aggregate weekly hours of all employees</td><td>16</td><td>INDEXES OF AGGREGATE WEEKLY HOURS OF ALL EMPLOYEES</td></tr><tr><td>CES0500000017</td><td>5</td><td>05000000</td><td>17</td><td>S</td><td>Indexes of aggregate weekly payrolls of all employees</td><td>17</td><td>INDEXES OF AGGREGATE WEEKLY PAYROLLS OF ALL EMPLOYEES</td></tr><tr><td>CES0500000019</td><td>5</td><td>05000000</td><td>19</td><td>S</td><td>Average weekly hours of all employees</td><td>19</td><td>AVERAGE WEEKLY HOURS OF ALL EMPLOYEES</td></tr><tr><td>CES0500000021</td><td>5</td><td>05000000</td><td>21</td><td>S</td><td>Diffusion indexes</td><td>21</td><td>DIFFUSION INDEXES</td></tr><tr><td>CES0500000022</td><td>5</td><td>05000000</td><td>22</td><td>S</td><td>Diffusion indexes</td><td>22</td><td>DIFFUSION INDEXES</td></tr><tr><td>CES0500000023</td><td>5</td><td>05000000</td><td>23</td><td>S</td><td>Diffusion indexes</td><td>23</td><td>DIFFUSION INDEXES</td></tr><tr><td>CES0500000025</td><td>5</td><td>05000000</td><td>25</td><td>S</td><td>All employees</td><td>25</td><td>ALL EMPLOYEES</td></tr><tr><td>CES0500000026</td><td>5</td><td>05000000</td><td>26</td><td>S</td><td>All employees</td><td>26</td><td>ALL EMPLOYEES</td></tr><tr><td>CES0500000030</td><td>5</td><td>05000000</td><td>30</td><td>S</td><td>Average weekly earnings of production and nonsupervisory employees</td><td>30</td><td>AVERAGE WEEKLY EARNINGS OF PRODUCTION AND NONSUPERVISORY EMPLOYEES</td></tr><tr><td>CES0500000031</td><td>5</td><td>05000000</td><td>31</td><td>S</td><td>Average weekly earnings of production and nonsupervisory employees</td><td>31</td><td>AVERAGE WEEKLY EARNINGS OF PRODUCTION AND NONSUPERVISORY EMPLOYEES</td></tr><tr><td>CES0500000032</td><td>5</td><td>05000000</td><td>32</td><td>S</td><td>Average hourly earnings of production and nonsupervisory employees</td><td>32</td><td>AVERAGE HOURLY EARNINGS OF PRODUCTION AND NONSUPERVISORY EMPLOYEES</td></tr><tr><td>CES0500000034</td><td>5</td><td>05000000</td><td>34</td><td>S</td><td>Indexes of aggregate weekly hours of production and nonsupervisory employees</td><td>34</td><td>INDEXES OF AGGREGATE WEEKLY HOURS OF PRODUCTION AND NONSUPERVISORY EMPLOYEES</td></tr><tr><td>CES0500000035</td><td>5</td><td>05000000</td><td>35</td><td>S</td><td>Indexes of aggregate weekly payrolls of production and nonsupervisory employees</td><td>35</td><td>INDEXES OF AGGREGATE WEEKLY PAYROLLS OF PRODUCTION AND NONSUPERVISORY EMPLOYEES</td></tr><tr><td>CES0500000036</td><td>5</td><td>05000000</td><td>36</td><td>S</td><td>Average weekly hours</td><td>36</td><td>AVERAGE WEEKLY HOURS</td></tr><tr><td>CES0500000056</td><td>5</td><td>05000000</td><td>56</td><td>S</td><td>Aggregate weekly hours of all employees</td><td>56</td><td>AGGREGATE WEEKLY HOURS OF ALL EMPLOYEES</td></tr><tr><td>CES0500000057</td><td>5</td><td>05000000</td><td>57</td><td>S</td><td>Aggregate weekly payrolls of all employees</td><td>57</td><td>AGGREGATE WEEKLY PAYROLLS OF ALL EMPLOYEES</td></tr><tr><td>CES0500000081</td><td>5</td><td>05000000</td><td>81</td><td>S</td><td>Aggregate weekly hours of production and nonsupervisory employees</td><td>81</td><td>AGGREGATE WEEKLY HOURS OF PRODUCTION AND NONSUPERVISORY EMPLOYEES</td></tr><tr><td>CES0500000082</td><td>5</td><td>05000000</td><td>82</td><td>S</td><td>Aggregate weekly payrolls of production and nonsupervisory employees</td><td>82</td><td>AGGREGATE WEEKLY PAYROLLS OF PRODUCTION AND NONSUPERVISORY EMPLOYEES</td></tr><tr><td>CES0600000001</td><td>6</td><td>06000000</td><td>1</td><td>S</td><td>All employees</td><td>1</td><td>ALL EMPLOYEES</td></tr><tr><td>CES0600000002</td><td>6</td><td>06000000</td><td>2</td><td>S</td><td>Average weekly hours of all employees</td><td>2</td><td>AVERAGE WEEKLY HOURS OF ALL EMPLOYEES</td></tr><tr><td>CES0600000003</td><td>6</td><td>06000000</td><td>3</td><td>S</td><td>Average hourly earnings of all employees</td><td>3</td><td>AVERAGE HOURLY EARNINGS OF ALL EMPLOYEES</td></tr><tr><td>CES0600000006</td><td>6</td><td>06000000</td><td>6</td><td>S</td><td>Production and nonsupervisory employees</td><td>6</td><td>PRODUCTION AND NONSUPERVISORY EMPLOYEES</td></tr><tr><td>CES0600000007</td><td>6</td><td>06000000</td><td>7</td><td>S</td><td>Average weekly hours of production and nonsupervisory employees</td><td>7</td><td>AVERAGE WEEKLY HOURS OF PRODUCTION AND NONSUPERVISORY EMPLOYEES</td></tr><tr><td>CES0600000008</td><td>6</td><td>06000000</td><td>8</td><td>S</td><td>Average hourly earnings of production and nonsupervisory employees</td><td>8</td><td>AVERAGE HOURLY EARNINGS OF PRODUCTION AND NONSUPERVISORY EMPLOYEES</td></tr><tr><td>CES0600000010</td><td>6</td><td>06000000</td><td>10</td><td>S</td><td>Women employees</td><td>10</td><td>WOMEN EMPLOYEES</td></tr><tr><td>CES0600000011</td><td>6</td><td>06000000</td><td>11</td><td>S</td><td>Average weekly earnings of all employees</td><td>11</td><td>AVERAGE WEEKLY EARNINGS OF ALL EMPLOYEES</td></tr><tr><td>CES0600000012</td><td>6</td><td>06000000</td><td>12</td><td>S</td><td>Average weekly earnings of all employees</td><td>12</td><td>AVERAGE WEEKLY EARNINGS OF ALL EMPLOYEES</td></tr><tr><td>CES0600000013</td><td>6</td><td>06000000</td><td>13</td><td>S</td><td>Average hourly earnings of all employees</td><td>13</td><td>AVERAGE HOURLY EARNINGS OF ALL EMPLOYEES</td></tr><tr><td>CES0600000016</td><td>6</td><td>06000000</td><td>16</td><td>S</td><td>Indexes of aggregate weekly hours of all employees</td><td>16</td><td>INDEXES OF AGGREGATE WEEKLY HOURS OF ALL EMPLOYEES</td></tr><tr><td>CES0600000017</td><td>6</td><td>06000000</td><td>17</td><td>S</td><td>Indexes of aggregate weekly payrolls of all employees</td><td>17</td><td>INDEXES OF AGGREGATE WEEKLY PAYROLLS OF ALL EMPLOYEES</td></tr><tr><td>CES0600000025</td><td>6</td><td>06000000</td><td>25</td><td>S</td><td>All employees</td><td>25</td><td>ALL EMPLOYEES</td></tr><tr><td>CES0600000030</td><td>6</td><td>06000000</td><td>30</td><td>S</td><td>Average weekly earnings of production and nonsupervisory employees</td><td>30</td><td>AVERAGE WEEKLY EARNINGS OF PRODUCTION AND NONSUPERVISORY EMPLOYEES</td></tr><tr><td>CES0600000031</td><td>6</td><td>06000000</td><td>31</td><td>S</td><td>Average weekly earnings of production and nonsupervisory employees</td><td>31</td><td>AVERAGE WEEKLY EARNINGS OF PRODUCTION AND NONSUPERVISORY EMPLOYEES</td></tr><tr><td>CES0600000032</td><td>6</td><td>06000000</td><td>32</td><td>S</td><td>Average hourly earnings of production and nonsupervisory employees</td><td>32</td><td>AVERAGE HOURLY EARNINGS OF PRODUCTION AND NONSUPERVISORY EMPLOYEES</td></tr><tr><td>CES0600000034</td><td>6</td><td>06000000</td><td>34</td><td>S</td><td>Indexes of aggregate weekly hours of production and nonsupervisory employees</td><td>34</td><td>INDEXES OF AGGREGATE WEEKLY HOURS OF PRODUCTION AND NONSUPERVISORY EMPLOYEES</td></tr><tr><td>CES0600000035</td><td>6</td><td>06000000</td><td>35</td><td>S</td><td>Indexes of aggregate weekly payrolls of production and nonsupervisory employees</td><td>35</td><td>INDEXES OF AGGREGATE WEEKLY PAYROLLS OF PRODUCTION AND NONSUPERVISORY EMPLOYEES</td></tr><tr><td>CES0600000056</td><td>6</td><td>06000000</td><td>56</td><td>S</td><td>Aggregate weekly hours of all employees</td><td>56</td><td>AGGREGATE WEEKLY HOURS OF ALL EMPLOYEES</td></tr><tr><td>CES0600000057</td><td>6</td><td>06000000</td><td>57</td><td>S</td><td>Aggregate weekly payrolls of all employees</td><td>57</td><td>AGGREGATE WEEKLY PAYROLLS OF ALL EMPLOYEES</td></tr><tr><td>CES0600000081</td><td>6</td><td>06000000</td><td>81</td><td>S</td><td>Aggregate weekly hours of production and nonsupervisory employees</td><td>81</td><td>AGGREGATE WEEKLY HOURS OF PRODUCTION AND NONSUPERVISORY EMPLOYEES</td></tr><tr><td>CES0600000082</td><td>6</td><td>06000000</td><td>82</td><td>S</td><td>Aggregate weekly payrolls of production and nonsupervisory employees</td><td>82</td><td>AGGREGATE WEEKLY PAYROLLS OF PRODUCTION AND NONSUPERVISORY EMPLOYEES</td></tr><tr><td>CES0700000001</td><td>7</td><td>07000000</td><td>1</td><td>S</td><td>All employees</td><td>1</td><td>ALL EMPLOYEES</td></tr><tr><td>CES0700000010</td><td>7</td><td>07000000</td><td>10</td><td>S</td><td>Women employees</td><td>10</td><td>WOMEN EMPLOYEES</td></tr><tr><td>CES0700000025</td><td>7</td><td>07000000</td><td>25</td><td>S</td><td>All employees</td><td>25</td><td>ALL EMPLOYEES</td></tr><tr><td>CES0800000001</td><td>8</td><td>08000000</td><td>1</td><td>S</td><td>All employees</td><td>1</td><td>ALL EMPLOYEES</td></tr><tr><td>CES0800000002</td><td>8</td><td>08000000</td><td>2</td><td>S</td><td>Average weekly hours of all employees</td><td>2</td><td>AVERAGE WEEKLY HOURS OF ALL EMPLOYEES</td></tr><tr><td>CES0800000003</td><td>8</td><td>08000000</td><td>3</td><td>S</td><td>Average hourly earnings of all employees</td><td>3</td><td>AVERAGE HOURLY EARNINGS OF ALL EMPLOYEES</td></tr><tr><td>CES0800000006</td><td>8</td><td>08000000</td><td>6</td><td>S</td><td>Production and nonsupervisory employees</td><td>6</td><td>PRODUCTION AND NONSUPERVISORY EMPLOYEES</td></tr><tr><td>CES0800000007</td><td>8</td><td>08000000</td><td>7</td><td>S</td><td>Average weekly hours of production and nonsupervisory employees</td><td>7</td><td>AVERAGE WEEKLY HOURS OF PRODUCTION AND NONSUPERVISORY EMPLOYEES</td></tr><tr><td>CES0800000008</td><td>8</td><td>08000000</td><td>8</td><td>S</td><td>Average hourly earnings of production and nonsupervisory employees</td><td>8</td><td>AVERAGE HOURLY EARNINGS OF PRODUCTION AND NONSUPERVISORY EMPLOYEES</td></tr><tr><td>CES0800000010</td><td>8</td><td>08000000</td><td>10</td><td>S</td><td>Women employees</td><td>10</td><td>WOMEN EMPLOYEES</td></tr><tr><td>CES0800000011</td><td>8</td><td>08000000</td><td>11</td><td>S</td><td>Average weekly earnings of all employees</td><td>11</td><td>AVERAGE WEEKLY EARNINGS OF ALL EMPLOYEES</td></tr><tr><td>CES0800000012</td><td>8</td><td>08000000</td><td>12</td><td>S</td><td>Average weekly earnings of all employees</td><td>12</td><td>AVERAGE WEEKLY EARNINGS OF ALL EMPLOYEES</td></tr><tr><td>CES0800000013</td><td>8</td><td>08000000</td><td>13</td><td>S</td><td>Average hourly earnings of all employees</td><td>13</td><td>AVERAGE HOURLY EARNINGS OF ALL EMPLOYEES</td></tr><tr><td>CES0800000016</td><td>8</td><td>08000000</td><td>16</td><td>S</td><td>Indexes of aggregate weekly hours of all employees</td><td>16</td><td>INDEXES OF AGGREGATE WEEKLY HOURS OF ALL EMPLOYEES</td></tr><tr><td>CES0800000017</td><td>8</td><td>08000000</td><td>17</td><td>S</td><td>Indexes of aggregate weekly payrolls of all employees</td><td>17</td><td>INDEXES OF AGGREGATE WEEKLY PAYROLLS OF ALL EMPLOYEES</td></tr><tr><td>CES0800000030</td><td>8</td><td>08000000</td><td>30</td><td>S</td><td>Average weekly earnings of production and nonsupervisory employees</td><td>30</td><td>AVERAGE WEEKLY EARNINGS OF PRODUCTION AND NONSUPERVISORY EMPLOYEES</td></tr><tr><td>CES0800000031</td><td>8</td><td>08000000</td><td>31</td><td>S</td><td>Average weekly earnings of production and nonsupervisory employees</td><td>31</td><td>AVERAGE WEEKLY EARNINGS OF PRODUCTION AND NONSUPERVISORY EMPLOYEES</td></tr><tr><td>CES0800000032</td><td>8</td><td>08000000</td><td>32</td><td>S</td><td>Average hourly earnings of production and nonsupervisory employees</td><td>32</td><td>AVERAGE HOURLY EARNINGS OF PRODUCTION AND NONSUPERVISORY EMPLOYEES</td></tr><tr><td>CES0800000034</td><td>8</td><td>08000000</td><td>34</td><td>S</td><td>Indexes of aggregate weekly hours of production and nonsupervisory employees</td><td>34</td><td>INDEXES OF AGGREGATE WEEKLY HOURS OF PRODUCTION AND NONSUPERVISORY EMPLOYEES</td></tr><tr><td>CES0800000035</td><td>8</td><td>08000000</td><td>35</td><td>S</td><td>Indexes of aggregate weekly payrolls of production and nonsupervisory employees</td><td>35</td><td>INDEXES OF AGGREGATE WEEKLY PAYROLLS OF PRODUCTION AND NONSUPERVISORY EMPLOYEES</td></tr><tr><td>CES0800000056</td><td>8</td><td>08000000</td><td>56</td><td>S</td><td>Aggregate weekly hours of all employees</td><td>56</td><td>AGGREGATE WEEKLY HOURS OF ALL EMPLOYEES</td></tr><tr><td>CES0800000057</td><td>8</td><td>08000000</td><td>57</td><td>S</td><td>Aggregate weekly payrolls of all employees</td><td>57</td><td>AGGREGATE WEEKLY PAYROLLS OF ALL EMPLOYEES</td></tr><tr><td>CES0800000081</td><td>8</td><td>08000000</td><td>81</td><td>S</td><td>Aggregate weekly hours of production and nonsupervisory employees</td><td>81</td><td>AGGREGATE WEEKLY HOURS OF PRODUCTION AND NONSUPERVISORY EMPLOYEES</td></tr><tr><td>CES0800000082</td><td>8</td><td>08000000</td><td>82</td><td>S</td><td>Aggregate weekly payrolls of production and nonsupervisory employees</td><td>82</td><td>AGGREGATE WEEKLY PAYROLLS OF PRODUCTION AND NONSUPERVISORY EMPLOYEES</td></tr><tr><td>CES1000000001</td><td>10</td><td>10000000</td><td>1</td><td>S</td><td>All employees</td><td>1</td><td>ALL EMPLOYEES</td></tr><tr><td>CES1000000002</td><td>10</td><td>10000000</td><td>2</td><td>S</td><td>Average weekly hours of all employees</td><td>2</td><td>AVERAGE WEEKLY HOURS OF ALL EMPLOYEES</td></tr><tr><td>CES1000000003</td><td>10</td><td>10000000</td><td>3</td><td>S</td><td>Average hourly earnings of all employees</td><td>3</td><td>AVERAGE HOURLY EARNINGS OF ALL EMPLOYEES</td></tr><tr><td>CES1000000006</td><td>10</td><td>10000000</td><td>6</td><td>S</td><td>Production and nonsupervisory employees</td><td>6</td><td>PRODUCTION AND NONSUPERVISORY EMPLOYEES</td></tr><tr><td>CES1000000007</td><td>10</td><td>10000000</td><td>7</td><td>S</td><td>Average weekly hours of production and nonsupervisory employees</td><td>7</td><td>AVERAGE WEEKLY HOURS OF PRODUCTION AND NONSUPERVISORY EMPLOYEES</td></tr><tr><td>CES1000000008</td><td>10</td><td>10000000</td><td>8</td><td>S</td><td>Average hourly earnings of production and nonsupervisory employees</td><td>8</td><td>AVERAGE HOURLY EARNINGS OF PRODUCTION AND NONSUPERVISORY EMPLOYEES</td></tr><tr><td>CES1000000010</td><td>10</td><td>10000000</td><td>10</td><td>S</td><td>Women employees</td><td>10</td><td>WOMEN EMPLOYEES</td></tr><tr><td>CES1000000011</td><td>10</td><td>10000000</td><td>11</td><td>S</td><td>Average weekly earnings of all employees</td><td>11</td><td>AVERAGE WEEKLY EARNINGS OF ALL EMPLOYEES</td></tr><tr><td>CES1000000012</td><td>10</td><td>10000000</td><td>12</td><td>S</td><td>Average weekly earnings of all employees</td><td>12</td><td>AVERAGE WEEKLY EARNINGS OF ALL EMPLOYEES</td></tr><tr><td>CES1000000013</td><td>10</td><td>10000000</td><td>13</td><td>S</td><td>Average hourly earnings of all employees</td><td>13</td><td>AVERAGE HOURLY EARNINGS OF ALL EMPLOYEES</td></tr><tr><td>CES1000000016</td><td>10</td><td>10000000</td><td>16</td><td>S</td><td>Indexes of aggregate weekly hours of all employees</td><td>16</td><td>INDEXES OF AGGREGATE WEEKLY HOURS OF ALL EMPLOYEES</td></tr><tr><td>CES1000000017</td><td>10</td><td>10000000</td><td>17</td><td>S</td><td>Indexes of aggregate weekly payrolls of all employees</td><td>17</td><td>INDEXES OF AGGREGATE WEEKLY PAYROLLS OF ALL EMPLOYEES</td></tr><tr><td>CES1000000030</td><td>10</td><td>10000000</td><td>30</td><td>S</td><td>Average weekly earnings of production and nonsupervisory employees</td><td>30</td><td>AVERAGE WEEKLY EARNINGS OF PRODUCTION AND NONSUPERVISORY EMPLOYEES</td></tr><tr><td>CES1000000031</td><td>10</td><td>10000000</td><td>31</td><td>S</td><td>Average weekly earnings of production and nonsupervisory employees</td><td>31</td><td>AVERAGE WEEKLY EARNINGS OF PRODUCTION AND NONSUPERVISORY EMPLOYEES</td></tr><tr><td>CES1000000032</td><td>10</td><td>10000000</td><td>32</td><td>S</td><td>Average hourly earnings of production and nonsupervisory employees</td><td>32</td><td>AVERAGE HOURLY EARNINGS OF PRODUCTION AND NONSUPERVISORY EMPLOYEES</td></tr><tr><td>CES1000000034</td><td>10</td><td>10000000</td><td>34</td><td>S</td><td>Indexes of aggregate weekly hours of production and nonsupervisory employees</td><td>34</td><td>INDEXES OF AGGREGATE WEEKLY HOURS OF PRODUCTION AND NONSUPERVISORY EMPLOYEES</td></tr><tr><td>CES1000000035</td><td>10</td><td>10000000</td><td>35</td><td>S</td><td>Indexes of aggregate weekly payrolls of production and nonsupervisory employees</td><td>35</td><td>INDEXES OF AGGREGATE WEEKLY PAYROLLS OF PRODUCTION AND NONSUPERVISORY EMPLOYEES</td></tr><tr><td>CES1000000056</td><td>10</td><td>10000000</td><td>56</td><td>S</td><td>Aggregate weekly hours of all employees</td><td>56</td><td>AGGREGATE WEEKLY HOURS OF ALL EMPLOYEES</td></tr><tr><td>CES1000000057</td><td>10</td><td>10000000</td><td>57</td><td>S</td><td>Aggregate weekly payrolls of all employees</td><td>57</td><td>AGGREGATE WEEKLY PAYROLLS OF ALL EMPLOYEES</td></tr><tr><td>CES1000000081</td><td>10</td><td>10000000</td><td>81</td><td>S</td><td>Aggregate weekly hours of production and nonsupervisory employees</td><td>81</td><td>AGGREGATE WEEKLY HOURS OF PRODUCTION AND NONSUPERVISORY EMPLOYEES</td></tr><tr><td>CES1000000082</td><td>10</td><td>10000000</td><td>82</td><td>S</td><td>Aggregate weekly payrolls of production and nonsupervisory employees</td><td>82</td><td>AGGREGATE WEEKLY PAYROLLS OF PRODUCTION AND NONSUPERVISORY EMPLOYEES</td></tr><tr><td>CES1011330001</td><td>10</td><td>10113300</td><td>1</td><td>S</td><td>All employees</td><td>1</td><td>ALL EMPLOYEES</td></tr></table>"
                    },
                    "metadata": {}
                }
            ],
            "execution_count": 10
        },
        {
            "cell_type": "markdown",
            "source": [
                "3. <span style=\"background-color: rgb(255, 255, 255); font-size: 10pt; white-space: pre-wrap; color: rgb(102, 102, 102); font-family: Arvo, serif;\">Join series and industry on industry_code</span>"
            ],
            "metadata": {
                "azdata_cell_guid": "78ac8ba4-2a6a-426f-af30-6b56d9d09054"
            }
        },
        {
            "cell_type": "code",
            "source": [
                "SELECT TOP 100 *\n",
                "FROM LaborStatisticsDB.dbo.series as s                                                                                                                                                                                   \n",
                "JOIN LaborStatisticsDB.dbo.industry as i \n",
                "ON s.industry_code = i.industry_code"
            ],
            "metadata": {
                "azdata_cell_guid": "ac022766-e280-4d95-8362-1f2b18773662",
                "language": "sql"
            },
            "outputs": [
                {
                    "output_type": "display_data",
                    "data": {
                        "text/html": "(100 rows affected)"
                    },
                    "metadata": {}
                },
                {
                    "output_type": "display_data",
                    "data": {
                        "text/html": "Total execution time: 00:00:00.299"
                    },
                    "metadata": {}
                },
                {
                    "output_type": "execute_result",
                    "execution_count": 11,
                    "data": {
                        "application/vnd.dataresource+json": {
                            "schema": {
                                "fields": [
                                    {
                                        "name": "series_id"
                                    },
                                    {
                                        "name": "supersector_code"
                                    },
                                    {
                                        "name": "industry_code"
                                    },
                                    {
                                        "name": "data_type_code"
                                    },
                                    {
                                        "name": "seasonal"
                                    },
                                    {
                                        "name": "series_title"
                                    },
                                    {
                                        "name": "id"
                                    },
                                    {
                                        "name": "industry_code"
                                    },
                                    {
                                        "name": "naics_code"
                                    },
                                    {
                                        "name": "publishing_status"
                                    },
                                    {
                                        "name": "industry_name"
                                    },
                                    {
                                        "name": "display_level"
                                    },
                                    {
                                        "name": "selectable"
                                    },
                                    {
                                        "name": "sort_sequence"
                                    }
                                ]
                            },
                            "data": [
                                {
                                    "0": "CES0000000001",
                                    "1": "0",
                                    "2": "00000000",
                                    "3": "1",
                                    "4": "S",
                                    "5": "All employees",
                                    "6": "0",
                                    "7": "0",
                                    "8": "-",
                                    "9": "B",
                                    "10": "Total nonfarm",
                                    "11": "0",
                                    "12": "T",
                                    "13": "1"
                                },
                                {
                                    "0": "CES0000000010",
                                    "1": "0",
                                    "2": "00000000",
                                    "3": "10",
                                    "4": "S",
                                    "5": "Women employees",
                                    "6": "0",
                                    "7": "0",
                                    "8": "-",
                                    "9": "B",
                                    "10": "Total nonfarm",
                                    "11": "0",
                                    "12": "T",
                                    "13": "1"
                                },
                                {
                                    "0": "CES0000000025",
                                    "1": "0",
                                    "2": "00000000",
                                    "3": "25",
                                    "4": "S",
                                    "5": "All employees",
                                    "6": "0",
                                    "7": "0",
                                    "8": "-",
                                    "9": "B",
                                    "10": "Total nonfarm",
                                    "11": "0",
                                    "12": "T",
                                    "13": "1"
                                },
                                {
                                    "0": "CES0000000026",
                                    "1": "0",
                                    "2": "00000000",
                                    "3": "26",
                                    "4": "S",
                                    "5": "All employees",
                                    "6": "0",
                                    "7": "0",
                                    "8": "-",
                                    "9": "B",
                                    "10": "Total nonfarm",
                                    "11": "0",
                                    "12": "T",
                                    "13": "1"
                                },
                                {
                                    "0": "CES0500000001",
                                    "1": "5",
                                    "2": "05000000",
                                    "3": "1",
                                    "4": "S",
                                    "5": "All employees",
                                    "6": "1",
                                    "7": "5000000",
                                    "8": "-",
                                    "9": "A",
                                    "10": "Total private",
                                    "11": "1",
                                    "12": "T",
                                    "13": "2"
                                },
                                {
                                    "0": "CES0500000002",
                                    "1": "5",
                                    "2": "05000000",
                                    "3": "2",
                                    "4": "S",
                                    "5": "Average weekly hours of all employees",
                                    "6": "1",
                                    "7": "5000000",
                                    "8": "-",
                                    "9": "A",
                                    "10": "Total private",
                                    "11": "1",
                                    "12": "T",
                                    "13": "2"
                                },
                                {
                                    "0": "CES0500000003",
                                    "1": "5",
                                    "2": "05000000",
                                    "3": "3",
                                    "4": "S",
                                    "5": "Average hourly earnings of all employees",
                                    "6": "1",
                                    "7": "5000000",
                                    "8": "-",
                                    "9": "A",
                                    "10": "Total private",
                                    "11": "1",
                                    "12": "T",
                                    "13": "2"
                                },
                                {
                                    "0": "CES0500000006",
                                    "1": "5",
                                    "2": "05000000",
                                    "3": "6",
                                    "4": "S",
                                    "5": "Production and nonsupervisory employees",
                                    "6": "1",
                                    "7": "5000000",
                                    "8": "-",
                                    "9": "A",
                                    "10": "Total private",
                                    "11": "1",
                                    "12": "T",
                                    "13": "2"
                                },
                                {
                                    "0": "CES0500000007",
                                    "1": "5",
                                    "2": "05000000",
                                    "3": "7",
                                    "4": "S",
                                    "5": "Average weekly hours of production and nonsupervisory employees",
                                    "6": "1",
                                    "7": "5000000",
                                    "8": "-",
                                    "9": "A",
                                    "10": "Total private",
                                    "11": "1",
                                    "12": "T",
                                    "13": "2"
                                },
                                {
                                    "0": "CES0500000008",
                                    "1": "5",
                                    "2": "05000000",
                                    "3": "8",
                                    "4": "S",
                                    "5": "Average hourly earnings of production and nonsupervisory employees",
                                    "6": "1",
                                    "7": "5000000",
                                    "8": "-",
                                    "9": "A",
                                    "10": "Total private",
                                    "11": "1",
                                    "12": "T",
                                    "13": "2"
                                },
                                {
                                    "0": "CES0500000010",
                                    "1": "5",
                                    "2": "05000000",
                                    "3": "10",
                                    "4": "S",
                                    "5": "Women employees",
                                    "6": "1",
                                    "7": "5000000",
                                    "8": "-",
                                    "9": "A",
                                    "10": "Total private",
                                    "11": "1",
                                    "12": "T",
                                    "13": "2"
                                },
                                {
                                    "0": "CES0500000011",
                                    "1": "5",
                                    "2": "05000000",
                                    "3": "11",
                                    "4": "S",
                                    "5": "Average weekly earnings of all employees",
                                    "6": "1",
                                    "7": "5000000",
                                    "8": "-",
                                    "9": "A",
                                    "10": "Total private",
                                    "11": "1",
                                    "12": "T",
                                    "13": "2"
                                },
                                {
                                    "0": "CES0500000012",
                                    "1": "5",
                                    "2": "05000000",
                                    "3": "12",
                                    "4": "S",
                                    "5": "Average weekly earnings of all employees",
                                    "6": "1",
                                    "7": "5000000",
                                    "8": "-",
                                    "9": "A",
                                    "10": "Total private",
                                    "11": "1",
                                    "12": "T",
                                    "13": "2"
                                },
                                {
                                    "0": "CES0500000013",
                                    "1": "5",
                                    "2": "05000000",
                                    "3": "13",
                                    "4": "S",
                                    "5": "Average hourly earnings of all employees",
                                    "6": "1",
                                    "7": "5000000",
                                    "8": "-",
                                    "9": "A",
                                    "10": "Total private",
                                    "11": "1",
                                    "12": "T",
                                    "13": "2"
                                },
                                {
                                    "0": "CES0500000016",
                                    "1": "5",
                                    "2": "05000000",
                                    "3": "16",
                                    "4": "S",
                                    "5": "Indexes of aggregate weekly hours of all employees",
                                    "6": "1",
                                    "7": "5000000",
                                    "8": "-",
                                    "9": "A",
                                    "10": "Total private",
                                    "11": "1",
                                    "12": "T",
                                    "13": "2"
                                },
                                {
                                    "0": "CES0500000017",
                                    "1": "5",
                                    "2": "05000000",
                                    "3": "17",
                                    "4": "S",
                                    "5": "Indexes of aggregate weekly payrolls of all employees",
                                    "6": "1",
                                    "7": "5000000",
                                    "8": "-",
                                    "9": "A",
                                    "10": "Total private",
                                    "11": "1",
                                    "12": "T",
                                    "13": "2"
                                },
                                {
                                    "0": "CES0500000019",
                                    "1": "5",
                                    "2": "05000000",
                                    "3": "19",
                                    "4": "S",
                                    "5": "Average weekly hours of all employees",
                                    "6": "1",
                                    "7": "5000000",
                                    "8": "-",
                                    "9": "A",
                                    "10": "Total private",
                                    "11": "1",
                                    "12": "T",
                                    "13": "2"
                                },
                                {
                                    "0": "CES0500000021",
                                    "1": "5",
                                    "2": "05000000",
                                    "3": "21",
                                    "4": "S",
                                    "5": "Diffusion indexes",
                                    "6": "1",
                                    "7": "5000000",
                                    "8": "-",
                                    "9": "A",
                                    "10": "Total private",
                                    "11": "1",
                                    "12": "T",
                                    "13": "2"
                                },
                                {
                                    "0": "CES0500000022",
                                    "1": "5",
                                    "2": "05000000",
                                    "3": "22",
                                    "4": "S",
                                    "5": "Diffusion indexes",
                                    "6": "1",
                                    "7": "5000000",
                                    "8": "-",
                                    "9": "A",
                                    "10": "Total private",
                                    "11": "1",
                                    "12": "T",
                                    "13": "2"
                                },
                                {
                                    "0": "CES0500000023",
                                    "1": "5",
                                    "2": "05000000",
                                    "3": "23",
                                    "4": "S",
                                    "5": "Diffusion indexes",
                                    "6": "1",
                                    "7": "5000000",
                                    "8": "-",
                                    "9": "A",
                                    "10": "Total private",
                                    "11": "1",
                                    "12": "T",
                                    "13": "2"
                                },
                                {
                                    "0": "CES0500000025",
                                    "1": "5",
                                    "2": "05000000",
                                    "3": "25",
                                    "4": "S",
                                    "5": "All employees",
                                    "6": "1",
                                    "7": "5000000",
                                    "8": "-",
                                    "9": "A",
                                    "10": "Total private",
                                    "11": "1",
                                    "12": "T",
                                    "13": "2"
                                },
                                {
                                    "0": "CES0500000026",
                                    "1": "5",
                                    "2": "05000000",
                                    "3": "26",
                                    "4": "S",
                                    "5": "All employees",
                                    "6": "1",
                                    "7": "5000000",
                                    "8": "-",
                                    "9": "A",
                                    "10": "Total private",
                                    "11": "1",
                                    "12": "T",
                                    "13": "2"
                                },
                                {
                                    "0": "CES0500000030",
                                    "1": "5",
                                    "2": "05000000",
                                    "3": "30",
                                    "4": "S",
                                    "5": "Average weekly earnings of production and nonsupervisory employees",
                                    "6": "1",
                                    "7": "5000000",
                                    "8": "-",
                                    "9": "A",
                                    "10": "Total private",
                                    "11": "1",
                                    "12": "T",
                                    "13": "2"
                                },
                                {
                                    "0": "CES0500000031",
                                    "1": "5",
                                    "2": "05000000",
                                    "3": "31",
                                    "4": "S",
                                    "5": "Average weekly earnings of production and nonsupervisory employees",
                                    "6": "1",
                                    "7": "5000000",
                                    "8": "-",
                                    "9": "A",
                                    "10": "Total private",
                                    "11": "1",
                                    "12": "T",
                                    "13": "2"
                                },
                                {
                                    "0": "CES0500000032",
                                    "1": "5",
                                    "2": "05000000",
                                    "3": "32",
                                    "4": "S",
                                    "5": "Average hourly earnings of production and nonsupervisory employees",
                                    "6": "1",
                                    "7": "5000000",
                                    "8": "-",
                                    "9": "A",
                                    "10": "Total private",
                                    "11": "1",
                                    "12": "T",
                                    "13": "2"
                                },
                                {
                                    "0": "CES0500000034",
                                    "1": "5",
                                    "2": "05000000",
                                    "3": "34",
                                    "4": "S",
                                    "5": "Indexes of aggregate weekly hours of production and nonsupervisory employees",
                                    "6": "1",
                                    "7": "5000000",
                                    "8": "-",
                                    "9": "A",
                                    "10": "Total private",
                                    "11": "1",
                                    "12": "T",
                                    "13": "2"
                                },
                                {
                                    "0": "CES0500000035",
                                    "1": "5",
                                    "2": "05000000",
                                    "3": "35",
                                    "4": "S",
                                    "5": "Indexes of aggregate weekly payrolls of production and nonsupervisory employees",
                                    "6": "1",
                                    "7": "5000000",
                                    "8": "-",
                                    "9": "A",
                                    "10": "Total private",
                                    "11": "1",
                                    "12": "T",
                                    "13": "2"
                                },
                                {
                                    "0": "CES0500000036",
                                    "1": "5",
                                    "2": "05000000",
                                    "3": "36",
                                    "4": "S",
                                    "5": "Average weekly hours",
                                    "6": "1",
                                    "7": "5000000",
                                    "8": "-",
                                    "9": "A",
                                    "10": "Total private",
                                    "11": "1",
                                    "12": "T",
                                    "13": "2"
                                },
                                {
                                    "0": "CES0500000056",
                                    "1": "5",
                                    "2": "05000000",
                                    "3": "56",
                                    "4": "S",
                                    "5": "Aggregate weekly hours of all employees",
                                    "6": "1",
                                    "7": "5000000",
                                    "8": "-",
                                    "9": "A",
                                    "10": "Total private",
                                    "11": "1",
                                    "12": "T",
                                    "13": "2"
                                },
                                {
                                    "0": "CES0500000057",
                                    "1": "5",
                                    "2": "05000000",
                                    "3": "57",
                                    "4": "S",
                                    "5": "Aggregate weekly payrolls of all employees",
                                    "6": "1",
                                    "7": "5000000",
                                    "8": "-",
                                    "9": "A",
                                    "10": "Total private",
                                    "11": "1",
                                    "12": "T",
                                    "13": "2"
                                },
                                {
                                    "0": "CES0500000081",
                                    "1": "5",
                                    "2": "05000000",
                                    "3": "81",
                                    "4": "S",
                                    "5": "Aggregate weekly hours of production and nonsupervisory employees",
                                    "6": "1",
                                    "7": "5000000",
                                    "8": "-",
                                    "9": "A",
                                    "10": "Total private",
                                    "11": "1",
                                    "12": "T",
                                    "13": "2"
                                },
                                {
                                    "0": "CES0500000082",
                                    "1": "5",
                                    "2": "05000000",
                                    "3": "82",
                                    "4": "S",
                                    "5": "Aggregate weekly payrolls of production and nonsupervisory employees",
                                    "6": "1",
                                    "7": "5000000",
                                    "8": "-",
                                    "9": "A",
                                    "10": "Total private",
                                    "11": "1",
                                    "12": "T",
                                    "13": "2"
                                },
                                {
                                    "0": "CES0600000001",
                                    "1": "6",
                                    "2": "06000000",
                                    "3": "1",
                                    "4": "S",
                                    "5": "All employees",
                                    "6": "2",
                                    "7": "6000000",
                                    "8": "-",
                                    "9": "A",
                                    "10": "Goods-producing",
                                    "11": "1",
                                    "12": "T",
                                    "13": "3"
                                },
                                {
                                    "0": "CES0600000002",
                                    "1": "6",
                                    "2": "06000000",
                                    "3": "2",
                                    "4": "S",
                                    "5": "Average weekly hours of all employees",
                                    "6": "2",
                                    "7": "6000000",
                                    "8": "-",
                                    "9": "A",
                                    "10": "Goods-producing",
                                    "11": "1",
                                    "12": "T",
                                    "13": "3"
                                },
                                {
                                    "0": "CES0600000003",
                                    "1": "6",
                                    "2": "06000000",
                                    "3": "3",
                                    "4": "S",
                                    "5": "Average hourly earnings of all employees",
                                    "6": "2",
                                    "7": "6000000",
                                    "8": "-",
                                    "9": "A",
                                    "10": "Goods-producing",
                                    "11": "1",
                                    "12": "T",
                                    "13": "3"
                                },
                                {
                                    "0": "CES0600000006",
                                    "1": "6",
                                    "2": "06000000",
                                    "3": "6",
                                    "4": "S",
                                    "5": "Production and nonsupervisory employees",
                                    "6": "2",
                                    "7": "6000000",
                                    "8": "-",
                                    "9": "A",
                                    "10": "Goods-producing",
                                    "11": "1",
                                    "12": "T",
                                    "13": "3"
                                },
                                {
                                    "0": "CES0600000007",
                                    "1": "6",
                                    "2": "06000000",
                                    "3": "7",
                                    "4": "S",
                                    "5": "Average weekly hours of production and nonsupervisory employees",
                                    "6": "2",
                                    "7": "6000000",
                                    "8": "-",
                                    "9": "A",
                                    "10": "Goods-producing",
                                    "11": "1",
                                    "12": "T",
                                    "13": "3"
                                },
                                {
                                    "0": "CES0600000008",
                                    "1": "6",
                                    "2": "06000000",
                                    "3": "8",
                                    "4": "S",
                                    "5": "Average hourly earnings of production and nonsupervisory employees",
                                    "6": "2",
                                    "7": "6000000",
                                    "8": "-",
                                    "9": "A",
                                    "10": "Goods-producing",
                                    "11": "1",
                                    "12": "T",
                                    "13": "3"
                                },
                                {
                                    "0": "CES0600000010",
                                    "1": "6",
                                    "2": "06000000",
                                    "3": "10",
                                    "4": "S",
                                    "5": "Women employees",
                                    "6": "2",
                                    "7": "6000000",
                                    "8": "-",
                                    "9": "A",
                                    "10": "Goods-producing",
                                    "11": "1",
                                    "12": "T",
                                    "13": "3"
                                },
                                {
                                    "0": "CES0600000011",
                                    "1": "6",
                                    "2": "06000000",
                                    "3": "11",
                                    "4": "S",
                                    "5": "Average weekly earnings of all employees",
                                    "6": "2",
                                    "7": "6000000",
                                    "8": "-",
                                    "9": "A",
                                    "10": "Goods-producing",
                                    "11": "1",
                                    "12": "T",
                                    "13": "3"
                                },
                                {
                                    "0": "CES0600000012",
                                    "1": "6",
                                    "2": "06000000",
                                    "3": "12",
                                    "4": "S",
                                    "5": "Average weekly earnings of all employees",
                                    "6": "2",
                                    "7": "6000000",
                                    "8": "-",
                                    "9": "A",
                                    "10": "Goods-producing",
                                    "11": "1",
                                    "12": "T",
                                    "13": "3"
                                },
                                {
                                    "0": "CES0600000013",
                                    "1": "6",
                                    "2": "06000000",
                                    "3": "13",
                                    "4": "S",
                                    "5": "Average hourly earnings of all employees",
                                    "6": "2",
                                    "7": "6000000",
                                    "8": "-",
                                    "9": "A",
                                    "10": "Goods-producing",
                                    "11": "1",
                                    "12": "T",
                                    "13": "3"
                                },
                                {
                                    "0": "CES0600000016",
                                    "1": "6",
                                    "2": "06000000",
                                    "3": "16",
                                    "4": "S",
                                    "5": "Indexes of aggregate weekly hours of all employees",
                                    "6": "2",
                                    "7": "6000000",
                                    "8": "-",
                                    "9": "A",
                                    "10": "Goods-producing",
                                    "11": "1",
                                    "12": "T",
                                    "13": "3"
                                },
                                {
                                    "0": "CES0600000017",
                                    "1": "6",
                                    "2": "06000000",
                                    "3": "17",
                                    "4": "S",
                                    "5": "Indexes of aggregate weekly payrolls of all employees",
                                    "6": "2",
                                    "7": "6000000",
                                    "8": "-",
                                    "9": "A",
                                    "10": "Goods-producing",
                                    "11": "1",
                                    "12": "T",
                                    "13": "3"
                                },
                                {
                                    "0": "CES0600000025",
                                    "1": "6",
                                    "2": "06000000",
                                    "3": "25",
                                    "4": "S",
                                    "5": "All employees",
                                    "6": "2",
                                    "7": "6000000",
                                    "8": "-",
                                    "9": "A",
                                    "10": "Goods-producing",
                                    "11": "1",
                                    "12": "T",
                                    "13": "3"
                                },
                                {
                                    "0": "CES0600000030",
                                    "1": "6",
                                    "2": "06000000",
                                    "3": "30",
                                    "4": "S",
                                    "5": "Average weekly earnings of production and nonsupervisory employees",
                                    "6": "2",
                                    "7": "6000000",
                                    "8": "-",
                                    "9": "A",
                                    "10": "Goods-producing",
                                    "11": "1",
                                    "12": "T",
                                    "13": "3"
                                },
                                {
                                    "0": "CES0600000031",
                                    "1": "6",
                                    "2": "06000000",
                                    "3": "31",
                                    "4": "S",
                                    "5": "Average weekly earnings of production and nonsupervisory employees",
                                    "6": "2",
                                    "7": "6000000",
                                    "8": "-",
                                    "9": "A",
                                    "10": "Goods-producing",
                                    "11": "1",
                                    "12": "T",
                                    "13": "3"
                                },
                                {
                                    "0": "CES0600000032",
                                    "1": "6",
                                    "2": "06000000",
                                    "3": "32",
                                    "4": "S",
                                    "5": "Average hourly earnings of production and nonsupervisory employees",
                                    "6": "2",
                                    "7": "6000000",
                                    "8": "-",
                                    "9": "A",
                                    "10": "Goods-producing",
                                    "11": "1",
                                    "12": "T",
                                    "13": "3"
                                },
                                {
                                    "0": "CES0600000034",
                                    "1": "6",
                                    "2": "06000000",
                                    "3": "34",
                                    "4": "S",
                                    "5": "Indexes of aggregate weekly hours of production and nonsupervisory employees",
                                    "6": "2",
                                    "7": "6000000",
                                    "8": "-",
                                    "9": "A",
                                    "10": "Goods-producing",
                                    "11": "1",
                                    "12": "T",
                                    "13": "3"
                                },
                                {
                                    "0": "CES0600000035",
                                    "1": "6",
                                    "2": "06000000",
                                    "3": "35",
                                    "4": "S",
                                    "5": "Indexes of aggregate weekly payrolls of production and nonsupervisory employees",
                                    "6": "2",
                                    "7": "6000000",
                                    "8": "-",
                                    "9": "A",
                                    "10": "Goods-producing",
                                    "11": "1",
                                    "12": "T",
                                    "13": "3"
                                },
                                {
                                    "0": "CES0600000056",
                                    "1": "6",
                                    "2": "06000000",
                                    "3": "56",
                                    "4": "S",
                                    "5": "Aggregate weekly hours of all employees",
                                    "6": "2",
                                    "7": "6000000",
                                    "8": "-",
                                    "9": "A",
                                    "10": "Goods-producing",
                                    "11": "1",
                                    "12": "T",
                                    "13": "3"
                                },
                                {
                                    "0": "CES0600000057",
                                    "1": "6",
                                    "2": "06000000",
                                    "3": "57",
                                    "4": "S",
                                    "5": "Aggregate weekly payrolls of all employees",
                                    "6": "2",
                                    "7": "6000000",
                                    "8": "-",
                                    "9": "A",
                                    "10": "Goods-producing",
                                    "11": "1",
                                    "12": "T",
                                    "13": "3"
                                },
                                {
                                    "0": "CES0600000081",
                                    "1": "6",
                                    "2": "06000000",
                                    "3": "81",
                                    "4": "S",
                                    "5": "Aggregate weekly hours of production and nonsupervisory employees",
                                    "6": "2",
                                    "7": "6000000",
                                    "8": "-",
                                    "9": "A",
                                    "10": "Goods-producing",
                                    "11": "1",
                                    "12": "T",
                                    "13": "3"
                                },
                                {
                                    "0": "CES0600000082",
                                    "1": "6",
                                    "2": "06000000",
                                    "3": "82",
                                    "4": "S",
                                    "5": "Aggregate weekly payrolls of production and nonsupervisory employees",
                                    "6": "2",
                                    "7": "6000000",
                                    "8": "-",
                                    "9": "A",
                                    "10": "Goods-producing",
                                    "11": "1",
                                    "12": "T",
                                    "13": "3"
                                },
                                {
                                    "0": "CES0700000001",
                                    "1": "7",
                                    "2": "07000000",
                                    "3": "1",
                                    "4": "S",
                                    "5": "All employees",
                                    "6": "3",
                                    "7": "7000000",
                                    "8": "-",
                                    "9": "B",
                                    "10": "Service-providing",
                                    "11": "1",
                                    "12": "T",
                                    "13": "4"
                                },
                                {
                                    "0": "CES0700000010",
                                    "1": "7",
                                    "2": "07000000",
                                    "3": "10",
                                    "4": "S",
                                    "5": "Women employees",
                                    "6": "3",
                                    "7": "7000000",
                                    "8": "-",
                                    "9": "B",
                                    "10": "Service-providing",
                                    "11": "1",
                                    "12": "T",
                                    "13": "4"
                                },
                                {
                                    "0": "CES0700000025",
                                    "1": "7",
                                    "2": "07000000",
                                    "3": "25",
                                    "4": "S",
                                    "5": "All employees",
                                    "6": "3",
                                    "7": "7000000",
                                    "8": "-",
                                    "9": "B",
                                    "10": "Service-providing",
                                    "11": "1",
                                    "12": "T",
                                    "13": "4"
                                },
                                {
                                    "0": "CES0800000001",
                                    "1": "8",
                                    "2": "08000000",
                                    "3": "1",
                                    "4": "S",
                                    "5": "All employees",
                                    "6": "4",
                                    "7": "8000000",
                                    "8": "-",
                                    "9": "A",
                                    "10": "Private service-providing",
                                    "11": "1",
                                    "12": "T",
                                    "13": "5"
                                },
                                {
                                    "0": "CES0800000002",
                                    "1": "8",
                                    "2": "08000000",
                                    "3": "2",
                                    "4": "S",
                                    "5": "Average weekly hours of all employees",
                                    "6": "4",
                                    "7": "8000000",
                                    "8": "-",
                                    "9": "A",
                                    "10": "Private service-providing",
                                    "11": "1",
                                    "12": "T",
                                    "13": "5"
                                },
                                {
                                    "0": "CES0800000003",
                                    "1": "8",
                                    "2": "08000000",
                                    "3": "3",
                                    "4": "S",
                                    "5": "Average hourly earnings of all employees",
                                    "6": "4",
                                    "7": "8000000",
                                    "8": "-",
                                    "9": "A",
                                    "10": "Private service-providing",
                                    "11": "1",
                                    "12": "T",
                                    "13": "5"
                                },
                                {
                                    "0": "CES0800000006",
                                    "1": "8",
                                    "2": "08000000",
                                    "3": "6",
                                    "4": "S",
                                    "5": "Production and nonsupervisory employees",
                                    "6": "4",
                                    "7": "8000000",
                                    "8": "-",
                                    "9": "A",
                                    "10": "Private service-providing",
                                    "11": "1",
                                    "12": "T",
                                    "13": "5"
                                },
                                {
                                    "0": "CES0800000007",
                                    "1": "8",
                                    "2": "08000000",
                                    "3": "7",
                                    "4": "S",
                                    "5": "Average weekly hours of production and nonsupervisory employees",
                                    "6": "4",
                                    "7": "8000000",
                                    "8": "-",
                                    "9": "A",
                                    "10": "Private service-providing",
                                    "11": "1",
                                    "12": "T",
                                    "13": "5"
                                },
                                {
                                    "0": "CES0800000008",
                                    "1": "8",
                                    "2": "08000000",
                                    "3": "8",
                                    "4": "S",
                                    "5": "Average hourly earnings of production and nonsupervisory employees",
                                    "6": "4",
                                    "7": "8000000",
                                    "8": "-",
                                    "9": "A",
                                    "10": "Private service-providing",
                                    "11": "1",
                                    "12": "T",
                                    "13": "5"
                                },
                                {
                                    "0": "CES0800000010",
                                    "1": "8",
                                    "2": "08000000",
                                    "3": "10",
                                    "4": "S",
                                    "5": "Women employees",
                                    "6": "4",
                                    "7": "8000000",
                                    "8": "-",
                                    "9": "A",
                                    "10": "Private service-providing",
                                    "11": "1",
                                    "12": "T",
                                    "13": "5"
                                },
                                {
                                    "0": "CES0800000011",
                                    "1": "8",
                                    "2": "08000000",
                                    "3": "11",
                                    "4": "S",
                                    "5": "Average weekly earnings of all employees",
                                    "6": "4",
                                    "7": "8000000",
                                    "8": "-",
                                    "9": "A",
                                    "10": "Private service-providing",
                                    "11": "1",
                                    "12": "T",
                                    "13": "5"
                                },
                                {
                                    "0": "CES0800000012",
                                    "1": "8",
                                    "2": "08000000",
                                    "3": "12",
                                    "4": "S",
                                    "5": "Average weekly earnings of all employees",
                                    "6": "4",
                                    "7": "8000000",
                                    "8": "-",
                                    "9": "A",
                                    "10": "Private service-providing",
                                    "11": "1",
                                    "12": "T",
                                    "13": "5"
                                },
                                {
                                    "0": "CES0800000013",
                                    "1": "8",
                                    "2": "08000000",
                                    "3": "13",
                                    "4": "S",
                                    "5": "Average hourly earnings of all employees",
                                    "6": "4",
                                    "7": "8000000",
                                    "8": "-",
                                    "9": "A",
                                    "10": "Private service-providing",
                                    "11": "1",
                                    "12": "T",
                                    "13": "5"
                                },
                                {
                                    "0": "CES0800000016",
                                    "1": "8",
                                    "2": "08000000",
                                    "3": "16",
                                    "4": "S",
                                    "5": "Indexes of aggregate weekly hours of all employees",
                                    "6": "4",
                                    "7": "8000000",
                                    "8": "-",
                                    "9": "A",
                                    "10": "Private service-providing",
                                    "11": "1",
                                    "12": "T",
                                    "13": "5"
                                },
                                {
                                    "0": "CES0800000017",
                                    "1": "8",
                                    "2": "08000000",
                                    "3": "17",
                                    "4": "S",
                                    "5": "Indexes of aggregate weekly payrolls of all employees",
                                    "6": "4",
                                    "7": "8000000",
                                    "8": "-",
                                    "9": "A",
                                    "10": "Private service-providing",
                                    "11": "1",
                                    "12": "T",
                                    "13": "5"
                                },
                                {
                                    "0": "CES0800000030",
                                    "1": "8",
                                    "2": "08000000",
                                    "3": "30",
                                    "4": "S",
                                    "5": "Average weekly earnings of production and nonsupervisory employees",
                                    "6": "4",
                                    "7": "8000000",
                                    "8": "-",
                                    "9": "A",
                                    "10": "Private service-providing",
                                    "11": "1",
                                    "12": "T",
                                    "13": "5"
                                },
                                {
                                    "0": "CES0800000031",
                                    "1": "8",
                                    "2": "08000000",
                                    "3": "31",
                                    "4": "S",
                                    "5": "Average weekly earnings of production and nonsupervisory employees",
                                    "6": "4",
                                    "7": "8000000",
                                    "8": "-",
                                    "9": "A",
                                    "10": "Private service-providing",
                                    "11": "1",
                                    "12": "T",
                                    "13": "5"
                                },
                                {
                                    "0": "CES0800000032",
                                    "1": "8",
                                    "2": "08000000",
                                    "3": "32",
                                    "4": "S",
                                    "5": "Average hourly earnings of production and nonsupervisory employees",
                                    "6": "4",
                                    "7": "8000000",
                                    "8": "-",
                                    "9": "A",
                                    "10": "Private service-providing",
                                    "11": "1",
                                    "12": "T",
                                    "13": "5"
                                },
                                {
                                    "0": "CES0800000034",
                                    "1": "8",
                                    "2": "08000000",
                                    "3": "34",
                                    "4": "S",
                                    "5": "Indexes of aggregate weekly hours of production and nonsupervisory employees",
                                    "6": "4",
                                    "7": "8000000",
                                    "8": "-",
                                    "9": "A",
                                    "10": "Private service-providing",
                                    "11": "1",
                                    "12": "T",
                                    "13": "5"
                                },
                                {
                                    "0": "CES0800000035",
                                    "1": "8",
                                    "2": "08000000",
                                    "3": "35",
                                    "4": "S",
                                    "5": "Indexes of aggregate weekly payrolls of production and nonsupervisory employees",
                                    "6": "4",
                                    "7": "8000000",
                                    "8": "-",
                                    "9": "A",
                                    "10": "Private service-providing",
                                    "11": "1",
                                    "12": "T",
                                    "13": "5"
                                },
                                {
                                    "0": "CES0800000056",
                                    "1": "8",
                                    "2": "08000000",
                                    "3": "56",
                                    "4": "S",
                                    "5": "Aggregate weekly hours of all employees",
                                    "6": "4",
                                    "7": "8000000",
                                    "8": "-",
                                    "9": "A",
                                    "10": "Private service-providing",
                                    "11": "1",
                                    "12": "T",
                                    "13": "5"
                                },
                                {
                                    "0": "CES0800000057",
                                    "1": "8",
                                    "2": "08000000",
                                    "3": "57",
                                    "4": "S",
                                    "5": "Aggregate weekly payrolls of all employees",
                                    "6": "4",
                                    "7": "8000000",
                                    "8": "-",
                                    "9": "A",
                                    "10": "Private service-providing",
                                    "11": "1",
                                    "12": "T",
                                    "13": "5"
                                },
                                {
                                    "0": "CES0800000081",
                                    "1": "8",
                                    "2": "08000000",
                                    "3": "81",
                                    "4": "S",
                                    "5": "Aggregate weekly hours of production and nonsupervisory employees",
                                    "6": "4",
                                    "7": "8000000",
                                    "8": "-",
                                    "9": "A",
                                    "10": "Private service-providing",
                                    "11": "1",
                                    "12": "T",
                                    "13": "5"
                                },
                                {
                                    "0": "CES0800000082",
                                    "1": "8",
                                    "2": "08000000",
                                    "3": "82",
                                    "4": "S",
                                    "5": "Aggregate weekly payrolls of production and nonsupervisory employees",
                                    "6": "4",
                                    "7": "8000000",
                                    "8": "-",
                                    "9": "A",
                                    "10": "Private service-providing",
                                    "11": "1",
                                    "12": "T",
                                    "13": "5"
                                },
                                {
                                    "0": "CES1000000001",
                                    "1": "10",
                                    "2": "10000000",
                                    "3": "1",
                                    "4": "S",
                                    "5": "All employees",
                                    "6": "5",
                                    "7": "10000000",
                                    "8": "-",
                                    "9": "A",
                                    "10": "Mining and logging",
                                    "11": "2",
                                    "12": "T",
                                    "13": "6"
                                },
                                {
                                    "0": "CES1000000002",
                                    "1": "10",
                                    "2": "10000000",
                                    "3": "2",
                                    "4": "S",
                                    "5": "Average weekly hours of all employees",
                                    "6": "5",
                                    "7": "10000000",
                                    "8": "-",
                                    "9": "A",
                                    "10": "Mining and logging",
                                    "11": "2",
                                    "12": "T",
                                    "13": "6"
                                },
                                {
                                    "0": "CES1000000003",
                                    "1": "10",
                                    "2": "10000000",
                                    "3": "3",
                                    "4": "S",
                                    "5": "Average hourly earnings of all employees",
                                    "6": "5",
                                    "7": "10000000",
                                    "8": "-",
                                    "9": "A",
                                    "10": "Mining and logging",
                                    "11": "2",
                                    "12": "T",
                                    "13": "6"
                                },
                                {
                                    "0": "CES1000000006",
                                    "1": "10",
                                    "2": "10000000",
                                    "3": "6",
                                    "4": "S",
                                    "5": "Production and nonsupervisory employees",
                                    "6": "5",
                                    "7": "10000000",
                                    "8": "-",
                                    "9": "A",
                                    "10": "Mining and logging",
                                    "11": "2",
                                    "12": "T",
                                    "13": "6"
                                },
                                {
                                    "0": "CES1000000007",
                                    "1": "10",
                                    "2": "10000000",
                                    "3": "7",
                                    "4": "S",
                                    "5": "Average weekly hours of production and nonsupervisory employees",
                                    "6": "5",
                                    "7": "10000000",
                                    "8": "-",
                                    "9": "A",
                                    "10": "Mining and logging",
                                    "11": "2",
                                    "12": "T",
                                    "13": "6"
                                },
                                {
                                    "0": "CES1000000008",
                                    "1": "10",
                                    "2": "10000000",
                                    "3": "8",
                                    "4": "S",
                                    "5": "Average hourly earnings of production and nonsupervisory employees",
                                    "6": "5",
                                    "7": "10000000",
                                    "8": "-",
                                    "9": "A",
                                    "10": "Mining and logging",
                                    "11": "2",
                                    "12": "T",
                                    "13": "6"
                                },
                                {
                                    "0": "CES1000000010",
                                    "1": "10",
                                    "2": "10000000",
                                    "3": "10",
                                    "4": "S",
                                    "5": "Women employees",
                                    "6": "5",
                                    "7": "10000000",
                                    "8": "-",
                                    "9": "A",
                                    "10": "Mining and logging",
                                    "11": "2",
                                    "12": "T",
                                    "13": "6"
                                },
                                {
                                    "0": "CES1000000011",
                                    "1": "10",
                                    "2": "10000000",
                                    "3": "11",
                                    "4": "S",
                                    "5": "Average weekly earnings of all employees",
                                    "6": "5",
                                    "7": "10000000",
                                    "8": "-",
                                    "9": "A",
                                    "10": "Mining and logging",
                                    "11": "2",
                                    "12": "T",
                                    "13": "6"
                                },
                                {
                                    "0": "CES1000000012",
                                    "1": "10",
                                    "2": "10000000",
                                    "3": "12",
                                    "4": "S",
                                    "5": "Average weekly earnings of all employees",
                                    "6": "5",
                                    "7": "10000000",
                                    "8": "-",
                                    "9": "A",
                                    "10": "Mining and logging",
                                    "11": "2",
                                    "12": "T",
                                    "13": "6"
                                },
                                {
                                    "0": "CES1000000013",
                                    "1": "10",
                                    "2": "10000000",
                                    "3": "13",
                                    "4": "S",
                                    "5": "Average hourly earnings of all employees",
                                    "6": "5",
                                    "7": "10000000",
                                    "8": "-",
                                    "9": "A",
                                    "10": "Mining and logging",
                                    "11": "2",
                                    "12": "T",
                                    "13": "6"
                                },
                                {
                                    "0": "CES1000000016",
                                    "1": "10",
                                    "2": "10000000",
                                    "3": "16",
                                    "4": "S",
                                    "5": "Indexes of aggregate weekly hours of all employees",
                                    "6": "5",
                                    "7": "10000000",
                                    "8": "-",
                                    "9": "A",
                                    "10": "Mining and logging",
                                    "11": "2",
                                    "12": "T",
                                    "13": "6"
                                },
                                {
                                    "0": "CES1000000017",
                                    "1": "10",
                                    "2": "10000000",
                                    "3": "17",
                                    "4": "S",
                                    "5": "Indexes of aggregate weekly payrolls of all employees",
                                    "6": "5",
                                    "7": "10000000",
                                    "8": "-",
                                    "9": "A",
                                    "10": "Mining and logging",
                                    "11": "2",
                                    "12": "T",
                                    "13": "6"
                                },
                                {
                                    "0": "CES1000000030",
                                    "1": "10",
                                    "2": "10000000",
                                    "3": "30",
                                    "4": "S",
                                    "5": "Average weekly earnings of production and nonsupervisory employees",
                                    "6": "5",
                                    "7": "10000000",
                                    "8": "-",
                                    "9": "A",
                                    "10": "Mining and logging",
                                    "11": "2",
                                    "12": "T",
                                    "13": "6"
                                },
                                {
                                    "0": "CES1000000031",
                                    "1": "10",
                                    "2": "10000000",
                                    "3": "31",
                                    "4": "S",
                                    "5": "Average weekly earnings of production and nonsupervisory employees",
                                    "6": "5",
                                    "7": "10000000",
                                    "8": "-",
                                    "9": "A",
                                    "10": "Mining and logging",
                                    "11": "2",
                                    "12": "T",
                                    "13": "6"
                                },
                                {
                                    "0": "CES1000000032",
                                    "1": "10",
                                    "2": "10000000",
                                    "3": "32",
                                    "4": "S",
                                    "5": "Average hourly earnings of production and nonsupervisory employees",
                                    "6": "5",
                                    "7": "10000000",
                                    "8": "-",
                                    "9": "A",
                                    "10": "Mining and logging",
                                    "11": "2",
                                    "12": "T",
                                    "13": "6"
                                },
                                {
                                    "0": "CES1000000034",
                                    "1": "10",
                                    "2": "10000000",
                                    "3": "34",
                                    "4": "S",
                                    "5": "Indexes of aggregate weekly hours of production and nonsupervisory employees",
                                    "6": "5",
                                    "7": "10000000",
                                    "8": "-",
                                    "9": "A",
                                    "10": "Mining and logging",
                                    "11": "2",
                                    "12": "T",
                                    "13": "6"
                                },
                                {
                                    "0": "CES1000000035",
                                    "1": "10",
                                    "2": "10000000",
                                    "3": "35",
                                    "4": "S",
                                    "5": "Indexes of aggregate weekly payrolls of production and nonsupervisory employees",
                                    "6": "5",
                                    "7": "10000000",
                                    "8": "-",
                                    "9": "A",
                                    "10": "Mining and logging",
                                    "11": "2",
                                    "12": "T",
                                    "13": "6"
                                },
                                {
                                    "0": "CES1000000056",
                                    "1": "10",
                                    "2": "10000000",
                                    "3": "56",
                                    "4": "S",
                                    "5": "Aggregate weekly hours of all employees",
                                    "6": "5",
                                    "7": "10000000",
                                    "8": "-",
                                    "9": "A",
                                    "10": "Mining and logging",
                                    "11": "2",
                                    "12": "T",
                                    "13": "6"
                                },
                                {
                                    "0": "CES1000000057",
                                    "1": "10",
                                    "2": "10000000",
                                    "3": "57",
                                    "4": "S",
                                    "5": "Aggregate weekly payrolls of all employees",
                                    "6": "5",
                                    "7": "10000000",
                                    "8": "-",
                                    "9": "A",
                                    "10": "Mining and logging",
                                    "11": "2",
                                    "12": "T",
                                    "13": "6"
                                },
                                {
                                    "0": "CES1000000081",
                                    "1": "10",
                                    "2": "10000000",
                                    "3": "81",
                                    "4": "S",
                                    "5": "Aggregate weekly hours of production and nonsupervisory employees",
                                    "6": "5",
                                    "7": "10000000",
                                    "8": "-",
                                    "9": "A",
                                    "10": "Mining and logging",
                                    "11": "2",
                                    "12": "T",
                                    "13": "6"
                                },
                                {
                                    "0": "CES1000000082",
                                    "1": "10",
                                    "2": "10000000",
                                    "3": "82",
                                    "4": "S",
                                    "5": "Aggregate weekly payrolls of production and nonsupervisory employees",
                                    "6": "5",
                                    "7": "10000000",
                                    "8": "-",
                                    "9": "A",
                                    "10": "Mining and logging",
                                    "11": "2",
                                    "12": "T",
                                    "13": "6"
                                },
                                {
                                    "0": "CES1011330001",
                                    "1": "10",
                                    "2": "10113300",
                                    "3": "1",
                                    "4": "S",
                                    "5": "All employees",
                                    "6": "6",
                                    "7": "10113300",
                                    "8": "1133",
                                    "9": "A",
                                    "10": "Logging",
                                    "11": "5",
                                    "12": "T",
                                    "13": "7"
                                }
                            ]
                        },
                        "text/html": "<table><tr><th>series_id</th><th>supersector_code</th><th>industry_code</th><th>data_type_code</th><th>seasonal</th><th>series_title</th><th>id</th><th>industry_code</th><th>naics_code</th><th>publishing_status</th><th>industry_name</th><th>display_level</th><th>selectable</th><th>sort_sequence</th></tr><tr><td>CES0000000001</td><td>0</td><td>00000000</td><td>1</td><td>S</td><td>All employees</td><td>0</td><td>0</td><td>-</td><td>B</td><td>Total nonfarm</td><td>0</td><td>T</td><td>1</td></tr><tr><td>CES0000000010</td><td>0</td><td>00000000</td><td>10</td><td>S</td><td>Women employees</td><td>0</td><td>0</td><td>-</td><td>B</td><td>Total nonfarm</td><td>0</td><td>T</td><td>1</td></tr><tr><td>CES0000000025</td><td>0</td><td>00000000</td><td>25</td><td>S</td><td>All employees</td><td>0</td><td>0</td><td>-</td><td>B</td><td>Total nonfarm</td><td>0</td><td>T</td><td>1</td></tr><tr><td>CES0000000026</td><td>0</td><td>00000000</td><td>26</td><td>S</td><td>All employees</td><td>0</td><td>0</td><td>-</td><td>B</td><td>Total nonfarm</td><td>0</td><td>T</td><td>1</td></tr><tr><td>CES0500000001</td><td>5</td><td>05000000</td><td>1</td><td>S</td><td>All employees</td><td>1</td><td>5000000</td><td>-</td><td>A</td><td>Total private</td><td>1</td><td>T</td><td>2</td></tr><tr><td>CES0500000002</td><td>5</td><td>05000000</td><td>2</td><td>S</td><td>Average weekly hours of all employees</td><td>1</td><td>5000000</td><td>-</td><td>A</td><td>Total private</td><td>1</td><td>T</td><td>2</td></tr><tr><td>CES0500000003</td><td>5</td><td>05000000</td><td>3</td><td>S</td><td>Average hourly earnings of all employees</td><td>1</td><td>5000000</td><td>-</td><td>A</td><td>Total private</td><td>1</td><td>T</td><td>2</td></tr><tr><td>CES0500000006</td><td>5</td><td>05000000</td><td>6</td><td>S</td><td>Production and nonsupervisory employees</td><td>1</td><td>5000000</td><td>-</td><td>A</td><td>Total private</td><td>1</td><td>T</td><td>2</td></tr><tr><td>CES0500000007</td><td>5</td><td>05000000</td><td>7</td><td>S</td><td>Average weekly hours of production and nonsupervisory employees</td><td>1</td><td>5000000</td><td>-</td><td>A</td><td>Total private</td><td>1</td><td>T</td><td>2</td></tr><tr><td>CES0500000008</td><td>5</td><td>05000000</td><td>8</td><td>S</td><td>Average hourly earnings of production and nonsupervisory employees</td><td>1</td><td>5000000</td><td>-</td><td>A</td><td>Total private</td><td>1</td><td>T</td><td>2</td></tr><tr><td>CES0500000010</td><td>5</td><td>05000000</td><td>10</td><td>S</td><td>Women employees</td><td>1</td><td>5000000</td><td>-</td><td>A</td><td>Total private</td><td>1</td><td>T</td><td>2</td></tr><tr><td>CES0500000011</td><td>5</td><td>05000000</td><td>11</td><td>S</td><td>Average weekly earnings of all employees</td><td>1</td><td>5000000</td><td>-</td><td>A</td><td>Total private</td><td>1</td><td>T</td><td>2</td></tr><tr><td>CES0500000012</td><td>5</td><td>05000000</td><td>12</td><td>S</td><td>Average weekly earnings of all employees</td><td>1</td><td>5000000</td><td>-</td><td>A</td><td>Total private</td><td>1</td><td>T</td><td>2</td></tr><tr><td>CES0500000013</td><td>5</td><td>05000000</td><td>13</td><td>S</td><td>Average hourly earnings of all employees</td><td>1</td><td>5000000</td><td>-</td><td>A</td><td>Total private</td><td>1</td><td>T</td><td>2</td></tr><tr><td>CES0500000016</td><td>5</td><td>05000000</td><td>16</td><td>S</td><td>Indexes of aggregate weekly hours of all employees</td><td>1</td><td>5000000</td><td>-</td><td>A</td><td>Total private</td><td>1</td><td>T</td><td>2</td></tr><tr><td>CES0500000017</td><td>5</td><td>05000000</td><td>17</td><td>S</td><td>Indexes of aggregate weekly payrolls of all employees</td><td>1</td><td>5000000</td><td>-</td><td>A</td><td>Total private</td><td>1</td><td>T</td><td>2</td></tr><tr><td>CES0500000019</td><td>5</td><td>05000000</td><td>19</td><td>S</td><td>Average weekly hours of all employees</td><td>1</td><td>5000000</td><td>-</td><td>A</td><td>Total private</td><td>1</td><td>T</td><td>2</td></tr><tr><td>CES0500000021</td><td>5</td><td>05000000</td><td>21</td><td>S</td><td>Diffusion indexes</td><td>1</td><td>5000000</td><td>-</td><td>A</td><td>Total private</td><td>1</td><td>T</td><td>2</td></tr><tr><td>CES0500000022</td><td>5</td><td>05000000</td><td>22</td><td>S</td><td>Diffusion indexes</td><td>1</td><td>5000000</td><td>-</td><td>A</td><td>Total private</td><td>1</td><td>T</td><td>2</td></tr><tr><td>CES0500000023</td><td>5</td><td>05000000</td><td>23</td><td>S</td><td>Diffusion indexes</td><td>1</td><td>5000000</td><td>-</td><td>A</td><td>Total private</td><td>1</td><td>T</td><td>2</td></tr><tr><td>CES0500000025</td><td>5</td><td>05000000</td><td>25</td><td>S</td><td>All employees</td><td>1</td><td>5000000</td><td>-</td><td>A</td><td>Total private</td><td>1</td><td>T</td><td>2</td></tr><tr><td>CES0500000026</td><td>5</td><td>05000000</td><td>26</td><td>S</td><td>All employees</td><td>1</td><td>5000000</td><td>-</td><td>A</td><td>Total private</td><td>1</td><td>T</td><td>2</td></tr><tr><td>CES0500000030</td><td>5</td><td>05000000</td><td>30</td><td>S</td><td>Average weekly earnings of production and nonsupervisory employees</td><td>1</td><td>5000000</td><td>-</td><td>A</td><td>Total private</td><td>1</td><td>T</td><td>2</td></tr><tr><td>CES0500000031</td><td>5</td><td>05000000</td><td>31</td><td>S</td><td>Average weekly earnings of production and nonsupervisory employees</td><td>1</td><td>5000000</td><td>-</td><td>A</td><td>Total private</td><td>1</td><td>T</td><td>2</td></tr><tr><td>CES0500000032</td><td>5</td><td>05000000</td><td>32</td><td>S</td><td>Average hourly earnings of production and nonsupervisory employees</td><td>1</td><td>5000000</td><td>-</td><td>A</td><td>Total private</td><td>1</td><td>T</td><td>2</td></tr><tr><td>CES0500000034</td><td>5</td><td>05000000</td><td>34</td><td>S</td><td>Indexes of aggregate weekly hours of production and nonsupervisory employees</td><td>1</td><td>5000000</td><td>-</td><td>A</td><td>Total private</td><td>1</td><td>T</td><td>2</td></tr><tr><td>CES0500000035</td><td>5</td><td>05000000</td><td>35</td><td>S</td><td>Indexes of aggregate weekly payrolls of production and nonsupervisory employees</td><td>1</td><td>5000000</td><td>-</td><td>A</td><td>Total private</td><td>1</td><td>T</td><td>2</td></tr><tr><td>CES0500000036</td><td>5</td><td>05000000</td><td>36</td><td>S</td><td>Average weekly hours</td><td>1</td><td>5000000</td><td>-</td><td>A</td><td>Total private</td><td>1</td><td>T</td><td>2</td></tr><tr><td>CES0500000056</td><td>5</td><td>05000000</td><td>56</td><td>S</td><td>Aggregate weekly hours of all employees</td><td>1</td><td>5000000</td><td>-</td><td>A</td><td>Total private</td><td>1</td><td>T</td><td>2</td></tr><tr><td>CES0500000057</td><td>5</td><td>05000000</td><td>57</td><td>S</td><td>Aggregate weekly payrolls of all employees</td><td>1</td><td>5000000</td><td>-</td><td>A</td><td>Total private</td><td>1</td><td>T</td><td>2</td></tr><tr><td>CES0500000081</td><td>5</td><td>05000000</td><td>81</td><td>S</td><td>Aggregate weekly hours of production and nonsupervisory employees</td><td>1</td><td>5000000</td><td>-</td><td>A</td><td>Total private</td><td>1</td><td>T</td><td>2</td></tr><tr><td>CES0500000082</td><td>5</td><td>05000000</td><td>82</td><td>S</td><td>Aggregate weekly payrolls of production and nonsupervisory employees</td><td>1</td><td>5000000</td><td>-</td><td>A</td><td>Total private</td><td>1</td><td>T</td><td>2</td></tr><tr><td>CES0600000001</td><td>6</td><td>06000000</td><td>1</td><td>S</td><td>All employees</td><td>2</td><td>6000000</td><td>-</td><td>A</td><td>Goods-producing</td><td>1</td><td>T</td><td>3</td></tr><tr><td>CES0600000002</td><td>6</td><td>06000000</td><td>2</td><td>S</td><td>Average weekly hours of all employees</td><td>2</td><td>6000000</td><td>-</td><td>A</td><td>Goods-producing</td><td>1</td><td>T</td><td>3</td></tr><tr><td>CES0600000003</td><td>6</td><td>06000000</td><td>3</td><td>S</td><td>Average hourly earnings of all employees</td><td>2</td><td>6000000</td><td>-</td><td>A</td><td>Goods-producing</td><td>1</td><td>T</td><td>3</td></tr><tr><td>CES0600000006</td><td>6</td><td>06000000</td><td>6</td><td>S</td><td>Production and nonsupervisory employees</td><td>2</td><td>6000000</td><td>-</td><td>A</td><td>Goods-producing</td><td>1</td><td>T</td><td>3</td></tr><tr><td>CES0600000007</td><td>6</td><td>06000000</td><td>7</td><td>S</td><td>Average weekly hours of production and nonsupervisory employees</td><td>2</td><td>6000000</td><td>-</td><td>A</td><td>Goods-producing</td><td>1</td><td>T</td><td>3</td></tr><tr><td>CES0600000008</td><td>6</td><td>06000000</td><td>8</td><td>S</td><td>Average hourly earnings of production and nonsupervisory employees</td><td>2</td><td>6000000</td><td>-</td><td>A</td><td>Goods-producing</td><td>1</td><td>T</td><td>3</td></tr><tr><td>CES0600000010</td><td>6</td><td>06000000</td><td>10</td><td>S</td><td>Women employees</td><td>2</td><td>6000000</td><td>-</td><td>A</td><td>Goods-producing</td><td>1</td><td>T</td><td>3</td></tr><tr><td>CES0600000011</td><td>6</td><td>06000000</td><td>11</td><td>S</td><td>Average weekly earnings of all employees</td><td>2</td><td>6000000</td><td>-</td><td>A</td><td>Goods-producing</td><td>1</td><td>T</td><td>3</td></tr><tr><td>CES0600000012</td><td>6</td><td>06000000</td><td>12</td><td>S</td><td>Average weekly earnings of all employees</td><td>2</td><td>6000000</td><td>-</td><td>A</td><td>Goods-producing</td><td>1</td><td>T</td><td>3</td></tr><tr><td>CES0600000013</td><td>6</td><td>06000000</td><td>13</td><td>S</td><td>Average hourly earnings of all employees</td><td>2</td><td>6000000</td><td>-</td><td>A</td><td>Goods-producing</td><td>1</td><td>T</td><td>3</td></tr><tr><td>CES0600000016</td><td>6</td><td>06000000</td><td>16</td><td>S</td><td>Indexes of aggregate weekly hours of all employees</td><td>2</td><td>6000000</td><td>-</td><td>A</td><td>Goods-producing</td><td>1</td><td>T</td><td>3</td></tr><tr><td>CES0600000017</td><td>6</td><td>06000000</td><td>17</td><td>S</td><td>Indexes of aggregate weekly payrolls of all employees</td><td>2</td><td>6000000</td><td>-</td><td>A</td><td>Goods-producing</td><td>1</td><td>T</td><td>3</td></tr><tr><td>CES0600000025</td><td>6</td><td>06000000</td><td>25</td><td>S</td><td>All employees</td><td>2</td><td>6000000</td><td>-</td><td>A</td><td>Goods-producing</td><td>1</td><td>T</td><td>3</td></tr><tr><td>CES0600000030</td><td>6</td><td>06000000</td><td>30</td><td>S</td><td>Average weekly earnings of production and nonsupervisory employees</td><td>2</td><td>6000000</td><td>-</td><td>A</td><td>Goods-producing</td><td>1</td><td>T</td><td>3</td></tr><tr><td>CES0600000031</td><td>6</td><td>06000000</td><td>31</td><td>S</td><td>Average weekly earnings of production and nonsupervisory employees</td><td>2</td><td>6000000</td><td>-</td><td>A</td><td>Goods-producing</td><td>1</td><td>T</td><td>3</td></tr><tr><td>CES0600000032</td><td>6</td><td>06000000</td><td>32</td><td>S</td><td>Average hourly earnings of production and nonsupervisory employees</td><td>2</td><td>6000000</td><td>-</td><td>A</td><td>Goods-producing</td><td>1</td><td>T</td><td>3</td></tr><tr><td>CES0600000034</td><td>6</td><td>06000000</td><td>34</td><td>S</td><td>Indexes of aggregate weekly hours of production and nonsupervisory employees</td><td>2</td><td>6000000</td><td>-</td><td>A</td><td>Goods-producing</td><td>1</td><td>T</td><td>3</td></tr><tr><td>CES0600000035</td><td>6</td><td>06000000</td><td>35</td><td>S</td><td>Indexes of aggregate weekly payrolls of production and nonsupervisory employees</td><td>2</td><td>6000000</td><td>-</td><td>A</td><td>Goods-producing</td><td>1</td><td>T</td><td>3</td></tr><tr><td>CES0600000056</td><td>6</td><td>06000000</td><td>56</td><td>S</td><td>Aggregate weekly hours of all employees</td><td>2</td><td>6000000</td><td>-</td><td>A</td><td>Goods-producing</td><td>1</td><td>T</td><td>3</td></tr><tr><td>CES0600000057</td><td>6</td><td>06000000</td><td>57</td><td>S</td><td>Aggregate weekly payrolls of all employees</td><td>2</td><td>6000000</td><td>-</td><td>A</td><td>Goods-producing</td><td>1</td><td>T</td><td>3</td></tr><tr><td>CES0600000081</td><td>6</td><td>06000000</td><td>81</td><td>S</td><td>Aggregate weekly hours of production and nonsupervisory employees</td><td>2</td><td>6000000</td><td>-</td><td>A</td><td>Goods-producing</td><td>1</td><td>T</td><td>3</td></tr><tr><td>CES0600000082</td><td>6</td><td>06000000</td><td>82</td><td>S</td><td>Aggregate weekly payrolls of production and nonsupervisory employees</td><td>2</td><td>6000000</td><td>-</td><td>A</td><td>Goods-producing</td><td>1</td><td>T</td><td>3</td></tr><tr><td>CES0700000001</td><td>7</td><td>07000000</td><td>1</td><td>S</td><td>All employees</td><td>3</td><td>7000000</td><td>-</td><td>B</td><td>Service-providing</td><td>1</td><td>T</td><td>4</td></tr><tr><td>CES0700000010</td><td>7</td><td>07000000</td><td>10</td><td>S</td><td>Women employees</td><td>3</td><td>7000000</td><td>-</td><td>B</td><td>Service-providing</td><td>1</td><td>T</td><td>4</td></tr><tr><td>CES0700000025</td><td>7</td><td>07000000</td><td>25</td><td>S</td><td>All employees</td><td>3</td><td>7000000</td><td>-</td><td>B</td><td>Service-providing</td><td>1</td><td>T</td><td>4</td></tr><tr><td>CES0800000001</td><td>8</td><td>08000000</td><td>1</td><td>S</td><td>All employees</td><td>4</td><td>8000000</td><td>-</td><td>A</td><td>Private service-providing</td><td>1</td><td>T</td><td>5</td></tr><tr><td>CES0800000002</td><td>8</td><td>08000000</td><td>2</td><td>S</td><td>Average weekly hours of all employees</td><td>4</td><td>8000000</td><td>-</td><td>A</td><td>Private service-providing</td><td>1</td><td>T</td><td>5</td></tr><tr><td>CES0800000003</td><td>8</td><td>08000000</td><td>3</td><td>S</td><td>Average hourly earnings of all employees</td><td>4</td><td>8000000</td><td>-</td><td>A</td><td>Private service-providing</td><td>1</td><td>T</td><td>5</td></tr><tr><td>CES0800000006</td><td>8</td><td>08000000</td><td>6</td><td>S</td><td>Production and nonsupervisory employees</td><td>4</td><td>8000000</td><td>-</td><td>A</td><td>Private service-providing</td><td>1</td><td>T</td><td>5</td></tr><tr><td>CES0800000007</td><td>8</td><td>08000000</td><td>7</td><td>S</td><td>Average weekly hours of production and nonsupervisory employees</td><td>4</td><td>8000000</td><td>-</td><td>A</td><td>Private service-providing</td><td>1</td><td>T</td><td>5</td></tr><tr><td>CES0800000008</td><td>8</td><td>08000000</td><td>8</td><td>S</td><td>Average hourly earnings of production and nonsupervisory employees</td><td>4</td><td>8000000</td><td>-</td><td>A</td><td>Private service-providing</td><td>1</td><td>T</td><td>5</td></tr><tr><td>CES0800000010</td><td>8</td><td>08000000</td><td>10</td><td>S</td><td>Women employees</td><td>4</td><td>8000000</td><td>-</td><td>A</td><td>Private service-providing</td><td>1</td><td>T</td><td>5</td></tr><tr><td>CES0800000011</td><td>8</td><td>08000000</td><td>11</td><td>S</td><td>Average weekly earnings of all employees</td><td>4</td><td>8000000</td><td>-</td><td>A</td><td>Private service-providing</td><td>1</td><td>T</td><td>5</td></tr><tr><td>CES0800000012</td><td>8</td><td>08000000</td><td>12</td><td>S</td><td>Average weekly earnings of all employees</td><td>4</td><td>8000000</td><td>-</td><td>A</td><td>Private service-providing</td><td>1</td><td>T</td><td>5</td></tr><tr><td>CES0800000013</td><td>8</td><td>08000000</td><td>13</td><td>S</td><td>Average hourly earnings of all employees</td><td>4</td><td>8000000</td><td>-</td><td>A</td><td>Private service-providing</td><td>1</td><td>T</td><td>5</td></tr><tr><td>CES0800000016</td><td>8</td><td>08000000</td><td>16</td><td>S</td><td>Indexes of aggregate weekly hours of all employees</td><td>4</td><td>8000000</td><td>-</td><td>A</td><td>Private service-providing</td><td>1</td><td>T</td><td>5</td></tr><tr><td>CES0800000017</td><td>8</td><td>08000000</td><td>17</td><td>S</td><td>Indexes of aggregate weekly payrolls of all employees</td><td>4</td><td>8000000</td><td>-</td><td>A</td><td>Private service-providing</td><td>1</td><td>T</td><td>5</td></tr><tr><td>CES0800000030</td><td>8</td><td>08000000</td><td>30</td><td>S</td><td>Average weekly earnings of production and nonsupervisory employees</td><td>4</td><td>8000000</td><td>-</td><td>A</td><td>Private service-providing</td><td>1</td><td>T</td><td>5</td></tr><tr><td>CES0800000031</td><td>8</td><td>08000000</td><td>31</td><td>S</td><td>Average weekly earnings of production and nonsupervisory employees</td><td>4</td><td>8000000</td><td>-</td><td>A</td><td>Private service-providing</td><td>1</td><td>T</td><td>5</td></tr><tr><td>CES0800000032</td><td>8</td><td>08000000</td><td>32</td><td>S</td><td>Average hourly earnings of production and nonsupervisory employees</td><td>4</td><td>8000000</td><td>-</td><td>A</td><td>Private service-providing</td><td>1</td><td>T</td><td>5</td></tr><tr><td>CES0800000034</td><td>8</td><td>08000000</td><td>34</td><td>S</td><td>Indexes of aggregate weekly hours of production and nonsupervisory employees</td><td>4</td><td>8000000</td><td>-</td><td>A</td><td>Private service-providing</td><td>1</td><td>T</td><td>5</td></tr><tr><td>CES0800000035</td><td>8</td><td>08000000</td><td>35</td><td>S</td><td>Indexes of aggregate weekly payrolls of production and nonsupervisory employees</td><td>4</td><td>8000000</td><td>-</td><td>A</td><td>Private service-providing</td><td>1</td><td>T</td><td>5</td></tr><tr><td>CES0800000056</td><td>8</td><td>08000000</td><td>56</td><td>S</td><td>Aggregate weekly hours of all employees</td><td>4</td><td>8000000</td><td>-</td><td>A</td><td>Private service-providing</td><td>1</td><td>T</td><td>5</td></tr><tr><td>CES0800000057</td><td>8</td><td>08000000</td><td>57</td><td>S</td><td>Aggregate weekly payrolls of all employees</td><td>4</td><td>8000000</td><td>-</td><td>A</td><td>Private service-providing</td><td>1</td><td>T</td><td>5</td></tr><tr><td>CES0800000081</td><td>8</td><td>08000000</td><td>81</td><td>S</td><td>Aggregate weekly hours of production and nonsupervisory employees</td><td>4</td><td>8000000</td><td>-</td><td>A</td><td>Private service-providing</td><td>1</td><td>T</td><td>5</td></tr><tr><td>CES0800000082</td><td>8</td><td>08000000</td><td>82</td><td>S</td><td>Aggregate weekly payrolls of production and nonsupervisory employees</td><td>4</td><td>8000000</td><td>-</td><td>A</td><td>Private service-providing</td><td>1</td><td>T</td><td>5</td></tr><tr><td>CES1000000001</td><td>10</td><td>10000000</td><td>1</td><td>S</td><td>All employees</td><td>5</td><td>10000000</td><td>-</td><td>A</td><td>Mining and logging</td><td>2</td><td>T</td><td>6</td></tr><tr><td>CES1000000002</td><td>10</td><td>10000000</td><td>2</td><td>S</td><td>Average weekly hours of all employees</td><td>5</td><td>10000000</td><td>-</td><td>A</td><td>Mining and logging</td><td>2</td><td>T</td><td>6</td></tr><tr><td>CES1000000003</td><td>10</td><td>10000000</td><td>3</td><td>S</td><td>Average hourly earnings of all employees</td><td>5</td><td>10000000</td><td>-</td><td>A</td><td>Mining and logging</td><td>2</td><td>T</td><td>6</td></tr><tr><td>CES1000000006</td><td>10</td><td>10000000</td><td>6</td><td>S</td><td>Production and nonsupervisory employees</td><td>5</td><td>10000000</td><td>-</td><td>A</td><td>Mining and logging</td><td>2</td><td>T</td><td>6</td></tr><tr><td>CES1000000007</td><td>10</td><td>10000000</td><td>7</td><td>S</td><td>Average weekly hours of production and nonsupervisory employees</td><td>5</td><td>10000000</td><td>-</td><td>A</td><td>Mining and logging</td><td>2</td><td>T</td><td>6</td></tr><tr><td>CES1000000008</td><td>10</td><td>10000000</td><td>8</td><td>S</td><td>Average hourly earnings of production and nonsupervisory employees</td><td>5</td><td>10000000</td><td>-</td><td>A</td><td>Mining and logging</td><td>2</td><td>T</td><td>6</td></tr><tr><td>CES1000000010</td><td>10</td><td>10000000</td><td>10</td><td>S</td><td>Women employees</td><td>5</td><td>10000000</td><td>-</td><td>A</td><td>Mining and logging</td><td>2</td><td>T</td><td>6</td></tr><tr><td>CES1000000011</td><td>10</td><td>10000000</td><td>11</td><td>S</td><td>Average weekly earnings of all employees</td><td>5</td><td>10000000</td><td>-</td><td>A</td><td>Mining and logging</td><td>2</td><td>T</td><td>6</td></tr><tr><td>CES1000000012</td><td>10</td><td>10000000</td><td>12</td><td>S</td><td>Average weekly earnings of all employees</td><td>5</td><td>10000000</td><td>-</td><td>A</td><td>Mining and logging</td><td>2</td><td>T</td><td>6</td></tr><tr><td>CES1000000013</td><td>10</td><td>10000000</td><td>13</td><td>S</td><td>Average hourly earnings of all employees</td><td>5</td><td>10000000</td><td>-</td><td>A</td><td>Mining and logging</td><td>2</td><td>T</td><td>6</td></tr><tr><td>CES1000000016</td><td>10</td><td>10000000</td><td>16</td><td>S</td><td>Indexes of aggregate weekly hours of all employees</td><td>5</td><td>10000000</td><td>-</td><td>A</td><td>Mining and logging</td><td>2</td><td>T</td><td>6</td></tr><tr><td>CES1000000017</td><td>10</td><td>10000000</td><td>17</td><td>S</td><td>Indexes of aggregate weekly payrolls of all employees</td><td>5</td><td>10000000</td><td>-</td><td>A</td><td>Mining and logging</td><td>2</td><td>T</td><td>6</td></tr><tr><td>CES1000000030</td><td>10</td><td>10000000</td><td>30</td><td>S</td><td>Average weekly earnings of production and nonsupervisory employees</td><td>5</td><td>10000000</td><td>-</td><td>A</td><td>Mining and logging</td><td>2</td><td>T</td><td>6</td></tr><tr><td>CES1000000031</td><td>10</td><td>10000000</td><td>31</td><td>S</td><td>Average weekly earnings of production and nonsupervisory employees</td><td>5</td><td>10000000</td><td>-</td><td>A</td><td>Mining and logging</td><td>2</td><td>T</td><td>6</td></tr><tr><td>CES1000000032</td><td>10</td><td>10000000</td><td>32</td><td>S</td><td>Average hourly earnings of production and nonsupervisory employees</td><td>5</td><td>10000000</td><td>-</td><td>A</td><td>Mining and logging</td><td>2</td><td>T</td><td>6</td></tr><tr><td>CES1000000034</td><td>10</td><td>10000000</td><td>34</td><td>S</td><td>Indexes of aggregate weekly hours of production and nonsupervisory employees</td><td>5</td><td>10000000</td><td>-</td><td>A</td><td>Mining and logging</td><td>2</td><td>T</td><td>6</td></tr><tr><td>CES1000000035</td><td>10</td><td>10000000</td><td>35</td><td>S</td><td>Indexes of aggregate weekly payrolls of production and nonsupervisory employees</td><td>5</td><td>10000000</td><td>-</td><td>A</td><td>Mining and logging</td><td>2</td><td>T</td><td>6</td></tr><tr><td>CES1000000056</td><td>10</td><td>10000000</td><td>56</td><td>S</td><td>Aggregate weekly hours of all employees</td><td>5</td><td>10000000</td><td>-</td><td>A</td><td>Mining and logging</td><td>2</td><td>T</td><td>6</td></tr><tr><td>CES1000000057</td><td>10</td><td>10000000</td><td>57</td><td>S</td><td>Aggregate weekly payrolls of all employees</td><td>5</td><td>10000000</td><td>-</td><td>A</td><td>Mining and logging</td><td>2</td><td>T</td><td>6</td></tr><tr><td>CES1000000081</td><td>10</td><td>10000000</td><td>81</td><td>S</td><td>Aggregate weekly hours of production and nonsupervisory employees</td><td>5</td><td>10000000</td><td>-</td><td>A</td><td>Mining and logging</td><td>2</td><td>T</td><td>6</td></tr><tr><td>CES1000000082</td><td>10</td><td>10000000</td><td>82</td><td>S</td><td>Aggregate weekly payrolls of production and nonsupervisory employees</td><td>5</td><td>10000000</td><td>-</td><td>A</td><td>Mining and logging</td><td>2</td><td>T</td><td>6</td></tr><tr><td>CES1011330001</td><td>10</td><td>10113300</td><td>1</td><td>S</td><td>All employees</td><td>6</td><td>10113300</td><td>1133</td><td>A</td><td>Logging</td><td>5</td><td>T</td><td>7</td></tr></table>"
                    },
                    "metadata": {}
                }
            ],
            "execution_count": 11
        },
        {
            "cell_type": "markdown",
            "source": [
                "## <span style=\"font-size: 12pt; font-family: Montserrat, sans-serif; color: rgb(53, 74, 95); background-color: rgb(255, 255, 255); font-weight: 700; font-variant-numeric: normal; font-variant-east-asian: normal; vertical-align: baseline; white-space: pre-wrap;\">Aggregate Your Friends and Code some SQL</span>\n",
                "\n",
                "<span style=\"font-size: 10pt; font-family: Arvo, serif; color: rgb(102, 102, 102); background-color: rgb(255, 255, 255); font-variant-numeric: normal; font-variant-east-asian: normal; vertical-align: baseline; white-space: pre-wrap;\">Put together the following:</span>\n",
                "\n",
                "1. <span style=\"background-color: rgb(255, 255, 255); font-size: 10pt; white-space: pre-wrap; color: rgb(102, 102, 102); font-family: Arvo, serif;\">How many employees were reported in 2016 in all industries? Round to the nearest whole number.&nbsp; No chopping people into little bits, please.</span>"
            ],
            "metadata": {
                "azdata_cell_guid": "f4290cc1-f824-4586-8850-59d926bf4460"
            }
        },
        {
            "cell_type": "code",
            "source": [
                "-- SELECT SUM(id)\n",
                "-- FROM LaborStatisticsDB.dbo.industry\n",
                "-- WHERE data_type_text = 'ALL EMPLOYEES'\n",
                "\n",
                "\n",
                "SELECT ROUND(SUM(a.VALUE), 0) AS 'EMPLOYEES ACROSS INDUSTRIES'\n",
                "FROM LaborStatisticsDB.dbo.annual_2016 AS a \n",
                "JOIN LaborStatisticsDB.dbo.series as s \n",
                "ON s.series_id = a.series_id\n",
                "WHERE data_type_code = '01'"
            ],
            "metadata": {
                "azdata_cell_guid": "25099068-a629-4eb5-afca-ed3748c40605",
                "language": "sql"
            },
            "outputs": [
                {
                    "output_type": "display_data",
                    "data": {
                        "text/html": "(1 row affected)"
                    },
                    "metadata": {}
                },
                {
                    "output_type": "display_data",
                    "data": {
                        "text/html": "Total execution time: 00:00:00.109"
                    },
                    "metadata": {}
                },
                {
                    "output_type": "execute_result",
                    "execution_count": 14,
                    "data": {
                        "application/vnd.dataresource+json": {
                            "schema": {
                                "fields": [
                                    {
                                        "name": "EMPLOYEES ACROSS INDUSTRIES"
                                    }
                                ]
                            },
                            "data": [
                                {
                                    "0": "2340612"
                                }
                            ]
                        },
                        "text/html": "<table><tr><th>EMPLOYEES ACROSS INDUSTRIES</th></tr><tr><td>2340612</td></tr></table>"
                    },
                    "metadata": {}
                }
            ],
            "execution_count": 14
        },
        {
            "cell_type": "markdown",
            "source": [
                "2. <span style=\"background-color: rgb(255, 255, 255); font-size: 10pt; white-space: pre-wrap; color: rgb(102, 102, 102); font-family: Arvo, serif;\">How many women employees were reported in 2016 in all industries? Round to the nearest whole number.&nbsp;</span>"
            ],
            "metadata": {
                "azdata_cell_guid": "6358fab4-b933-4646-bef1-4be66dcd4317"
            }
        },
        {
            "cell_type": "code",
            "source": [
                "SELECT ROUND(SUM(a.VALUE), 0) AS 'WOMEN ACROSS INDUSTRIES'\n",
                "FROM LaborStatisticsDB.dbo.annual_2016 AS a \n",
                "JOIN LaborStatisticsDB.dbo.series as s \n",
                "ON s.series_id = a.series_id\n",
                "WHERE data_type_code = '10'\n",
                "-- WHERE data_type_text = 'Women employees'"
            ],
            "metadata": {
                "azdata_cell_guid": "7bb0bfb7-b9e3-4672-b354-7ca705bb0c3b",
                "language": "sql"
            },
            "outputs": [
                {
                    "output_type": "display_data",
                    "data": {
                        "text/html": "(1 row affected)"
                    },
                    "metadata": {}
                },
                {
                    "output_type": "display_data",
                    "data": {
                        "text/html": "Total execution time: 00:00:00.113"
                    },
                    "metadata": {}
                },
                {
                    "output_type": "execute_result",
                    "execution_count": 16,
                    "data": {
                        "application/vnd.dataresource+json": {
                            "schema": {
                                "fields": [
                                    {
                                        "name": "WOMEN ACROSS INDUSTRIES"
                                    }
                                ]
                            },
                            "data": [
                                {
                                    "0": "1125490"
                                }
                            ]
                        },
                        "text/html": "<table><tr><th>WOMEN ACROSS INDUSTRIES</th></tr><tr><td>1125490</td></tr></table>"
                    },
                    "metadata": {}
                }
            ],
            "execution_count": 16
        },
        {
            "cell_type": "markdown",
            "source": [
                "3. <span style=\"background-color: rgb(255, 255, 255); font-size: 10pt; white-space: pre-wrap; color: rgb(102, 102, 102); font-family: Arvo, serif;\">How many production/nonsupervisory employees were reported in 2016? Round to the nearest whole number.&nbsp;</span>"
            ],
            "metadata": {
                "azdata_cell_guid": "246ea683-2075-4337-878d-fbfdd49b2dd7"
            }
        },
        {
            "cell_type": "code",
            "source": [
                "SELECT ROUND(SUM(a.VALUE), 0) AS 'PRODUCTION/NONSUPERVISORY EMPLOYEES'\n",
                "FROM LaborStatisticsDB.dbo.annual_2016 AS a \n",
                "JOIN LaborStatisticsDB.dbo.series as s \n",
                "ON s.series_id = a.series_id\n",
                "WHERE data_type_code = '6'\n",
                "\n",
                "--  data_type_text = 'PRODUCTION AND NONSUPERVISORY EMPLOYEES'"
            ],
            "metadata": {
                "azdata_cell_guid": "110f2591-069b-4bbe-87c7-2bcf76c3d36f",
                "language": "sql"
            },
            "outputs": [
                {
                    "output_type": "display_data",
                    "data": {
                        "text/html": "(1 row affected)"
                    },
                    "metadata": {}
                },
                {
                    "output_type": "display_data",
                    "data": {
                        "text/html": "Total execution time: 00:00:00.113"
                    },
                    "metadata": {}
                },
                {
                    "output_type": "execute_result",
                    "execution_count": 17,
                    "data": {
                        "application/vnd.dataresource+json": {
                            "schema": {
                                "fields": [
                                    {
                                        "name": "PRODUCTION/NONSUPERVISORY EMPLOYEES"
                                    }
                                ]
                            },
                            "data": [
                                {
                                    "0": "1263650"
                                }
                            ]
                        },
                        "text/html": "<table><tr><th>PRODUCTION/NONSUPERVISORY EMPLOYEES</th></tr><tr><td>1263650</td></tr></table>"
                    },
                    "metadata": {}
                }
            ],
            "execution_count": 17
        },
        {
            "cell_type": "markdown",
            "source": [
                "4. <span style=\"background-color: rgb(255, 255, 255); font-size: 10pt; white-space: pre-wrap; color: rgb(102, 102, 102); font-family: Arvo, serif;\">In January 2017, what is the average weekly hours worked by production and nonsupervisory employees across all industries?</span>"
            ],
            "metadata": {
                "azdata_cell_guid": "9caa7f57-e39d-4b7a-b705-25f8fe29d60b"
            }
        },
        {
            "cell_type": "code",
            "source": [
                "SELECT ROUND(AVG(j.value), 0) AS 'HOURS PRODUCTION/NONSUPERVISORY EMPLOYEES'\n",
                "FROM LaborStatisticsDB.dbo.january_2017 as j \n",
                "JOIN LaborStatisticsDB.dbo.series as s \n",
                "ON j.series_id = s.series_id\n",
                "WHERE  j.series_id LIKE '%07'\n",
                ""
            ],
            "metadata": {
                "azdata_cell_guid": "9f07fa8a-4217-439a-a9cd-831240d4bc9e",
                "language": "sql"
            },
            "outputs": [
                {
                    "output_type": "display_data",
                    "data": {
                        "text/html": "(1 row affected)"
                    },
                    "metadata": {}
                },
                {
                    "output_type": "display_data",
                    "data": {
                        "text/html": "Total execution time: 00:00:00.178"
                    },
                    "metadata": {}
                },
                {
                    "output_type": "execute_result",
                    "execution_count": 45,
                    "data": {
                        "application/vnd.dataresource+json": {
                            "schema": {
                                "fields": [
                                    {
                                        "name": "HOURS PRODUCTION/NONSUPERVISORY EMPLOYEES"
                                    }
                                ]
                            },
                            "data": [
                                {
                                    "0": "36"
                                }
                            ]
                        },
                        "text/html": "<table><tr><th>HOURS PRODUCTION/NONSUPERVISORY EMPLOYEES</th></tr><tr><td>36</td></tr></table>"
                    },
                    "metadata": {}
                }
            ],
            "execution_count": 45
        },
        {
            "cell_type": "markdown",
            "source": [
                "5. <span style=\"background-color: rgb(255, 255, 255); font-size: 10pt; white-space: pre-wrap; color: rgb(102, 102, 102); font-family: Arvo, serif;\">What is the total weekly payroll for production and nonsupervisory employees across all industries in January 2017? Round to the nearest penny, please.</span>"
            ],
            "metadata": {
                "azdata_cell_guid": "9c48ff2e-a6eb-4f02-8df2-988e219fbc00"
            }
        },
        {
            "cell_type": "code",
            "source": [
                "SELECT ROUND(SUM(j.value), 0) AS 'PAYROLL PRODUCTION/NONSUPERVISORY EMPLOYEES'\n",
                "FROM LaborStatisticsDB.dbo.january_2017 as j \n",
                "JOIN LaborStatisticsDB.dbo.series as s \n",
                "ON j.series_id = s.series_id\n",
                "WHERE  j.series_id LIKE '%08'"
            ],
            "metadata": {
                "azdata_cell_guid": "c565641b-f1fa-4dbb-9320-24adfda97ca5",
                "language": "sql"
            },
            "outputs": [
                {
                    "output_type": "display_data",
                    "data": {
                        "text/html": "(1 row affected)"
                    },
                    "metadata": {}
                },
                {
                    "output_type": "display_data",
                    "data": {
                        "text/html": "Total execution time: 00:00:00.219"
                    },
                    "metadata": {}
                },
                {
                    "output_type": "execute_result",
                    "execution_count": 1,
                    "data": {
                        "application/vnd.dataresource+json": {
                            "schema": {
                                "fields": [
                                    {
                                        "name": "PAYROLL PRODUCTION/NONSUPERVISORY EMPLOYEES"
                                    }
                                ]
                            },
                            "data": [
                                {
                                    "0": "48405"
                                }
                            ]
                        },
                        "text/html": "<table><tr><th>PAYROLL PRODUCTION/NONSUPERVISORY EMPLOYEES</th></tr><tr><td>48405</td></tr></table>"
                    },
                    "metadata": {}
                }
            ],
            "execution_count": 1
        },
        {
            "cell_type": "markdown",
            "source": [
                "6. <span style=\"background-color: rgb(255, 255, 255); font-size: 10pt; white-space: pre-wrap; color: rgb(102, 102, 102); font-family: Arvo, serif;\">In January 2017, which industry was the average weekly hours worked by production and nonsupervisory employees the highest? Which industry was the lowest?</span>"
            ],
            "metadata": {
                "azdata_cell_guid": "862fd406-4fff-49bb-9d2b-232275a06405"
            }
        },
        {
            "cell_type": "code",
            "source": [
                "SELECT i.industry_name, ROUND(MAX(j.value), 0) AS 'HIGHESTHOURS'\n",
                "FROM LaborStatisticsDB.dbo.january_2017 as j\n",
                "JOIN LaborStatisticsDB.dbo.series as s \n",
                "ON j.series_id = s.series_id\n",
                "JOIN LaborStatisticsDB.dbo.industry as i \n",
                "ON i.industry_code = s.industry_code\n",
                "WHERE j.series_id LIKE '%07'\n",
                "GROUP BY i.industry_name\n",
                "ORDER BY HIGHESTHOURS DESC;\n",
                "\n",
                "SELECT i.industry_name, ROUND(MIN(j.value), 0) AS 'LOWESTHOURS'\n",
                "FROM LaborStatisticsDB.dbo.january_2017 as j \n",
                "JOIN LaborStatisticsDB.dbo.series as s \n",
                "ON s.series_id = j.series_id \n",
                "JOIN LaborStatisticsDB.dbo.industry as i \n",
                "ON i.industry_code = s.industry_code \n",
                "WHERE  j.series_id LIKE '%07'\n",
                "GROUP BY industry_name\n",
                "ORDER BY LOWESTHOURS ASC;\n",
                "\n",
                "-- SELECT industry_name \n",
                "-- GROUP BY \n",
                ""
            ],
            "metadata": {
                "azdata_cell_guid": "01e11050-5f2f-4d22-92e0-2b3024b80a5f",
                "language": "sql",
                "tags": []
            },
            "outputs": [
                {
                    "output_type": "display_data",
                    "data": {
                        "text/html": "(501 rows affected)"
                    },
                    "metadata": {}
                },
                {
                    "output_type": "display_data",
                    "data": {
                        "text/html": "(501 rows affected)"
                    },
                    "metadata": {}
                },
                {
                    "output_type": "display_data",
                    "data": {
                        "text/html": "Total execution time: 00:00:00.724"
                    },
                    "metadata": {}
                },
                {
                    "output_type": "execute_result",
                    "execution_count": 2,
                    "data": {
                        "application/vnd.dataresource+json": {
                            "schema": {
                                "fields": [
                                    {
                                        "name": "industry_name"
                                    },
                                    {
                                        "name": "HIGHESTHOURS"
                                    }
                                ]
                            },
                            "data": [
                                {
                                    "0": "Motor vehicle power train components",
                                    "1": "50"
                                },
                                {
                                    "0": "Motor vehicle metal stamping",
                                    "1": "47"
                                },
                                {
                                    "0": "NULL",
                                    "1": "47"
                                },
                                {
                                    "0": "Coal mining",
                                    "1": "47"
                                },
                                {
                                    "0": "Crushed and broken limestone mining",
                                    "1": "47"
                                },
                                {
                                    "0": "Oil and gas pipeline construction",
                                    "1": "47"
                                },
                                {
                                    "0": "Stone mining and quarrying",
                                    "1": "47"
                                },
                                {
                                    "0": "Support activities for mining",
                                    "1": "47"
                                },
                                {
                                    "0": "Support activities for oil and gas operations",
                                    "1": "47"
                                },
                                {
                                    "0": "Petroleum and coal products",
                                    "1": "46"
                                },
                                {
                                    "0": "Boilers",
                                    "1": "46"
                                },
                                {
                                    "0": "Mining",
                                    "1": "46"
                                },
                                {
                                    "0": "Mining and logging",
                                    "1": "46"
                                },
                                {
                                    "0": "Motor vehicle parts",
                                    "1": "45"
                                },
                                {
                                    "0": "Motor vehicles",
                                    "1": "45"
                                },
                                {
                                    "0": "Basic chemicals",
                                    "1": "45"
                                },
                                {
                                    "0": "Pipeline transportation",
                                    "1": "45"
                                },
                                {
                                    "0": "Power and communication system construction",
                                    "1": "45"
                                },
                                {
                                    "0": "Rubber products",
                                    "1": "45"
                                },
                                {
                                    "0": "Waste treatment and disposal",
                                    "1": "45"
                                },
                                {
                                    "0": "Transportation equipment",
                                    "1": "44"
                                },
                                {
                                    "0": "Turbine and power transmission equipment",
                                    "1": "44"
                                },
                                {
                                    "0": "Utility system construction",
                                    "1": "44"
                                },
                                {
                                    "0": "Surgical appliances and supplies",
                                    "1": "44"
                                },
                                {
                                    "0": "Special tools",
                                    "1": "44"
                                },
                                {
                                    "0": "Power generation and supply",
                                    "1": "44"
                                },
                                {
                                    "0": "Pulp",
                                    "1": "44"
                                },
                                {
                                    "0": "Oil and gas extraction",
                                    "1": "44"
                                },
                                {
                                    "0": "Other specialized trucking",
                                    "1": "44"
                                },
                                {
                                    "0": "Other heavy construction",
                                    "1": "44"
                                },
                                {
                                    "0": "Cement and concrete products",
                                    "1": "44"
                                },
                                {
                                    "0": "Aerospace products and parts",
                                    "1": "44"
                                },
                                {
                                    "0": "All other motor vehicle parts",
                                    "1": "44"
                                },
                                {
                                    "0": "Animal slaughtering and processing",
                                    "1": "44"
                                },
                                {
                                    "0": "Corrugated and solid fiber boxes",
                                    "1": "44"
                                },
                                {
                                    "0": "Electric power transmission and distribution",
                                    "1": "44"
                                },
                                {
                                    "0": "Motor vehicle gasoline engine and parts",
                                    "1": "44"
                                },
                                {
                                    "0": "Metal valves",
                                    "1": "44"
                                },
                                {
                                    "0": "Fossil fuel electric power generation",
                                    "1": "44"
                                },
                                {
                                    "0": "Frozen food",
                                    "1": "44"
                                },
                                {
                                    "0": "Heavy and civil engineering construction",
                                    "1": "44"
                                },
                                {
                                    "0": "Highway",
                                    "1": "44"
                                },
                                {
                                    "0": "Industrial machinery",
                                    "1": "44"
                                },
                                {
                                    "0": "HVAC and commercial refrigeration equipment",
                                    "1": "43"
                                },
                                {
                                    "0": "Forging and stamping",
                                    "1": "43"
                                },
                                {
                                    "0": "Fruit and vegetable preserving and specialty",
                                    "1": "43"
                                },
                                {
                                    "0": "General freight trucking",
                                    "1": "43"
                                },
                                {
                                    "0": "Metalworking machinery",
                                    "1": "43"
                                },
                                {
                                    "0": "Industrial building",
                                    "1": "43"
                                },
                                {
                                    "0": "Machinery",
                                    "1": "43"
                                },
                                {
                                    "0": "Electric power generation",
                                    "1": "43"
                                },
                                {
                                    "0": "Electrical equipment",
                                    "1": "43"
                                },
                                {
                                    "0": "Electrical equipment and appliances",
                                    "1": "43"
                                },
                                {
                                    "0": "Construction equipment",
                                    "1": "43"
                                },
                                {
                                    "0": "Aircraft",
                                    "1": "43"
                                },
                                {
                                    "0": "Other building equipment contractors",
                                    "1": "43"
                                },
                                {
                                    "0": "Other general purpose machinery",
                                    "1": "43"
                                },
                                {
                                    "0": "Other electrical equipment and components",
                                    "1": "43"
                                },
                                {
                                    "0": "Other fabricated metal products",
                                    "1": "43"
                                },
                                {
                                    "0": "Paper and paper products",
                                    "1": "43"
                                },
                                {
                                    "0": "Paperboard containers",
                                    "1": "43"
                                },
                                {
                                    "0": "Primary metals",
                                    "1": "43"
                                },
                                {
                                    "0": "Poultry processing",
                                    "1": "43"
                                },
                                {
                                    "0": "Plastics and rubber products",
                                    "1": "43"
                                },
                                {
                                    "0": "Petroleum",
                                    "1": "43"
                                },
                                {
                                    "0": "Sawmills and wood preservation",
                                    "1": "43"
                                },
                                {
                                    "0": "Turned products and screws",
                                    "1": "43"
                                },
                                {
                                    "0": "Utilities",
                                    "1": "43"
                                },
                                {
                                    "0": "Warehousing and storage",
                                    "1": "42"
                                },
                                {
                                    "0": "Water",
                                    "1": "42"
                                },
                                {
                                    "0": "Water and sewer system construction",
                                    "1": "42"
                                },
                                {
                                    "0": "Wood containers and pallets",
                                    "1": "42"
                                },
                                {
                                    "0": "Wood kitchen cabinets and countertops",
                                    "1": "42"
                                },
                                {
                                    "0": "Wood products",
                                    "1": "42"
                                },
                                {
                                    "0": "Truck transportation",
                                    "1": "42"
                                },
                                {
                                    "0": "Resin",
                                    "1": "42"
                                },
                                {
                                    "0": "Semiconductors and related devices",
                                    "1": "42"
                                },
                                {
                                    "0": "Sheet metal work",
                                    "1": "42"
                                },
                                {
                                    "0": "Plastics packaging materials",
                                    "1": "42"
                                },
                                {
                                    "0": "Plastics products",
                                    "1": "42"
                                },
                                {
                                    "0": "Plate work and fabricated structural products",
                                    "1": "42"
                                },
                                {
                                    "0": "Plywood and engineered wood products",
                                    "1": "42"
                                },
                                {
                                    "0": "Ready-mix concrete",
                                    "1": "42"
                                },
                                {
                                    "0": "Other wood products",
                                    "1": "42"
                                },
                                {
                                    "0": "Packaging and labeling services",
                                    "1": "42"
                                },
                                {
                                    "0": "Other plastics products",
                                    "1": "42"
                                },
                                {
                                    "0": "Ornamental and architectural metal products",
                                    "1": "42"
                                },
                                {
                                    "0": "Agricultural",
                                    "1": "42"
                                },
                                {
                                    "0": "All other wood products",
                                    "1": "42"
                                },
                                {
                                    "0": "All other fabricated metal products",
                                    "1": "42"
                                },
                                {
                                    "0": "Architectural and structural metals",
                                    "1": "42"
                                },
                                {
                                    "0": "Chemicals",
                                    "1": "42"
                                },
                                {
                                    "0": "Converted paper products",
                                    "1": "42"
                                },
                                {
                                    "0": "Durable goods",
                                    "1": "42"
                                },
                                {
                                    "0": "Electronic instruments",
                                    "1": "42"
                                },
                                {
                                    "0": "Fabricated metal products",
                                    "1": "42"
                                },
                                {
                                    "0": "Fabricated structural metal products",
                                    "1": "42"
                                },
                                {
                                    "0": "Lumber and wood",
                                    "1": "42"
                                },
                                {
                                    "0": "Machine shops",
                                    "1": "42"
                                },
                                {
                                    "0": "Machine shops and threaded products",
                                    "1": "42"
                                },
                                {
                                    "0": "Manufacturing",
                                    "1": "42"
                                },
                                {
                                    "0": "Logging",
                                    "1": "42"
                                },
                                {
                                    "0": "Millwork",
                                    "1": "42"
                                },
                                {
                                    "0": "Medical equipment and supplies",
                                    "1": "42"
                                },
                                {
                                    "0": "Natural gas distribution",
                                    "1": "42"
                                },
                                {
                                    "0": "Nonmetallic mineral products",
                                    "1": "42"
                                },
                                {
                                    "0": "General warehousing and storage",
                                    "1": "42"
                                },
                                {
                                    "0": "Fruits and vegetables",
                                    "1": "42"
                                },
                                {
                                    "0": "Fruit and vegetable canning and drying",
                                    "1": "42"
                                },
                                {
                                    "0": "Food manufacturing",
                                    "1": "42"
                                },
                                {
                                    "0": "Heavy machinery rental and leasing",
                                    "1": "42"
                                },
                                {
                                    "0": "Foundries",
                                    "1": "41"
                                },
                                {
                                    "0": "Goods-producing",
                                    "1": "41"
                                },
                                {
                                    "0": "Furniture and related products",
                                    "1": "41"
                                },
                                {
                                    "0": "Motor vehicle bodies and trailers",
                                    "1": "41"
                                },
                                {
                                    "0": "Lumber and construction supplies",
                                    "1": "41"
                                },
                                {
                                    "0": "Electrical equipment and wiring",
                                    "1": "41"
                                },
                                {
                                    "0": "Dairy products",
                                    "1": "41"
                                },
                                {
                                    "0": "Direct insurers",
                                    "1": "41"
                                },
                                {
                                    "0": "Computer and electronic products",
                                    "1": "41"
                                },
                                {
                                    "0": "Computer and software",
                                    "1": "41"
                                },
                                {
                                    "0": "Business to business electronic markets",
                                    "1": "41"
                                },
                                {
                                    "0": "Coating",
                                    "1": "41"
                                },
                                {
                                    "0": "Commercial and service industry machinery",
                                    "1": "41"
                                },
                                {
                                    "0": "Nondurable goods",
                                    "1": "41"
                                },
                                {
                                    "0": "Paper bags and coated and treated paper",
                                    "1": "41"
                                },
                                {
                                    "0": "Recyclable materials",
                                    "1": "41"
                                },
                                {
                                    "0": "Semiconductors and electronic components",
                                    "1": "41"
                                },
                                {
                                    "0": "Textile mills",
                                    "1": "41"
                                },
                                {
                                    "0": "Wood windows and doors",
                                    "1": "41"
                                },
                                {
                                    "0": "Wired telecommunications carriers",
                                    "1": "41"
                                },
                                {
                                    "0": "Waste management and remediation services",
                                    "1": "41"
                                },
                                {
                                    "0": "Specialized freight trucking",
                                    "1": "41"
                                },
                                {
                                    "0": "Tile and terrazzo contractors",
                                    "1": "41"
                                },
                                {
                                    "0": "Steel and precast concrete contractors",
                                    "1": "40"
                                },
                                {
                                    "0": "Telecommunications",
                                    "1": "40"
                                },
                                {
                                    "0": "Soaps",
                                    "1": "40"
                                },
                                {
                                    "0": "Waste collection",
                                    "1": "40"
                                },
                                {
                                    "0": "Upholstered household furniture",
                                    "1": "40"
                                },
                                {
                                    "0": "Site preparation contractors",
                                    "1": "40"
                                },
                                {
                                    "0": "Remediation and other waste services",
                                    "1": "40"
                                },
                                {
                                    "0": "Real estate credit",
                                    "1": "40"
                                },
                                {
                                    "0": "Poured concrete structure contractors",
                                    "1": "40"
                                },
                                {
                                    "0": "Pharmaceuticals and medicines",
                                    "1": "40"
                                },
                                {
                                    "0": "Other specialty trade contractors",
                                    "1": "40"
                                },
                                {
                                    "0": "Office equipment",
                                    "1": "40"
                                },
                                {
                                    "0": "Architectural services",
                                    "1": "40"
                                },
                                {
                                    "0": "Commercial equipment",
                                    "1": "40"
                                },
                                {
                                    "0": "Commercial machinery repair and maintenance",
                                    "1": "40"
                                },
                                {
                                    "0": "Communications equipment",
                                    "1": "40"
                                },
                                {
                                    "0": "Direct life and health insurance carriers",
                                    "1": "40"
                                },
                                {
                                    "0": "Electric goods",
                                    "1": "40"
                                },
                                {
                                    "0": "Electrical contractors",
                                    "1": "40"
                                },
                                {
                                    "0": "Electroplating",
                                    "1": "40"
                                },
                                {
                                    "0": "Facilities support services",
                                    "1": "40"
                                },
                                {
                                    "0": "Farm machinery and equipment",
                                    "1": "40"
                                },
                                {
                                    "0": "Machinery and supplies",
                                    "1": "40"
                                },
                                {
                                    "0": "Miscellaneous durable goods manufacturing",
                                    "1": "40"
                                },
                                {
                                    "0": "Medical equipment",
                                    "1": "40"
                                },
                                {
                                    "0": "Metals and minerals",
                                    "1": "40"
                                },
                                {
                                    "0": "Nonresidential building",
                                    "1": "40"
                                },
                                {
                                    "0": "General line grocery",
                                    "1": "40"
                                },
                                {
                                    "0": "Glass and glazing contractors",
                                    "1": "40"
                                },
                                {
                                    "0": "Freight transportation arrangement",
                                    "1": "40"
                                },
                                {
                                    "0": "Grocery and related products",
                                    "1": "40"
                                },
                                {
                                    "0": "Hardware",
                                    "1": "40"
                                },
                                {
                                    "0": "Hardware and plumbing",
                                    "1": "40"
                                },
                                {
                                    "0": "Household and institutional furniture",
                                    "1": "40"
                                },
                                {
                                    "0": "Insurance carriers",
                                    "1": "40"
                                },
                                {
                                    "0": "Insurance carriers and related activities",
                                    "1": "39"
                                },
                                {
                                    "0": "Industrial supplies",
                                    "1": "39"
                                },
                                {
                                    "0": "Home health equipment rental",
                                    "1": "39"
                                },
                                {
                                    "0": "New motor vehicle parts",
                                    "1": "39"
                                },
                                {
                                    "0": "Motor vehicles and parts",
                                    "1": "39"
                                },
                                {
                                    "0": "Miscellaneous durable goods",
                                    "1": "39"
                                },
                                {
                                    "0": "Machinery and equipment rental and leasing",
                                    "1": "39"
                                },
                                {
                                    "0": "Management of companies and enterprises",
                                    "1": "39"
                                },
                                {
                                    "0": "Managing offices",
                                    "1": "39"
                                },
                                {
                                    "0": "Farm supplies",
                                    "1": "39"
                                },
                                {
                                    "0": "Financial transaction processing and clearing",
                                    "1": "39"
                                },
                                {
                                    "0": "Farm and garden equipment",
                                    "1": "39"
                                },
                                {
                                    "0": "Credit intermediation and related activities",
                                    "1": "39"
                                },
                                {
                                    "0": "Data processing",
                                    "1": "39"
                                },
                                {
                                    "0": "Custom computer programming services",
                                    "1": "39"
                                },
                                {
                                    "0": "Computer systems design and related services",
                                    "1": "39"
                                },
                                {
                                    "0": "Computer systems design services",
                                    "1": "39"
                                },
                                {
                                    "0": "Construction",
                                    "1": "39"
                                },
                                {
                                    "0": "Commercial building",
                                    "1": "39"
                                },
                                {
                                    "0": "Construction of buildings",
                                    "1": "39"
                                },
                                {
                                    "0": "Architectural and engineering services",
                                    "1": "39"
                                },
                                {
                                    "0": "All other specialty trade contractors",
                                    "1": "39"
                                },
                                {
                                    "0": "Automotive body",
                                    "1": "39"
                                },
                                {
                                    "0": "Building equipment contractors",
                                    "1": "39"
                                },
                                {
                                    "0": "Nondepository credit intermediation",
                                    "1": "39"
                                },
                                {
                                    "0": "Other household and institutional furniture",
                                    "1": "39"
                                },
                                {
                                    "0": "Other miscellaneous durable goods manufacturing",
                                    "1": "39"
                                },
                                {
                                    "0": "Portfolio management",
                                    "1": "39"
                                },
                                {
                                    "0": "Printing and related support activities",
                                    "1": "39"
                                },
                                {
                                    "0": "Physical",
                                    "1": "39"
                                },
                                {
                                    "0": "Plumbing equipment",
                                    "1": "39"
                                },
                                {
                                    "0": "Securities brokerage",
                                    "1": "39"
                                },
                                {
                                    "0": "Research and development in the physical",
                                    "1": "39"
                                },
                                {
                                    "0": "Transportation and warehousing",
                                    "1": "39"
                                },
                                {
                                    "0": "Third-party administration of insurance funds",
                                    "1": "39"
                                },
                                {
                                    "0": "Wholesale trade",
                                    "1": "39"
                                },
                                {
                                    "0": "Software publishers",
                                    "1": "39"
                                },
                                {
                                    "0": "Specialty trade contractors",
                                    "1": "39"
                                },
                                {
                                    "0": "Support activities for road transportation",
                                    "1": "39"
                                },
                                {
                                    "0": "Testing laboratories",
                                    "1": "39"
                                },
                                {
                                    "0": "Tire dealers",
                                    "1": "38"
                                },
                                {
                                    "0": "Wholesale trade agents and brokers",
                                    "1": "38"
                                },
                                {
                                    "0": "Textile product mills",
                                    "1": "38"
                                },
                                {
                                    "0": "Signs",
                                    "1": "38"
                                },
                                {
                                    "0": "Plumbing and HVAC contractors",
                                    "1": "38"
                                },
                                {
                                    "0": "Reinsurance carriers",
                                    "1": "38"
                                },
                                {
                                    "0": "Process and logistics consulting services",
                                    "1": "38"
                                },
                                {
                                    "0": "Other insurance-related activities",
                                    "1": "38"
                                },
                                {
                                    "0": "Other legal services",
                                    "1": "38"
                                },
                                {
                                    "0": "Painting and wall covering contractors",
                                    "1": "38"
                                },
                                {
                                    "0": "Other building exterior contractors",
                                    "1": "38"
                                },
                                {
                                    "0": "Other financial investment activities",
                                    "1": "38"
                                },
                                {
                                    "0": "Building finishing contractors",
                                    "1": "38"
                                },
                                {
                                    "0": "Automotive mechanical and electrical repair",
                                    "1": "38"
                                },
                                {
                                    "0": "Bakeries and tortilla manufacturing",
                                    "1": "38"
                                },
                                {
                                    "0": "Biotechnology research",
                                    "1": "38"
                                },
                                {
                                    "0": "Commercial banking",
                                    "1": "38"
                                },
                                {
                                    "0": "Ambulance services",
                                    "1": "38"
                                },
                                {
                                    "0": "Automobile dealers",
                                    "1": "38"
                                },
                                {
                                    "0": "Apparel and piece goods",
                                    "1": "38"
                                },
                                {
                                    "0": "Advertising agencies",
                                    "1": "38"
                                },
                                {
                                    "0": "Activities related to credit intermediation",
                                    "1": "38"
                                },
                                {
                                    "0": "Consumer lending",
                                    "1": "38"
                                },
                                {
                                    "0": "Depository credit intermediation",
                                    "1": "38"
                                },
                                {
                                    "0": "Financial activities",
                                    "1": "38"
                                },
                                {
                                    "0": "Electronic markets and agents and brokers",
                                    "1": "38"
                                },
                                {
                                    "0": "Electronic equipment repair and maintenance",
                                    "1": "38"
                                },
                                {
                                    "0": "Masonry materials",
                                    "1": "38"
                                },
                                {
                                    "0": "Medical and diagnostic laboratories",
                                    "1": "38"
                                },
                                {
                                    "0": "Linen and uniform supply",
                                    "1": "38"
                                },
                                {
                                    "0": "Land subdivision",
                                    "1": "38"
                                },
                                {
                                    "0": "Misc. nondurable goods",
                                    "1": "38"
                                },
                                {
                                    "0": "Medical laboratories",
                                    "1": "38"
                                },
                                {
                                    "0": "New car dealers",
                                    "1": "38"
                                },
                                {
                                    "0": "Graphic design services",
                                    "1": "38"
                                },
                                {
                                    "0": "Flooring contractors",
                                    "1": "38"
                                },
                                {
                                    "0": "Furniture and furnishings",
                                    "1": "38"
                                },
                                {
                                    "0": "General automotive repair",
                                    "1": "37"
                                },
                                {
                                    "0": "General rental centers",
                                    "1": "37"
                                },
                                {
                                    "0": "Insurance agencies",
                                    "1": "37"
                                },
                                {
                                    "0": "Insurance agencies and brokerages",
                                    "1": "37"
                                },
                                {
                                    "0": "Investment advice",
                                    "1": "37"
                                },
                                {
                                    "0": "New single-family general contractors",
                                    "1": "37"
                                },
                                {
                                    "0": "Nonresidential property managers",
                                    "1": "37"
                                },
                                {
                                    "0": "Nonstore retailers",
                                    "1": "37"
                                },
                                {
                                    "0": "Nursery stock and florists' supplies",
                                    "1": "37"
                                },
                                {
                                    "0": "Motor vehicle and parts dealers",
                                    "1": "37"
                                },
                                {
                                    "0": "Landscape architectural services",
                                    "1": "37"
                                },
                                {
                                    "0": "Landscaping services",
                                    "1": "37"
                                },
                                {
                                    "0": "Legal services",
                                    "1": "37"
                                },
                                {
                                    "0": "Management and technical consulting services",
                                    "1": "37"
                                },
                                {
                                    "0": "Management consulting services",
                                    "1": "37"
                                },
                                {
                                    "0": "Drywall and insulation contractors",
                                    "1": "37"
                                },
                                {
                                    "0": "Farm product raw materials",
                                    "1": "37"
                                },
                                {
                                    "0": "Electronics stores",
                                    "1": "37"
                                },
                                {
                                    "0": "Druggists' goods",
                                    "1": "37"
                                },
                                {
                                    "0": "Computer and office machine repair",
                                    "1": "37"
                                },
                                {
                                    "0": "Administrative management consulting services",
                                    "1": "37"
                                },
                                {
                                    "0": "Advertising and related services",
                                    "1": "37"
                                },
                                {
                                    "0": "Alcoholic beverages",
                                    "1": "37"
                                },
                                {
                                    "0": "Auto parts",
                                    "1": "37"
                                },
                                {
                                    "0": "Building foundation and exterior contractors",
                                    "1": "37"
                                },
                                {
                                    "0": "Other ambulatory health care services",
                                    "1": "37"
                                },
                                {
                                    "0": "Office administrative services",
                                    "1": "37"
                                },
                                {
                                    "0": "Professional and technical services",
                                    "1": "37"
                                },
                                {
                                    "0": "Scientific research and development services",
                                    "1": "37"
                                },
                                {
                                    "0": "Security systems services",
                                    "1": "37"
                                },
                                {
                                    "0": "Residential building",
                                    "1": "37"
                                },
                                {
                                    "0": "Publishing industries",
                                    "1": "37"
                                },
                                {
                                    "0": "Repair and maintenance",
                                    "1": "37"
                                },
                                {
                                    "0": "Savings institutions",
                                    "1": "37"
                                },
                                {
                                    "0": "Residential remodelers",
                                    "1": "37"
                                },
                                {
                                    "0": "Telecommunications resellers",
                                    "1": "37"
                                },
                                {
                                    "0": "Sugar and confectionery products",
                                    "1": "37"
                                },
                                {
                                    "0": "Sporting goods",
                                    "1": "37"
                                },
                                {
                                    "0": "Specialized design services",
                                    "1": "37"
                                },
                                {
                                    "0": "Support activities for transportation",
                                    "1": "36"
                                },
                                {
                                    "0": "Title abstract and settlement offices",
                                    "1": "36"
                                },
                                {
                                    "0": "Travel agencies",
                                    "1": "36"
                                },
                                {
                                    "0": "Roofing contractors",
                                    "1": "36"
                                },
                                {
                                    "0": "Residential mental health and substance abuse facilites",
                                    "1": "36"
                                },
                                {
                                    "0": "Seafood product preparation and packaging",
                                    "1": "36"
                                },
                                {
                                    "0": "Siding contractors",
                                    "1": "36"
                                },
                                {
                                    "0": "Professional organizations",
                                    "1": "36"
                                },
                                {
                                    "0": "Public relations agencies",
                                    "1": "36"
                                },
                                {
                                    "0": "Offices of lawyers",
                                    "1": "36"
                                },
                                {
                                    "0": "Offices of certified public accountants",
                                    "1": "36"
                                },
                                {
                                    "0": "Other building finishing contractors",
                                    "1": "36"
                                },
                                {
                                    "0": "Periodical publishers",
                                    "1": "36"
                                },
                                {
                                    "0": "Business associations",
                                    "1": "36"
                                },
                                {
                                    "0": "Automotive parts and accessories stores",
                                    "1": "36"
                                },
                                {
                                    "0": "Automotive repair and maintenance",
                                    "1": "36"
                                },
                                {
                                    "0": "Collection agencies",
                                    "1": "36"
                                },
                                {
                                    "0": "Apparel",
                                    "1": "36"
                                },
                                {
                                    "0": "All other ambulatory health care services",
                                    "1": "36"
                                },
                                {
                                    "0": "Activities related to real estate",
                                    "1": "36"
                                },
                                {
                                    "0": "Diagnostic imaging centers",
                                    "1": "36"
                                },
                                {
                                    "0": "Dental laboratories",
                                    "1": "36"
                                },
                                {
                                    "0": "Couriers and messengers",
                                    "1": "36"
                                },
                                {
                                    "0": "Exterminating and pest control services",
                                    "1": "36"
                                },
                                {
                                    "0": "Floor covering stores",
                                    "1": "36"
                                },
                                {
                                    "0": "Finish carpentry contractors",
                                    "1": "36"
                                },
                                {
                                    "0": "Electronics and appliance stores",
                                    "1": "36"
                                },
                                {
                                    "0": "Marketing consulting services",
                                    "1": "36"
                                },
                                {
                                    "0": "Masonry contractors",
                                    "1": "36"
                                },
                                {
                                    "0": "Newspaper",
                                    "1": "36"
                                },
                                {
                                    "0": "Information",
                                    "1": "36"
                                },
                                {
                                    "0": "Hospitals",
                                    "1": "36"
                                },
                                {
                                    "0": "General medical and surgical hospitals",
                                    "1": "36"
                                },
                                {
                                    "0": "Furniture stores",
                                    "1": "35"
                                },
                                {
                                    "0": "Mail-order houses",
                                    "1": "35"
                                },
                                {
                                    "0": "Electronic shopping and mail-order houses",
                                    "1": "35"
                                },
                                {
                                    "0": "Broadcasting",
                                    "1": "35"
                                },
                                {
                                    "0": "Business service centers",
                                    "1": "35"
                                },
                                {
                                    "0": "Payroll services",
                                    "1": "35"
                                },
                                {
                                    "0": "Other information services",
                                    "1": "35"
                                },
                                {
                                    "0": "Other motor vehicle dealers",
                                    "1": "35"
                                },
                                {
                                    "0": "Professional and business services",
                                    "1": "35"
                                },
                                {
                                    "0": "Rental and leasing services",
                                    "1": "35"
                                },
                                {
                                    "0": "Real estate property managers",
                                    "1": "35"
                                },
                                {
                                    "0": "Residential mental health facilities",
                                    "1": "35"
                                },
                                {
                                    "0": "Residential property managers",
                                    "1": "35"
                                },
                                {
                                    "0": "Residential intellectual and developmental disability facilities",
                                    "1": "35"
                                },
                                {
                                    "0": "Transit and ground passenger transportation",
                                    "1": "35"
                                },
                                {
                                    "0": "Used car dealers",
                                    "1": "35"
                                },
                                {
                                    "0": "Travel arrangement and reservation services",
                                    "1": "34"
                                },
                                {
                                    "0": "Total private",
                                    "1": "34"
                                },
                                {
                                    "0": "Trade",
                                    "1": "34"
                                },
                                {
                                    "0": "Temporary help services",
                                    "1": "34"
                                },
                                {
                                    "0": "Support activities for air transportation",
                                    "1": "34"
                                },
                                {
                                    "0": "Security and armored car services",
                                    "1": "34"
                                },
                                {
                                    "0": "Real estate",
                                    "1": "34"
                                },
                                {
                                    "0": "Professional employer organizations",
                                    "1": "34"
                                },
                                {
                                    "0": "Other support services",
                                    "1": "34"
                                },
                                {
                                    "0": "Other residential care facilities",
                                    "1": "34"
                                },
                                {
                                    "0": "Other ground passenger transportation",
                                    "1": "34"
                                },
                                {
                                    "0": "Offices of physicians",
                                    "1": "34"
                                },
                                {
                                    "0": "Offices of real estate agents and brokers",
                                    "1": "34"
                                },
                                {
                                    "0": "Business support services",
                                    "1": "34"
                                },
                                {
                                    "0": "Administrative and support services",
                                    "1": "34"
                                },
                                {
                                    "0": "Administrative and waste services",
                                    "1": "34"
                                },
                                {
                                    "0": "Accounting and bookkeeping services",
                                    "1": "34"
                                },
                                {
                                    "0": "Employment placement agencies and executive search services",
                                    "1": "34"
                                },
                                {
                                    "0": "Employment services",
                                    "1": "34"
                                },
                                {
                                    "0": "Lawn and garden equipment and supplies stores",
                                    "1": "34"
                                },
                                {
                                    "0": "Lessors of residential buildings",
                                    "1": "34"
                                },
                                {
                                    "0": "Gambling industries",
                                    "1": "34"
                                },
                                {
                                    "0": "Household appliance stores",
                                    "1": "34"
                                },
                                {
                                    "0": "Investigation and security services",
                                    "1": "34"
                                },
                                {
                                    "0": "Household goods repair and maintenance",
                                    "1": "33"
                                },
                                {
                                    "0": "Health care and social assistance",
                                    "1": "33"
                                },
                                {
                                    "0": "Grantmaking and giving services",
                                    "1": "33"
                                },
                                {
                                    "0": "Grantmaking foundations",
                                    "1": "33"
                                },
                                {
                                    "0": "Framing contractors",
                                    "1": "33"
                                },
                                {
                                    "0": "Lessors of real estate",
                                    "1": "33"
                                },
                                {
                                    "0": "Marinas",
                                    "1": "33"
                                },
                                {
                                    "0": "Newspaper publishers",
                                    "1": "33"
                                },
                                {
                                    "0": "Nursing and residential care facilities",
                                    "1": "33"
                                },
                                {
                                    "0": "Nursing care facilities",
                                    "1": "33"
                                },
                                {
                                    "0": "Emergency and other relief services",
                                    "1": "33"
                                },
                                {
                                    "0": "Drycleaning and laundry services",
                                    "1": "33"
                                },
                                {
                                    "0": "Air transportation",
                                    "1": "33"
                                },
                                {
                                    "0": "Optical goods stores",
                                    "1": "33"
                                },
                                {
                                    "0": "Other services to buildings and dwellings",
                                    "1": "33"
                                },
                                {
                                    "0": "Outpatient care centers",
                                    "1": "33"
                                },
                                {
                                    "0": "Outpatient mental health centers",
                                    "1": "33"
                                },
                                {
                                    "0": "Professional and similar organizations",
                                    "1": "33"
                                },
                                {
                                    "0": "Telephone call centers",
                                    "1": "33"
                                },
                                {
                                    "0": "Social advocacy organizations",
                                    "1": "33"
                                },
                                {
                                    "0": "Photographic services",
                                    "1": "32"
                                },
                                {
                                    "0": "Private service-providing",
                                    "1": "32"
                                },
                                {
                                    "0": "Other gasoline stations",
                                    "1": "32"
                                },
                                {
                                    "0": "Airport operations",
                                    "1": "32"
                                },
                                {
                                    "0": "All other support services",
                                    "1": "32"
                                },
                                {
                                    "0": "Ambulatory health care services",
                                    "1": "32"
                                },
                                {
                                    "0": "Carpet and upholstery cleaning services",
                                    "1": "32"
                                },
                                {
                                    "0": "Convention and trade show organizers",
                                    "1": "32"
                                },
                                {
                                    "0": "Continuing care retirement communities",
                                    "1": "32"
                                },
                                {
                                    "0": "Community care facilities for the elderly",
                                    "1": "32"
                                },
                                {
                                    "0": "Education and health services",
                                    "1": "32"
                                },
                                {
                                    "0": "Human rights organizations",
                                    "1": "32"
                                },
                                {
                                    "0": "Furniture and home furnishings stores",
                                    "1": "31"
                                },
                                {
                                    "0": "Labor unions and similar labor organizations",
                                    "1": "31"
                                },
                                {
                                    "0": "Lessors of nonresidential buildings",
                                    "1": "31"
                                },
                                {
                                    "0": "Building material and garden supply stores",
                                    "1": "31"
                                },
                                {
                                    "0": "Building material and supplies dealers",
                                    "1": "31"
                                },
                                {
                                    "0": "Assisted living facilities for the elderly",
                                    "1": "31"
                                },
                                {
                                    "0": "Other automotive repair and maintenance",
                                    "1": "31"
                                },
                                {
                                    "0": "Other individual and family services",
                                    "1": "31"
                                },
                                {
                                    "0": "Other services",
                                    "1": "31"
                                },
                                {
                                    "0": "Other professional and technical services",
                                    "1": "31"
                                },
                                {
                                    "0": "Radio broadcasting",
                                    "1": "31"
                                },
                                {
                                    "0": "Services to buildings and dwellings",
                                    "1": "31"
                                },
                                {
                                    "0": "School and employee bus transportation",
                                    "1": "31"
                                },
                                {
                                    "0": "Support activities for water transportation",
                                    "1": "31"
                                },
                                {
                                    "0": "Used household and office goods moving",
                                    "1": "31"
                                },
                                {
                                    "0": "Traveler accommodation",
                                    "1": "30"
                                },
                                {
                                    "0": "Vocational rehabilitation services",
                                    "1": "30"
                                },
                                {
                                    "0": "Retail trade",
                                    "1": "30"
                                },
                                {
                                    "0": "Other miscellaneous store retailers",
                                    "1": "30"
                                },
                                {
                                    "0": "Pharmacies and drug stores",
                                    "1": "30"
                                },
                                {
                                    "0": "Pet and pet supplies stores",
                                    "1": "30"
                                },
                                {
                                    "0": "Other health and personal care stores",
                                    "1": "30"
                                },
                                {
                                    "0": "Offices of mental health physicians",
                                    "1": "30"
                                },
                                {
                                    "0": "Office supplies and stationery stores",
                                    "1": "30"
                                },
                                {
                                    "0": "Accommodation",
                                    "1": "30"
                                },
                                {
                                    "0": "Child and youth services",
                                    "1": "30"
                                },
                                {
                                    "0": "Child day care services",
                                    "1": "30"
                                },
                                {
                                    "0": "Convenience stores",
                                    "1": "30"
                                },
                                {
                                    "0": "Cosmetic and beauty supply stores",
                                    "1": "30"
                                },
                                {
                                    "0": "Jewelry",
                                    "1": "30"
                                },
                                {
                                    "0": "Membership associations and organizations",
                                    "1": "30"
                                },
                                {
                                    "0": "Gasoline stations",
                                    "1": "30"
                                },
                                {
                                    "0": "Gasoline stations with convenience stores",
                                    "1": "30"
                                },
                                {
                                    "0": "Hotels and motels",
                                    "1": "30"
                                },
                                {
                                    "0": "Hardware stores",
                                    "1": "30"
                                },
                                {
                                    "0": "Health and personal care stores",
                                    "1": "30"
                                },
                                {
                                    "0": "Home health care services",
                                    "1": "29"
                                },
                                {
                                    "0": "Home centers",
                                    "1": "29"
                                },
                                {
                                    "0": "General merchandise stores",
                                    "1": "29"
                                },
                                {
                                    "0": "Death care services",
                                    "1": "29"
                                },
                                {
                                    "0": "Offices of optometrists",
                                    "1": "29"
                                },
                                {
                                    "0": "Parking lots and garages",
                                    "1": "29"
                                },
                                {
                                    "0": "Used merchandise stores",
                                    "1": "29"
                                },
                                {
                                    "0": "Veterinary services",
                                    "1": "29"
                                },
                                {
                                    "0": "Social assistance",
                                    "1": "29"
                                },
                                {
                                    "0": "Spectator sports",
                                    "1": "29"
                                },
                                {
                                    "0": "Specialty food stores",
                                    "1": "28"
                                },
                                {
                                    "0": "Supermarkets and other grocery stores",
                                    "1": "28"
                                },
                                {
                                    "0": "Offices of other health practitioners",
                                    "1": "28"
                                },
                                {
                                    "0": "Offices of specialty therapists",
                                    "1": "28"
                                },
                                {
                                    "0": "Offices of dentists",
                                    "1": "28"
                                },
                                {
                                    "0": "Offices of all other health practitioners",
                                    "1": "28"
                                },
                                {
                                    "0": "Car washes",
                                    "1": "28"
                                },
                                {
                                    "0": "Food and beverage stores",
                                    "1": "28"
                                },
                                {
                                    "0": "Freestanding emergency medical centers",
                                    "1": "28"
                                },
                                {
                                    "0": "Food service contractors",
                                    "1": "28"
                                },
                                {
                                    "0": "Home furnishings stores",
                                    "1": "28"
                                },
                                {
                                    "0": "Grocery stores",
                                    "1": "28"
                                },
                                {
                                    "0": "Independent artists",
                                    "1": "28"
                                },
                                {
                                    "0": "Individual and family services",
                                    "1": "28"
                                },
                                {
                                    "0": "Miscellaneous store retailers",
                                    "1": "28"
                                },
                                {
                                    "0": "Marketing research and public opinion polling",
                                    "1": "28"
                                },
                                {
                                    "0": "Motion picture and sound recording industries",
                                    "1": "27"
                                },
                                {
                                    "0": "Janitorial services",
                                    "1": "27"
                                },
                                {
                                    "0": "Florists",
                                    "1": "27"
                                },
                                {
                                    "0": "Cafeterias",
                                    "1": "27"
                                },
                                {
                                    "0": "Beer",
                                    "1": "27"
                                },
                                {
                                    "0": "Offices of mental health practitioners",
                                    "1": "27"
                                },
                                {
                                    "0": "Personal and laundry services",
                                    "1": "27"
                                },
                                {
                                    "0": "Other personal services",
                                    "1": "27"
                                },
                                {
                                    "0": "RV parks and recreational camps",
                                    "1": "27"
                                },
                                {
                                    "0": "Services for the elderly and persons with disabilities",
                                    "1": "27"
                                },
                                {
                                    "0": "Social science and humanities research",
                                    "1": "27"
                                },
                                {
                                    "0": "Special food services",
                                    "1": "26"
                                },
                                {
                                    "0": "Sporting goods and musical instrument stores",
                                    "1": "26"
                                },
                                {
                                    "0": "Sporting goods stores",
                                    "1": "26"
                                },
                                {
                                    "0": "Performing arts and spectator sports",
                                    "1": "26"
                                },
                                {
                                    "0": "Pet care services",
                                    "1": "26"
                                },
                                {
                                    "0": "Offices of chiropractors",
                                    "1": "26"
                                },
                                {
                                    "0": "Office supplies",
                                    "1": "26"
                                },
                                {
                                    "0": "Coin-operated laundries and drycleaners",
                                    "1": "26"
                                },
                                {
                                    "0": "Hair",
                                    "1": "26"
                                },
                                {
                                    "0": "Hobby",
                                    "1": "26"
                                },
                                {
                                    "0": "Full-service restaurants",
                                    "1": "25"
                                },
                                {
                                    "0": "Golf courses and country clubs",
                                    "1": "25"
                                },
                                {
                                    "0": "Museums",
                                    "1": "25"
                                },
                                {
                                    "0": "Leisure and hospitality",
                                    "1": "25"
                                },
                                {
                                    "0": "Limited-service restaurants",
                                    "1": "25"
                                },
                                {
                                    "0": "Accommodation and food services",
                                    "1": "25"
                                },
                                {
                                    "0": "Performing arts companies",
                                    "1": "25"
                                },
                                {
                                    "0": "Personal care services",
                                    "1": "25"
                                },
                                {
                                    "0": "Other home furnishings stores",
                                    "1": "24"
                                },
                                {
                                    "0": "Shoe stores",
                                    "1": "24"
                                },
                                {
                                    "0": "Restaurants and other eating places",
                                    "1": "24"
                                },
                                {
                                    "0": "Book stores and news dealers",
                                    "1": "24"
                                },
                                {
                                    "0": "Gift",
                                    "1": "24"
                                },
                                {
                                    "0": "Food services and drinking places",
                                    "1": "24"
                                },
                                {
                                    "0": "Arts",
                                    "1": "23"
                                },
                                {
                                    "0": "Snack and nonalcoholic beverage bars",
                                    "1": "23"
                                },
                                {
                                    "0": "Other personal care services",
                                    "1": "23"
                                },
                                {
                                    "0": "Amusements",
                                    "1": "22"
                                },
                                {
                                    "0": "Clothing accessories stores",
                                    "1": "22"
                                },
                                {
                                    "0": "Clothing and clothing accessories stores",
                                    "1": "22"
                                },
                                {
                                    "0": "Drinking places",
                                    "1": "21"
                                },
                                {
                                    "0": "Family clothing stores",
                                    "1": "20"
                                },
                                {
                                    "0": "Clothing stores",
                                    "1": "20"
                                },
                                {
                                    "0": "Bowling centers",
                                    "1": "20"
                                },
                                {
                                    "0": "Skiing facilities",
                                    "1": "20"
                                },
                                {
                                    "0": "Women's clothing stores",
                                    "1": "20"
                                },
                                {
                                    "0": "Civic and social organizations",
                                    "1": "19"
                                },
                                {
                                    "0": "Fitness and recreational sports centers",
                                    "1": "17"
                                }
                            ]
                        },
                        "text/html": "<table><tr><th>industry_name</th><th>HIGHESTHOURS</th></tr><tr><td>Motor vehicle power train components</td><td>50</td></tr><tr><td>Motor vehicle metal stamping</td><td>47</td></tr><tr><td>NULL</td><td>47</td></tr><tr><td>Coal mining</td><td>47</td></tr><tr><td>Crushed and broken limestone mining</td><td>47</td></tr><tr><td>Oil and gas pipeline construction</td><td>47</td></tr><tr><td>Stone mining and quarrying</td><td>47</td></tr><tr><td>Support activities for mining</td><td>47</td></tr><tr><td>Support activities for oil and gas operations</td><td>47</td></tr><tr><td>Petroleum and coal products</td><td>46</td></tr><tr><td>Boilers</td><td>46</td></tr><tr><td>Mining</td><td>46</td></tr><tr><td>Mining and logging</td><td>46</td></tr><tr><td>Motor vehicle parts</td><td>45</td></tr><tr><td>Motor vehicles</td><td>45</td></tr><tr><td>Basic chemicals</td><td>45</td></tr><tr><td>Pipeline transportation</td><td>45</td></tr><tr><td>Power and communication system construction</td><td>45</td></tr><tr><td>Rubber products</td><td>45</td></tr><tr><td>Waste treatment and disposal</td><td>45</td></tr><tr><td>Transportation equipment</td><td>44</td></tr><tr><td>Turbine and power transmission equipment</td><td>44</td></tr><tr><td>Utility system construction</td><td>44</td></tr><tr><td>Surgical appliances and supplies</td><td>44</td></tr><tr><td>Special tools</td><td>44</td></tr><tr><td>Power generation and supply</td><td>44</td></tr><tr><td>Pulp</td><td>44</td></tr><tr><td>Oil and gas extraction</td><td>44</td></tr><tr><td>Other specialized trucking</td><td>44</td></tr><tr><td>Other heavy construction</td><td>44</td></tr><tr><td>Cement and concrete products</td><td>44</td></tr><tr><td>Aerospace products and parts</td><td>44</td></tr><tr><td>All other motor vehicle parts</td><td>44</td></tr><tr><td>Animal slaughtering and processing</td><td>44</td></tr><tr><td>Corrugated and solid fiber boxes</td><td>44</td></tr><tr><td>Electric power transmission and distribution</td><td>44</td></tr><tr><td>Motor vehicle gasoline engine and parts</td><td>44</td></tr><tr><td>Metal valves</td><td>44</td></tr><tr><td>Fossil fuel electric power generation</td><td>44</td></tr><tr><td>Frozen food</td><td>44</td></tr><tr><td>Heavy and civil engineering construction</td><td>44</td></tr><tr><td>Highway</td><td>44</td></tr><tr><td>Industrial machinery</td><td>44</td></tr><tr><td>HVAC and commercial refrigeration equipment</td><td>43</td></tr><tr><td>Forging and stamping</td><td>43</td></tr><tr><td>Fruit and vegetable preserving and specialty</td><td>43</td></tr><tr><td>General freight trucking</td><td>43</td></tr><tr><td>Metalworking machinery</td><td>43</td></tr><tr><td>Industrial building</td><td>43</td></tr><tr><td>Machinery</td><td>43</td></tr><tr><td>Electric power generation</td><td>43</td></tr><tr><td>Electrical equipment</td><td>43</td></tr><tr><td>Electrical equipment and appliances</td><td>43</td></tr><tr><td>Construction equipment</td><td>43</td></tr><tr><td>Aircraft</td><td>43</td></tr><tr><td>Other building equipment contractors</td><td>43</td></tr><tr><td>Other general purpose machinery</td><td>43</td></tr><tr><td>Other electrical equipment and components</td><td>43</td></tr><tr><td>Other fabricated metal products</td><td>43</td></tr><tr><td>Paper and paper products</td><td>43</td></tr><tr><td>Paperboard containers</td><td>43</td></tr><tr><td>Primary metals</td><td>43</td></tr><tr><td>Poultry processing</td><td>43</td></tr><tr><td>Plastics and rubber products</td><td>43</td></tr><tr><td>Petroleum</td><td>43</td></tr><tr><td>Sawmills and wood preservation</td><td>43</td></tr><tr><td>Turned products and screws</td><td>43</td></tr><tr><td>Utilities</td><td>43</td></tr><tr><td>Warehousing and storage</td><td>42</td></tr><tr><td>Water</td><td>42</td></tr><tr><td>Water and sewer system construction</td><td>42</td></tr><tr><td>Wood containers and pallets</td><td>42</td></tr><tr><td>Wood kitchen cabinets and countertops</td><td>42</td></tr><tr><td>Wood products</td><td>42</td></tr><tr><td>Truck transportation</td><td>42</td></tr><tr><td>Resin</td><td>42</td></tr><tr><td>Semiconductors and related devices</td><td>42</td></tr><tr><td>Sheet metal work</td><td>42</td></tr><tr><td>Plastics packaging materials</td><td>42</td></tr><tr><td>Plastics products</td><td>42</td></tr><tr><td>Plate work and fabricated structural products</td><td>42</td></tr><tr><td>Plywood and engineered wood products</td><td>42</td></tr><tr><td>Ready-mix concrete</td><td>42</td></tr><tr><td>Other wood products</td><td>42</td></tr><tr><td>Packaging and labeling services</td><td>42</td></tr><tr><td>Other plastics products</td><td>42</td></tr><tr><td>Ornamental and architectural metal products</td><td>42</td></tr><tr><td>Agricultural</td><td>42</td></tr><tr><td>All other wood products</td><td>42</td></tr><tr><td>All other fabricated metal products</td><td>42</td></tr><tr><td>Architectural and structural metals</td><td>42</td></tr><tr><td>Chemicals</td><td>42</td></tr><tr><td>Converted paper products</td><td>42</td></tr><tr><td>Durable goods</td><td>42</td></tr><tr><td>Electronic instruments</td><td>42</td></tr><tr><td>Fabricated metal products</td><td>42</td></tr><tr><td>Fabricated structural metal products</td><td>42</td></tr><tr><td>Lumber and wood</td><td>42</td></tr><tr><td>Machine shops</td><td>42</td></tr><tr><td>Machine shops and threaded products</td><td>42</td></tr><tr><td>Manufacturing</td><td>42</td></tr><tr><td>Logging</td><td>42</td></tr><tr><td>Millwork</td><td>42</td></tr><tr><td>Medical equipment and supplies</td><td>42</td></tr><tr><td>Natural gas distribution</td><td>42</td></tr><tr><td>Nonmetallic mineral products</td><td>42</td></tr><tr><td>General warehousing and storage</td><td>42</td></tr><tr><td>Fruits and vegetables</td><td>42</td></tr><tr><td>Fruit and vegetable canning and drying</td><td>42</td></tr><tr><td>Food manufacturing</td><td>42</td></tr><tr><td>Heavy machinery rental and leasing</td><td>42</td></tr><tr><td>Foundries</td><td>41</td></tr><tr><td>Goods-producing</td><td>41</td></tr><tr><td>Furniture and related products</td><td>41</td></tr><tr><td>Motor vehicle bodies and trailers</td><td>41</td></tr><tr><td>Lumber and construction supplies</td><td>41</td></tr><tr><td>Electrical equipment and wiring</td><td>41</td></tr><tr><td>Dairy products</td><td>41</td></tr><tr><td>Direct insurers</td><td>41</td></tr><tr><td>Computer and electronic products</td><td>41</td></tr><tr><td>Computer and software</td><td>41</td></tr><tr><td>Business to business electronic markets</td><td>41</td></tr><tr><td>Coating</td><td>41</td></tr><tr><td>Commercial and service industry machinery</td><td>41</td></tr><tr><td>Nondurable goods</td><td>41</td></tr><tr><td>Paper bags and coated and treated paper</td><td>41</td></tr><tr><td>Recyclable materials</td><td>41</td></tr><tr><td>Semiconductors and electronic components</td><td>41</td></tr><tr><td>Textile mills</td><td>41</td></tr><tr><td>Wood windows and doors</td><td>41</td></tr><tr><td>Wired telecommunications carriers</td><td>41</td></tr><tr><td>Waste management and remediation services</td><td>41</td></tr><tr><td>Specialized freight trucking</td><td>41</td></tr><tr><td>Tile and terrazzo contractors</td><td>41</td></tr><tr><td>Steel and precast concrete contractors</td><td>40</td></tr><tr><td>Telecommunications</td><td>40</td></tr><tr><td>Soaps</td><td>40</td></tr><tr><td>Waste collection</td><td>40</td></tr><tr><td>Upholstered household furniture</td><td>40</td></tr><tr><td>Site preparation contractors</td><td>40</td></tr><tr><td>Remediation and other waste services</td><td>40</td></tr><tr><td>Real estate credit</td><td>40</td></tr><tr><td>Poured concrete structure contractors</td><td>40</td></tr><tr><td>Pharmaceuticals and medicines</td><td>40</td></tr><tr><td>Other specialty trade contractors</td><td>40</td></tr><tr><td>Office equipment</td><td>40</td></tr><tr><td>Architectural services</td><td>40</td></tr><tr><td>Commercial equipment</td><td>40</td></tr><tr><td>Commercial machinery repair and maintenance</td><td>40</td></tr><tr><td>Communications equipment</td><td>40</td></tr><tr><td>Direct life and health insurance carriers</td><td>40</td></tr><tr><td>Electric goods</td><td>40</td></tr><tr><td>Electrical contractors</td><td>40</td></tr><tr><td>Electroplating</td><td>40</td></tr><tr><td>Facilities support services</td><td>40</td></tr><tr><td>Farm machinery and equipment</td><td>40</td></tr><tr><td>Machinery and supplies</td><td>40</td></tr><tr><td>Miscellaneous durable goods manufacturing</td><td>40</td></tr><tr><td>Medical equipment</td><td>40</td></tr><tr><td>Metals and minerals</td><td>40</td></tr><tr><td>Nonresidential building</td><td>40</td></tr><tr><td>General line grocery</td><td>40</td></tr><tr><td>Glass and glazing contractors</td><td>40</td></tr><tr><td>Freight transportation arrangement</td><td>40</td></tr><tr><td>Grocery and related products</td><td>40</td></tr><tr><td>Hardware</td><td>40</td></tr><tr><td>Hardware and plumbing</td><td>40</td></tr><tr><td>Household and institutional furniture</td><td>40</td></tr><tr><td>Insurance carriers</td><td>40</td></tr><tr><td>Insurance carriers and related activities</td><td>39</td></tr><tr><td>Industrial supplies</td><td>39</td></tr><tr><td>Home health equipment rental</td><td>39</td></tr><tr><td>New motor vehicle parts</td><td>39</td></tr><tr><td>Motor vehicles and parts</td><td>39</td></tr><tr><td>Miscellaneous durable goods</td><td>39</td></tr><tr><td>Machinery and equipment rental and leasing</td><td>39</td></tr><tr><td>Management of companies and enterprises</td><td>39</td></tr><tr><td>Managing offices</td><td>39</td></tr><tr><td>Farm supplies</td><td>39</td></tr><tr><td>Financial transaction processing and clearing</td><td>39</td></tr><tr><td>Farm and garden equipment</td><td>39</td></tr><tr><td>Credit intermediation and related activities</td><td>39</td></tr><tr><td>Data processing</td><td>39</td></tr><tr><td>Custom computer programming services</td><td>39</td></tr><tr><td>Computer systems design and related services</td><td>39</td></tr><tr><td>Computer systems design services</td><td>39</td></tr><tr><td>Construction</td><td>39</td></tr><tr><td>Commercial building</td><td>39</td></tr><tr><td>Construction of buildings</td><td>39</td></tr><tr><td>Architectural and engineering services</td><td>39</td></tr><tr><td>All other specialty trade contractors</td><td>39</td></tr><tr><td>Automotive body</td><td>39</td></tr><tr><td>Building equipment contractors</td><td>39</td></tr><tr><td>Nondepository credit intermediation</td><td>39</td></tr><tr><td>Other household and institutional furniture</td><td>39</td></tr><tr><td>Other miscellaneous durable goods manufacturing</td><td>39</td></tr><tr><td>Portfolio management</td><td>39</td></tr><tr><td>Printing and related support activities</td><td>39</td></tr><tr><td>Physical</td><td>39</td></tr><tr><td>Plumbing equipment</td><td>39</td></tr><tr><td>Securities brokerage</td><td>39</td></tr><tr><td>Research and development in the physical</td><td>39</td></tr><tr><td>Transportation and warehousing</td><td>39</td></tr><tr><td>Third-party administration of insurance funds</td><td>39</td></tr><tr><td>Wholesale trade</td><td>39</td></tr><tr><td>Software publishers</td><td>39</td></tr><tr><td>Specialty trade contractors</td><td>39</td></tr><tr><td>Support activities for road transportation</td><td>39</td></tr><tr><td>Testing laboratories</td><td>39</td></tr><tr><td>Tire dealers</td><td>38</td></tr><tr><td>Wholesale trade agents and brokers</td><td>38</td></tr><tr><td>Textile product mills</td><td>38</td></tr><tr><td>Signs</td><td>38</td></tr><tr><td>Plumbing and HVAC contractors</td><td>38</td></tr><tr><td>Reinsurance carriers</td><td>38</td></tr><tr><td>Process and logistics consulting services</td><td>38</td></tr><tr><td>Other insurance-related activities</td><td>38</td></tr><tr><td>Other legal services</td><td>38</td></tr><tr><td>Painting and wall covering contractors</td><td>38</td></tr><tr><td>Other building exterior contractors</td><td>38</td></tr><tr><td>Other financial investment activities</td><td>38</td></tr><tr><td>Building finishing contractors</td><td>38</td></tr><tr><td>Automotive mechanical and electrical repair</td><td>38</td></tr><tr><td>Bakeries and tortilla manufacturing</td><td>38</td></tr><tr><td>Biotechnology research</td><td>38</td></tr><tr><td>Commercial banking</td><td>38</td></tr><tr><td>Ambulance services</td><td>38</td></tr><tr><td>Automobile dealers</td><td>38</td></tr><tr><td>Apparel and piece goods</td><td>38</td></tr><tr><td>Advertising agencies</td><td>38</td></tr><tr><td>Activities related to credit intermediation</td><td>38</td></tr><tr><td>Consumer lending</td><td>38</td></tr><tr><td>Depository credit intermediation</td><td>38</td></tr><tr><td>Financial activities</td><td>38</td></tr><tr><td>Electronic markets and agents and brokers</td><td>38</td></tr><tr><td>Electronic equipment repair and maintenance</td><td>38</td></tr><tr><td>Masonry materials</td><td>38</td></tr><tr><td>Medical and diagnostic laboratories</td><td>38</td></tr><tr><td>Linen and uniform supply</td><td>38</td></tr><tr><td>Land subdivision</td><td>38</td></tr><tr><td>Misc. nondurable goods</td><td>38</td></tr><tr><td>Medical laboratories</td><td>38</td></tr><tr><td>New car dealers</td><td>38</td></tr><tr><td>Graphic design services</td><td>38</td></tr><tr><td>Flooring contractors</td><td>38</td></tr><tr><td>Furniture and furnishings</td><td>38</td></tr><tr><td>General automotive repair</td><td>37</td></tr><tr><td>General rental centers</td><td>37</td></tr><tr><td>Insurance agencies</td><td>37</td></tr><tr><td>Insurance agencies and brokerages</td><td>37</td></tr><tr><td>Investment advice</td><td>37</td></tr><tr><td>New single-family general contractors</td><td>37</td></tr><tr><td>Nonresidential property managers</td><td>37</td></tr><tr><td>Nonstore retailers</td><td>37</td></tr><tr><td>Nursery stock and florists' supplies</td><td>37</td></tr><tr><td>Motor vehicle and parts dealers</td><td>37</td></tr><tr><td>Landscape architectural services</td><td>37</td></tr><tr><td>Landscaping services</td><td>37</td></tr><tr><td>Legal services</td><td>37</td></tr><tr><td>Management and technical consulting services</td><td>37</td></tr><tr><td>Management consulting services</td><td>37</td></tr><tr><td>Drywall and insulation contractors</td><td>37</td></tr><tr><td>Farm product raw materials</td><td>37</td></tr><tr><td>Electronics stores</td><td>37</td></tr><tr><td>Druggists' goods</td><td>37</td></tr><tr><td>Computer and office machine repair</td><td>37</td></tr><tr><td>Administrative management consulting services</td><td>37</td></tr><tr><td>Advertising and related services</td><td>37</td></tr><tr><td>Alcoholic beverages</td><td>37</td></tr><tr><td>Auto parts</td><td>37</td></tr><tr><td>Building foundation and exterior contractors</td><td>37</td></tr><tr><td>Other ambulatory health care services</td><td>37</td></tr><tr><td>Office administrative services</td><td>37</td></tr><tr><td>Professional and technical services</td><td>37</td></tr><tr><td>Scientific research and development services</td><td>37</td></tr><tr><td>Security systems services</td><td>37</td></tr><tr><td>Residential building</td><td>37</td></tr><tr><td>Publishing industries</td><td>37</td></tr><tr><td>Repair and maintenance</td><td>37</td></tr><tr><td>Savings institutions</td><td>37</td></tr><tr><td>Residential remodelers</td><td>37</td></tr><tr><td>Telecommunications resellers</td><td>37</td></tr><tr><td>Sugar and confectionery products</td><td>37</td></tr><tr><td>Sporting goods</td><td>37</td></tr><tr><td>Specialized design services</td><td>37</td></tr><tr><td>Support activities for transportation</td><td>36</td></tr><tr><td>Title abstract and settlement offices</td><td>36</td></tr><tr><td>Travel agencies</td><td>36</td></tr><tr><td>Roofing contractors</td><td>36</td></tr><tr><td>Residential mental health and substance abuse facilites</td><td>36</td></tr><tr><td>Seafood product preparation and packaging</td><td>36</td></tr><tr><td>Siding contractors</td><td>36</td></tr><tr><td>Professional organizations</td><td>36</td></tr><tr><td>Public relations agencies</td><td>36</td></tr><tr><td>Offices of lawyers</td><td>36</td></tr><tr><td>Offices of certified public accountants</td><td>36</td></tr><tr><td>Other building finishing contractors</td><td>36</td></tr><tr><td>Periodical publishers</td><td>36</td></tr><tr><td>Business associations</td><td>36</td></tr><tr><td>Automotive parts and accessories stores</td><td>36</td></tr><tr><td>Automotive repair and maintenance</td><td>36</td></tr><tr><td>Collection agencies</td><td>36</td></tr><tr><td>Apparel</td><td>36</td></tr><tr><td>All other ambulatory health care services</td><td>36</td></tr><tr><td>Activities related to real estate</td><td>36</td></tr><tr><td>Diagnostic imaging centers</td><td>36</td></tr><tr><td>Dental laboratories</td><td>36</td></tr><tr><td>Couriers and messengers</td><td>36</td></tr><tr><td>Exterminating and pest control services</td><td>36</td></tr><tr><td>Floor covering stores</td><td>36</td></tr><tr><td>Finish carpentry contractors</td><td>36</td></tr><tr><td>Electronics and appliance stores</td><td>36</td></tr><tr><td>Marketing consulting services</td><td>36</td></tr><tr><td>Masonry contractors</td><td>36</td></tr><tr><td>Newspaper</td><td>36</td></tr><tr><td>Information</td><td>36</td></tr><tr><td>Hospitals</td><td>36</td></tr><tr><td>General medical and surgical hospitals</td><td>36</td></tr><tr><td>Furniture stores</td><td>35</td></tr><tr><td>Mail-order houses</td><td>35</td></tr><tr><td>Electronic shopping and mail-order houses</td><td>35</td></tr><tr><td>Broadcasting</td><td>35</td></tr><tr><td>Business service centers</td><td>35</td></tr><tr><td>Payroll services</td><td>35</td></tr><tr><td>Other information services</td><td>35</td></tr><tr><td>Other motor vehicle dealers</td><td>35</td></tr><tr><td>Professional and business services</td><td>35</td></tr><tr><td>Rental and leasing services</td><td>35</td></tr><tr><td>Real estate property managers</td><td>35</td></tr><tr><td>Residential mental health facilities</td><td>35</td></tr><tr><td>Residential property managers</td><td>35</td></tr><tr><td>Residential intellectual and developmental disability facilities</td><td>35</td></tr><tr><td>Transit and ground passenger transportation</td><td>35</td></tr><tr><td>Used car dealers</td><td>35</td></tr><tr><td>Travel arrangement and reservation services</td><td>34</td></tr><tr><td>Total private</td><td>34</td></tr><tr><td>Trade</td><td>34</td></tr><tr><td>Temporary help services</td><td>34</td></tr><tr><td>Support activities for air transportation</td><td>34</td></tr><tr><td>Security and armored car services</td><td>34</td></tr><tr><td>Real estate</td><td>34</td></tr><tr><td>Professional employer organizations</td><td>34</td></tr><tr><td>Other support services</td><td>34</td></tr><tr><td>Other residential care facilities</td><td>34</td></tr><tr><td>Other ground passenger transportation</td><td>34</td></tr><tr><td>Offices of physicians</td><td>34</td></tr><tr><td>Offices of real estate agents and brokers</td><td>34</td></tr><tr><td>Business support services</td><td>34</td></tr><tr><td>Administrative and support services</td><td>34</td></tr><tr><td>Administrative and waste services</td><td>34</td></tr><tr><td>Accounting and bookkeeping services</td><td>34</td></tr><tr><td>Employment placement agencies and executive search services</td><td>34</td></tr><tr><td>Employment services</td><td>34</td></tr><tr><td>Lawn and garden equipment and supplies stores</td><td>34</td></tr><tr><td>Lessors of residential buildings</td><td>34</td></tr><tr><td>Gambling industries</td><td>34</td></tr><tr><td>Household appliance stores</td><td>34</td></tr><tr><td>Investigation and security services</td><td>34</td></tr><tr><td>Household goods repair and maintenance</td><td>33</td></tr><tr><td>Health care and social assistance</td><td>33</td></tr><tr><td>Grantmaking and giving services</td><td>33</td></tr><tr><td>Grantmaking foundations</td><td>33</td></tr><tr><td>Framing contractors</td><td>33</td></tr><tr><td>Lessors of real estate</td><td>33</td></tr><tr><td>Marinas</td><td>33</td></tr><tr><td>Newspaper publishers</td><td>33</td></tr><tr><td>Nursing and residential care facilities</td><td>33</td></tr><tr><td>Nursing care facilities</td><td>33</td></tr><tr><td>Emergency and other relief services</td><td>33</td></tr><tr><td>Drycleaning and laundry services</td><td>33</td></tr><tr><td>Air transportation</td><td>33</td></tr><tr><td>Optical goods stores</td><td>33</td></tr><tr><td>Other services to buildings and dwellings</td><td>33</td></tr><tr><td>Outpatient care centers</td><td>33</td></tr><tr><td>Outpatient mental health centers</td><td>33</td></tr><tr><td>Professional and similar organizations</td><td>33</td></tr><tr><td>Telephone call centers</td><td>33</td></tr><tr><td>Social advocacy organizations</td><td>33</td></tr><tr><td>Photographic services</td><td>32</td></tr><tr><td>Private service-providing</td><td>32</td></tr><tr><td>Other gasoline stations</td><td>32</td></tr><tr><td>Airport operations</td><td>32</td></tr><tr><td>All other support services</td><td>32</td></tr><tr><td>Ambulatory health care services</td><td>32</td></tr><tr><td>Carpet and upholstery cleaning services</td><td>32</td></tr><tr><td>Convention and trade show organizers</td><td>32</td></tr><tr><td>Continuing care retirement communities</td><td>32</td></tr><tr><td>Community care facilities for the elderly</td><td>32</td></tr><tr><td>Education and health services</td><td>32</td></tr><tr><td>Human rights organizations</td><td>32</td></tr><tr><td>Furniture and home furnishings stores</td><td>31</td></tr><tr><td>Labor unions and similar labor organizations</td><td>31</td></tr><tr><td>Lessors of nonresidential buildings</td><td>31</td></tr><tr><td>Building material and garden supply stores</td><td>31</td></tr><tr><td>Building material and supplies dealers</td><td>31</td></tr><tr><td>Assisted living facilities for the elderly</td><td>31</td></tr><tr><td>Other automotive repair and maintenance</td><td>31</td></tr><tr><td>Other individual and family services</td><td>31</td></tr><tr><td>Other services</td><td>31</td></tr><tr><td>Other professional and technical services</td><td>31</td></tr><tr><td>Radio broadcasting</td><td>31</td></tr><tr><td>Services to buildings and dwellings</td><td>31</td></tr><tr><td>School and employee bus transportation</td><td>31</td></tr><tr><td>Support activities for water transportation</td><td>31</td></tr><tr><td>Used household and office goods moving</td><td>31</td></tr><tr><td>Traveler accommodation</td><td>30</td></tr><tr><td>Vocational rehabilitation services</td><td>30</td></tr><tr><td>Retail trade</td><td>30</td></tr><tr><td>Other miscellaneous store retailers</td><td>30</td></tr><tr><td>Pharmacies and drug stores</td><td>30</td></tr><tr><td>Pet and pet supplies stores</td><td>30</td></tr><tr><td>Other health and personal care stores</td><td>30</td></tr><tr><td>Offices of mental health physicians</td><td>30</td></tr><tr><td>Office supplies and stationery stores</td><td>30</td></tr><tr><td>Accommodation</td><td>30</td></tr><tr><td>Child and youth services</td><td>30</td></tr><tr><td>Child day care services</td><td>30</td></tr><tr><td>Convenience stores</td><td>30</td></tr><tr><td>Cosmetic and beauty supply stores</td><td>30</td></tr><tr><td>Jewelry</td><td>30</td></tr><tr><td>Membership associations and organizations</td><td>30</td></tr><tr><td>Gasoline stations</td><td>30</td></tr><tr><td>Gasoline stations with convenience stores</td><td>30</td></tr><tr><td>Hotels and motels</td><td>30</td></tr><tr><td>Hardware stores</td><td>30</td></tr><tr><td>Health and personal care stores</td><td>30</td></tr><tr><td>Home health care services</td><td>29</td></tr><tr><td>Home centers</td><td>29</td></tr><tr><td>General merchandise stores</td><td>29</td></tr><tr><td>Death care services</td><td>29</td></tr><tr><td>Offices of optometrists</td><td>29</td></tr><tr><td>Parking lots and garages</td><td>29</td></tr><tr><td>Used merchandise stores</td><td>29</td></tr><tr><td>Veterinary services</td><td>29</td></tr><tr><td>Social assistance</td><td>29</td></tr><tr><td>Spectator sports</td><td>29</td></tr><tr><td>Specialty food stores</td><td>28</td></tr><tr><td>Supermarkets and other grocery stores</td><td>28</td></tr><tr><td>Offices of other health practitioners</td><td>28</td></tr><tr><td>Offices of specialty therapists</td><td>28</td></tr><tr><td>Offices of dentists</td><td>28</td></tr><tr><td>Offices of all other health practitioners</td><td>28</td></tr><tr><td>Car washes</td><td>28</td></tr><tr><td>Food and beverage stores</td><td>28</td></tr><tr><td>Freestanding emergency medical centers</td><td>28</td></tr><tr><td>Food service contractors</td><td>28</td></tr><tr><td>Home furnishings stores</td><td>28</td></tr><tr><td>Grocery stores</td><td>28</td></tr><tr><td>Independent artists</td><td>28</td></tr><tr><td>Individual and family services</td><td>28</td></tr><tr><td>Miscellaneous store retailers</td><td>28</td></tr><tr><td>Marketing research and public opinion polling</td><td>28</td></tr><tr><td>Motion picture and sound recording industries</td><td>27</td></tr><tr><td>Janitorial services</td><td>27</td></tr><tr><td>Florists</td><td>27</td></tr><tr><td>Cafeterias</td><td>27</td></tr><tr><td>Beer</td><td>27</td></tr><tr><td>Offices of mental health practitioners</td><td>27</td></tr><tr><td>Personal and laundry services</td><td>27</td></tr><tr><td>Other personal services</td><td>27</td></tr><tr><td>RV parks and recreational camps</td><td>27</td></tr><tr><td>Services for the elderly and persons with disabilities</td><td>27</td></tr><tr><td>Social science and humanities research</td><td>27</td></tr><tr><td>Special food services</td><td>26</td></tr><tr><td>Sporting goods and musical instrument stores</td><td>26</td></tr><tr><td>Sporting goods stores</td><td>26</td></tr><tr><td>Performing arts and spectator sports</td><td>26</td></tr><tr><td>Pet care services</td><td>26</td></tr><tr><td>Offices of chiropractors</td><td>26</td></tr><tr><td>Office supplies</td><td>26</td></tr><tr><td>Coin-operated laundries and drycleaners</td><td>26</td></tr><tr><td>Hair</td><td>26</td></tr><tr><td>Hobby</td><td>26</td></tr><tr><td>Full-service restaurants</td><td>25</td></tr><tr><td>Golf courses and country clubs</td><td>25</td></tr><tr><td>Museums</td><td>25</td></tr><tr><td>Leisure and hospitality</td><td>25</td></tr><tr><td>Limited-service restaurants</td><td>25</td></tr><tr><td>Accommodation and food services</td><td>25</td></tr><tr><td>Performing arts companies</td><td>25</td></tr><tr><td>Personal care services</td><td>25</td></tr><tr><td>Other home furnishings stores</td><td>24</td></tr><tr><td>Shoe stores</td><td>24</td></tr><tr><td>Restaurants and other eating places</td><td>24</td></tr><tr><td>Book stores and news dealers</td><td>24</td></tr><tr><td>Gift</td><td>24</td></tr><tr><td>Food services and drinking places</td><td>24</td></tr><tr><td>Arts</td><td>23</td></tr><tr><td>Snack and nonalcoholic beverage bars</td><td>23</td></tr><tr><td>Other personal care services</td><td>23</td></tr><tr><td>Amusements</td><td>22</td></tr><tr><td>Clothing accessories stores</td><td>22</td></tr><tr><td>Clothing and clothing accessories stores</td><td>22</td></tr><tr><td>Drinking places</td><td>21</td></tr><tr><td>Family clothing stores</td><td>20</td></tr><tr><td>Clothing stores</td><td>20</td></tr><tr><td>Bowling centers</td><td>20</td></tr><tr><td>Skiing facilities</td><td>20</td></tr><tr><td>Women's clothing stores</td><td>20</td></tr><tr><td>Civic and social organizations</td><td>19</td></tr><tr><td>Fitness and recreational sports centers</td><td>17</td></tr></table>"
                    },
                    "metadata": {}
                },
                {
                    "output_type": "execute_result",
                    "execution_count": 2,
                    "data": {
                        "application/vnd.dataresource+json": {
                            "schema": {
                                "fields": [
                                    {
                                        "name": "industry_name"
                                    },
                                    {
                                        "name": "LOWESTHOURS"
                                    }
                                ]
                            },
                            "data": [
                                {
                                    "0": "Fitness and recreational sports centers",
                                    "1": "17"
                                },
                                {
                                    "0": "Family clothing stores",
                                    "1": "18"
                                },
                                {
                                    "0": "Civic and social organizations",
                                    "1": "18"
                                },
                                {
                                    "0": "Women's clothing stores",
                                    "1": "18"
                                },
                                {
                                    "0": "Skiing facilities",
                                    "1": "19"
                                },
                                {
                                    "0": "Clothing stores",
                                    "1": "19"
                                },
                                {
                                    "0": "NULL",
                                    "1": "19"
                                },
                                {
                                    "0": "Bowling centers",
                                    "1": "20"
                                },
                                {
                                    "0": "Clothing accessories stores",
                                    "1": "21"
                                },
                                {
                                    "0": "Clothing and clothing accessories stores",
                                    "1": "21"
                                },
                                {
                                    "0": "Drinking places",
                                    "1": "21"
                                },
                                {
                                    "0": "Amusements",
                                    "1": "22"
                                },
                                {
                                    "0": "Gift",
                                    "1": "22"
                                },
                                {
                                    "0": "Snack and nonalcoholic beverage bars",
                                    "1": "22"
                                },
                                {
                                    "0": "Shoe stores",
                                    "1": "23"
                                },
                                {
                                    "0": "Other personal care services",
                                    "1": "23"
                                },
                                {
                                    "0": "Arts",
                                    "1": "23"
                                },
                                {
                                    "0": "Book stores and news dealers",
                                    "1": "24"
                                },
                                {
                                    "0": "Food services and drinking places",
                                    "1": "24"
                                },
                                {
                                    "0": "Full-service restaurants",
                                    "1": "24"
                                },
                                {
                                    "0": "Limited-service restaurants",
                                    "1": "24"
                                },
                                {
                                    "0": "Leisure and hospitality",
                                    "1": "24"
                                },
                                {
                                    "0": "Other home furnishings stores",
                                    "1": "24"
                                },
                                {
                                    "0": "Restaurants and other eating places",
                                    "1": "24"
                                },
                                {
                                    "0": "Performing arts and spectator sports",
                                    "1": "25"
                                },
                                {
                                    "0": "Performing arts companies",
                                    "1": "25"
                                },
                                {
                                    "0": "Personal care services",
                                    "1": "25"
                                },
                                {
                                    "0": "Pet care services",
                                    "1": "25"
                                },
                                {
                                    "0": "Special food services",
                                    "1": "25"
                                },
                                {
                                    "0": "Sporting goods",
                                    "1": "25"
                                },
                                {
                                    "0": "Museums",
                                    "1": "25"
                                },
                                {
                                    "0": "Office supplies",
                                    "1": "25"
                                },
                                {
                                    "0": "Golf courses and country clubs",
                                    "1": "25"
                                },
                                {
                                    "0": "Hair",
                                    "1": "25"
                                },
                                {
                                    "0": "Hobby",
                                    "1": "25"
                                },
                                {
                                    "0": "Accommodation and food services",
                                    "1": "25"
                                },
                                {
                                    "0": "Florists",
                                    "1": "25"
                                },
                                {
                                    "0": "Coin-operated laundries and drycleaners",
                                    "1": "26"
                                },
                                {
                                    "0": "Beer",
                                    "1": "26"
                                },
                                {
                                    "0": "Cafeterias",
                                    "1": "26"
                                },
                                {
                                    "0": "Car washes",
                                    "1": "26"
                                },
                                {
                                    "0": "Sporting goods and musical instrument stores",
                                    "1": "26"
                                },
                                {
                                    "0": "Sporting goods stores",
                                    "1": "26"
                                },
                                {
                                    "0": "Offices of chiropractors",
                                    "1": "26"
                                },
                                {
                                    "0": "Offices of dentists",
                                    "1": "27"
                                },
                                {
                                    "0": "Offices of mental health practitioners",
                                    "1": "27"
                                },
                                {
                                    "0": "Personal and laundry services",
                                    "1": "27"
                                },
                                {
                                    "0": "Other personal services",
                                    "1": "27"
                                },
                                {
                                    "0": "RV parks and recreational camps",
                                    "1": "27"
                                },
                                {
                                    "0": "Services for the elderly and persons with disabilities",
                                    "1": "27"
                                },
                                {
                                    "0": "Social science and humanities research",
                                    "1": "27"
                                },
                                {
                                    "0": "Spectator sports",
                                    "1": "27"
                                },
                                {
                                    "0": "Home furnishings stores",
                                    "1": "27"
                                },
                                {
                                    "0": "Janitorial services",
                                    "1": "27"
                                },
                                {
                                    "0": "Food service contractors",
                                    "1": "27"
                                },
                                {
                                    "0": "Motion picture and sound recording industries",
                                    "1": "27"
                                },
                                {
                                    "0": "Miscellaneous store retailers",
                                    "1": "28"
                                },
                                {
                                    "0": "Marketing research and public opinion polling",
                                    "1": "28"
                                },
                                {
                                    "0": "Freestanding emergency medical centers",
                                    "1": "28"
                                },
                                {
                                    "0": "General merchandise stores",
                                    "1": "28"
                                },
                                {
                                    "0": "Independent artists",
                                    "1": "28"
                                },
                                {
                                    "0": "Individual and family services",
                                    "1": "28"
                                },
                                {
                                    "0": "Grocery stores",
                                    "1": "28"
                                },
                                {
                                    "0": "Food and beverage stores",
                                    "1": "28"
                                },
                                {
                                    "0": "Specialty food stores",
                                    "1": "28"
                                },
                                {
                                    "0": "Supermarkets and other grocery stores",
                                    "1": "28"
                                },
                                {
                                    "0": "Parking lots and garages",
                                    "1": "28"
                                },
                                {
                                    "0": "Offices of optometrists",
                                    "1": "28"
                                },
                                {
                                    "0": "Offices of other health practitioners",
                                    "1": "28"
                                },
                                {
                                    "0": "Offices of all other health practitioners",
                                    "1": "28"
                                },
                                {
                                    "0": "Offices of specialty therapists",
                                    "1": "28"
                                },
                                {
                                    "0": "Offices of mental health physicians",
                                    "1": "29"
                                },
                                {
                                    "0": "Pet and pet supplies stores",
                                    "1": "29"
                                },
                                {
                                    "0": "Pharmacies and drug stores",
                                    "1": "29"
                                },
                                {
                                    "0": "Other miscellaneous store retailers",
                                    "1": "29"
                                },
                                {
                                    "0": "Social assistance",
                                    "1": "29"
                                },
                                {
                                    "0": "Services to buildings and dwellings",
                                    "1": "29"
                                },
                                {
                                    "0": "School and employee bus transportation",
                                    "1": "29"
                                },
                                {
                                    "0": "Traveler accommodation",
                                    "1": "29"
                                },
                                {
                                    "0": "Used merchandise stores",
                                    "1": "29"
                                },
                                {
                                    "0": "Veterinary services",
                                    "1": "29"
                                },
                                {
                                    "0": "Convenience stores",
                                    "1": "29"
                                },
                                {
                                    "0": "Death care services",
                                    "1": "29"
                                },
                                {
                                    "0": "Cosmetic and beauty supply stores",
                                    "1": "29"
                                },
                                {
                                    "0": "Accommodation",
                                    "1": "29"
                                },
                                {
                                    "0": "Health and personal care stores",
                                    "1": "29"
                                },
                                {
                                    "0": "Home centers",
                                    "1": "29"
                                },
                                {
                                    "0": "Home health care services",
                                    "1": "29"
                                },
                                {
                                    "0": "Hotels and motels",
                                    "1": "29"
                                },
                                {
                                    "0": "Office supplies and stationery stores",
                                    "1": "29"
                                },
                                {
                                    "0": "Membership associations and organizations",
                                    "1": "30"
                                },
                                {
                                    "0": "Lessors of nonresidential buildings",
                                    "1": "30"
                                },
                                {
                                    "0": "Hardware stores",
                                    "1": "30"
                                },
                                {
                                    "0": "Jewelry",
                                    "1": "30"
                                },
                                {
                                    "0": "Gasoline stations",
                                    "1": "30"
                                },
                                {
                                    "0": "Gasoline stations with convenience stores",
                                    "1": "30"
                                },
                                {
                                    "0": "Carpet and upholstery cleaning services",
                                    "1": "30"
                                },
                                {
                                    "0": "Child and youth services",
                                    "1": "30"
                                },
                                {
                                    "0": "Child day care services",
                                    "1": "30"
                                },
                                {
                                    "0": "Drycleaning and laundry services",
                                    "1": "30"
                                },
                                {
                                    "0": "Vocational rehabilitation services",
                                    "1": "30"
                                },
                                {
                                    "0": "Used household and office goods moving",
                                    "1": "30"
                                },
                                {
                                    "0": "Retail trade",
                                    "1": "30"
                                },
                                {
                                    "0": "Other automotive repair and maintenance",
                                    "1": "30"
                                },
                                {
                                    "0": "Other health and personal care stores",
                                    "1": "30"
                                },
                                {
                                    "0": "Other individual and family services",
                                    "1": "30"
                                },
                                {
                                    "0": "Other professional and technical services",
                                    "1": "31"
                                },
                                {
                                    "0": "Other services",
                                    "1": "31"
                                },
                                {
                                    "0": "Photographic services",
                                    "1": "31"
                                },
                                {
                                    "0": "Radio broadcasting",
                                    "1": "31"
                                },
                                {
                                    "0": "Support activities for water transportation",
                                    "1": "31"
                                },
                                {
                                    "0": "Community care facilities for the elderly",
                                    "1": "31"
                                },
                                {
                                    "0": "Building material and garden supply stores",
                                    "1": "31"
                                },
                                {
                                    "0": "Building material and supplies dealers",
                                    "1": "31"
                                },
                                {
                                    "0": "Assisted living facilities for the elderly",
                                    "1": "31"
                                },
                                {
                                    "0": "Ambulatory health care services",
                                    "1": "31"
                                },
                                {
                                    "0": "Grantmaking foundations",
                                    "1": "31"
                                },
                                {
                                    "0": "Furniture and home furnishings stores",
                                    "1": "31"
                                },
                                {
                                    "0": "Labor unions and similar labor organizations",
                                    "1": "31"
                                },
                                {
                                    "0": "Human rights organizations",
                                    "1": "31"
                                },
                                {
                                    "0": "Health care and social assistance",
                                    "1": "32"
                                },
                                {
                                    "0": "Framing contractors",
                                    "1": "32"
                                },
                                {
                                    "0": "Landscaping services",
                                    "1": "32"
                                },
                                {
                                    "0": "Lawn and garden equipment and supplies stores",
                                    "1": "32"
                                },
                                {
                                    "0": "Marinas",
                                    "1": "32"
                                },
                                {
                                    "0": "Nursing and residential care facilities",
                                    "1": "32"
                                },
                                {
                                    "0": "Nursing care facilities",
                                    "1": "32"
                                },
                                {
                                    "0": "All other support services",
                                    "1": "32"
                                },
                                {
                                    "0": "Air transportation",
                                    "1": "32"
                                },
                                {
                                    "0": "Airport operations",
                                    "1": "32"
                                },
                                {
                                    "0": "Convention and trade show organizers",
                                    "1": "32"
                                },
                                {
                                    "0": "Continuing care retirement communities",
                                    "1": "32"
                                },
                                {
                                    "0": "Education and health services",
                                    "1": "32"
                                },
                                {
                                    "0": "Emergency and other relief services",
                                    "1": "32"
                                },
                                {
                                    "0": "Private service-providing",
                                    "1": "32"
                                },
                                {
                                    "0": "Outpatient mental health centers",
                                    "1": "32"
                                },
                                {
                                    "0": "Other services to buildings and dwellings",
                                    "1": "32"
                                },
                                {
                                    "0": "Other gasoline stations",
                                    "1": "32"
                                },
                                {
                                    "0": "Optical goods stores",
                                    "1": "33"
                                },
                                {
                                    "0": "Other residential care facilities",
                                    "1": "33"
                                },
                                {
                                    "0": "Outpatient care centers",
                                    "1": "33"
                                },
                                {
                                    "0": "Professional and similar organizations",
                                    "1": "33"
                                },
                                {
                                    "0": "Professional employer organizations",
                                    "1": "33"
                                },
                                {
                                    "0": "Roofing contractors",
                                    "1": "33"
                                },
                                {
                                    "0": "Social advocacy organizations",
                                    "1": "33"
                                },
                                {
                                    "0": "Siding contractors",
                                    "1": "33"
                                },
                                {
                                    "0": "Telephone call centers",
                                    "1": "33"
                                },
                                {
                                    "0": "Trade",
                                    "1": "33"
                                },
                                {
                                    "0": "Employment placement agencies and executive search services",
                                    "1": "33"
                                },
                                {
                                    "0": "Administrative and support services",
                                    "1": "33"
                                },
                                {
                                    "0": "Administrative and waste services",
                                    "1": "33"
                                },
                                {
                                    "0": "Newspaper publishers",
                                    "1": "33"
                                },
                                {
                                    "0": "Lessors of real estate",
                                    "1": "33"
                                },
                                {
                                    "0": "Grantmaking and giving services",
                                    "1": "33"
                                },
                                {
                                    "0": "Household appliance stores",
                                    "1": "33"
                                },
                                {
                                    "0": "Household goods repair and maintenance",
                                    "1": "33"
                                },
                                {
                                    "0": "Investigation and security services",
                                    "1": "34"
                                },
                                {
                                    "0": "Gambling industries",
                                    "1": "34"
                                },
                                {
                                    "0": "Lessors of residential buildings",
                                    "1": "34"
                                },
                                {
                                    "0": "Masonry contractors",
                                    "1": "34"
                                },
                                {
                                    "0": "Accounting and bookkeeping services",
                                    "1": "34"
                                },
                                {
                                    "0": "Business service centers",
                                    "1": "34"
                                },
                                {
                                    "0": "Business support services",
                                    "1": "34"
                                },
                                {
                                    "0": "Broadcasting",
                                    "1": "34"
                                },
                                {
                                    "0": "Employment services",
                                    "1": "34"
                                },
                                {
                                    "0": "Transit and ground passenger transportation",
                                    "1": "34"
                                },
                                {
                                    "0": "Temporary help services",
                                    "1": "34"
                                },
                                {
                                    "0": "Support activities for air transportation",
                                    "1": "34"
                                },
                                {
                                    "0": "Total private",
                                    "1": "34"
                                },
                                {
                                    "0": "Travel agencies",
                                    "1": "34"
                                },
                                {
                                    "0": "Travel arrangement and reservation services",
                                    "1": "34"
                                },
                                {
                                    "0": "Security and armored car services",
                                    "1": "34"
                                },
                                {
                                    "0": "Residential mental health facilities",
                                    "1": "34"
                                },
                                {
                                    "0": "Residential property managers",
                                    "1": "34"
                                },
                                {
                                    "0": "Seafood product preparation and packaging",
                                    "1": "34"
                                },
                                {
                                    "0": "Residential intellectual and developmental disability facilities",
                                    "1": "34"
                                },
                                {
                                    "0": "Real estate",
                                    "1": "34"
                                },
                                {
                                    "0": "Other ground passenger transportation",
                                    "1": "34"
                                },
                                {
                                    "0": "Other support services",
                                    "1": "34"
                                },
                                {
                                    "0": "Nursery stock and florists' supplies",
                                    "1": "34"
                                },
                                {
                                    "0": "Offices of physicians",
                                    "1": "34"
                                },
                                {
                                    "0": "Offices of real estate agents and brokers",
                                    "1": "34"
                                },
                                {
                                    "0": "Other information services",
                                    "1": "34"
                                },
                                {
                                    "0": "Other building finishing contractors",
                                    "1": "35"
                                },
                                {
                                    "0": "Offices of certified public accountants",
                                    "1": "35"
                                },
                                {
                                    "0": "Other motor vehicle dealers",
                                    "1": "35"
                                },
                                {
                                    "0": "Payroll services",
                                    "1": "35"
                                },
                                {
                                    "0": "Professional organizations",
                                    "1": "35"
                                },
                                {
                                    "0": "Public relations agencies",
                                    "1": "35"
                                },
                                {
                                    "0": "Real estate property managers",
                                    "1": "35"
                                },
                                {
                                    "0": "Rental and leasing services",
                                    "1": "35"
                                },
                                {
                                    "0": "Professional and business services",
                                    "1": "35"
                                },
                                {
                                    "0": "Residential mental health and substance abuse facilites",
                                    "1": "35"
                                },
                                {
                                    "0": "Used car dealers",
                                    "1": "35"
                                },
                                {
                                    "0": "Electronic shopping and mail-order houses",
                                    "1": "35"
                                },
                                {
                                    "0": "Floor covering stores",
                                    "1": "35"
                                },
                                {
                                    "0": "Finish carpentry contractors",
                                    "1": "35"
                                },
                                {
                                    "0": "Diagnostic imaging centers",
                                    "1": "35"
                                },
                                {
                                    "0": "Building foundation and exterior contractors",
                                    "1": "35"
                                },
                                {
                                    "0": "Business associations",
                                    "1": "35"
                                },
                                {
                                    "0": "Activities related to real estate",
                                    "1": "35"
                                },
                                {
                                    "0": "Mail-order houses",
                                    "1": "35"
                                },
                                {
                                    "0": "Marketing consulting services",
                                    "1": "35"
                                },
                                {
                                    "0": "New single-family general contractors",
                                    "1": "35"
                                },
                                {
                                    "0": "Newspaper",
                                    "1": "35"
                                },
                                {
                                    "0": "Furniture stores",
                                    "1": "35"
                                },
                                {
                                    "0": "General medical and surgical hospitals",
                                    "1": "36"
                                },
                                {
                                    "0": "General rental centers",
                                    "1": "36"
                                },
                                {
                                    "0": "Investment advice",
                                    "1": "36"
                                },
                                {
                                    "0": "Hospitals",
                                    "1": "36"
                                },
                                {
                                    "0": "Information",
                                    "1": "36"
                                },
                                {
                                    "0": "Insurance agencies",
                                    "1": "36"
                                },
                                {
                                    "0": "Insurance agencies and brokerages",
                                    "1": "36"
                                },
                                {
                                    "0": "Office administrative services",
                                    "1": "36"
                                },
                                {
                                    "0": "Nonresidential property managers",
                                    "1": "36"
                                },
                                {
                                    "0": "Nonstore retailers",
                                    "1": "36"
                                },
                                {
                                    "0": "Management and technical consulting services",
                                    "1": "36"
                                },
                                {
                                    "0": "Management consulting services",
                                    "1": "36"
                                },
                                {
                                    "0": "Legal services",
                                    "1": "36"
                                },
                                {
                                    "0": "Alcoholic beverages",
                                    "1": "36"
                                },
                                {
                                    "0": "All other ambulatory health care services",
                                    "1": "36"
                                },
                                {
                                    "0": "Advertising agencies",
                                    "1": "36"
                                },
                                {
                                    "0": "Advertising and related services",
                                    "1": "36"
                                },
                                {
                                    "0": "All other specialty trade contractors",
                                    "1": "36"
                                },
                                {
                                    "0": "Apparel",
                                    "1": "36"
                                },
                                {
                                    "0": "Building finishing contractors",
                                    "1": "36"
                                },
                                {
                                    "0": "Automotive parts and accessories stores",
                                    "1": "36"
                                },
                                {
                                    "0": "Automotive repair and maintenance",
                                    "1": "36"
                                },
                                {
                                    "0": "Dental laboratories",
                                    "1": "36"
                                },
                                {
                                    "0": "Drywall and insulation contractors",
                                    "1": "36"
                                },
                                {
                                    "0": "Druggists' goods",
                                    "1": "36"
                                },
                                {
                                    "0": "Couriers and messengers",
                                    "1": "36"
                                },
                                {
                                    "0": "Collection agencies",
                                    "1": "36"
                                },
                                {
                                    "0": "Computer and office machine repair",
                                    "1": "36"
                                },
                                {
                                    "0": "Farm product raw materials",
                                    "1": "36"
                                },
                                {
                                    "0": "Electronics and appliance stores",
                                    "1": "36"
                                },
                                {
                                    "0": "Electronics stores",
                                    "1": "36"
                                },
                                {
                                    "0": "Exterminating and pest control services",
                                    "1": "36"
                                },
                                {
                                    "0": "Title abstract and settlement offices",
                                    "1": "36"
                                },
                                {
                                    "0": "Support activities for transportation",
                                    "1": "36"
                                },
                                {
                                    "0": "Residential remodelers",
                                    "1": "36"
                                },
                                {
                                    "0": "Residential building",
                                    "1": "36"
                                },
                                {
                                    "0": "Repair and maintenance",
                                    "1": "36"
                                },
                                {
                                    "0": "Publishing industries",
                                    "1": "36"
                                },
                                {
                                    "0": "Professional and technical services",
                                    "1": "36"
                                },
                                {
                                    "0": "Periodical publishers",
                                    "1": "36"
                                },
                                {
                                    "0": "Painting and wall covering contractors",
                                    "1": "36"
                                },
                                {
                                    "0": "Offices of lawyers",
                                    "1": "36"
                                },
                                {
                                    "0": "Other ambulatory health care services",
                                    "1": "37"
                                },
                                {
                                    "0": "Other financial investment activities",
                                    "1": "37"
                                },
                                {
                                    "0": "Other insurance-related activities",
                                    "1": "37"
                                },
                                {
                                    "0": "Other legal services",
                                    "1": "37"
                                },
                                {
                                    "0": "Other specialty trade contractors",
                                    "1": "37"
                                },
                                {
                                    "0": "Process and logistics consulting services",
                                    "1": "37"
                                },
                                {
                                    "0": "Poured concrete structure contractors",
                                    "1": "37"
                                },
                                {
                                    "0": "Ready-mix concrete",
                                    "1": "37"
                                },
                                {
                                    "0": "Reinsurance carriers",
                                    "1": "37"
                                },
                                {
                                    "0": "Savings institutions",
                                    "1": "37"
                                },
                                {
                                    "0": "Scientific research and development services",
                                    "1": "37"
                                },
                                {
                                    "0": "Security systems services",
                                    "1": "37"
                                },
                                {
                                    "0": "Signs",
                                    "1": "37"
                                },
                                {
                                    "0": "Site preparation contractors",
                                    "1": "37"
                                },
                                {
                                    "0": "Telecommunications resellers",
                                    "1": "37"
                                },
                                {
                                    "0": "Textile product mills",
                                    "1": "37"
                                },
                                {
                                    "0": "Third-party administration of insurance funds",
                                    "1": "37"
                                },
                                {
                                    "0": "Specialty trade contractors",
                                    "1": "37"
                                },
                                {
                                    "0": "Sugar and confectionery products",
                                    "1": "37"
                                },
                                {
                                    "0": "Specialized design services",
                                    "1": "37"
                                },
                                {
                                    "0": "Wholesale trade agents and brokers",
                                    "1": "37"
                                },
                                {
                                    "0": "Electronic markets and agents and brokers",
                                    "1": "37"
                                },
                                {
                                    "0": "Financial activities",
                                    "1": "37"
                                },
                                {
                                    "0": "Flooring contractors",
                                    "1": "37"
                                },
                                {
                                    "0": "Depository credit intermediation",
                                    "1": "37"
                                },
                                {
                                    "0": "Bakeries and tortilla manufacturing",
                                    "1": "37"
                                },
                                {
                                    "0": "Biotechnology research",
                                    "1": "37"
                                },
                                {
                                    "0": "Commercial banking",
                                    "1": "37"
                                },
                                {
                                    "0": "Apparel and piece goods",
                                    "1": "37"
                                },
                                {
                                    "0": "Auto parts",
                                    "1": "37"
                                },
                                {
                                    "0": "Automobile dealers",
                                    "1": "37"
                                },
                                {
                                    "0": "Administrative management consulting services",
                                    "1": "37"
                                },
                                {
                                    "0": "Activities related to credit intermediation",
                                    "1": "37"
                                },
                                {
                                    "0": "Linen and uniform supply",
                                    "1": "37"
                                },
                                {
                                    "0": "Masonry materials",
                                    "1": "37"
                                },
                                {
                                    "0": "Medical and diagnostic laboratories",
                                    "1": "37"
                                },
                                {
                                    "0": "Landscape architectural services",
                                    "1": "37"
                                },
                                {
                                    "0": "Motor vehicle and parts dealers",
                                    "1": "37"
                                },
                                {
                                    "0": "Misc. nondurable goods",
                                    "1": "37"
                                },
                                {
                                    "0": "Motor vehicles",
                                    "1": "37"
                                },
                                {
                                    "0": "General automotive repair",
                                    "1": "37"
                                },
                                {
                                    "0": "Graphic design services",
                                    "1": "37"
                                },
                                {
                                    "0": "Furniture and furnishings",
                                    "1": "38"
                                },
                                {
                                    "0": "Insurance carriers and related activities",
                                    "1": "38"
                                },
                                {
                                    "0": "Land subdivision",
                                    "1": "38"
                                },
                                {
                                    "0": "Home health equipment rental",
                                    "1": "38"
                                },
                                {
                                    "0": "Motor vehicles and parts",
                                    "1": "38"
                                },
                                {
                                    "0": "New car dealers",
                                    "1": "38"
                                },
                                {
                                    "0": "Miscellaneous durable goods",
                                    "1": "38"
                                },
                                {
                                    "0": "Nondepository credit intermediation",
                                    "1": "38"
                                },
                                {
                                    "0": "Nondurable goods",
                                    "1": "38"
                                },
                                {
                                    "0": "Medical laboratories",
                                    "1": "38"
                                },
                                {
                                    "0": "Management of companies and enterprises",
                                    "1": "38"
                                },
                                {
                                    "0": "Ambulance services",
                                    "1": "38"
                                },
                                {
                                    "0": "Automotive mechanical and electrical repair",
                                    "1": "38"
                                },
                                {
                                    "0": "Credit intermediation and related activities",
                                    "1": "38"
                                },
                                {
                                    "0": "Data processing",
                                    "1": "38"
                                },
                                {
                                    "0": "Custom computer programming services",
                                    "1": "38"
                                },
                                {
                                    "0": "Computer systems design and related services",
                                    "1": "38"
                                },
                                {
                                    "0": "Construction",
                                    "1": "38"
                                },
                                {
                                    "0": "Construction of buildings",
                                    "1": "38"
                                },
                                {
                                    "0": "Consumer lending",
                                    "1": "38"
                                },
                                {
                                    "0": "Financial transaction processing and clearing",
                                    "1": "38"
                                },
                                {
                                    "0": "Electronic equipment repair and maintenance",
                                    "1": "38"
                                },
                                {
                                    "0": "Farm supplies",
                                    "1": "38"
                                },
                                {
                                    "0": "Farm and garden equipment",
                                    "1": "38"
                                },
                                {
                                    "0": "Tire dealers",
                                    "1": "38"
                                },
                                {
                                    "0": "Transportation and warehousing",
                                    "1": "38"
                                },
                                {
                                    "0": "Software publishers",
                                    "1": "38"
                                },
                                {
                                    "0": "Securities brokerage",
                                    "1": "38"
                                },
                                {
                                    "0": "Research and development in the physical",
                                    "1": "38"
                                },
                                {
                                    "0": "Plumbing and HVAC contractors",
                                    "1": "38"
                                },
                                {
                                    "0": "Portfolio management",
                                    "1": "38"
                                },
                                {
                                    "0": "Physical",
                                    "1": "38"
                                },
                                {
                                    "0": "Other miscellaneous durable goods manufacturing",
                                    "1": "38"
                                },
                                {
                                    "0": "Other building exterior contractors",
                                    "1": "38"
                                },
                                {
                                    "0": "Other household and institutional furniture",
                                    "1": "39"
                                },
                                {
                                    "0": "Paper and paper products",
                                    "1": "39"
                                },
                                {
                                    "0": "Plumbing equipment",
                                    "1": "39"
                                },
                                {
                                    "0": "Printing and related support activities",
                                    "1": "39"
                                },
                                {
                                    "0": "Real estate credit",
                                    "1": "39"
                                },
                                {
                                    "0": "Support activities for road transportation",
                                    "1": "39"
                                },
                                {
                                    "0": "Testing laboratories",
                                    "1": "39"
                                },
                                {
                                    "0": "Steel and precast concrete contractors",
                                    "1": "39"
                                },
                                {
                                    "0": "Upholstered household furniture",
                                    "1": "39"
                                },
                                {
                                    "0": "Wholesale trade",
                                    "1": "39"
                                },
                                {
                                    "0": "Wood windows and doors",
                                    "1": "39"
                                },
                                {
                                    "0": "Electrical contractors",
                                    "1": "39"
                                },
                                {
                                    "0": "Direct life and health insurance carriers",
                                    "1": "39"
                                },
                                {
                                    "0": "Computer systems design services",
                                    "1": "39"
                                },
                                {
                                    "0": "Computer and software",
                                    "1": "39"
                                },
                                {
                                    "0": "Durable goods",
                                    "1": "39"
                                },
                                {
                                    "0": "Building equipment contractors",
                                    "1": "39"
                                },
                                {
                                    "0": "Business to business electronic markets",
                                    "1": "39"
                                },
                                {
                                    "0": "Commercial building",
                                    "1": "39"
                                },
                                {
                                    "0": "Commercial equipment",
                                    "1": "39"
                                },
                                {
                                    "0": "Commercial machinery repair and maintenance",
                                    "1": "39"
                                },
                                {
                                    "0": "Architectural and engineering services",
                                    "1": "39"
                                },
                                {
                                    "0": "Automotive body",
                                    "1": "39"
                                },
                                {
                                    "0": "Architectural services",
                                    "1": "39"
                                },
                                {
                                    "0": "Managing offices",
                                    "1": "39"
                                },
                                {
                                    "0": "Medical equipment",
                                    "1": "39"
                                },
                                {
                                    "0": "Machinery and equipment rental and leasing",
                                    "1": "39"
                                },
                                {
                                    "0": "Nonresidential building",
                                    "1": "39"
                                },
                                {
                                    "0": "New motor vehicle parts",
                                    "1": "39"
                                },
                                {
                                    "0": "Industrial supplies",
                                    "1": "39"
                                },
                                {
                                    "0": "Freight transportation arrangement",
                                    "1": "39"
                                },
                                {
                                    "0": "Grocery and related products",
                                    "1": "39"
                                },
                                {
                                    "0": "General freight trucking",
                                    "1": "39"
                                },
                                {
                                    "0": "Glass and glazing contractors",
                                    "1": "39"
                                },
                                {
                                    "0": "General line grocery",
                                    "1": "40"
                                },
                                {
                                    "0": "Hardware",
                                    "1": "40"
                                },
                                {
                                    "0": "Hardware and plumbing",
                                    "1": "40"
                                },
                                {
                                    "0": "Furniture and related products",
                                    "1": "40"
                                },
                                {
                                    "0": "Insurance carriers",
                                    "1": "40"
                                },
                                {
                                    "0": "Industrial machinery",
                                    "1": "40"
                                },
                                {
                                    "0": "Household and institutional furniture",
                                    "1": "40"
                                },
                                {
                                    "0": "Miscellaneous durable goods manufacturing",
                                    "1": "40"
                                },
                                {
                                    "0": "Motor vehicle bodies and trailers",
                                    "1": "40"
                                },
                                {
                                    "0": "Office equipment",
                                    "1": "40"
                                },
                                {
                                    "0": "Machinery and supplies",
                                    "1": "40"
                                },
                                {
                                    "0": "Metals and minerals",
                                    "1": "40"
                                },
                                {
                                    "0": "All other wood products",
                                    "1": "40"
                                },
                                {
                                    "0": "Communications equipment",
                                    "1": "40"
                                },
                                {
                                    "0": "Chemicals",
                                    "1": "40"
                                },
                                {
                                    "0": "Electric goods",
                                    "1": "40"
                                },
                                {
                                    "0": "Electroplating",
                                    "1": "40"
                                },
                                {
                                    "0": "Farm machinery and equipment",
                                    "1": "40"
                                },
                                {
                                    "0": "Facilities support services",
                                    "1": "40"
                                },
                                {
                                    "0": "Waste collection",
                                    "1": "40"
                                },
                                {
                                    "0": "Water and sewer system construction",
                                    "1": "40"
                                },
                                {
                                    "0": "Specialized freight trucking",
                                    "1": "40"
                                },
                                {
                                    "0": "Textile mills",
                                    "1": "40"
                                },
                                {
                                    "0": "Tile and terrazzo contractors",
                                    "1": "40"
                                },
                                {
                                    "0": "Telecommunications",
                                    "1": "40"
                                },
                                {
                                    "0": "Remediation and other waste services",
                                    "1": "40"
                                },
                                {
                                    "0": "Pharmaceuticals and medicines",
                                    "1": "40"
                                },
                                {
                                    "0": "Soaps",
                                    "1": "40"
                                },
                                {
                                    "0": "Semiconductors and electronic components",
                                    "1": "40"
                                },
                                {
                                    "0": "Paper bags and coated and treated paper",
                                    "1": "40"
                                },
                                {
                                    "0": "Other wood products",
                                    "1": "41"
                                },
                                {
                                    "0": "Other plastics products",
                                    "1": "41"
                                },
                                {
                                    "0": "Other building equipment contractors",
                                    "1": "41"
                                },
                                {
                                    "0": "Semiconductors and related devices",
                                    "1": "41"
                                },
                                {
                                    "0": "Sheet metal work",
                                    "1": "41"
                                },
                                {
                                    "0": "Plate work and fabricated structural products",
                                    "1": "41"
                                },
                                {
                                    "0": "Plywood and engineered wood products",
                                    "1": "41"
                                },
                                {
                                    "0": "Recyclable materials",
                                    "1": "41"
                                },
                                {
                                    "0": "Water",
                                    "1": "41"
                                },
                                {
                                    "0": "Waste management and remediation services",
                                    "1": "41"
                                },
                                {
                                    "0": "Wood containers and pallets",
                                    "1": "41"
                                },
                                {
                                    "0": "Wood kitchen cabinets and countertops",
                                    "1": "41"
                                },
                                {
                                    "0": "Wired telecommunications carriers",
                                    "1": "41"
                                },
                                {
                                    "0": "Warehousing and storage",
                                    "1": "41"
                                },
                                {
                                    "0": "Truck transportation",
                                    "1": "41"
                                },
                                {
                                    "0": "Food manufacturing",
                                    "1": "41"
                                },
                                {
                                    "0": "Fabricated structural metal products",
                                    "1": "41"
                                },
                                {
                                    "0": "Electrical equipment and wiring",
                                    "1": "41"
                                },
                                {
                                    "0": "Direct insurers",
                                    "1": "41"
                                },
                                {
                                    "0": "Dairy products",
                                    "1": "41"
                                },
                                {
                                    "0": "Commercial and service industry machinery",
                                    "1": "41"
                                },
                                {
                                    "0": "Computer and electronic products",
                                    "1": "41"
                                },
                                {
                                    "0": "Coating",
                                    "1": "41"
                                },
                                {
                                    "0": "Cement and concrete products",
                                    "1": "41"
                                },
                                {
                                    "0": "Architectural and structural metals",
                                    "1": "41"
                                },
                                {
                                    "0": "Logging",
                                    "1": "41"
                                },
                                {
                                    "0": "Lumber and construction supplies",
                                    "1": "41"
                                },
                                {
                                    "0": "Lumber and wood",
                                    "1": "41"
                                },
                                {
                                    "0": "Nonmetallic mineral products",
                                    "1": "41"
                                },
                                {
                                    "0": "Millwork",
                                    "1": "41"
                                },
                                {
                                    "0": "Natural gas distribution",
                                    "1": "41"
                                },
                                {
                                    "0": "Heavy machinery rental and leasing",
                                    "1": "41"
                                },
                                {
                                    "0": "Highway",
                                    "1": "41"
                                },
                                {
                                    "0": "Industrial building",
                                    "1": "41"
                                },
                                {
                                    "0": "Fruit and vegetable canning and drying",
                                    "1": "41"
                                },
                                {
                                    "0": "Foundries",
                                    "1": "41"
                                },
                                {
                                    "0": "Goods-producing",
                                    "1": "41"
                                },
                                {
                                    "0": "General warehousing and storage",
                                    "1": "41"
                                },
                                {
                                    "0": "Fruits and vegetables",
                                    "1": "42"
                                },
                                {
                                    "0": "Heavy and civil engineering construction",
                                    "1": "42"
                                },
                                {
                                    "0": "Machine shops",
                                    "1": "42"
                                },
                                {
                                    "0": "Machine shops and threaded products",
                                    "1": "42"
                                },
                                {
                                    "0": "Medical equipment and supplies",
                                    "1": "42"
                                },
                                {
                                    "0": "Manufacturing",
                                    "1": "42"
                                },
                                {
                                    "0": "All other fabricated metal products",
                                    "1": "42"
                                },
                                {
                                    "0": "Agricultural",
                                    "1": "42"
                                },
                                {
                                    "0": "Aircraft",
                                    "1": "42"
                                },
                                {
                                    "0": "Construction equipment",
                                    "1": "42"
                                },
                                {
                                    "0": "Converted paper products",
                                    "1": "42"
                                },
                                {
                                    "0": "Fabricated metal products",
                                    "1": "42"
                                },
                                {
                                    "0": "Electronic instruments",
                                    "1": "42"
                                },
                                {
                                    "0": "Utility system construction",
                                    "1": "42"
                                },
                                {
                                    "0": "Wood products",
                                    "1": "42"
                                },
                                {
                                    "0": "Poultry processing",
                                    "1": "42"
                                },
                                {
                                    "0": "Plastics and rubber products",
                                    "1": "42"
                                },
                                {
                                    "0": "Plastics packaging materials",
                                    "1": "42"
                                },
                                {
                                    "0": "Plastics products",
                                    "1": "42"
                                },
                                {
                                    "0": "Primary metals",
                                    "1": "42"
                                },
                                {
                                    "0": "Resin",
                                    "1": "42"
                                },
                                {
                                    "0": "Ornamental and architectural metal products",
                                    "1": "42"
                                },
                                {
                                    "0": "Oil and gas extraction",
                                    "1": "42"
                                },
                                {
                                    "0": "Other fabricated metal products",
                                    "1": "42"
                                },
                                {
                                    "0": "Other general purpose machinery",
                                    "1": "42"
                                },
                                {
                                    "0": "Packaging and labeling services",
                                    "1": "42"
                                },
                                {
                                    "0": "Petroleum",
                                    "1": "43"
                                },
                                {
                                    "0": "Other specialized trucking",
                                    "1": "43"
                                },
                                {
                                    "0": "Paperboard containers",
                                    "1": "43"
                                },
                                {
                                    "0": "Other electrical equipment and components",
                                    "1": "43"
                                },
                                {
                                    "0": "Other heavy construction",
                                    "1": "43"
                                },
                                {
                                    "0": "Sawmills and wood preservation",
                                    "1": "43"
                                },
                                {
                                    "0": "Power and communication system construction",
                                    "1": "43"
                                },
                                {
                                    "0": "Power generation and supply",
                                    "1": "43"
                                },
                                {
                                    "0": "Utilities",
                                    "1": "43"
                                },
                                {
                                    "0": "Turned products and screws",
                                    "1": "43"
                                },
                                {
                                    "0": "Special tools",
                                    "1": "43"
                                },
                                {
                                    "0": "Electrical equipment",
                                    "1": "43"
                                },
                                {
                                    "0": "Electrical equipment and appliances",
                                    "1": "43"
                                },
                                {
                                    "0": "Electric power generation",
                                    "1": "43"
                                },
                                {
                                    "0": "Corrugated and solid fiber boxes",
                                    "1": "43"
                                },
                                {
                                    "0": "Aerospace products and parts",
                                    "1": "43"
                                },
                                {
                                    "0": "Animal slaughtering and processing",
                                    "1": "43"
                                },
                                {
                                    "0": "Metalworking machinery",
                                    "1": "43"
                                },
                                {
                                    "0": "Machinery",
                                    "1": "43"
                                },
                                {
                                    "0": "HVAC and commercial refrigeration equipment",
                                    "1": "43"
                                },
                                {
                                    "0": "Forging and stamping",
                                    "1": "43"
                                },
                                {
                                    "0": "Fossil fuel electric power generation",
                                    "1": "43"
                                },
                                {
                                    "0": "Fruit and vegetable preserving and specialty",
                                    "1": "43"
                                },
                                {
                                    "0": "Frozen food",
                                    "1": "44"
                                },
                                {
                                    "0": "Metal valves",
                                    "1": "44"
                                },
                                {
                                    "0": "Motor vehicle gasoline engine and parts",
                                    "1": "44"
                                },
                                {
                                    "0": "All other motor vehicle parts",
                                    "1": "44"
                                },
                                {
                                    "0": "Crushed and broken limestone mining",
                                    "1": "44"
                                },
                                {
                                    "0": "Electric power transmission and distribution",
                                    "1": "44"
                                },
                                {
                                    "0": "Stone mining and quarrying",
                                    "1": "44"
                                },
                                {
                                    "0": "Transportation equipment",
                                    "1": "44"
                                },
                                {
                                    "0": "Surgical appliances and supplies",
                                    "1": "44"
                                },
                                {
                                    "0": "Turbine and power transmission equipment",
                                    "1": "44"
                                },
                                {
                                    "0": "Pulp",
                                    "1": "44"
                                },
                                {
                                    "0": "Rubber products",
                                    "1": "44"
                                },
                                {
                                    "0": "Pipeline transportation",
                                    "1": "44"
                                },
                                {
                                    "0": "Petroleum and coal products",
                                    "1": "45"
                                },
                                {
                                    "0": "Oil and gas pipeline construction",
                                    "1": "45"
                                },
                                {
                                    "0": "Waste treatment and disposal",
                                    "1": "45"
                                },
                                {
                                    "0": "Basic chemicals",
                                    "1": "45"
                                },
                                {
                                    "0": "Motor vehicle parts",
                                    "1": "45"
                                },
                                {
                                    "0": "Mining",
                                    "1": "46"
                                },
                                {
                                    "0": "Mining and logging",
                                    "1": "46"
                                },
                                {
                                    "0": "Boilers",
                                    "1": "46"
                                },
                                {
                                    "0": "Coal mining",
                                    "1": "47"
                                },
                                {
                                    "0": "Motor vehicle metal stamping",
                                    "1": "47"
                                },
                                {
                                    "0": "Support activities for mining",
                                    "1": "47"
                                },
                                {
                                    "0": "Support activities for oil and gas operations",
                                    "1": "47"
                                },
                                {
                                    "0": "Motor vehicle power train components",
                                    "1": "49"
                                }
                            ]
                        },
                        "text/html": "<table><tr><th>industry_name</th><th>LOWESTHOURS</th></tr><tr><td>Fitness and recreational sports centers</td><td>17</td></tr><tr><td>Family clothing stores</td><td>18</td></tr><tr><td>Civic and social organizations</td><td>18</td></tr><tr><td>Women's clothing stores</td><td>18</td></tr><tr><td>Skiing facilities</td><td>19</td></tr><tr><td>Clothing stores</td><td>19</td></tr><tr><td>NULL</td><td>19</td></tr><tr><td>Bowling centers</td><td>20</td></tr><tr><td>Clothing accessories stores</td><td>21</td></tr><tr><td>Clothing and clothing accessories stores</td><td>21</td></tr><tr><td>Drinking places</td><td>21</td></tr><tr><td>Amusements</td><td>22</td></tr><tr><td>Gift</td><td>22</td></tr><tr><td>Snack and nonalcoholic beverage bars</td><td>22</td></tr><tr><td>Shoe stores</td><td>23</td></tr><tr><td>Other personal care services</td><td>23</td></tr><tr><td>Arts</td><td>23</td></tr><tr><td>Book stores and news dealers</td><td>24</td></tr><tr><td>Food services and drinking places</td><td>24</td></tr><tr><td>Full-service restaurants</td><td>24</td></tr><tr><td>Limited-service restaurants</td><td>24</td></tr><tr><td>Leisure and hospitality</td><td>24</td></tr><tr><td>Other home furnishings stores</td><td>24</td></tr><tr><td>Restaurants and other eating places</td><td>24</td></tr><tr><td>Performing arts and spectator sports</td><td>25</td></tr><tr><td>Performing arts companies</td><td>25</td></tr><tr><td>Personal care services</td><td>25</td></tr><tr><td>Pet care services</td><td>25</td></tr><tr><td>Special food services</td><td>25</td></tr><tr><td>Sporting goods</td><td>25</td></tr><tr><td>Museums</td><td>25</td></tr><tr><td>Office supplies</td><td>25</td></tr><tr><td>Golf courses and country clubs</td><td>25</td></tr><tr><td>Hair</td><td>25</td></tr><tr><td>Hobby</td><td>25</td></tr><tr><td>Accommodation and food services</td><td>25</td></tr><tr><td>Florists</td><td>25</td></tr><tr><td>Coin-operated laundries and drycleaners</td><td>26</td></tr><tr><td>Beer</td><td>26</td></tr><tr><td>Cafeterias</td><td>26</td></tr><tr><td>Car washes</td><td>26</td></tr><tr><td>Sporting goods and musical instrument stores</td><td>26</td></tr><tr><td>Sporting goods stores</td><td>26</td></tr><tr><td>Offices of chiropractors</td><td>26</td></tr><tr><td>Offices of dentists</td><td>27</td></tr><tr><td>Offices of mental health practitioners</td><td>27</td></tr><tr><td>Personal and laundry services</td><td>27</td></tr><tr><td>Other personal services</td><td>27</td></tr><tr><td>RV parks and recreational camps</td><td>27</td></tr><tr><td>Services for the elderly and persons with disabilities</td><td>27</td></tr><tr><td>Social science and humanities research</td><td>27</td></tr><tr><td>Spectator sports</td><td>27</td></tr><tr><td>Home furnishings stores</td><td>27</td></tr><tr><td>Janitorial services</td><td>27</td></tr><tr><td>Food service contractors</td><td>27</td></tr><tr><td>Motion picture and sound recording industries</td><td>27</td></tr><tr><td>Miscellaneous store retailers</td><td>28</td></tr><tr><td>Marketing research and public opinion polling</td><td>28</td></tr><tr><td>Freestanding emergency medical centers</td><td>28</td></tr><tr><td>General merchandise stores</td><td>28</td></tr><tr><td>Independent artists</td><td>28</td></tr><tr><td>Individual and family services</td><td>28</td></tr><tr><td>Grocery stores</td><td>28</td></tr><tr><td>Food and beverage stores</td><td>28</td></tr><tr><td>Specialty food stores</td><td>28</td></tr><tr><td>Supermarkets and other grocery stores</td><td>28</td></tr><tr><td>Parking lots and garages</td><td>28</td></tr><tr><td>Offices of optometrists</td><td>28</td></tr><tr><td>Offices of other health practitioners</td><td>28</td></tr><tr><td>Offices of all other health practitioners</td><td>28</td></tr><tr><td>Offices of specialty therapists</td><td>28</td></tr><tr><td>Offices of mental health physicians</td><td>29</td></tr><tr><td>Pet and pet supplies stores</td><td>29</td></tr><tr><td>Pharmacies and drug stores</td><td>29</td></tr><tr><td>Other miscellaneous store retailers</td><td>29</td></tr><tr><td>Social assistance</td><td>29</td></tr><tr><td>Services to buildings and dwellings</td><td>29</td></tr><tr><td>School and employee bus transportation</td><td>29</td></tr><tr><td>Traveler accommodation</td><td>29</td></tr><tr><td>Used merchandise stores</td><td>29</td></tr><tr><td>Veterinary services</td><td>29</td></tr><tr><td>Convenience stores</td><td>29</td></tr><tr><td>Death care services</td><td>29</td></tr><tr><td>Cosmetic and beauty supply stores</td><td>29</td></tr><tr><td>Accommodation</td><td>29</td></tr><tr><td>Health and personal care stores</td><td>29</td></tr><tr><td>Home centers</td><td>29</td></tr><tr><td>Home health care services</td><td>29</td></tr><tr><td>Hotels and motels</td><td>29</td></tr><tr><td>Office supplies and stationery stores</td><td>29</td></tr><tr><td>Membership associations and organizations</td><td>30</td></tr><tr><td>Lessors of nonresidential buildings</td><td>30</td></tr><tr><td>Hardware stores</td><td>30</td></tr><tr><td>Jewelry</td><td>30</td></tr><tr><td>Gasoline stations</td><td>30</td></tr><tr><td>Gasoline stations with convenience stores</td><td>30</td></tr><tr><td>Carpet and upholstery cleaning services</td><td>30</td></tr><tr><td>Child and youth services</td><td>30</td></tr><tr><td>Child day care services</td><td>30</td></tr><tr><td>Drycleaning and laundry services</td><td>30</td></tr><tr><td>Vocational rehabilitation services</td><td>30</td></tr><tr><td>Used household and office goods moving</td><td>30</td></tr><tr><td>Retail trade</td><td>30</td></tr><tr><td>Other automotive repair and maintenance</td><td>30</td></tr><tr><td>Other health and personal care stores</td><td>30</td></tr><tr><td>Other individual and family services</td><td>30</td></tr><tr><td>Other professional and technical services</td><td>31</td></tr><tr><td>Other services</td><td>31</td></tr><tr><td>Photographic services</td><td>31</td></tr><tr><td>Radio broadcasting</td><td>31</td></tr><tr><td>Support activities for water transportation</td><td>31</td></tr><tr><td>Community care facilities for the elderly</td><td>31</td></tr><tr><td>Building material and garden supply stores</td><td>31</td></tr><tr><td>Building material and supplies dealers</td><td>31</td></tr><tr><td>Assisted living facilities for the elderly</td><td>31</td></tr><tr><td>Ambulatory health care services</td><td>31</td></tr><tr><td>Grantmaking foundations</td><td>31</td></tr><tr><td>Furniture and home furnishings stores</td><td>31</td></tr><tr><td>Labor unions and similar labor organizations</td><td>31</td></tr><tr><td>Human rights organizations</td><td>31</td></tr><tr><td>Health care and social assistance</td><td>32</td></tr><tr><td>Framing contractors</td><td>32</td></tr><tr><td>Landscaping services</td><td>32</td></tr><tr><td>Lawn and garden equipment and supplies stores</td><td>32</td></tr><tr><td>Marinas</td><td>32</td></tr><tr><td>Nursing and residential care facilities</td><td>32</td></tr><tr><td>Nursing care facilities</td><td>32</td></tr><tr><td>All other support services</td><td>32</td></tr><tr><td>Air transportation</td><td>32</td></tr><tr><td>Airport operations</td><td>32</td></tr><tr><td>Convention and trade show organizers</td><td>32</td></tr><tr><td>Continuing care retirement communities</td><td>32</td></tr><tr><td>Education and health services</td><td>32</td></tr><tr><td>Emergency and other relief services</td><td>32</td></tr><tr><td>Private service-providing</td><td>32</td></tr><tr><td>Outpatient mental health centers</td><td>32</td></tr><tr><td>Other services to buildings and dwellings</td><td>32</td></tr><tr><td>Other gasoline stations</td><td>32</td></tr><tr><td>Optical goods stores</td><td>33</td></tr><tr><td>Other residential care facilities</td><td>33</td></tr><tr><td>Outpatient care centers</td><td>33</td></tr><tr><td>Professional and similar organizations</td><td>33</td></tr><tr><td>Professional employer organizations</td><td>33</td></tr><tr><td>Roofing contractors</td><td>33</td></tr><tr><td>Social advocacy organizations</td><td>33</td></tr><tr><td>Siding contractors</td><td>33</td></tr><tr><td>Telephone call centers</td><td>33</td></tr><tr><td>Trade</td><td>33</td></tr><tr><td>Employment placement agencies and executive search services</td><td>33</td></tr><tr><td>Administrative and support services</td><td>33</td></tr><tr><td>Administrative and waste services</td><td>33</td></tr><tr><td>Newspaper publishers</td><td>33</td></tr><tr><td>Lessors of real estate</td><td>33</td></tr><tr><td>Grantmaking and giving services</td><td>33</td></tr><tr><td>Household appliance stores</td><td>33</td></tr><tr><td>Household goods repair and maintenance</td><td>33</td></tr><tr><td>Investigation and security services</td><td>34</td></tr><tr><td>Gambling industries</td><td>34</td></tr><tr><td>Lessors of residential buildings</td><td>34</td></tr><tr><td>Masonry contractors</td><td>34</td></tr><tr><td>Accounting and bookkeeping services</td><td>34</td></tr><tr><td>Business service centers</td><td>34</td></tr><tr><td>Business support services</td><td>34</td></tr><tr><td>Broadcasting</td><td>34</td></tr><tr><td>Employment services</td><td>34</td></tr><tr><td>Transit and ground passenger transportation</td><td>34</td></tr><tr><td>Temporary help services</td><td>34</td></tr><tr><td>Support activities for air transportation</td><td>34</td></tr><tr><td>Total private</td><td>34</td></tr><tr><td>Travel agencies</td><td>34</td></tr><tr><td>Travel arrangement and reservation services</td><td>34</td></tr><tr><td>Security and armored car services</td><td>34</td></tr><tr><td>Residential mental health facilities</td><td>34</td></tr><tr><td>Residential property managers</td><td>34</td></tr><tr><td>Seafood product preparation and packaging</td><td>34</td></tr><tr><td>Residential intellectual and developmental disability facilities</td><td>34</td></tr><tr><td>Real estate</td><td>34</td></tr><tr><td>Other ground passenger transportation</td><td>34</td></tr><tr><td>Other support services</td><td>34</td></tr><tr><td>Nursery stock and florists' supplies</td><td>34</td></tr><tr><td>Offices of physicians</td><td>34</td></tr><tr><td>Offices of real estate agents and brokers</td><td>34</td></tr><tr><td>Other information services</td><td>34</td></tr><tr><td>Other building finishing contractors</td><td>35</td></tr><tr><td>Offices of certified public accountants</td><td>35</td></tr><tr><td>Other motor vehicle dealers</td><td>35</td></tr><tr><td>Payroll services</td><td>35</td></tr><tr><td>Professional organizations</td><td>35</td></tr><tr><td>Public relations agencies</td><td>35</td></tr><tr><td>Real estate property managers</td><td>35</td></tr><tr><td>Rental and leasing services</td><td>35</td></tr><tr><td>Professional and business services</td><td>35</td></tr><tr><td>Residential mental health and substance abuse facilites</td><td>35</td></tr><tr><td>Used car dealers</td><td>35</td></tr><tr><td>Electronic shopping and mail-order houses</td><td>35</td></tr><tr><td>Floor covering stores</td><td>35</td></tr><tr><td>Finish carpentry contractors</td><td>35</td></tr><tr><td>Diagnostic imaging centers</td><td>35</td></tr><tr><td>Building foundation and exterior contractors</td><td>35</td></tr><tr><td>Business associations</td><td>35</td></tr><tr><td>Activities related to real estate</td><td>35</td></tr><tr><td>Mail-order houses</td><td>35</td></tr><tr><td>Marketing consulting services</td><td>35</td></tr><tr><td>New single-family general contractors</td><td>35</td></tr><tr><td>Newspaper</td><td>35</td></tr><tr><td>Furniture stores</td><td>35</td></tr><tr><td>General medical and surgical hospitals</td><td>36</td></tr><tr><td>General rental centers</td><td>36</td></tr><tr><td>Investment advice</td><td>36</td></tr><tr><td>Hospitals</td><td>36</td></tr><tr><td>Information</td><td>36</td></tr><tr><td>Insurance agencies</td><td>36</td></tr><tr><td>Insurance agencies and brokerages</td><td>36</td></tr><tr><td>Office administrative services</td><td>36</td></tr><tr><td>Nonresidential property managers</td><td>36</td></tr><tr><td>Nonstore retailers</td><td>36</td></tr><tr><td>Management and technical consulting services</td><td>36</td></tr><tr><td>Management consulting services</td><td>36</td></tr><tr><td>Legal services</td><td>36</td></tr><tr><td>Alcoholic beverages</td><td>36</td></tr><tr><td>All other ambulatory health care services</td><td>36</td></tr><tr><td>Advertising agencies</td><td>36</td></tr><tr><td>Advertising and related services</td><td>36</td></tr><tr><td>All other specialty trade contractors</td><td>36</td></tr><tr><td>Apparel</td><td>36</td></tr><tr><td>Building finishing contractors</td><td>36</td></tr><tr><td>Automotive parts and accessories stores</td><td>36</td></tr><tr><td>Automotive repair and maintenance</td><td>36</td></tr><tr><td>Dental laboratories</td><td>36</td></tr><tr><td>Drywall and insulation contractors</td><td>36</td></tr><tr><td>Druggists' goods</td><td>36</td></tr><tr><td>Couriers and messengers</td><td>36</td></tr><tr><td>Collection agencies</td><td>36</td></tr><tr><td>Computer and office machine repair</td><td>36</td></tr><tr><td>Farm product raw materials</td><td>36</td></tr><tr><td>Electronics and appliance stores</td><td>36</td></tr><tr><td>Electronics stores</td><td>36</td></tr><tr><td>Exterminating and pest control services</td><td>36</td></tr><tr><td>Title abstract and settlement offices</td><td>36</td></tr><tr><td>Support activities for transportation</td><td>36</td></tr><tr><td>Residential remodelers</td><td>36</td></tr><tr><td>Residential building</td><td>36</td></tr><tr><td>Repair and maintenance</td><td>36</td></tr><tr><td>Publishing industries</td><td>36</td></tr><tr><td>Professional and technical services</td><td>36</td></tr><tr><td>Periodical publishers</td><td>36</td></tr><tr><td>Painting and wall covering contractors</td><td>36</td></tr><tr><td>Offices of lawyers</td><td>36</td></tr><tr><td>Other ambulatory health care services</td><td>37</td></tr><tr><td>Other financial investment activities</td><td>37</td></tr><tr><td>Other insurance-related activities</td><td>37</td></tr><tr><td>Other legal services</td><td>37</td></tr><tr><td>Other specialty trade contractors</td><td>37</td></tr><tr><td>Process and logistics consulting services</td><td>37</td></tr><tr><td>Poured concrete structure contractors</td><td>37</td></tr><tr><td>Ready-mix concrete</td><td>37</td></tr><tr><td>Reinsurance carriers</td><td>37</td></tr><tr><td>Savings institutions</td><td>37</td></tr><tr><td>Scientific research and development services</td><td>37</td></tr><tr><td>Security systems services</td><td>37</td></tr><tr><td>Signs</td><td>37</td></tr><tr><td>Site preparation contractors</td><td>37</td></tr><tr><td>Telecommunications resellers</td><td>37</td></tr><tr><td>Textile product mills</td><td>37</td></tr><tr><td>Third-party administration of insurance funds</td><td>37</td></tr><tr><td>Specialty trade contractors</td><td>37</td></tr><tr><td>Sugar and confectionery products</td><td>37</td></tr><tr><td>Specialized design services</td><td>37</td></tr><tr><td>Wholesale trade agents and brokers</td><td>37</td></tr><tr><td>Electronic markets and agents and brokers</td><td>37</td></tr><tr><td>Financial activities</td><td>37</td></tr><tr><td>Flooring contractors</td><td>37</td></tr><tr><td>Depository credit intermediation</td><td>37</td></tr><tr><td>Bakeries and tortilla manufacturing</td><td>37</td></tr><tr><td>Biotechnology research</td><td>37</td></tr><tr><td>Commercial banking</td><td>37</td></tr><tr><td>Apparel and piece goods</td><td>37</td></tr><tr><td>Auto parts</td><td>37</td></tr><tr><td>Automobile dealers</td><td>37</td></tr><tr><td>Administrative management consulting services</td><td>37</td></tr><tr><td>Activities related to credit intermediation</td><td>37</td></tr><tr><td>Linen and uniform supply</td><td>37</td></tr><tr><td>Masonry materials</td><td>37</td></tr><tr><td>Medical and diagnostic laboratories</td><td>37</td></tr><tr><td>Landscape architectural services</td><td>37</td></tr><tr><td>Motor vehicle and parts dealers</td><td>37</td></tr><tr><td>Misc. nondurable goods</td><td>37</td></tr><tr><td>Motor vehicles</td><td>37</td></tr><tr><td>General automotive repair</td><td>37</td></tr><tr><td>Graphic design services</td><td>37</td></tr><tr><td>Furniture and furnishings</td><td>38</td></tr><tr><td>Insurance carriers and related activities</td><td>38</td></tr><tr><td>Land subdivision</td><td>38</td></tr><tr><td>Home health equipment rental</td><td>38</td></tr><tr><td>Motor vehicles and parts</td><td>38</td></tr><tr><td>New car dealers</td><td>38</td></tr><tr><td>Miscellaneous durable goods</td><td>38</td></tr><tr><td>Nondepository credit intermediation</td><td>38</td></tr><tr><td>Nondurable goods</td><td>38</td></tr><tr><td>Medical laboratories</td><td>38</td></tr><tr><td>Management of companies and enterprises</td><td>38</td></tr><tr><td>Ambulance services</td><td>38</td></tr><tr><td>Automotive mechanical and electrical repair</td><td>38</td></tr><tr><td>Credit intermediation and related activities</td><td>38</td></tr><tr><td>Data processing</td><td>38</td></tr><tr><td>Custom computer programming services</td><td>38</td></tr><tr><td>Computer systems design and related services</td><td>38</td></tr><tr><td>Construction</td><td>38</td></tr><tr><td>Construction of buildings</td><td>38</td></tr><tr><td>Consumer lending</td><td>38</td></tr><tr><td>Financial transaction processing and clearing</td><td>38</td></tr><tr><td>Electronic equipment repair and maintenance</td><td>38</td></tr><tr><td>Farm supplies</td><td>38</td></tr><tr><td>Farm and garden equipment</td><td>38</td></tr><tr><td>Tire dealers</td><td>38</td></tr><tr><td>Transportation and warehousing</td><td>38</td></tr><tr><td>Software publishers</td><td>38</td></tr><tr><td>Securities brokerage</td><td>38</td></tr><tr><td>Research and development in the physical</td><td>38</td></tr><tr><td>Plumbing and HVAC contractors</td><td>38</td></tr><tr><td>Portfolio management</td><td>38</td></tr><tr><td>Physical</td><td>38</td></tr><tr><td>Other miscellaneous durable goods manufacturing</td><td>38</td></tr><tr><td>Other building exterior contractors</td><td>38</td></tr><tr><td>Other household and institutional furniture</td><td>39</td></tr><tr><td>Paper and paper products</td><td>39</td></tr><tr><td>Plumbing equipment</td><td>39</td></tr><tr><td>Printing and related support activities</td><td>39</td></tr><tr><td>Real estate credit</td><td>39</td></tr><tr><td>Support activities for road transportation</td><td>39</td></tr><tr><td>Testing laboratories</td><td>39</td></tr><tr><td>Steel and precast concrete contractors</td><td>39</td></tr><tr><td>Upholstered household furniture</td><td>39</td></tr><tr><td>Wholesale trade</td><td>39</td></tr><tr><td>Wood windows and doors</td><td>39</td></tr><tr><td>Electrical contractors</td><td>39</td></tr><tr><td>Direct life and health insurance carriers</td><td>39</td></tr><tr><td>Computer systems design services</td><td>39</td></tr><tr><td>Computer and software</td><td>39</td></tr><tr><td>Durable goods</td><td>39</td></tr><tr><td>Building equipment contractors</td><td>39</td></tr><tr><td>Business to business electronic markets</td><td>39</td></tr><tr><td>Commercial building</td><td>39</td></tr><tr><td>Commercial equipment</td><td>39</td></tr><tr><td>Commercial machinery repair and maintenance</td><td>39</td></tr><tr><td>Architectural and engineering services</td><td>39</td></tr><tr><td>Automotive body</td><td>39</td></tr><tr><td>Architectural services</td><td>39</td></tr><tr><td>Managing offices</td><td>39</td></tr><tr><td>Medical equipment</td><td>39</td></tr><tr><td>Machinery and equipment rental and leasing</td><td>39</td></tr><tr><td>Nonresidential building</td><td>39</td></tr><tr><td>New motor vehicle parts</td><td>39</td></tr><tr><td>Industrial supplies</td><td>39</td></tr><tr><td>Freight transportation arrangement</td><td>39</td></tr><tr><td>Grocery and related products</td><td>39</td></tr><tr><td>General freight trucking</td><td>39</td></tr><tr><td>Glass and glazing contractors</td><td>39</td></tr><tr><td>General line grocery</td><td>40</td></tr><tr><td>Hardware</td><td>40</td></tr><tr><td>Hardware and plumbing</td><td>40</td></tr><tr><td>Furniture and related products</td><td>40</td></tr><tr><td>Insurance carriers</td><td>40</td></tr><tr><td>Industrial machinery</td><td>40</td></tr><tr><td>Household and institutional furniture</td><td>40</td></tr><tr><td>Miscellaneous durable goods manufacturing</td><td>40</td></tr><tr><td>Motor vehicle bodies and trailers</td><td>40</td></tr><tr><td>Office equipment</td><td>40</td></tr><tr><td>Machinery and supplies</td><td>40</td></tr><tr><td>Metals and minerals</td><td>40</td></tr><tr><td>All other wood products</td><td>40</td></tr><tr><td>Communications equipment</td><td>40</td></tr><tr><td>Chemicals</td><td>40</td></tr><tr><td>Electric goods</td><td>40</td></tr><tr><td>Electroplating</td><td>40</td></tr><tr><td>Farm machinery and equipment</td><td>40</td></tr><tr><td>Facilities support services</td><td>40</td></tr><tr><td>Waste collection</td><td>40</td></tr><tr><td>Water and sewer system construction</td><td>40</td></tr><tr><td>Specialized freight trucking</td><td>40</td></tr><tr><td>Textile mills</td><td>40</td></tr><tr><td>Tile and terrazzo contractors</td><td>40</td></tr><tr><td>Telecommunications</td><td>40</td></tr><tr><td>Remediation and other waste services</td><td>40</td></tr><tr><td>Pharmaceuticals and medicines</td><td>40</td></tr><tr><td>Soaps</td><td>40</td></tr><tr><td>Semiconductors and electronic components</td><td>40</td></tr><tr><td>Paper bags and coated and treated paper</td><td>40</td></tr><tr><td>Other wood products</td><td>41</td></tr><tr><td>Other plastics products</td><td>41</td></tr><tr><td>Other building equipment contractors</td><td>41</td></tr><tr><td>Semiconductors and related devices</td><td>41</td></tr><tr><td>Sheet metal work</td><td>41</td></tr><tr><td>Plate work and fabricated structural products</td><td>41</td></tr><tr><td>Plywood and engineered wood products</td><td>41</td></tr><tr><td>Recyclable materials</td><td>41</td></tr><tr><td>Water</td><td>41</td></tr><tr><td>Waste management and remediation services</td><td>41</td></tr><tr><td>Wood containers and pallets</td><td>41</td></tr><tr><td>Wood kitchen cabinets and countertops</td><td>41</td></tr><tr><td>Wired telecommunications carriers</td><td>41</td></tr><tr><td>Warehousing and storage</td><td>41</td></tr><tr><td>Truck transportation</td><td>41</td></tr><tr><td>Food manufacturing</td><td>41</td></tr><tr><td>Fabricated structural metal products</td><td>41</td></tr><tr><td>Electrical equipment and wiring</td><td>41</td></tr><tr><td>Direct insurers</td><td>41</td></tr><tr><td>Dairy products</td><td>41</td></tr><tr><td>Commercial and service industry machinery</td><td>41</td></tr><tr><td>Computer and electronic products</td><td>41</td></tr><tr><td>Coating</td><td>41</td></tr><tr><td>Cement and concrete products</td><td>41</td></tr><tr><td>Architectural and structural metals</td><td>41</td></tr><tr><td>Logging</td><td>41</td></tr><tr><td>Lumber and construction supplies</td><td>41</td></tr><tr><td>Lumber and wood</td><td>41</td></tr><tr><td>Nonmetallic mineral products</td><td>41</td></tr><tr><td>Millwork</td><td>41</td></tr><tr><td>Natural gas distribution</td><td>41</td></tr><tr><td>Heavy machinery rental and leasing</td><td>41</td></tr><tr><td>Highway</td><td>41</td></tr><tr><td>Industrial building</td><td>41</td></tr><tr><td>Fruit and vegetable canning and drying</td><td>41</td></tr><tr><td>Foundries</td><td>41</td></tr><tr><td>Goods-producing</td><td>41</td></tr><tr><td>General warehousing and storage</td><td>41</td></tr><tr><td>Fruits and vegetables</td><td>42</td></tr><tr><td>Heavy and civil engineering construction</td><td>42</td></tr><tr><td>Machine shops</td><td>42</td></tr><tr><td>Machine shops and threaded products</td><td>42</td></tr><tr><td>Medical equipment and supplies</td><td>42</td></tr><tr><td>Manufacturing</td><td>42</td></tr><tr><td>All other fabricated metal products</td><td>42</td></tr><tr><td>Agricultural</td><td>42</td></tr><tr><td>Aircraft</td><td>42</td></tr><tr><td>Construction equipment</td><td>42</td></tr><tr><td>Converted paper products</td><td>42</td></tr><tr><td>Fabricated metal products</td><td>42</td></tr><tr><td>Electronic instruments</td><td>42</td></tr><tr><td>Utility system construction</td><td>42</td></tr><tr><td>Wood products</td><td>42</td></tr><tr><td>Poultry processing</td><td>42</td></tr><tr><td>Plastics and rubber products</td><td>42</td></tr><tr><td>Plastics packaging materials</td><td>42</td></tr><tr><td>Plastics products</td><td>42</td></tr><tr><td>Primary metals</td><td>42</td></tr><tr><td>Resin</td><td>42</td></tr><tr><td>Ornamental and architectural metal products</td><td>42</td></tr><tr><td>Oil and gas extraction</td><td>42</td></tr><tr><td>Other fabricated metal products</td><td>42</td></tr><tr><td>Other general purpose machinery</td><td>42</td></tr><tr><td>Packaging and labeling services</td><td>42</td></tr><tr><td>Petroleum</td><td>43</td></tr><tr><td>Other specialized trucking</td><td>43</td></tr><tr><td>Paperboard containers</td><td>43</td></tr><tr><td>Other electrical equipment and components</td><td>43</td></tr><tr><td>Other heavy construction</td><td>43</td></tr><tr><td>Sawmills and wood preservation</td><td>43</td></tr><tr><td>Power and communication system construction</td><td>43</td></tr><tr><td>Power generation and supply</td><td>43</td></tr><tr><td>Utilities</td><td>43</td></tr><tr><td>Turned products and screws</td><td>43</td></tr><tr><td>Special tools</td><td>43</td></tr><tr><td>Electrical equipment</td><td>43</td></tr><tr><td>Electrical equipment and appliances</td><td>43</td></tr><tr><td>Electric power generation</td><td>43</td></tr><tr><td>Corrugated and solid fiber boxes</td><td>43</td></tr><tr><td>Aerospace products and parts</td><td>43</td></tr><tr><td>Animal slaughtering and processing</td><td>43</td></tr><tr><td>Metalworking machinery</td><td>43</td></tr><tr><td>Machinery</td><td>43</td></tr><tr><td>HVAC and commercial refrigeration equipment</td><td>43</td></tr><tr><td>Forging and stamping</td><td>43</td></tr><tr><td>Fossil fuel electric power generation</td><td>43</td></tr><tr><td>Fruit and vegetable preserving and specialty</td><td>43</td></tr><tr><td>Frozen food</td><td>44</td></tr><tr><td>Metal valves</td><td>44</td></tr><tr><td>Motor vehicle gasoline engine and parts</td><td>44</td></tr><tr><td>All other motor vehicle parts</td><td>44</td></tr><tr><td>Crushed and broken limestone mining</td><td>44</td></tr><tr><td>Electric power transmission and distribution</td><td>44</td></tr><tr><td>Stone mining and quarrying</td><td>44</td></tr><tr><td>Transportation equipment</td><td>44</td></tr><tr><td>Surgical appliances and supplies</td><td>44</td></tr><tr><td>Turbine and power transmission equipment</td><td>44</td></tr><tr><td>Pulp</td><td>44</td></tr><tr><td>Rubber products</td><td>44</td></tr><tr><td>Pipeline transportation</td><td>44</td></tr><tr><td>Petroleum and coal products</td><td>45</td></tr><tr><td>Oil and gas pipeline construction</td><td>45</td></tr><tr><td>Waste treatment and disposal</td><td>45</td></tr><tr><td>Basic chemicals</td><td>45</td></tr><tr><td>Motor vehicle parts</td><td>45</td></tr><tr><td>Mining</td><td>46</td></tr><tr><td>Mining and logging</td><td>46</td></tr><tr><td>Boilers</td><td>46</td></tr><tr><td>Coal mining</td><td>47</td></tr><tr><td>Motor vehicle metal stamping</td><td>47</td></tr><tr><td>Support activities for mining</td><td>47</td></tr><tr><td>Support activities for oil and gas operations</td><td>47</td></tr><tr><td>Motor vehicle power train components</td><td>49</td></tr></table>"
                    },
                    "metadata": {}
                }
            ],
            "execution_count": 2
        },
        {
            "cell_type": "markdown",
            "source": [
                "7. <span style=\"background-color: rgb(255, 255, 255); font-size: 10pt; white-space: pre-wrap; color: rgb(102, 102, 102); font-family: Arvo, serif;\">In January 2021, which industry was the total weekly payroll for production and nonsupervisory employees the highest? Which industry was the lowest?</span>"
            ],
            "metadata": {
                "azdata_cell_guid": "a53f4113-60c6-46d1-b9a3-34610c61d4f9"
            }
        },
        {
            "cell_type": "code",
            "source": [
                "\n",
                "-- SELECT i.industry_name, ROUND(MAX(j.value), 0) AS 'HIGHESTPAYROLL'\n",
                "-- FROM LaborStatisticsDB.dbo.january_2017 as j \n",
                "-- JOIN LaborStatisticsDB.dbo.series as s \n",
                "-- ON j.series_id = s.series_id\n",
                "-- JOIN LaborStatisticsDB.dbo.industry as i \n",
                "-- ON i.industry_code = s.industry_code\n",
                "-- WHERE  j.series_id LIKE '%82'\n",
                "-- GROUP BY industry_name\n",
                "-- ORDER BY HIGHESTPAYROLL\n",
                "\n",
                "-- SELECT i.industry_name, ROUND(MIN(j.value), 0) AS 'LOWESTPAYROLL'\n",
                "-- FROM LaborStatisticsDB.dbo.january_2017 as j \n",
                "-- JOIN LaborStatisticsDB.dbo.series as s \n",
                "-- ON j.series_id = s.series_id\n",
                "-- JOIN LaborStatisticsDB.dbo.industry as i \n",
                "-- ON i.industry_code = s.industry_code\n",
                "-- WHERE  j.series_id LIKE '%82'\n",
                "-- GROUP BY industry_name\n",
                "-- ORDER BY LOWESTPAYROLL\n",
                "\n",
                "\n",
                "\n",
                "SELECT i.industry_name, ROUND(SUM(j.value), 0) AS 'HIGHESTPAYROLL'\n",
                "FROM LaborStatisticsDB.dbo.january_2017 as j \n",
                "JOIN LaborStatisticsDB.dbo.series as s \n",
                "ON j.series_id = s.series_id\n",
                "JOIN LaborStatisticsDB.dbo.industry as i \n",
                "ON i.industry_code = s.industry_code\n",
                "WHERE j.series_id LIKE '%30'\n",
                "GROUP BY industry_name\n",
                "ORDER BY HIGHESTPAYROLL DESC;\n",
                "\n",
                "SELECT i.industry_name, ROUND(SUM(j.value), 0) AS 'LOWESTPAYROLL'\n",
                "FROM LaborStatisticsDB.dbo.january_2017 as j \n",
                "JOIN LaborStatisticsDB.dbo.series as s \n",
                "ON j.series_id = s.series_id\n",
                "JOIN LaborStatisticsDB.dbo.industry as i \n",
                "ON i.industry_code = s.industry_code\n",
                "WHERE j.series_id LIKE '%30'\n",
                "GROUP BY industry_name\n",
                "ORDER BY LOWESTPAYROLL"
            ],
            "metadata": {
                "azdata_cell_guid": "583695e6-7438-4e03-8970-1fe0c677a793",
                "language": "sql",
                "tags": []
            },
            "outputs": [
                {
                    "output_type": "display_data",
                    "data": {
                        "text/html": "(501 rows affected)"
                    },
                    "metadata": {}
                },
                {
                    "output_type": "display_data",
                    "data": {
                        "text/html": "(501 rows affected)"
                    },
                    "metadata": {}
                },
                {
                    "output_type": "display_data",
                    "data": {
                        "text/html": "Total execution time: 00:00:00.326"
                    },
                    "metadata": {}
                },
                {
                    "output_type": "execute_result",
                    "execution_count": 8,
                    "data": {
                        "application/vnd.dataresource+json": {
                            "schema": {
                                "fields": [
                                    {
                                        "name": "industry_name"
                                    },
                                    {
                                        "name": "HIGHESTPAYROLL"
                                    }
                                ]
                            },
                            "data": [
                                {
                                    "0": "NULL",
                                    "1": "119157"
                                },
                                {
                                    "0": "General freight trucking",
                                    "1": "17856"
                                },
                                {
                                    "0": "Mining",
                                    "1": "10143"
                                },
                                {
                                    "0": "Motor vehicles",
                                    "1": "8459"
                                },
                                {
                                    "0": "Industrial machinery",
                                    "1": "8204"
                                },
                                {
                                    "0": "Offices of physicians",
                                    "1": "8150"
                                },
                                {
                                    "0": "Chemicals",
                                    "1": "7984"
                                },
                                {
                                    "0": "Durable goods",
                                    "1": "7556"
                                },
                                {
                                    "0": "Other specialized trucking",
                                    "1": "7546"
                                },
                                {
                                    "0": "Reinsurance carriers",
                                    "1": "7242"
                                },
                                {
                                    "0": "Petroleum and coal products",
                                    "1": "7210"
                                },
                                {
                                    "0": "Fossil fuel electric power generation",
                                    "1": "7113"
                                },
                                {
                                    "0": "Paper and paper products",
                                    "1": "7104"
                                },
                                {
                                    "0": "Pipeline transportation",
                                    "1": "6934"
                                },
                                {
                                    "0": "Electric power generation",
                                    "1": "6907"
                                },
                                {
                                    "0": "Software publishers",
                                    "1": "6757"
                                },
                                {
                                    "0": "Power generation and supply",
                                    "1": "6654"
                                },
                                {
                                    "0": "Aircraft",
                                    "1": "6604"
                                },
                                {
                                    "0": "Custom computer programming services",
                                    "1": "6517"
                                },
                                {
                                    "0": "Physical",
                                    "1": "6517"
                                },
                                {
                                    "0": "Computer systems design services",
                                    "1": "6459"
                                },
                                {
                                    "0": "Electric power transmission and distribution",
                                    "1": "6435"
                                },
                                {
                                    "0": "Computer systems design and related services",
                                    "1": "6426"
                                },
                                {
                                    "0": "Nondurable goods",
                                    "1": "6383"
                                },
                                {
                                    "0": "Aerospace products and parts",
                                    "1": "6358"
                                },
                                {
                                    "0": "Portfolio management",
                                    "1": "6349"
                                },
                                {
                                    "0": "Utilities",
                                    "1": "6200"
                                },
                                {
                                    "0": "Research and development in the physical",
                                    "1": "6193"
                                },
                                {
                                    "0": "Oil and gas extraction",
                                    "1": "6106"
                                },
                                {
                                    "0": "Scientific research and development services",
                                    "1": "5920"
                                },
                                {
                                    "0": "Computer and software",
                                    "1": "5920"
                                },
                                {
                                    "0": "Coal mining",
                                    "1": "5819"
                                },
                                {
                                    "0": "Other financial investment activities",
                                    "1": "5758"
                                },
                                {
                                    "0": "Other heavy construction",
                                    "1": "5698"
                                },
                                {
                                    "0": "Oil and gas pipeline construction",
                                    "1": "5679"
                                },
                                {
                                    "0": "Securities brokerage",
                                    "1": "5646"
                                },
                                {
                                    "0": "Natural gas distribution",
                                    "1": "5529"
                                },
                                {
                                    "0": "Administrative management consulting services",
                                    "1": "5439"
                                },
                                {
                                    "0": "Basic chemicals",
                                    "1": "5410"
                                },
                                {
                                    "0": "Biotechnology research",
                                    "1": "5325"
                                },
                                {
                                    "0": "Semiconductors and related devices",
                                    "1": "5320"
                                },
                                {
                                    "0": "Investment advice",
                                    "1": "5171"
                                },
                                {
                                    "0": "Power and communication system construction",
                                    "1": "5155"
                                },
                                {
                                    "0": "Architectural and engineering services",
                                    "1": "5120"
                                },
                                {
                                    "0": "Offices of lawyers",
                                    "1": "5064"
                                },
                                {
                                    "0": "Wholesale trade agents and brokers",
                                    "1": "5055"
                                },
                                {
                                    "0": "Advertising agencies",
                                    "1": "5049"
                                },
                                {
                                    "0": "Mining and logging",
                                    "1": "5043"
                                },
                                {
                                    "0": "Publishing industries",
                                    "1": "5024"
                                },
                                {
                                    "0": "Data processing",
                                    "1": "5014"
                                },
                                {
                                    "0": "Professional and technical services",
                                    "1": "5011"
                                },
                                {
                                    "0": "Management consulting services",
                                    "1": "5003"
                                },
                                {
                                    "0": "Electronic markets and agents and brokers",
                                    "1": "5002"
                                },
                                {
                                    "0": "Management and technical consulting services",
                                    "1": "5001"
                                },
                                {
                                    "0": "Legal services",
                                    "1": "4936"
                                },
                                {
                                    "0": "Support activities for mining",
                                    "1": "4924"
                                },
                                {
                                    "0": "Insurance carriers",
                                    "1": "4876"
                                },
                                {
                                    "0": "Direct insurers",
                                    "1": "4876"
                                },
                                {
                                    "0": "Architectural services",
                                    "1": "4870"
                                },
                                {
                                    "0": "Utility system construction",
                                    "1": "4863"
                                },
                                {
                                    "0": "Real estate credit",
                                    "1": "4856"
                                },
                                {
                                    "0": "Pulp",
                                    "1": "4849"
                                },
                                {
                                    "0": "Commercial equipment",
                                    "1": "4845"
                                },
                                {
                                    "0": "Motor vehicle power train components",
                                    "1": "4822"
                                },
                                {
                                    "0": "Waste treatment and disposal",
                                    "1": "4817"
                                },
                                {
                                    "0": "Direct life and health insurance carriers",
                                    "1": "4811"
                                },
                                {
                                    "0": "Other building equipment contractors",
                                    "1": "4806"
                                },
                                {
                                    "0": "Heavy and civil engineering construction",
                                    "1": "4789"
                                },
                                {
                                    "0": "Industrial building",
                                    "1": "4786"
                                },
                                {
                                    "0": "Electronic instruments",
                                    "1": "4768"
                                },
                                {
                                    "0": "Steel and precast concrete contractors",
                                    "1": "4739"
                                },
                                {
                                    "0": "Heavy machinery rental and leasing",
                                    "1": "4738"
                                },
                                {
                                    "0": "Support activities for oil and gas operations",
                                    "1": "4736"
                                },
                                {
                                    "0": "Public relations agencies",
                                    "1": "4723"
                                },
                                {
                                    "0": "Sporting goods",
                                    "1": "4661"
                                },
                                {
                                    "0": "Other information services",
                                    "1": "4609"
                                },
                                {
                                    "0": "Telecommunications",
                                    "1": "4589"
                                },
                                {
                                    "0": "Wired telecommunications carriers",
                                    "1": "4549"
                                },
                                {
                                    "0": "Electrical contractors",
                                    "1": "4524"
                                },
                                {
                                    "0": "Land subdivision",
                                    "1": "4497"
                                },
                                {
                                    "0": "Insurance carriers and related activities",
                                    "1": "4473"
                                },
                                {
                                    "0": "Nonresidential building",
                                    "1": "4465"
                                },
                                {
                                    "0": "Medical equipment",
                                    "1": "4459"
                                },
                                {
                                    "0": "General medical and surgical hospitals",
                                    "1": "4452"
                                },
                                {
                                    "0": "Financial transaction processing and clearing",
                                    "1": "4419"
                                },
                                {
                                    "0": "Information",
                                    "1": "4397"
                                },
                                {
                                    "0": "Hospitals",
                                    "1": "4379"
                                },
                                {
                                    "0": "Transportation equipment",
                                    "1": "4377"
                                },
                                {
                                    "0": "Commercial building",
                                    "1": "4368"
                                },
                                {
                                    "0": "Resin",
                                    "1": "4355"
                                },
                                {
                                    "0": "Commercial and service industry machinery",
                                    "1": "4354"
                                },
                                {
                                    "0": "Highway",
                                    "1": "4349"
                                },
                                {
                                    "0": "Office equipment",
                                    "1": "4343"
                                },
                                {
                                    "0": "Construction equipment",
                                    "1": "4340"
                                },
                                {
                                    "0": "Periodical publishers",
                                    "1": "4331"
                                },
                                {
                                    "0": "Grantmaking foundations",
                                    "1": "4325"
                                },
                                {
                                    "0": "Other insurance-related activities",
                                    "1": "4324"
                                },
                                {
                                    "0": "Tile and terrazzo contractors",
                                    "1": "4315"
                                },
                                {
                                    "0": "Building equipment contractors",
                                    "1": "4310"
                                },
                                {
                                    "0": "Marketing consulting services",
                                    "1": "4303"
                                },
                                {
                                    "0": "Management of companies and enterprises",
                                    "1": "4293"
                                },
                                {
                                    "0": "Graphic design services",
                                    "1": "4290"
                                },
                                {
                                    "0": "Advertising and related services",
                                    "1": "4272"
                                },
                                {
                                    "0": "Air transportation",
                                    "1": "4268"
                                },
                                {
                                    "0": "Managing offices",
                                    "1": "4266"
                                },
                                {
                                    "0": "Professional organizations",
                                    "1": "4265"
                                },
                                {
                                    "0": "Electric goods",
                                    "1": "4248"
                                },
                                {
                                    "0": "Support activities for water transportation",
                                    "1": "4246"
                                },
                                {
                                    "0": "Turbine and power transmission equipment",
                                    "1": "4207"
                                },
                                {
                                    "0": "Labor unions and similar labor organizations",
                                    "1": "4179"
                                },
                                {
                                    "0": "Electrical equipment and wiring",
                                    "1": "4167"
                                },
                                {
                                    "0": "Process and logistics consulting services",
                                    "1": "4157"
                                },
                                {
                                    "0": "Third-party administration of insurance funds",
                                    "1": "4145"
                                },
                                {
                                    "0": "Drywall and insulation contractors",
                                    "1": "4115"
                                },
                                {
                                    "0": "Nondepository credit intermediation",
                                    "1": "4108"
                                },
                                {
                                    "0": "Motor vehicle gasoline engine and parts",
                                    "1": "4101"
                                },
                                {
                                    "0": "Water",
                                    "1": "4099"
                                },
                                {
                                    "0": "Special tools",
                                    "1": "4094"
                                },
                                {
                                    "0": "Water and sewer system construction",
                                    "1": "4084"
                                },
                                {
                                    "0": "Business associations",
                                    "1": "4070"
                                },
                                {
                                    "0": "Computer and electronic products",
                                    "1": "4066"
                                },
                                {
                                    "0": "Specialized design services",
                                    "1": "4054"
                                },
                                {
                                    "0": "Construction",
                                    "1": "4053"
                                },
                                {
                                    "0": "Plumbing and HVAC contractors",
                                    "1": "4049"
                                },
                                {
                                    "0": "Petroleum",
                                    "1": "4036"
                                },
                                {
                                    "0": "Machinery and equipment rental and leasing",
                                    "1": "4015"
                                },
                                {
                                    "0": "Boilers",
                                    "1": "3987"
                                },
                                {
                                    "0": "Office administrative services",
                                    "1": "3985"
                                },
                                {
                                    "0": "Landscape architectural services",
                                    "1": "3952"
                                },
                                {
                                    "0": "Specialty trade contractors",
                                    "1": "3949"
                                },
                                {
                                    "0": "Financial activities",
                                    "1": "3935"
                                },
                                {
                                    "0": "Machinery and supplies",
                                    "1": "3934"
                                },
                                {
                                    "0": "Metalworking machinery",
                                    "1": "3926"
                                },
                                {
                                    "0": "Grantmaking and giving services",
                                    "1": "3923"
                                },
                                {
                                    "0": "Construction of buildings",
                                    "1": "3921"
                                },
                                {
                                    "0": "Insurance agencies",
                                    "1": "3920"
                                },
                                {
                                    "0": "Primary metals",
                                    "1": "3918"
                                },
                                {
                                    "0": "Stone mining and quarrying",
                                    "1": "3889"
                                },
                                {
                                    "0": "Broadcasting",
                                    "1": "3875"
                                },
                                {
                                    "0": "Medical laboratories",
                                    "1": "3871"
                                },
                                {
                                    "0": "Nonresidential property managers",
                                    "1": "3865"
                                },
                                {
                                    "0": "Crushed and broken limestone mining",
                                    "1": "3856"
                                },
                                {
                                    "0": "Activities related to credit intermediation",
                                    "1": "3847"
                                },
                                {
                                    "0": "Testing laboratories",
                                    "1": "3847"
                                },
                                {
                                    "0": "Motor vehicle metal stamping",
                                    "1": "3846"
                                },
                                {
                                    "0": "Wholesale trade",
                                    "1": "3829"
                                },
                                {
                                    "0": "Site preparation contractors",
                                    "1": "3828"
                                },
                                {
                                    "0": "Glass and glazing contractors",
                                    "1": "3814"
                                },
                                {
                                    "0": "Museums",
                                    "1": "3787"
                                },
                                {
                                    "0": "Other specialty trade contractors",
                                    "1": "3779"
                                },
                                {
                                    "0": "Druggists' goods",
                                    "1": "3777"
                                },
                                {
                                    "0": "Medical and diagnostic laboratories",
                                    "1": "3758"
                                },
                                {
                                    "0": "Hardware and plumbing",
                                    "1": "3758"
                                },
                                {
                                    "0": "Insurance agencies and brokerages",
                                    "1": "3752"
                                },
                                {
                                    "0": "Machinery",
                                    "1": "3748"
                                },
                                {
                                    "0": "Metal valves",
                                    "1": "3724"
                                },
                                {
                                    "0": "Telecommunications resellers",
                                    "1": "3722"
                                },
                                {
                                    "0": "Offices of certified public accountants",
                                    "1": "3720"
                                },
                                {
                                    "0": "Goods-producing",
                                    "1": "3718"
                                },
                                {
                                    "0": "All other specialty trade contractors",
                                    "1": "3703"
                                },
                                {
                                    "0": "Commercial machinery repair and maintenance",
                                    "1": "3693"
                                },
                                {
                                    "0": "Waste management and remediation services",
                                    "1": "3689"
                                },
                                {
                                    "0": "Other general purpose machinery",
                                    "1": "3687"
                                },
                                {
                                    "0": "Poured concrete structure contractors",
                                    "1": "3687"
                                },
                                {
                                    "0": "Remediation and other waste services",
                                    "1": "3686"
                                },
                                {
                                    "0": "Plumbing equipment",
                                    "1": "3684"
                                },
                                {
                                    "0": "General line grocery",
                                    "1": "3683"
                                },
                                {
                                    "0": "Professional and business services",
                                    "1": "3676"
                                },
                                {
                                    "0": "Metals and minerals",
                                    "1": "3674"
                                },
                                {
                                    "0": "Lumber and wood",
                                    "1": "3660"
                                },
                                {
                                    "0": "Dairy products",
                                    "1": "3650"
                                },
                                {
                                    "0": "All other ambulatory health care services",
                                    "1": "3646"
                                },
                                {
                                    "0": "Building finishing contractors",
                                    "1": "3646"
                                },
                                {
                                    "0": "Flooring contractors",
                                    "1": "3642"
                                },
                                {
                                    "0": "Pharmaceuticals and medicines",
                                    "1": "3621"
                                },
                                {
                                    "0": "Forging and stamping",
                                    "1": "3615"
                                },
                                {
                                    "0": "Other building exterior contractors",
                                    "1": "3605"
                                },
                                {
                                    "0": "Semiconductors and electronic components",
                                    "1": "3599"
                                },
                                {
                                    "0": "Lumber and construction supplies",
                                    "1": "3554"
                                },
                                {
                                    "0": "Other fabricated metal products",
                                    "1": "3548"
                                },
                                {
                                    "0": "Convention and trade show organizers",
                                    "1": "3546"
                                },
                                {
                                    "0": "Industrial supplies",
                                    "1": "3542"
                                },
                                {
                                    "0": "Payroll services",
                                    "1": "3540"
                                },
                                {
                                    "0": "Freight transportation arrangement",
                                    "1": "3533"
                                },
                                {
                                    "0": "Other electrical equipment and components",
                                    "1": "3528"
                                },
                                {
                                    "0": "Machine shops",
                                    "1": "3520"
                                },
                                {
                                    "0": "Agricultural",
                                    "1": "3511"
                                },
                                {
                                    "0": "Marketing research and public opinion polling",
                                    "1": "3507"
                                },
                                {
                                    "0": "Radio broadcasting",
                                    "1": "3497"
                                },
                                {
                                    "0": "Truck transportation",
                                    "1": "3495"
                                },
                                {
                                    "0": "Building foundation and exterior contractors",
                                    "1": "3488"
                                },
                                {
                                    "0": "Motor vehicle parts",
                                    "1": "3484"
                                },
                                {
                                    "0": "Professional and similar organizations",
                                    "1": "3483"
                                },
                                {
                                    "0": "Credit intermediation and related activities",
                                    "1": "3473"
                                },
                                {
                                    "0": "Diagnostic imaging centers",
                                    "1": "3473"
                                },
                                {
                                    "0": "Hardware",
                                    "1": "3468"
                                },
                                {
                                    "0": "Business to business electronic markets",
                                    "1": "3466"
                                },
                                {
                                    "0": "Machine shops and threaded products",
                                    "1": "3465"
                                },
                                {
                                    "0": "All other fabricated metal products",
                                    "1": "3460"
                                },
                                {
                                    "0": "Manufacturing",
                                    "1": "3454"
                                },
                                {
                                    "0": "Ready-mix concrete",
                                    "1": "3442"
                                },
                                {
                                    "0": "Electrical equipment",
                                    "1": "3435"
                                },
                                {
                                    "0": "Electronic equipment repair and maintenance",
                                    "1": "3420"
                                },
                                {
                                    "0": "Cement and concrete products",
                                    "1": "3420"
                                },
                                {
                                    "0": "Social science and humanities research",
                                    "1": "3390"
                                },
                                {
                                    "0": "Other building finishing contractors",
                                    "1": "3383"
                                },
                                {
                                    "0": "Outpatient care centers",
                                    "1": "3382"
                                },
                                {
                                    "0": "Logging",
                                    "1": "3380"
                                },
                                {
                                    "0": "New single-family general contractors",
                                    "1": "3379"
                                },
                                {
                                    "0": "Employment placement agencies and executive search services",
                                    "1": "3375"
                                },
                                {
                                    "0": "Furniture and furnishings",
                                    "1": "3374"
                                },
                                {
                                    "0": "Specialized freight trucking",
                                    "1": "3364"
                                },
                                {
                                    "0": "Residential building",
                                    "1": "3362"
                                },
                                {
                                    "0": "Electronics stores",
                                    "1": "3360"
                                },
                                {
                                    "0": "Fabricated metal products",
                                    "1": "3356"
                                },
                                {
                                    "0": "Electrical equipment and appliances",
                                    "1": "3351"
                                },
                                {
                                    "0": "Finish carpentry contractors",
                                    "1": "3350"
                                },
                                {
                                    "0": "Fabricated structural metal products",
                                    "1": "3349"
                                },
                                {
                                    "0": "Masonry materials",
                                    "1": "3338"
                                },
                                {
                                    "0": "Newspaper",
                                    "1": "3337"
                                },
                                {
                                    "0": "Nonmetallic mineral products",
                                    "1": "3337"
                                },
                                {
                                    "0": "Medical equipment and supplies",
                                    "1": "3335"
                                },
                                {
                                    "0": "Plate work and fabricated structural products",
                                    "1": "3330"
                                },
                                {
                                    "0": "Other legal services",
                                    "1": "3323"
                                },
                                {
                                    "0": "Accounting and bookkeeping services",
                                    "1": "3317"
                                },
                                {
                                    "0": "Corrugated and solid fiber boxes",
                                    "1": "3308"
                                },
                                {
                                    "0": "Automotive body",
                                    "1": "3300"
                                },
                                {
                                    "0": "Converted paper products",
                                    "1": "3298"
                                },
                                {
                                    "0": "Paperboard containers",
                                    "1": "3298"
                                },
                                {
                                    "0": "Farm and garden equipment",
                                    "1": "3292"
                                },
                                {
                                    "0": "Security systems services",
                                    "1": "3290"
                                },
                                {
                                    "0": "Foundries",
                                    "1": "3289"
                                },
                                {
                                    "0": "Masonry contractors",
                                    "1": "3288"
                                },
                                {
                                    "0": "Farm machinery and equipment",
                                    "1": "3286"
                                },
                                {
                                    "0": "Turned products and screws",
                                    "1": "3250"
                                },
                                {
                                    "0": "HVAC and commercial refrigeration equipment",
                                    "1": "3237"
                                },
                                {
                                    "0": "Electronics and appliance stores",
                                    "1": "3233"
                                },
                                {
                                    "0": "Transportation and warehousing",
                                    "1": "3232"
                                },
                                {
                                    "0": "Facilities support services",
                                    "1": "3217"
                                },
                                {
                                    "0": "Computer and office machine repair",
                                    "1": "3207"
                                },
                                {
                                    "0": "Ambulatory health care services",
                                    "1": "3175"
                                },
                                {
                                    "0": "Communications equipment",
                                    "1": "3171"
                                },
                                {
                                    "0": "Grocery and related products",
                                    "1": "3168"
                                },
                                {
                                    "0": "Architectural and structural metals",
                                    "1": "3165"
                                },
                                {
                                    "0": "Surgical appliances and supplies",
                                    "1": "3161"
                                },
                                {
                                    "0": "Commercial banking",
                                    "1": "3158"
                                },
                                {
                                    "0": "All other motor vehicle parts",
                                    "1": "3156"
                                },
                                {
                                    "0": "Residential remodelers",
                                    "1": "3149"
                                },
                                {
                                    "0": "Paper bags and coated and treated paper",
                                    "1": "3146"
                                },
                                {
                                    "0": "Alcoholic beverages",
                                    "1": "3135"
                                },
                                {
                                    "0": "Motor vehicles and parts",
                                    "1": "3134"
                                },
                                {
                                    "0": "Depository credit intermediation",
                                    "1": "3133"
                                },
                                {
                                    "0": "Plastics packaging materials",
                                    "1": "3132"
                                },
                                {
                                    "0": "Activities related to real estate",
                                    "1": "3131"
                                },
                                {
                                    "0": "Roofing contractors",
                                    "1": "3128"
                                },
                                {
                                    "0": "Painting and wall covering contractors",
                                    "1": "3119"
                                },
                                {
                                    "0": "Drycleaning and laundry services",
                                    "1": "3117"
                                },
                                {
                                    "0": "New car dealers",
                                    "1": "3114"
                                },
                                {
                                    "0": "Waste collection",
                                    "1": "3110"
                                },
                                {
                                    "0": "Support activities for transportation",
                                    "1": "3094"
                                },
                                {
                                    "0": "Freestanding emergency medical centers",
                                    "1": "3094"
                                },
                                {
                                    "0": "Sawmills and wood preservation",
                                    "1": "3093"
                                },
                                {
                                    "0": "Electronic shopping and mail-order houses",
                                    "1": "3083"
                                },
                                {
                                    "0": "Savings institutions",
                                    "1": "3080"
                                },
                                {
                                    "0": "Apparel and piece goods",
                                    "1": "3076"
                                },
                                {
                                    "0": "Sheet metal work",
                                    "1": "3072"
                                },
                                {
                                    "0": "Rubber products",
                                    "1": "3070"
                                },
                                {
                                    "0": "Nonstore retailers",
                                    "1": "3069"
                                },
                                {
                                    "0": "Travel arrangement and reservation services",
                                    "1": "3056"
                                },
                                {
                                    "0": "Miscellaneous durable goods",
                                    "1": "3055"
                                },
                                {
                                    "0": "Other ambulatory health care services",
                                    "1": "3053"
                                },
                                {
                                    "0": "Wood windows and doors",
                                    "1": "3047"
                                },
                                {
                                    "0": "Automobile dealers",
                                    "1": "3046"
                                },
                                {
                                    "0": "Miscellaneous durable goods manufacturing",
                                    "1": "3043"
                                },
                                {
                                    "0": "Ornamental and architectural metal products",
                                    "1": "3041"
                                },
                                {
                                    "0": "New motor vehicle parts",
                                    "1": "3028"
                                },
                                {
                                    "0": "Plywood and engineered wood products",
                                    "1": "3023"
                                },
                                {
                                    "0": "Health care and social assistance",
                                    "1": "3019"
                                },
                                {
                                    "0": "Offices of real estate agents and brokers",
                                    "1": "2990"
                                },
                                {
                                    "0": "Real estate property managers",
                                    "1": "2989"
                                },
                                {
                                    "0": "Other professional and technical services",
                                    "1": "2975"
                                },
                                {
                                    "0": "Plastics and rubber products",
                                    "1": "2972"
                                },
                                {
                                    "0": "Dental laboratories",
                                    "1": "2967"
                                },
                                {
                                    "0": "Fruit and vegetable canning and drying",
                                    "1": "2964"
                                },
                                {
                                    "0": "Education and health services",
                                    "1": "2956"
                                },
                                {
                                    "0": "Plastics products",
                                    "1": "2944"
                                },
                                {
                                    "0": "Total private",
                                    "1": "2943"
                                },
                                {
                                    "0": "Title abstract and settlement offices",
                                    "1": "2940"
                                },
                                {
                                    "0": "Wood kitchen cabinets and countertops",
                                    "1": "2932"
                                },
                                {
                                    "0": "Floor covering stores",
                                    "1": "2909"
                                },
                                {
                                    "0": "Coating",
                                    "1": "2906"
                                },
                                {
                                    "0": "Printing and related support activities",
                                    "1": "2902"
                                },
                                {
                                    "0": "Millwork",
                                    "1": "2897"
                                },
                                {
                                    "0": "Lessors of nonresidential buildings",
                                    "1": "2895"
                                },
                                {
                                    "0": "General automotive repair",
                                    "1": "2888"
                                },
                                {
                                    "0": "Automotive mechanical and electrical repair",
                                    "1": "2888"
                                },
                                {
                                    "0": "Real estate",
                                    "1": "2878"
                                },
                                {
                                    "0": "Offices of mental health physicians",
                                    "1": "2878"
                                },
                                {
                                    "0": "Exterminating and pest control services",
                                    "1": "2873"
                                },
                                {
                                    "0": "Offices of specialty therapists",
                                    "1": "2872"
                                },
                                {
                                    "0": "Wood products",
                                    "1": "2862"
                                },
                                {
                                    "0": "Motor vehicle bodies and trailers",
                                    "1": "2860"
                                },
                                {
                                    "0": "Fruits and vegetables",
                                    "1": "2859"
                                },
                                {
                                    "0": "Repair and maintenance",
                                    "1": "2849"
                                },
                                {
                                    "0": "Soaps",
                                    "1": "2842"
                                },
                                {
                                    "0": "Other plastics products",
                                    "1": "2838"
                                },
                                {
                                    "0": "Farm supplies",
                                    "1": "2838"
                                },
                                {
                                    "0": "Fruit and vegetable preserving and specialty",
                                    "1": "2835"
                                },
                                {
                                    "0": "Travel agencies",
                                    "1": "2831"
                                },
                                {
                                    "0": "Performing arts companies",
                                    "1": "2828"
                                },
                                {
                                    "0": "Motor vehicle and parts dealers",
                                    "1": "2828"
                                },
                                {
                                    "0": "Social advocacy organizations",
                                    "1": "2820"
                                },
                                {
                                    "0": "Electroplating",
                                    "1": "2818"
                                },
                                {
                                    "0": "Private service-providing",
                                    "1": "2814"
                                },
                                {
                                    "0": "Offices of dentists",
                                    "1": "2809"
                                },
                                {
                                    "0": "Recyclable materials",
                                    "1": "2807"
                                },
                                {
                                    "0": "Independent artists",
                                    "1": "2799"
                                },
                                {
                                    "0": "Furniture and related products",
                                    "1": "2792"
                                },
                                {
                                    "0": "Food manufacturing",
                                    "1": "2782"
                                },
                                {
                                    "0": "Signs",
                                    "1": "2771"
                                },
                                {
                                    "0": "Spectator sports",
                                    "1": "2767"
                                },
                                {
                                    "0": "Framing contractors",
                                    "1": "2754"
                                },
                                {
                                    "0": "Frozen food",
                                    "1": "2746"
                                },
                                {
                                    "0": "Rental and leasing services",
                                    "1": "2738"
                                },
                                {
                                    "0": "Misc. nondurable goods",
                                    "1": "2725"
                                },
                                {
                                    "0": "Household and institutional furniture",
                                    "1": "2720"
                                },
                                {
                                    "0": "Siding contractors",
                                    "1": "2713"
                                },
                                {
                                    "0": "Other wood products",
                                    "1": "2710"
                                },
                                {
                                    "0": "Other miscellaneous durable goods manufacturing",
                                    "1": "2710"
                                },
                                {
                                    "0": "Warehousing and storage",
                                    "1": "2693"
                                },
                                {
                                    "0": "Residential property managers",
                                    "1": "2692"
                                },
                                {
                                    "0": "Farm product raw materials",
                                    "1": "2684"
                                },
                                {
                                    "0": "Mail-order houses",
                                    "1": "2666"
                                },
                                {
                                    "0": "Ambulance services",
                                    "1": "2662"
                                },
                                {
                                    "0": "Offices of all other health practitioners",
                                    "1": "2653"
                                },
                                {
                                    "0": "Automotive repair and maintenance",
                                    "1": "2651"
                                },
                                {
                                    "0": "General warehousing and storage",
                                    "1": "2649"
                                },
                                {
                                    "0": "Newspaper publishers",
                                    "1": "2634"
                                },
                                {
                                    "0": "Membership associations and organizations",
                                    "1": "2624"
                                },
                                {
                                    "0": "Furniture stores",
                                    "1": "2623"
                                },
                                {
                                    "0": "Sugar and confectionery products",
                                    "1": "2620"
                                },
                                {
                                    "0": "Collection agencies",
                                    "1": "2619"
                                },
                                {
                                    "0": "Wood containers and pallets",
                                    "1": "2609"
                                },
                                {
                                    "0": "Trade",
                                    "1": "2577"
                                },
                                {
                                    "0": "Upholstered household furniture",
                                    "1": "2572"
                                },
                                {
                                    "0": "Animal slaughtering and processing",
                                    "1": "2566"
                                },
                                {
                                    "0": "Human rights organizations",
                                    "1": "2565"
                                },
                                {
                                    "0": "Outpatient mental health centers",
                                    "1": "2550"
                                },
                                {
                                    "0": "Other household and institutional furniture",
                                    "1": "2549"
                                },
                                {
                                    "0": "Lessors of residential buildings",
                                    "1": "2544"
                                },
                                {
                                    "0": "Motion picture and sound recording industries",
                                    "1": "2543"
                                },
                                {
                                    "0": "Lessors of real estate",
                                    "1": "2530"
                                },
                                {
                                    "0": "Packaging and labeling services",
                                    "1": "2530"
                                },
                                {
                                    "0": "Performing arts and spectator sports",
                                    "1": "2529"
                                },
                                {
                                    "0": "Couriers and messengers",
                                    "1": "2523"
                                },
                                {
                                    "0": "All other wood products",
                                    "1": "2522"
                                },
                                {
                                    "0": "Other motor vehicle dealers",
                                    "1": "2521"
                                },
                                {
                                    "0": "Textile mills",
                                    "1": "2520"
                                },
                                {
                                    "0": "Offices of other health practitioners",
                                    "1": "2515"
                                },
                                {
                                    "0": "Other support services",
                                    "1": "2498"
                                },
                                {
                                    "0": "Support activities for road transportation",
                                    "1": "2495"
                                },
                                {
                                    "0": "Used car dealers",
                                    "1": "2480"
                                },
                                {
                                    "0": "Bakeries and tortilla manufacturing",
                                    "1": "2468"
                                },
                                {
                                    "0": "Support activities for air transportation",
                                    "1": "2453"
                                },
                                {
                                    "0": "General rental centers",
                                    "1": "2448"
                                },
                                {
                                    "0": "Home health equipment rental",
                                    "1": "2442"
                                },
                                {
                                    "0": "Professional employer organizations",
                                    "1": "2435"
                                },
                                {
                                    "0": "Other services",
                                    "1": "2432"
                                },
                                {
                                    "0": "Automotive parts and accessories stores",
                                    "1": "2390"
                                },
                                {
                                    "0": "Auto parts",
                                    "1": "2387"
                                },
                                {
                                    "0": "Administrative and waste services",
                                    "1": "2383"
                                },
                                {
                                    "0": "Marinas",
                                    "1": "2381"
                                },
                                {
                                    "0": "Consumer lending",
                                    "1": "2379"
                                },
                                {
                                    "0": "Tire dealers",
                                    "1": "2375"
                                },
                                {
                                    "0": "Business service centers",
                                    "1": "2362"
                                },
                                {
                                    "0": "Employment services",
                                    "1": "2345"
                                },
                                {
                                    "0": "Photographic services",
                                    "1": "2339"
                                },
                                {
                                    "0": "Residential mental health and substance abuse facilites",
                                    "1": "2332"
                                },
                                {
                                    "0": "Administrative and support services",
                                    "1": "2327"
                                },
                                {
                                    "0": "Death care services",
                                    "1": "2319"
                                },
                                {
                                    "0": "Business support services",
                                    "1": "2293"
                                },
                                {
                                    "0": "Transit and ground passenger transportation",
                                    "1": "2291"
                                },
                                {
                                    "0": "Landscaping services",
                                    "1": "2290"
                                },
                                {
                                    "0": "Household goods repair and maintenance",
                                    "1": "2271"
                                },
                                {
                                    "0": "Veterinary services",
                                    "1": "2271"
                                },
                                {
                                    "0": "Other services to buildings and dwellings",
                                    "1": "2254"
                                },
                                {
                                    "0": "Investigation and security services",
                                    "1": "2246"
                                },
                                {
                                    "0": "Temporary help services",
                                    "1": "2244"
                                },
                                {
                                    "0": "Poultry processing",
                                    "1": "2241"
                                },
                                {
                                    "0": "Household appliance stores",
                                    "1": "2240"
                                },
                                {
                                    "0": "Emergency and other relief services",
                                    "1": "2234"
                                },
                                {
                                    "0": "All other support services",
                                    "1": "2206"
                                },
                                {
                                    "0": "Child and youth services",
                                    "1": "2199"
                                },
                                {
                                    "0": "Other individual and family services",
                                    "1": "2197"
                                },
                                {
                                    "0": "Gambling industries",
                                    "1": "2193"
                                },
                                {
                                    "0": "Furniture and home furnishings stores",
                                    "1": "2192"
                                },
                                {
                                    "0": "Pharmacies and drug stores",
                                    "1": "2190"
                                },
                                {
                                    "0": "Nursing care facilities",
                                    "1": "2189"
                                },
                                {
                                    "0": "Textile product mills",
                                    "1": "2180"
                                },
                                {
                                    "0": "Optical goods stores",
                                    "1": "2150"
                                },
                                {
                                    "0": "Nursery stock and florists' supplies",
                                    "1": "2141"
                                },
                                {
                                    "0": "Offices of mental health practitioners",
                                    "1": "2136"
                                },
                                {
                                    "0": "Offices of optometrists",
                                    "1": "2111"
                                },
                                {
                                    "0": "Linen and uniform supply",
                                    "1": "2101"
                                },
                                {
                                    "0": "Other residential care facilities",
                                    "1": "2089"
                                },
                                {
                                    "0": "Home health care services",
                                    "1": "2087"
                                },
                                {
                                    "0": "Lawn and garden equipment and supplies stores",
                                    "1": "2079"
                                },
                                {
                                    "0": "Security and armored car services",
                                    "1": "2076"
                                },
                                {
                                    "0": "Health and personal care stores",
                                    "1": "2070"
                                },
                                {
                                    "0": "School and employee bus transportation",
                                    "1": "2066"
                                },
                                {
                                    "0": "Nursing and residential care facilities",
                                    "1": "2053"
                                },
                                {
                                    "0": "Office supplies and stationery stores",
                                    "1": "2049"
                                },
                                {
                                    "0": "Used household and office goods moving",
                                    "1": "2048"
                                },
                                {
                                    "0": "Residential mental health facilities",
                                    "1": "2014"
                                },
                                {
                                    "0": "Continuing care retirement communities",
                                    "1": "1997"
                                },
                                {
                                    "0": "Telephone call centers",
                                    "1": "1996"
                                },
                                {
                                    "0": "Apparel",
                                    "1": "1979"
                                },
                                {
                                    "0": "Building material and garden supply stores",
                                    "1": "1977"
                                },
                                {
                                    "0": "Building material and supplies dealers",
                                    "1": "1970"
                                },
                                {
                                    "0": "Jewelry",
                                    "1": "1953"
                                },
                                {
                                    "0": "Seafood product preparation and packaging",
                                    "1": "1949"
                                },
                                {
                                    "0": "Carpet and upholstery cleaning services",
                                    "1": "1920"
                                },
                                {
                                    "0": "Other ground passenger transportation",
                                    "1": "1903"
                                },
                                {
                                    "0": "Other health and personal care stores",
                                    "1": "1892"
                                },
                                {
                                    "0": "Offices of chiropractors",
                                    "1": "1892"
                                },
                                {
                                    "0": "Community care facilities for the elderly",
                                    "1": "1840"
                                },
                                {
                                    "0": "Residential intellectual and developmental disability facilities",
                                    "1": "1839"
                                },
                                {
                                    "0": "Retail trade",
                                    "1": "1809"
                                },
                                {
                                    "0": "Home furnishings stores",
                                    "1": "1806"
                                },
                                {
                                    "0": "Services to buildings and dwellings",
                                    "1": "1796"
                                },
                                {
                                    "0": "Airport operations",
                                    "1": "1775"
                                },
                                {
                                    "0": "Home centers",
                                    "1": "1726"
                                },
                                {
                                    "0": "Personal and laundry services",
                                    "1": "1701"
                                },
                                {
                                    "0": "Traveler accommodation",
                                    "1": "1698"
                                },
                                {
                                    "0": "Vocational rehabilitation services",
                                    "1": "1689"
                                },
                                {
                                    "0": "Hotels and motels",
                                    "1": "1688"
                                },
                                {
                                    "0": "Accommodation",
                                    "1": "1687"
                                },
                                {
                                    "0": "Hair",
                                    "1": "1670"
                                },
                                {
                                    "0": "Personal care services",
                                    "1": "1665"
                                },
                                {
                                    "0": "Other gasoline stations",
                                    "1": "1663"
                                },
                                {
                                    "0": "Assisted living facilities for the elderly",
                                    "1": "1663"
                                },
                                {
                                    "0": "Other personal care services",
                                    "1": "1660"
                                },
                                {
                                    "0": "Social assistance",
                                    "1": "1659"
                                },
                                {
                                    "0": "Other miscellaneous store retailers",
                                    "1": "1658"
                                },
                                {
                                    "0": "Individual and family services",
                                    "1": "1652"
                                },
                                {
                                    "0": "Hardware stores",
                                    "1": "1624"
                                },
                                {
                                    "0": "Cosmetic and beauty supply stores",
                                    "1": "1597"
                                },
                                {
                                    "0": "Child day care services",
                                    "1": "1567"
                                },
                                {
                                    "0": "Arts",
                                    "1": "1562"
                                },
                                {
                                    "0": "Food service contractors",
                                    "1": "1551"
                                },
                                {
                                    "0": "Other automotive repair and maintenance",
                                    "1": "1550"
                                },
                                {
                                    "0": "Sporting goods stores",
                                    "1": "1546"
                                },
                                {
                                    "0": "Other personal services",
                                    "1": "1541"
                                },
                                {
                                    "0": "Pet and pet supplies stores",
                                    "1": "1539"
                                },
                                {
                                    "0": "Sporting goods and musical instrument stores",
                                    "1": "1539"
                                },
                                {
                                    "0": "Parking lots and garages",
                                    "1": "1533"
                                },
                                {
                                    "0": "Miscellaneous store retailers",
                                    "1": "1521"
                                },
                                {
                                    "0": "Golf courses and country clubs",
                                    "1": "1513"
                                },
                                {
                                    "0": "Office supplies",
                                    "1": "1485"
                                },
                                {
                                    "0": "Services for the elderly and persons with disabilities",
                                    "1": "1474"
                                },
                                {
                                    "0": "General merchandise stores",
                                    "1": "1462"
                                },
                                {
                                    "0": "Supermarkets and other grocery stores",
                                    "1": "1461"
                                },
                                {
                                    "0": "Hobby",
                                    "1": "1457"
                                },
                                {
                                    "0": "Grocery stores",
                                    "1": "1453"
                                },
                                {
                                    "0": "Used merchandise stores",
                                    "1": "1446"
                                },
                                {
                                    "0": "Special food services",
                                    "1": "1443"
                                },
                                {
                                    "0": "Shoe stores",
                                    "1": "1441"
                                },
                                {
                                    "0": "Food and beverage stores",
                                    "1": "1440"
                                },
                                {
                                    "0": "Pet care services",
                                    "1": "1398"
                                },
                                {
                                    "0": "Gasoline stations",
                                    "1": "1383"
                                },
                                {
                                    "0": "Other home furnishings stores",
                                    "1": "1373"
                                },
                                {
                                    "0": "Janitorial services",
                                    "1": "1366"
                                },
                                {
                                    "0": "Specialty food stores",
                                    "1": "1360"
                                },
                                {
                                    "0": "RV parks and recreational camps",
                                    "1": "1357"
                                },
                                {
                                    "0": "Gasoline stations with convenience stores",
                                    "1": "1347"
                                },
                                {
                                    "0": "Coin-operated laundries and drycleaners",
                                    "1": "1324"
                                },
                                {
                                    "0": "Beer",
                                    "1": "1320"
                                },
                                {
                                    "0": "Full-service restaurants",
                                    "1": "1312"
                                },
                                {
                                    "0": "Leisure and hospitality",
                                    "1": "1294"
                                },
                                {
                                    "0": "Amusements",
                                    "1": "1275"
                                },
                                {
                                    "0": "Car washes",
                                    "1": "1261"
                                },
                                {
                                    "0": "Accommodation and food services",
                                    "1": "1257"
                                },
                                {
                                    "0": "Convenience stores",
                                    "1": "1253"
                                },
                                {
                                    "0": "Book stores and news dealers",
                                    "1": "1250"
                                },
                                {
                                    "0": "Florists",
                                    "1": "1212"
                                },
                                {
                                    "0": "Skiing facilities",
                                    "1": "1199"
                                },
                                {
                                    "0": "Clothing and clothing accessories stores",
                                    "1": "1189"
                                },
                                {
                                    "0": "Food services and drinking places",
                                    "1": "1187"
                                },
                                {
                                    "0": "Drinking places",
                                    "1": "1167"
                                },
                                {
                                    "0": "Restaurants and other eating places",
                                    "1": "1167"
                                },
                                {
                                    "0": "Clothing accessories stores",
                                    "1": "1130"
                                },
                                {
                                    "0": "Gift",
                                    "1": "1102"
                                },
                                {
                                    "0": "Civic and social organizations",
                                    "1": "1093"
                                },
                                {
                                    "0": "Cafeterias",
                                    "1": "1089"
                                },
                                {
                                    "0": "Snack and nonalcoholic beverage bars",
                                    "1": "1044"
                                },
                                {
                                    "0": "Clothing stores",
                                    "1": "1033"
                                },
                                {
                                    "0": "Limited-service restaurants",
                                    "1": "1009"
                                },
                                {
                                    "0": "Women's clothing stores",
                                    "1": "983"
                                },
                                {
                                    "0": "Fitness and recreational sports centers",
                                    "1": "979"
                                },
                                {
                                    "0": "Family clothing stores",
                                    "1": "976"
                                },
                                {
                                    "0": "Bowling centers",
                                    "1": "939"
                                }
                            ]
                        },
                        "text/html": "<table><tr><th>industry_name</th><th>HIGHESTPAYROLL</th></tr><tr><td>NULL</td><td>119157</td></tr><tr><td>General freight trucking</td><td>17856</td></tr><tr><td>Mining</td><td>10143</td></tr><tr><td>Motor vehicles</td><td>8459</td></tr><tr><td>Industrial machinery</td><td>8204</td></tr><tr><td>Offices of physicians</td><td>8150</td></tr><tr><td>Chemicals</td><td>7984</td></tr><tr><td>Durable goods</td><td>7556</td></tr><tr><td>Other specialized trucking</td><td>7546</td></tr><tr><td>Reinsurance carriers</td><td>7242</td></tr><tr><td>Petroleum and coal products</td><td>7210</td></tr><tr><td>Fossil fuel electric power generation</td><td>7113</td></tr><tr><td>Paper and paper products</td><td>7104</td></tr><tr><td>Pipeline transportation</td><td>6934</td></tr><tr><td>Electric power generation</td><td>6907</td></tr><tr><td>Software publishers</td><td>6757</td></tr><tr><td>Power generation and supply</td><td>6654</td></tr><tr><td>Aircraft</td><td>6604</td></tr><tr><td>Custom computer programming services</td><td>6517</td></tr><tr><td>Physical</td><td>6517</td></tr><tr><td>Computer systems design services</td><td>6459</td></tr><tr><td>Electric power transmission and distribution</td><td>6435</td></tr><tr><td>Computer systems design and related services</td><td>6426</td></tr><tr><td>Nondurable goods</td><td>6383</td></tr><tr><td>Aerospace products and parts</td><td>6358</td></tr><tr><td>Portfolio management</td><td>6349</td></tr><tr><td>Utilities</td><td>6200</td></tr><tr><td>Research and development in the physical</td><td>6193</td></tr><tr><td>Oil and gas extraction</td><td>6106</td></tr><tr><td>Scientific research and development services</td><td>5920</td></tr><tr><td>Computer and software</td><td>5920</td></tr><tr><td>Coal mining</td><td>5819</td></tr><tr><td>Other financial investment activities</td><td>5758</td></tr><tr><td>Other heavy construction</td><td>5698</td></tr><tr><td>Oil and gas pipeline construction</td><td>5679</td></tr><tr><td>Securities brokerage</td><td>5646</td></tr><tr><td>Natural gas distribution</td><td>5529</td></tr><tr><td>Administrative management consulting services</td><td>5439</td></tr><tr><td>Basic chemicals</td><td>5410</td></tr><tr><td>Biotechnology research</td><td>5325</td></tr><tr><td>Semiconductors and related devices</td><td>5320</td></tr><tr><td>Investment advice</td><td>5171</td></tr><tr><td>Power and communication system construction</td><td>5155</td></tr><tr><td>Architectural and engineering services</td><td>5120</td></tr><tr><td>Offices of lawyers</td><td>5064</td></tr><tr><td>Wholesale trade agents and brokers</td><td>5055</td></tr><tr><td>Advertising agencies</td><td>5049</td></tr><tr><td>Mining and logging</td><td>5043</td></tr><tr><td>Publishing industries</td><td>5024</td></tr><tr><td>Data processing</td><td>5014</td></tr><tr><td>Professional and technical services</td><td>5011</td></tr><tr><td>Management consulting services</td><td>5003</td></tr><tr><td>Electronic markets and agents and brokers</td><td>5002</td></tr><tr><td>Management and technical consulting services</td><td>5001</td></tr><tr><td>Legal services</td><td>4936</td></tr><tr><td>Support activities for mining</td><td>4924</td></tr><tr><td>Insurance carriers</td><td>4876</td></tr><tr><td>Direct insurers</td><td>4876</td></tr><tr><td>Architectural services</td><td>4870</td></tr><tr><td>Utility system construction</td><td>4863</td></tr><tr><td>Real estate credit</td><td>4856</td></tr><tr><td>Pulp</td><td>4849</td></tr><tr><td>Commercial equipment</td><td>4845</td></tr><tr><td>Motor vehicle power train components</td><td>4822</td></tr><tr><td>Waste treatment and disposal</td><td>4817</td></tr><tr><td>Direct life and health insurance carriers</td><td>4811</td></tr><tr><td>Other building equipment contractors</td><td>4806</td></tr><tr><td>Heavy and civil engineering construction</td><td>4789</td></tr><tr><td>Industrial building</td><td>4786</td></tr><tr><td>Electronic instruments</td><td>4768</td></tr><tr><td>Steel and precast concrete contractors</td><td>4739</td></tr><tr><td>Heavy machinery rental and leasing</td><td>4738</td></tr><tr><td>Support activities for oil and gas operations</td><td>4736</td></tr><tr><td>Public relations agencies</td><td>4723</td></tr><tr><td>Sporting goods</td><td>4661</td></tr><tr><td>Other information services</td><td>4609</td></tr><tr><td>Telecommunications</td><td>4589</td></tr><tr><td>Wired telecommunications carriers</td><td>4549</td></tr><tr><td>Electrical contractors</td><td>4524</td></tr><tr><td>Land subdivision</td><td>4497</td></tr><tr><td>Insurance carriers and related activities</td><td>4473</td></tr><tr><td>Nonresidential building</td><td>4465</td></tr><tr><td>Medical equipment</td><td>4459</td></tr><tr><td>General medical and surgical hospitals</td><td>4452</td></tr><tr><td>Financial transaction processing and clearing</td><td>4419</td></tr><tr><td>Information</td><td>4397</td></tr><tr><td>Hospitals</td><td>4379</td></tr><tr><td>Transportation equipment</td><td>4377</td></tr><tr><td>Commercial building</td><td>4368</td></tr><tr><td>Resin</td><td>4355</td></tr><tr><td>Commercial and service industry machinery</td><td>4354</td></tr><tr><td>Highway</td><td>4349</td></tr><tr><td>Office equipment</td><td>4343</td></tr><tr><td>Construction equipment</td><td>4340</td></tr><tr><td>Periodical publishers</td><td>4331</td></tr><tr><td>Grantmaking foundations</td><td>4325</td></tr><tr><td>Other insurance-related activities</td><td>4324</td></tr><tr><td>Tile and terrazzo contractors</td><td>4315</td></tr><tr><td>Building equipment contractors</td><td>4310</td></tr><tr><td>Marketing consulting services</td><td>4303</td></tr><tr><td>Management of companies and enterprises</td><td>4293</td></tr><tr><td>Graphic design services</td><td>4290</td></tr><tr><td>Advertising and related services</td><td>4272</td></tr><tr><td>Air transportation</td><td>4268</td></tr><tr><td>Managing offices</td><td>4266</td></tr><tr><td>Professional organizations</td><td>4265</td></tr><tr><td>Electric goods</td><td>4248</td></tr><tr><td>Support activities for water transportation</td><td>4246</td></tr><tr><td>Turbine and power transmission equipment</td><td>4207</td></tr><tr><td>Labor unions and similar labor organizations</td><td>4179</td></tr><tr><td>Electrical equipment and wiring</td><td>4167</td></tr><tr><td>Process and logistics consulting services</td><td>4157</td></tr><tr><td>Third-party administration of insurance funds</td><td>4145</td></tr><tr><td>Drywall and insulation contractors</td><td>4115</td></tr><tr><td>Nondepository credit intermediation</td><td>4108</td></tr><tr><td>Motor vehicle gasoline engine and parts</td><td>4101</td></tr><tr><td>Water</td><td>4099</td></tr><tr><td>Special tools</td><td>4094</td></tr><tr><td>Water and sewer system construction</td><td>4084</td></tr><tr><td>Business associations</td><td>4070</td></tr><tr><td>Computer and electronic products</td><td>4066</td></tr><tr><td>Specialized design services</td><td>4054</td></tr><tr><td>Construction</td><td>4053</td></tr><tr><td>Plumbing and HVAC contractors</td><td>4049</td></tr><tr><td>Petroleum</td><td>4036</td></tr><tr><td>Machinery and equipment rental and leasing</td><td>4015</td></tr><tr><td>Boilers</td><td>3987</td></tr><tr><td>Office administrative services</td><td>3985</td></tr><tr><td>Landscape architectural services</td><td>3952</td></tr><tr><td>Specialty trade contractors</td><td>3949</td></tr><tr><td>Financial activities</td><td>3935</td></tr><tr><td>Machinery and supplies</td><td>3934</td></tr><tr><td>Metalworking machinery</td><td>3926</td></tr><tr><td>Grantmaking and giving services</td><td>3923</td></tr><tr><td>Construction of buildings</td><td>3921</td></tr><tr><td>Insurance agencies</td><td>3920</td></tr><tr><td>Primary metals</td><td>3918</td></tr><tr><td>Stone mining and quarrying</td><td>3889</td></tr><tr><td>Broadcasting</td><td>3875</td></tr><tr><td>Medical laboratories</td><td>3871</td></tr><tr><td>Nonresidential property managers</td><td>3865</td></tr><tr><td>Crushed and broken limestone mining</td><td>3856</td></tr><tr><td>Activities related to credit intermediation</td><td>3847</td></tr><tr><td>Testing laboratories</td><td>3847</td></tr><tr><td>Motor vehicle metal stamping</td><td>3846</td></tr><tr><td>Wholesale trade</td><td>3829</td></tr><tr><td>Site preparation contractors</td><td>3828</td></tr><tr><td>Glass and glazing contractors</td><td>3814</td></tr><tr><td>Museums</td><td>3787</td></tr><tr><td>Other specialty trade contractors</td><td>3779</td></tr><tr><td>Druggists' goods</td><td>3777</td></tr><tr><td>Medical and diagnostic laboratories</td><td>3758</td></tr><tr><td>Hardware and plumbing</td><td>3758</td></tr><tr><td>Insurance agencies and brokerages</td><td>3752</td></tr><tr><td>Machinery</td><td>3748</td></tr><tr><td>Metal valves</td><td>3724</td></tr><tr><td>Telecommunications resellers</td><td>3722</td></tr><tr><td>Offices of certified public accountants</td><td>3720</td></tr><tr><td>Goods-producing</td><td>3718</td></tr><tr><td>All other specialty trade contractors</td><td>3703</td></tr><tr><td>Commercial machinery repair and maintenance</td><td>3693</td></tr><tr><td>Waste management and remediation services</td><td>3689</td></tr><tr><td>Other general purpose machinery</td><td>3687</td></tr><tr><td>Poured concrete structure contractors</td><td>3687</td></tr><tr><td>Remediation and other waste services</td><td>3686</td></tr><tr><td>Plumbing equipment</td><td>3684</td></tr><tr><td>General line grocery</td><td>3683</td></tr><tr><td>Professional and business services</td><td>3676</td></tr><tr><td>Metals and minerals</td><td>3674</td></tr><tr><td>Lumber and wood</td><td>3660</td></tr><tr><td>Dairy products</td><td>3650</td></tr><tr><td>All other ambulatory health care services</td><td>3646</td></tr><tr><td>Building finishing contractors</td><td>3646</td></tr><tr><td>Flooring contractors</td><td>3642</td></tr><tr><td>Pharmaceuticals and medicines</td><td>3621</td></tr><tr><td>Forging and stamping</td><td>3615</td></tr><tr><td>Other building exterior contractors</td><td>3605</td></tr><tr><td>Semiconductors and electronic components</td><td>3599</td></tr><tr><td>Lumber and construction supplies</td><td>3554</td></tr><tr><td>Other fabricated metal products</td><td>3548</td></tr><tr><td>Convention and trade show organizers</td><td>3546</td></tr><tr><td>Industrial supplies</td><td>3542</td></tr><tr><td>Payroll services</td><td>3540</td></tr><tr><td>Freight transportation arrangement</td><td>3533</td></tr><tr><td>Other electrical equipment and components</td><td>3528</td></tr><tr><td>Machine shops</td><td>3520</td></tr><tr><td>Agricultural</td><td>3511</td></tr><tr><td>Marketing research and public opinion polling</td><td>3507</td></tr><tr><td>Radio broadcasting</td><td>3497</td></tr><tr><td>Truck transportation</td><td>3495</td></tr><tr><td>Building foundation and exterior contractors</td><td>3488</td></tr><tr><td>Motor vehicle parts</td><td>3484</td></tr><tr><td>Professional and similar organizations</td><td>3483</td></tr><tr><td>Credit intermediation and related activities</td><td>3473</td></tr><tr><td>Diagnostic imaging centers</td><td>3473</td></tr><tr><td>Hardware</td><td>3468</td></tr><tr><td>Business to business electronic markets</td><td>3466</td></tr><tr><td>Machine shops and threaded products</td><td>3465</td></tr><tr><td>All other fabricated metal products</td><td>3460</td></tr><tr><td>Manufacturing</td><td>3454</td></tr><tr><td>Ready-mix concrete</td><td>3442</td></tr><tr><td>Electrical equipment</td><td>3435</td></tr><tr><td>Electronic equipment repair and maintenance</td><td>3420</td></tr><tr><td>Cement and concrete products</td><td>3420</td></tr><tr><td>Social science and humanities research</td><td>3390</td></tr><tr><td>Other building finishing contractors</td><td>3383</td></tr><tr><td>Outpatient care centers</td><td>3382</td></tr><tr><td>Logging</td><td>3380</td></tr><tr><td>New single-family general contractors</td><td>3379</td></tr><tr><td>Employment placement agencies and executive search services</td><td>3375</td></tr><tr><td>Furniture and furnishings</td><td>3374</td></tr><tr><td>Specialized freight trucking</td><td>3364</td></tr><tr><td>Residential building</td><td>3362</td></tr><tr><td>Electronics stores</td><td>3360</td></tr><tr><td>Fabricated metal products</td><td>3356</td></tr><tr><td>Electrical equipment and appliances</td><td>3351</td></tr><tr><td>Finish carpentry contractors</td><td>3350</td></tr><tr><td>Fabricated structural metal products</td><td>3349</td></tr><tr><td>Masonry materials</td><td>3338</td></tr><tr><td>Newspaper</td><td>3337</td></tr><tr><td>Nonmetallic mineral products</td><td>3337</td></tr><tr><td>Medical equipment and supplies</td><td>3335</td></tr><tr><td>Plate work and fabricated structural products</td><td>3330</td></tr><tr><td>Other legal services</td><td>3323</td></tr><tr><td>Accounting and bookkeeping services</td><td>3317</td></tr><tr><td>Corrugated and solid fiber boxes</td><td>3308</td></tr><tr><td>Automotive body</td><td>3300</td></tr><tr><td>Converted paper products</td><td>3298</td></tr><tr><td>Paperboard containers</td><td>3298</td></tr><tr><td>Farm and garden equipment</td><td>3292</td></tr><tr><td>Security systems services</td><td>3290</td></tr><tr><td>Foundries</td><td>3289</td></tr><tr><td>Masonry contractors</td><td>3288</td></tr><tr><td>Farm machinery and equipment</td><td>3286</td></tr><tr><td>Turned products and screws</td><td>3250</td></tr><tr><td>HVAC and commercial refrigeration equipment</td><td>3237</td></tr><tr><td>Electronics and appliance stores</td><td>3233</td></tr><tr><td>Transportation and warehousing</td><td>3232</td></tr><tr><td>Facilities support services</td><td>3217</td></tr><tr><td>Computer and office machine repair</td><td>3207</td></tr><tr><td>Ambulatory health care services</td><td>3175</td></tr><tr><td>Communications equipment</td><td>3171</td></tr><tr><td>Grocery and related products</td><td>3168</td></tr><tr><td>Architectural and structural metals</td><td>3165</td></tr><tr><td>Surgical appliances and supplies</td><td>3161</td></tr><tr><td>Commercial banking</td><td>3158</td></tr><tr><td>All other motor vehicle parts</td><td>3156</td></tr><tr><td>Residential remodelers</td><td>3149</td></tr><tr><td>Paper bags and coated and treated paper</td><td>3146</td></tr><tr><td>Alcoholic beverages</td><td>3135</td></tr><tr><td>Motor vehicles and parts</td><td>3134</td></tr><tr><td>Depository credit intermediation</td><td>3133</td></tr><tr><td>Plastics packaging materials</td><td>3132</td></tr><tr><td>Activities related to real estate</td><td>3131</td></tr><tr><td>Roofing contractors</td><td>3128</td></tr><tr><td>Painting and wall covering contractors</td><td>3119</td></tr><tr><td>Drycleaning and laundry services</td><td>3117</td></tr><tr><td>New car dealers</td><td>3114</td></tr><tr><td>Waste collection</td><td>3110</td></tr><tr><td>Support activities for transportation</td><td>3094</td></tr><tr><td>Freestanding emergency medical centers</td><td>3094</td></tr><tr><td>Sawmills and wood preservation</td><td>3093</td></tr><tr><td>Electronic shopping and mail-order houses</td><td>3083</td></tr><tr><td>Savings institutions</td><td>3080</td></tr><tr><td>Apparel and piece goods</td><td>3076</td></tr><tr><td>Sheet metal work</td><td>3072</td></tr><tr><td>Rubber products</td><td>3070</td></tr><tr><td>Nonstore retailers</td><td>3069</td></tr><tr><td>Travel arrangement and reservation services</td><td>3056</td></tr><tr><td>Miscellaneous durable goods</td><td>3055</td></tr><tr><td>Other ambulatory health care services</td><td>3053</td></tr><tr><td>Wood windows and doors</td><td>3047</td></tr><tr><td>Automobile dealers</td><td>3046</td></tr><tr><td>Miscellaneous durable goods manufacturing</td><td>3043</td></tr><tr><td>Ornamental and architectural metal products</td><td>3041</td></tr><tr><td>New motor vehicle parts</td><td>3028</td></tr><tr><td>Plywood and engineered wood products</td><td>3023</td></tr><tr><td>Health care and social assistance</td><td>3019</td></tr><tr><td>Offices of real estate agents and brokers</td><td>2990</td></tr><tr><td>Real estate property managers</td><td>2989</td></tr><tr><td>Other professional and technical services</td><td>2975</td></tr><tr><td>Plastics and rubber products</td><td>2972</td></tr><tr><td>Dental laboratories</td><td>2967</td></tr><tr><td>Fruit and vegetable canning and drying</td><td>2964</td></tr><tr><td>Education and health services</td><td>2956</td></tr><tr><td>Plastics products</td><td>2944</td></tr><tr><td>Total private</td><td>2943</td></tr><tr><td>Title abstract and settlement offices</td><td>2940</td></tr><tr><td>Wood kitchen cabinets and countertops</td><td>2932</td></tr><tr><td>Floor covering stores</td><td>2909</td></tr><tr><td>Coating</td><td>2906</td></tr><tr><td>Printing and related support activities</td><td>2902</td></tr><tr><td>Millwork</td><td>2897</td></tr><tr><td>Lessors of nonresidential buildings</td><td>2895</td></tr><tr><td>General automotive repair</td><td>2888</td></tr><tr><td>Automotive mechanical and electrical repair</td><td>2888</td></tr><tr><td>Real estate</td><td>2878</td></tr><tr><td>Offices of mental health physicians</td><td>2878</td></tr><tr><td>Exterminating and pest control services</td><td>2873</td></tr><tr><td>Offices of specialty therapists</td><td>2872</td></tr><tr><td>Wood products</td><td>2862</td></tr><tr><td>Motor vehicle bodies and trailers</td><td>2860</td></tr><tr><td>Fruits and vegetables</td><td>2859</td></tr><tr><td>Repair and maintenance</td><td>2849</td></tr><tr><td>Soaps</td><td>2842</td></tr><tr><td>Other plastics products</td><td>2838</td></tr><tr><td>Farm supplies</td><td>2838</td></tr><tr><td>Fruit and vegetable preserving and specialty</td><td>2835</td></tr><tr><td>Travel agencies</td><td>2831</td></tr><tr><td>Performing arts companies</td><td>2828</td></tr><tr><td>Motor vehicle and parts dealers</td><td>2828</td></tr><tr><td>Social advocacy organizations</td><td>2820</td></tr><tr><td>Electroplating</td><td>2818</td></tr><tr><td>Private service-providing</td><td>2814</td></tr><tr><td>Offices of dentists</td><td>2809</td></tr><tr><td>Recyclable materials</td><td>2807</td></tr><tr><td>Independent artists</td><td>2799</td></tr><tr><td>Furniture and related products</td><td>2792</td></tr><tr><td>Food manufacturing</td><td>2782</td></tr><tr><td>Signs</td><td>2771</td></tr><tr><td>Spectator sports</td><td>2767</td></tr><tr><td>Framing contractors</td><td>2754</td></tr><tr><td>Frozen food</td><td>2746</td></tr><tr><td>Rental and leasing services</td><td>2738</td></tr><tr><td>Misc. nondurable goods</td><td>2725</td></tr><tr><td>Household and institutional furniture</td><td>2720</td></tr><tr><td>Siding contractors</td><td>2713</td></tr><tr><td>Other wood products</td><td>2710</td></tr><tr><td>Other miscellaneous durable goods manufacturing</td><td>2710</td></tr><tr><td>Warehousing and storage</td><td>2693</td></tr><tr><td>Residential property managers</td><td>2692</td></tr><tr><td>Farm product raw materials</td><td>2684</td></tr><tr><td>Mail-order houses</td><td>2666</td></tr><tr><td>Ambulance services</td><td>2662</td></tr><tr><td>Offices of all other health practitioners</td><td>2653</td></tr><tr><td>Automotive repair and maintenance</td><td>2651</td></tr><tr><td>General warehousing and storage</td><td>2649</td></tr><tr><td>Newspaper publishers</td><td>2634</td></tr><tr><td>Membership associations and organizations</td><td>2624</td></tr><tr><td>Furniture stores</td><td>2623</td></tr><tr><td>Sugar and confectionery products</td><td>2620</td></tr><tr><td>Collection agencies</td><td>2619</td></tr><tr><td>Wood containers and pallets</td><td>2609</td></tr><tr><td>Trade</td><td>2577</td></tr><tr><td>Upholstered household furniture</td><td>2572</td></tr><tr><td>Animal slaughtering and processing</td><td>2566</td></tr><tr><td>Human rights organizations</td><td>2565</td></tr><tr><td>Outpatient mental health centers</td><td>2550</td></tr><tr><td>Other household and institutional furniture</td><td>2549</td></tr><tr><td>Lessors of residential buildings</td><td>2544</td></tr><tr><td>Motion picture and sound recording industries</td><td>2543</td></tr><tr><td>Lessors of real estate</td><td>2530</td></tr><tr><td>Packaging and labeling services</td><td>2530</td></tr><tr><td>Performing arts and spectator sports</td><td>2529</td></tr><tr><td>Couriers and messengers</td><td>2523</td></tr><tr><td>All other wood products</td><td>2522</td></tr><tr><td>Other motor vehicle dealers</td><td>2521</td></tr><tr><td>Textile mills</td><td>2520</td></tr><tr><td>Offices of other health practitioners</td><td>2515</td></tr><tr><td>Other support services</td><td>2498</td></tr><tr><td>Support activities for road transportation</td><td>2495</td></tr><tr><td>Used car dealers</td><td>2480</td></tr><tr><td>Bakeries and tortilla manufacturing</td><td>2468</td></tr><tr><td>Support activities for air transportation</td><td>2453</td></tr><tr><td>General rental centers</td><td>2448</td></tr><tr><td>Home health equipment rental</td><td>2442</td></tr><tr><td>Professional employer organizations</td><td>2435</td></tr><tr><td>Other services</td><td>2432</td></tr><tr><td>Automotive parts and accessories stores</td><td>2390</td></tr><tr><td>Auto parts</td><td>2387</td></tr><tr><td>Administrative and waste services</td><td>2383</td></tr><tr><td>Marinas</td><td>2381</td></tr><tr><td>Consumer lending</td><td>2379</td></tr><tr><td>Tire dealers</td><td>2375</td></tr><tr><td>Business service centers</td><td>2362</td></tr><tr><td>Employment services</td><td>2345</td></tr><tr><td>Photographic services</td><td>2339</td></tr><tr><td>Residential mental health and substance abuse facilites</td><td>2332</td></tr><tr><td>Administrative and support services</td><td>2327</td></tr><tr><td>Death care services</td><td>2319</td></tr><tr><td>Business support services</td><td>2293</td></tr><tr><td>Transit and ground passenger transportation</td><td>2291</td></tr><tr><td>Landscaping services</td><td>2290</td></tr><tr><td>Household goods repair and maintenance</td><td>2271</td></tr><tr><td>Veterinary services</td><td>2271</td></tr><tr><td>Other services to buildings and dwellings</td><td>2254</td></tr><tr><td>Investigation and security services</td><td>2246</td></tr><tr><td>Temporary help services</td><td>2244</td></tr><tr><td>Poultry processing</td><td>2241</td></tr><tr><td>Household appliance stores</td><td>2240</td></tr><tr><td>Emergency and other relief services</td><td>2234</td></tr><tr><td>All other support services</td><td>2206</td></tr><tr><td>Child and youth services</td><td>2199</td></tr><tr><td>Other individual and family services</td><td>2197</td></tr><tr><td>Gambling industries</td><td>2193</td></tr><tr><td>Furniture and home furnishings stores</td><td>2192</td></tr><tr><td>Pharmacies and drug stores</td><td>2190</td></tr><tr><td>Nursing care facilities</td><td>2189</td></tr><tr><td>Textile product mills</td><td>2180</td></tr><tr><td>Optical goods stores</td><td>2150</td></tr><tr><td>Nursery stock and florists' supplies</td><td>2141</td></tr><tr><td>Offices of mental health practitioners</td><td>2136</td></tr><tr><td>Offices of optometrists</td><td>2111</td></tr><tr><td>Linen and uniform supply</td><td>2101</td></tr><tr><td>Other residential care facilities</td><td>2089</td></tr><tr><td>Home health care services</td><td>2087</td></tr><tr><td>Lawn and garden equipment and supplies stores</td><td>2079</td></tr><tr><td>Security and armored car services</td><td>2076</td></tr><tr><td>Health and personal care stores</td><td>2070</td></tr><tr><td>School and employee bus transportation</td><td>2066</td></tr><tr><td>Nursing and residential care facilities</td><td>2053</td></tr><tr><td>Office supplies and stationery stores</td><td>2049</td></tr><tr><td>Used household and office goods moving</td><td>2048</td></tr><tr><td>Residential mental health facilities</td><td>2014</td></tr><tr><td>Continuing care retirement communities</td><td>1997</td></tr><tr><td>Telephone call centers</td><td>1996</td></tr><tr><td>Apparel</td><td>1979</td></tr><tr><td>Building material and garden supply stores</td><td>1977</td></tr><tr><td>Building material and supplies dealers</td><td>1970</td></tr><tr><td>Jewelry</td><td>1953</td></tr><tr><td>Seafood product preparation and packaging</td><td>1949</td></tr><tr><td>Carpet and upholstery cleaning services</td><td>1920</td></tr><tr><td>Other ground passenger transportation</td><td>1903</td></tr><tr><td>Other health and personal care stores</td><td>1892</td></tr><tr><td>Offices of chiropractors</td><td>1892</td></tr><tr><td>Community care facilities for the elderly</td><td>1840</td></tr><tr><td>Residential intellectual and developmental disability facilities</td><td>1839</td></tr><tr><td>Retail trade</td><td>1809</td></tr><tr><td>Home furnishings stores</td><td>1806</td></tr><tr><td>Services to buildings and dwellings</td><td>1796</td></tr><tr><td>Airport operations</td><td>1775</td></tr><tr><td>Home centers</td><td>1726</td></tr><tr><td>Personal and laundry services</td><td>1701</td></tr><tr><td>Traveler accommodation</td><td>1698</td></tr><tr><td>Vocational rehabilitation services</td><td>1689</td></tr><tr><td>Hotels and motels</td><td>1688</td></tr><tr><td>Accommodation</td><td>1687</td></tr><tr><td>Hair</td><td>1670</td></tr><tr><td>Personal care services</td><td>1665</td></tr><tr><td>Other gasoline stations</td><td>1663</td></tr><tr><td>Assisted living facilities for the elderly</td><td>1663</td></tr><tr><td>Other personal care services</td><td>1660</td></tr><tr><td>Social assistance</td><td>1659</td></tr><tr><td>Other miscellaneous store retailers</td><td>1658</td></tr><tr><td>Individual and family services</td><td>1652</td></tr><tr><td>Hardware stores</td><td>1624</td></tr><tr><td>Cosmetic and beauty supply stores</td><td>1597</td></tr><tr><td>Child day care services</td><td>1567</td></tr><tr><td>Arts</td><td>1562</td></tr><tr><td>Food service contractors</td><td>1551</td></tr><tr><td>Other automotive repair and maintenance</td><td>1550</td></tr><tr><td>Sporting goods stores</td><td>1546</td></tr><tr><td>Other personal services</td><td>1541</td></tr><tr><td>Pet and pet supplies stores</td><td>1539</td></tr><tr><td>Sporting goods and musical instrument stores</td><td>1539</td></tr><tr><td>Parking lots and garages</td><td>1533</td></tr><tr><td>Miscellaneous store retailers</td><td>1521</td></tr><tr><td>Golf courses and country clubs</td><td>1513</td></tr><tr><td>Office supplies</td><td>1485</td></tr><tr><td>Services for the elderly and persons with disabilities</td><td>1474</td></tr><tr><td>General merchandise stores</td><td>1462</td></tr><tr><td>Supermarkets and other grocery stores</td><td>1461</td></tr><tr><td>Hobby</td><td>1457</td></tr><tr><td>Grocery stores</td><td>1453</td></tr><tr><td>Used merchandise stores</td><td>1446</td></tr><tr><td>Special food services</td><td>1443</td></tr><tr><td>Shoe stores</td><td>1441</td></tr><tr><td>Food and beverage stores</td><td>1440</td></tr><tr><td>Pet care services</td><td>1398</td></tr><tr><td>Gasoline stations</td><td>1383</td></tr><tr><td>Other home furnishings stores</td><td>1373</td></tr><tr><td>Janitorial services</td><td>1366</td></tr><tr><td>Specialty food stores</td><td>1360</td></tr><tr><td>RV parks and recreational camps</td><td>1357</td></tr><tr><td>Gasoline stations with convenience stores</td><td>1347</td></tr><tr><td>Coin-operated laundries and drycleaners</td><td>1324</td></tr><tr><td>Beer</td><td>1320</td></tr><tr><td>Full-service restaurants</td><td>1312</td></tr><tr><td>Leisure and hospitality</td><td>1294</td></tr><tr><td>Amusements</td><td>1275</td></tr><tr><td>Car washes</td><td>1261</td></tr><tr><td>Accommodation and food services</td><td>1257</td></tr><tr><td>Convenience stores</td><td>1253</td></tr><tr><td>Book stores and news dealers</td><td>1250</td></tr><tr><td>Florists</td><td>1212</td></tr><tr><td>Skiing facilities</td><td>1199</td></tr><tr><td>Clothing and clothing accessories stores</td><td>1189</td></tr><tr><td>Food services and drinking places</td><td>1187</td></tr><tr><td>Drinking places</td><td>1167</td></tr><tr><td>Restaurants and other eating places</td><td>1167</td></tr><tr><td>Clothing accessories stores</td><td>1130</td></tr><tr><td>Gift</td><td>1102</td></tr><tr><td>Civic and social organizations</td><td>1093</td></tr><tr><td>Cafeterias</td><td>1089</td></tr><tr><td>Snack and nonalcoholic beverage bars</td><td>1044</td></tr><tr><td>Clothing stores</td><td>1033</td></tr><tr><td>Limited-service restaurants</td><td>1009</td></tr><tr><td>Women's clothing stores</td><td>983</td></tr><tr><td>Fitness and recreational sports centers</td><td>979</td></tr><tr><td>Family clothing stores</td><td>976</td></tr><tr><td>Bowling centers</td><td>939</td></tr></table>"
                    },
                    "metadata": {}
                },
                {
                    "output_type": "execute_result",
                    "execution_count": 8,
                    "data": {
                        "application/vnd.dataresource+json": {
                            "schema": {
                                "fields": [
                                    {
                                        "name": "industry_name"
                                    },
                                    {
                                        "name": "LOWESTPAYROLL"
                                    }
                                ]
                            },
                            "data": [
                                {
                                    "0": "Bowling centers",
                                    "1": "939"
                                },
                                {
                                    "0": "Family clothing stores",
                                    "1": "976"
                                },
                                {
                                    "0": "Fitness and recreational sports centers",
                                    "1": "979"
                                },
                                {
                                    "0": "Women's clothing stores",
                                    "1": "983"
                                },
                                {
                                    "0": "Limited-service restaurants",
                                    "1": "1009"
                                },
                                {
                                    "0": "Clothing stores",
                                    "1": "1033"
                                },
                                {
                                    "0": "Snack and nonalcoholic beverage bars",
                                    "1": "1044"
                                },
                                {
                                    "0": "Cafeterias",
                                    "1": "1089"
                                },
                                {
                                    "0": "Civic and social organizations",
                                    "1": "1093"
                                },
                                {
                                    "0": "Gift",
                                    "1": "1102"
                                },
                                {
                                    "0": "Clothing accessories stores",
                                    "1": "1130"
                                },
                                {
                                    "0": "Drinking places",
                                    "1": "1167"
                                },
                                {
                                    "0": "Restaurants and other eating places",
                                    "1": "1167"
                                },
                                {
                                    "0": "Food services and drinking places",
                                    "1": "1187"
                                },
                                {
                                    "0": "Clothing and clothing accessories stores",
                                    "1": "1189"
                                },
                                {
                                    "0": "Skiing facilities",
                                    "1": "1199"
                                },
                                {
                                    "0": "Florists",
                                    "1": "1212"
                                },
                                {
                                    "0": "Book stores and news dealers",
                                    "1": "1250"
                                },
                                {
                                    "0": "Convenience stores",
                                    "1": "1253"
                                },
                                {
                                    "0": "Accommodation and food services",
                                    "1": "1257"
                                },
                                {
                                    "0": "Car washes",
                                    "1": "1261"
                                },
                                {
                                    "0": "Amusements",
                                    "1": "1275"
                                },
                                {
                                    "0": "Leisure and hospitality",
                                    "1": "1294"
                                },
                                {
                                    "0": "Full-service restaurants",
                                    "1": "1312"
                                },
                                {
                                    "0": "Beer",
                                    "1": "1320"
                                },
                                {
                                    "0": "Coin-operated laundries and drycleaners",
                                    "1": "1324"
                                },
                                {
                                    "0": "Gasoline stations with convenience stores",
                                    "1": "1347"
                                },
                                {
                                    "0": "RV parks and recreational camps",
                                    "1": "1357"
                                },
                                {
                                    "0": "Specialty food stores",
                                    "1": "1360"
                                },
                                {
                                    "0": "Janitorial services",
                                    "1": "1366"
                                },
                                {
                                    "0": "Other home furnishings stores",
                                    "1": "1373"
                                },
                                {
                                    "0": "Gasoline stations",
                                    "1": "1383"
                                },
                                {
                                    "0": "Pet care services",
                                    "1": "1398"
                                },
                                {
                                    "0": "Food and beverage stores",
                                    "1": "1440"
                                },
                                {
                                    "0": "Shoe stores",
                                    "1": "1441"
                                },
                                {
                                    "0": "Special food services",
                                    "1": "1443"
                                },
                                {
                                    "0": "Used merchandise stores",
                                    "1": "1446"
                                },
                                {
                                    "0": "Grocery stores",
                                    "1": "1453"
                                },
                                {
                                    "0": "Hobby",
                                    "1": "1457"
                                },
                                {
                                    "0": "Supermarkets and other grocery stores",
                                    "1": "1461"
                                },
                                {
                                    "0": "General merchandise stores",
                                    "1": "1462"
                                },
                                {
                                    "0": "Services for the elderly and persons with disabilities",
                                    "1": "1474"
                                },
                                {
                                    "0": "Office supplies",
                                    "1": "1485"
                                },
                                {
                                    "0": "Golf courses and country clubs",
                                    "1": "1513"
                                },
                                {
                                    "0": "Miscellaneous store retailers",
                                    "1": "1521"
                                },
                                {
                                    "0": "Parking lots and garages",
                                    "1": "1533"
                                },
                                {
                                    "0": "Pet and pet supplies stores",
                                    "1": "1539"
                                },
                                {
                                    "0": "Sporting goods and musical instrument stores",
                                    "1": "1539"
                                },
                                {
                                    "0": "Other personal services",
                                    "1": "1541"
                                },
                                {
                                    "0": "Sporting goods stores",
                                    "1": "1546"
                                },
                                {
                                    "0": "Other automotive repair and maintenance",
                                    "1": "1550"
                                },
                                {
                                    "0": "Food service contractors",
                                    "1": "1551"
                                },
                                {
                                    "0": "Arts",
                                    "1": "1562"
                                },
                                {
                                    "0": "Child day care services",
                                    "1": "1567"
                                },
                                {
                                    "0": "Cosmetic and beauty supply stores",
                                    "1": "1597"
                                },
                                {
                                    "0": "Hardware stores",
                                    "1": "1624"
                                },
                                {
                                    "0": "Individual and family services",
                                    "1": "1652"
                                },
                                {
                                    "0": "Other miscellaneous store retailers",
                                    "1": "1658"
                                },
                                {
                                    "0": "Social assistance",
                                    "1": "1659"
                                },
                                {
                                    "0": "Other personal care services",
                                    "1": "1660"
                                },
                                {
                                    "0": "Other gasoline stations",
                                    "1": "1663"
                                },
                                {
                                    "0": "Assisted living facilities for the elderly",
                                    "1": "1663"
                                },
                                {
                                    "0": "Personal care services",
                                    "1": "1665"
                                },
                                {
                                    "0": "Hair",
                                    "1": "1670"
                                },
                                {
                                    "0": "Accommodation",
                                    "1": "1687"
                                },
                                {
                                    "0": "Hotels and motels",
                                    "1": "1688"
                                },
                                {
                                    "0": "Vocational rehabilitation services",
                                    "1": "1689"
                                },
                                {
                                    "0": "Traveler accommodation",
                                    "1": "1698"
                                },
                                {
                                    "0": "Personal and laundry services",
                                    "1": "1701"
                                },
                                {
                                    "0": "Home centers",
                                    "1": "1726"
                                },
                                {
                                    "0": "Airport operations",
                                    "1": "1775"
                                },
                                {
                                    "0": "Services to buildings and dwellings",
                                    "1": "1796"
                                },
                                {
                                    "0": "Home furnishings stores",
                                    "1": "1806"
                                },
                                {
                                    "0": "Retail trade",
                                    "1": "1809"
                                },
                                {
                                    "0": "Residential intellectual and developmental disability facilities",
                                    "1": "1839"
                                },
                                {
                                    "0": "Community care facilities for the elderly",
                                    "1": "1840"
                                },
                                {
                                    "0": "Other health and personal care stores",
                                    "1": "1892"
                                },
                                {
                                    "0": "Offices of chiropractors",
                                    "1": "1892"
                                },
                                {
                                    "0": "Other ground passenger transportation",
                                    "1": "1903"
                                },
                                {
                                    "0": "Carpet and upholstery cleaning services",
                                    "1": "1920"
                                },
                                {
                                    "0": "Seafood product preparation and packaging",
                                    "1": "1949"
                                },
                                {
                                    "0": "Jewelry",
                                    "1": "1953"
                                },
                                {
                                    "0": "Building material and supplies dealers",
                                    "1": "1970"
                                },
                                {
                                    "0": "Building material and garden supply stores",
                                    "1": "1977"
                                },
                                {
                                    "0": "Apparel",
                                    "1": "1979"
                                },
                                {
                                    "0": "Telephone call centers",
                                    "1": "1996"
                                },
                                {
                                    "0": "Continuing care retirement communities",
                                    "1": "1997"
                                },
                                {
                                    "0": "Residential mental health facilities",
                                    "1": "2014"
                                },
                                {
                                    "0": "Used household and office goods moving",
                                    "1": "2048"
                                },
                                {
                                    "0": "Office supplies and stationery stores",
                                    "1": "2049"
                                },
                                {
                                    "0": "Nursing and residential care facilities",
                                    "1": "2053"
                                },
                                {
                                    "0": "School and employee bus transportation",
                                    "1": "2066"
                                },
                                {
                                    "0": "Health and personal care stores",
                                    "1": "2070"
                                },
                                {
                                    "0": "Security and armored car services",
                                    "1": "2076"
                                },
                                {
                                    "0": "Lawn and garden equipment and supplies stores",
                                    "1": "2079"
                                },
                                {
                                    "0": "Home health care services",
                                    "1": "2087"
                                },
                                {
                                    "0": "Other residential care facilities",
                                    "1": "2089"
                                },
                                {
                                    "0": "Linen and uniform supply",
                                    "1": "2101"
                                },
                                {
                                    "0": "Offices of optometrists",
                                    "1": "2111"
                                },
                                {
                                    "0": "Offices of mental health practitioners",
                                    "1": "2136"
                                },
                                {
                                    "0": "Nursery stock and florists' supplies",
                                    "1": "2141"
                                },
                                {
                                    "0": "Optical goods stores",
                                    "1": "2150"
                                },
                                {
                                    "0": "Textile product mills",
                                    "1": "2180"
                                },
                                {
                                    "0": "Nursing care facilities",
                                    "1": "2189"
                                },
                                {
                                    "0": "Pharmacies and drug stores",
                                    "1": "2190"
                                },
                                {
                                    "0": "Furniture and home furnishings stores",
                                    "1": "2192"
                                },
                                {
                                    "0": "Gambling industries",
                                    "1": "2193"
                                },
                                {
                                    "0": "Other individual and family services",
                                    "1": "2197"
                                },
                                {
                                    "0": "Child and youth services",
                                    "1": "2199"
                                },
                                {
                                    "0": "All other support services",
                                    "1": "2206"
                                },
                                {
                                    "0": "Emergency and other relief services",
                                    "1": "2234"
                                },
                                {
                                    "0": "Household appliance stores",
                                    "1": "2240"
                                },
                                {
                                    "0": "Poultry processing",
                                    "1": "2241"
                                },
                                {
                                    "0": "Temporary help services",
                                    "1": "2244"
                                },
                                {
                                    "0": "Investigation and security services",
                                    "1": "2246"
                                },
                                {
                                    "0": "Other services to buildings and dwellings",
                                    "1": "2254"
                                },
                                {
                                    "0": "Veterinary services",
                                    "1": "2271"
                                },
                                {
                                    "0": "Household goods repair and maintenance",
                                    "1": "2271"
                                },
                                {
                                    "0": "Landscaping services",
                                    "1": "2290"
                                },
                                {
                                    "0": "Transit and ground passenger transportation",
                                    "1": "2291"
                                },
                                {
                                    "0": "Business support services",
                                    "1": "2293"
                                },
                                {
                                    "0": "Death care services",
                                    "1": "2319"
                                },
                                {
                                    "0": "Administrative and support services",
                                    "1": "2327"
                                },
                                {
                                    "0": "Residential mental health and substance abuse facilites",
                                    "1": "2332"
                                },
                                {
                                    "0": "Photographic services",
                                    "1": "2339"
                                },
                                {
                                    "0": "Employment services",
                                    "1": "2345"
                                },
                                {
                                    "0": "Business service centers",
                                    "1": "2362"
                                },
                                {
                                    "0": "Tire dealers",
                                    "1": "2375"
                                },
                                {
                                    "0": "Consumer lending",
                                    "1": "2379"
                                },
                                {
                                    "0": "Marinas",
                                    "1": "2381"
                                },
                                {
                                    "0": "Administrative and waste services",
                                    "1": "2383"
                                },
                                {
                                    "0": "Auto parts",
                                    "1": "2387"
                                },
                                {
                                    "0": "Automotive parts and accessories stores",
                                    "1": "2390"
                                },
                                {
                                    "0": "Other services",
                                    "1": "2432"
                                },
                                {
                                    "0": "Professional employer organizations",
                                    "1": "2435"
                                },
                                {
                                    "0": "Home health equipment rental",
                                    "1": "2442"
                                },
                                {
                                    "0": "General rental centers",
                                    "1": "2448"
                                },
                                {
                                    "0": "Support activities for air transportation",
                                    "1": "2453"
                                },
                                {
                                    "0": "Bakeries and tortilla manufacturing",
                                    "1": "2468"
                                },
                                {
                                    "0": "Used car dealers",
                                    "1": "2480"
                                },
                                {
                                    "0": "Support activities for road transportation",
                                    "1": "2495"
                                },
                                {
                                    "0": "Other support services",
                                    "1": "2498"
                                },
                                {
                                    "0": "Offices of other health practitioners",
                                    "1": "2515"
                                },
                                {
                                    "0": "Textile mills",
                                    "1": "2520"
                                },
                                {
                                    "0": "Other motor vehicle dealers",
                                    "1": "2521"
                                },
                                {
                                    "0": "All other wood products",
                                    "1": "2522"
                                },
                                {
                                    "0": "Couriers and messengers",
                                    "1": "2523"
                                },
                                {
                                    "0": "Performing arts and spectator sports",
                                    "1": "2529"
                                },
                                {
                                    "0": "Packaging and labeling services",
                                    "1": "2530"
                                },
                                {
                                    "0": "Lessors of real estate",
                                    "1": "2530"
                                },
                                {
                                    "0": "Motion picture and sound recording industries",
                                    "1": "2543"
                                },
                                {
                                    "0": "Lessors of residential buildings",
                                    "1": "2544"
                                },
                                {
                                    "0": "Other household and institutional furniture",
                                    "1": "2549"
                                },
                                {
                                    "0": "Outpatient mental health centers",
                                    "1": "2550"
                                },
                                {
                                    "0": "Human rights organizations",
                                    "1": "2565"
                                },
                                {
                                    "0": "Animal slaughtering and processing",
                                    "1": "2566"
                                },
                                {
                                    "0": "Upholstered household furniture",
                                    "1": "2572"
                                },
                                {
                                    "0": "Trade",
                                    "1": "2577"
                                },
                                {
                                    "0": "Wood containers and pallets",
                                    "1": "2609"
                                },
                                {
                                    "0": "Collection agencies",
                                    "1": "2619"
                                },
                                {
                                    "0": "Sugar and confectionery products",
                                    "1": "2620"
                                },
                                {
                                    "0": "Furniture stores",
                                    "1": "2623"
                                },
                                {
                                    "0": "Membership associations and organizations",
                                    "1": "2624"
                                },
                                {
                                    "0": "Newspaper publishers",
                                    "1": "2634"
                                },
                                {
                                    "0": "General warehousing and storage",
                                    "1": "2649"
                                },
                                {
                                    "0": "Automotive repair and maintenance",
                                    "1": "2651"
                                },
                                {
                                    "0": "Offices of all other health practitioners",
                                    "1": "2653"
                                },
                                {
                                    "0": "Ambulance services",
                                    "1": "2662"
                                },
                                {
                                    "0": "Mail-order houses",
                                    "1": "2666"
                                },
                                {
                                    "0": "Farm product raw materials",
                                    "1": "2684"
                                },
                                {
                                    "0": "Residential property managers",
                                    "1": "2692"
                                },
                                {
                                    "0": "Warehousing and storage",
                                    "1": "2693"
                                },
                                {
                                    "0": "Other miscellaneous durable goods manufacturing",
                                    "1": "2710"
                                },
                                {
                                    "0": "Other wood products",
                                    "1": "2710"
                                },
                                {
                                    "0": "Siding contractors",
                                    "1": "2713"
                                },
                                {
                                    "0": "Household and institutional furniture",
                                    "1": "2720"
                                },
                                {
                                    "0": "Misc. nondurable goods",
                                    "1": "2725"
                                },
                                {
                                    "0": "Rental and leasing services",
                                    "1": "2738"
                                },
                                {
                                    "0": "Frozen food",
                                    "1": "2746"
                                },
                                {
                                    "0": "Framing contractors",
                                    "1": "2754"
                                },
                                {
                                    "0": "Spectator sports",
                                    "1": "2767"
                                },
                                {
                                    "0": "Signs",
                                    "1": "2771"
                                },
                                {
                                    "0": "Food manufacturing",
                                    "1": "2782"
                                },
                                {
                                    "0": "Furniture and related products",
                                    "1": "2792"
                                },
                                {
                                    "0": "Independent artists",
                                    "1": "2799"
                                },
                                {
                                    "0": "Recyclable materials",
                                    "1": "2807"
                                },
                                {
                                    "0": "Offices of dentists",
                                    "1": "2809"
                                },
                                {
                                    "0": "Private service-providing",
                                    "1": "2814"
                                },
                                {
                                    "0": "Electroplating",
                                    "1": "2818"
                                },
                                {
                                    "0": "Social advocacy organizations",
                                    "1": "2820"
                                },
                                {
                                    "0": "Performing arts companies",
                                    "1": "2828"
                                },
                                {
                                    "0": "Motor vehicle and parts dealers",
                                    "1": "2828"
                                },
                                {
                                    "0": "Travel agencies",
                                    "1": "2831"
                                },
                                {
                                    "0": "Fruit and vegetable preserving and specialty",
                                    "1": "2835"
                                },
                                {
                                    "0": "Farm supplies",
                                    "1": "2838"
                                },
                                {
                                    "0": "Other plastics products",
                                    "1": "2838"
                                },
                                {
                                    "0": "Soaps",
                                    "1": "2842"
                                },
                                {
                                    "0": "Repair and maintenance",
                                    "1": "2849"
                                },
                                {
                                    "0": "Fruits and vegetables",
                                    "1": "2859"
                                },
                                {
                                    "0": "Motor vehicle bodies and trailers",
                                    "1": "2860"
                                },
                                {
                                    "0": "Wood products",
                                    "1": "2862"
                                },
                                {
                                    "0": "Offices of specialty therapists",
                                    "1": "2872"
                                },
                                {
                                    "0": "Exterminating and pest control services",
                                    "1": "2873"
                                },
                                {
                                    "0": "Offices of mental health physicians",
                                    "1": "2878"
                                },
                                {
                                    "0": "Real estate",
                                    "1": "2878"
                                },
                                {
                                    "0": "Automotive mechanical and electrical repair",
                                    "1": "2888"
                                },
                                {
                                    "0": "General automotive repair",
                                    "1": "2888"
                                },
                                {
                                    "0": "Lessors of nonresidential buildings",
                                    "1": "2895"
                                },
                                {
                                    "0": "Millwork",
                                    "1": "2897"
                                },
                                {
                                    "0": "Printing and related support activities",
                                    "1": "2902"
                                },
                                {
                                    "0": "Coating",
                                    "1": "2906"
                                },
                                {
                                    "0": "Floor covering stores",
                                    "1": "2909"
                                },
                                {
                                    "0": "Wood kitchen cabinets and countertops",
                                    "1": "2932"
                                },
                                {
                                    "0": "Title abstract and settlement offices",
                                    "1": "2940"
                                },
                                {
                                    "0": "Total private",
                                    "1": "2943"
                                },
                                {
                                    "0": "Plastics products",
                                    "1": "2944"
                                },
                                {
                                    "0": "Education and health services",
                                    "1": "2956"
                                },
                                {
                                    "0": "Fruit and vegetable canning and drying",
                                    "1": "2964"
                                },
                                {
                                    "0": "Dental laboratories",
                                    "1": "2967"
                                },
                                {
                                    "0": "Plastics and rubber products",
                                    "1": "2972"
                                },
                                {
                                    "0": "Other professional and technical services",
                                    "1": "2975"
                                },
                                {
                                    "0": "Real estate property managers",
                                    "1": "2989"
                                },
                                {
                                    "0": "Offices of real estate agents and brokers",
                                    "1": "2990"
                                },
                                {
                                    "0": "Health care and social assistance",
                                    "1": "3019"
                                },
                                {
                                    "0": "Plywood and engineered wood products",
                                    "1": "3023"
                                },
                                {
                                    "0": "New motor vehicle parts",
                                    "1": "3028"
                                },
                                {
                                    "0": "Ornamental and architectural metal products",
                                    "1": "3041"
                                },
                                {
                                    "0": "Miscellaneous durable goods manufacturing",
                                    "1": "3043"
                                },
                                {
                                    "0": "Automobile dealers",
                                    "1": "3046"
                                },
                                {
                                    "0": "Wood windows and doors",
                                    "1": "3047"
                                },
                                {
                                    "0": "Other ambulatory health care services",
                                    "1": "3053"
                                },
                                {
                                    "0": "Miscellaneous durable goods",
                                    "1": "3055"
                                },
                                {
                                    "0": "Travel arrangement and reservation services",
                                    "1": "3056"
                                },
                                {
                                    "0": "Nonstore retailers",
                                    "1": "3069"
                                },
                                {
                                    "0": "Rubber products",
                                    "1": "3070"
                                },
                                {
                                    "0": "Sheet metal work",
                                    "1": "3072"
                                },
                                {
                                    "0": "Apparel and piece goods",
                                    "1": "3076"
                                },
                                {
                                    "0": "Savings institutions",
                                    "1": "3080"
                                },
                                {
                                    "0": "Electronic shopping and mail-order houses",
                                    "1": "3083"
                                },
                                {
                                    "0": "Sawmills and wood preservation",
                                    "1": "3093"
                                },
                                {
                                    "0": "Support activities for transportation",
                                    "1": "3094"
                                },
                                {
                                    "0": "Freestanding emergency medical centers",
                                    "1": "3094"
                                },
                                {
                                    "0": "Waste collection",
                                    "1": "3110"
                                },
                                {
                                    "0": "New car dealers",
                                    "1": "3114"
                                },
                                {
                                    "0": "Drycleaning and laundry services",
                                    "1": "3117"
                                },
                                {
                                    "0": "Painting and wall covering contractors",
                                    "1": "3119"
                                },
                                {
                                    "0": "Roofing contractors",
                                    "1": "3128"
                                },
                                {
                                    "0": "Activities related to real estate",
                                    "1": "3131"
                                },
                                {
                                    "0": "Plastics packaging materials",
                                    "1": "3132"
                                },
                                {
                                    "0": "Depository credit intermediation",
                                    "1": "3133"
                                },
                                {
                                    "0": "Motor vehicles and parts",
                                    "1": "3134"
                                },
                                {
                                    "0": "Alcoholic beverages",
                                    "1": "3135"
                                },
                                {
                                    "0": "Paper bags and coated and treated paper",
                                    "1": "3146"
                                },
                                {
                                    "0": "Residential remodelers",
                                    "1": "3149"
                                },
                                {
                                    "0": "All other motor vehicle parts",
                                    "1": "3156"
                                },
                                {
                                    "0": "Commercial banking",
                                    "1": "3158"
                                },
                                {
                                    "0": "Surgical appliances and supplies",
                                    "1": "3161"
                                },
                                {
                                    "0": "Architectural and structural metals",
                                    "1": "3165"
                                },
                                {
                                    "0": "Grocery and related products",
                                    "1": "3168"
                                },
                                {
                                    "0": "Communications equipment",
                                    "1": "3171"
                                },
                                {
                                    "0": "Ambulatory health care services",
                                    "1": "3175"
                                },
                                {
                                    "0": "Computer and office machine repair",
                                    "1": "3207"
                                },
                                {
                                    "0": "Facilities support services",
                                    "1": "3217"
                                },
                                {
                                    "0": "Transportation and warehousing",
                                    "1": "3232"
                                },
                                {
                                    "0": "Electronics and appliance stores",
                                    "1": "3233"
                                },
                                {
                                    "0": "HVAC and commercial refrigeration equipment",
                                    "1": "3237"
                                },
                                {
                                    "0": "Turned products and screws",
                                    "1": "3250"
                                },
                                {
                                    "0": "Farm machinery and equipment",
                                    "1": "3286"
                                },
                                {
                                    "0": "Masonry contractors",
                                    "1": "3288"
                                },
                                {
                                    "0": "Foundries",
                                    "1": "3289"
                                },
                                {
                                    "0": "Security systems services",
                                    "1": "3290"
                                },
                                {
                                    "0": "Farm and garden equipment",
                                    "1": "3292"
                                },
                                {
                                    "0": "Converted paper products",
                                    "1": "3298"
                                },
                                {
                                    "0": "Paperboard containers",
                                    "1": "3298"
                                },
                                {
                                    "0": "Automotive body",
                                    "1": "3300"
                                },
                                {
                                    "0": "Corrugated and solid fiber boxes",
                                    "1": "3308"
                                },
                                {
                                    "0": "Accounting and bookkeeping services",
                                    "1": "3317"
                                },
                                {
                                    "0": "Other legal services",
                                    "1": "3323"
                                },
                                {
                                    "0": "Plate work and fabricated structural products",
                                    "1": "3330"
                                },
                                {
                                    "0": "Medical equipment and supplies",
                                    "1": "3335"
                                },
                                {
                                    "0": "Newspaper",
                                    "1": "3337"
                                },
                                {
                                    "0": "Nonmetallic mineral products",
                                    "1": "3337"
                                },
                                {
                                    "0": "Masonry materials",
                                    "1": "3338"
                                },
                                {
                                    "0": "Fabricated structural metal products",
                                    "1": "3349"
                                },
                                {
                                    "0": "Finish carpentry contractors",
                                    "1": "3350"
                                },
                                {
                                    "0": "Electrical equipment and appliances",
                                    "1": "3351"
                                },
                                {
                                    "0": "Fabricated metal products",
                                    "1": "3356"
                                },
                                {
                                    "0": "Electronics stores",
                                    "1": "3360"
                                },
                                {
                                    "0": "Residential building",
                                    "1": "3362"
                                },
                                {
                                    "0": "Specialized freight trucking",
                                    "1": "3364"
                                },
                                {
                                    "0": "Furniture and furnishings",
                                    "1": "3374"
                                },
                                {
                                    "0": "Employment placement agencies and executive search services",
                                    "1": "3375"
                                },
                                {
                                    "0": "New single-family general contractors",
                                    "1": "3379"
                                },
                                {
                                    "0": "Logging",
                                    "1": "3380"
                                },
                                {
                                    "0": "Outpatient care centers",
                                    "1": "3382"
                                },
                                {
                                    "0": "Other building finishing contractors",
                                    "1": "3383"
                                },
                                {
                                    "0": "Social science and humanities research",
                                    "1": "3390"
                                },
                                {
                                    "0": "Electronic equipment repair and maintenance",
                                    "1": "3420"
                                },
                                {
                                    "0": "Cement and concrete products",
                                    "1": "3420"
                                },
                                {
                                    "0": "Electrical equipment",
                                    "1": "3435"
                                },
                                {
                                    "0": "Ready-mix concrete",
                                    "1": "3442"
                                },
                                {
                                    "0": "Manufacturing",
                                    "1": "3454"
                                },
                                {
                                    "0": "All other fabricated metal products",
                                    "1": "3460"
                                },
                                {
                                    "0": "Machine shops and threaded products",
                                    "1": "3465"
                                },
                                {
                                    "0": "Business to business electronic markets",
                                    "1": "3466"
                                },
                                {
                                    "0": "Hardware",
                                    "1": "3468"
                                },
                                {
                                    "0": "Credit intermediation and related activities",
                                    "1": "3473"
                                },
                                {
                                    "0": "Diagnostic imaging centers",
                                    "1": "3473"
                                },
                                {
                                    "0": "Professional and similar organizations",
                                    "1": "3483"
                                },
                                {
                                    "0": "Motor vehicle parts",
                                    "1": "3484"
                                },
                                {
                                    "0": "Building foundation and exterior contractors",
                                    "1": "3488"
                                },
                                {
                                    "0": "Truck transportation",
                                    "1": "3495"
                                },
                                {
                                    "0": "Radio broadcasting",
                                    "1": "3497"
                                },
                                {
                                    "0": "Marketing research and public opinion polling",
                                    "1": "3507"
                                },
                                {
                                    "0": "Agricultural",
                                    "1": "3511"
                                },
                                {
                                    "0": "Machine shops",
                                    "1": "3520"
                                },
                                {
                                    "0": "Other electrical equipment and components",
                                    "1": "3528"
                                },
                                {
                                    "0": "Freight transportation arrangement",
                                    "1": "3533"
                                },
                                {
                                    "0": "Payroll services",
                                    "1": "3540"
                                },
                                {
                                    "0": "Industrial supplies",
                                    "1": "3542"
                                },
                                {
                                    "0": "Convention and trade show organizers",
                                    "1": "3546"
                                },
                                {
                                    "0": "Other fabricated metal products",
                                    "1": "3548"
                                },
                                {
                                    "0": "Lumber and construction supplies",
                                    "1": "3554"
                                },
                                {
                                    "0": "Semiconductors and electronic components",
                                    "1": "3599"
                                },
                                {
                                    "0": "Other building exterior contractors",
                                    "1": "3605"
                                },
                                {
                                    "0": "Forging and stamping",
                                    "1": "3615"
                                },
                                {
                                    "0": "Pharmaceuticals and medicines",
                                    "1": "3621"
                                },
                                {
                                    "0": "Flooring contractors",
                                    "1": "3642"
                                },
                                {
                                    "0": "All other ambulatory health care services",
                                    "1": "3646"
                                },
                                {
                                    "0": "Building finishing contractors",
                                    "1": "3646"
                                },
                                {
                                    "0": "Dairy products",
                                    "1": "3650"
                                },
                                {
                                    "0": "Lumber and wood",
                                    "1": "3660"
                                },
                                {
                                    "0": "Metals and minerals",
                                    "1": "3674"
                                },
                                {
                                    "0": "Professional and business services",
                                    "1": "3676"
                                },
                                {
                                    "0": "General line grocery",
                                    "1": "3683"
                                },
                                {
                                    "0": "Plumbing equipment",
                                    "1": "3684"
                                },
                                {
                                    "0": "Remediation and other waste services",
                                    "1": "3686"
                                },
                                {
                                    "0": "Poured concrete structure contractors",
                                    "1": "3687"
                                },
                                {
                                    "0": "Other general purpose machinery",
                                    "1": "3687"
                                },
                                {
                                    "0": "Waste management and remediation services",
                                    "1": "3689"
                                },
                                {
                                    "0": "Commercial machinery repair and maintenance",
                                    "1": "3693"
                                },
                                {
                                    "0": "All other specialty trade contractors",
                                    "1": "3703"
                                },
                                {
                                    "0": "Goods-producing",
                                    "1": "3718"
                                },
                                {
                                    "0": "Offices of certified public accountants",
                                    "1": "3720"
                                },
                                {
                                    "0": "Telecommunications resellers",
                                    "1": "3722"
                                },
                                {
                                    "0": "Metal valves",
                                    "1": "3724"
                                },
                                {
                                    "0": "Machinery",
                                    "1": "3748"
                                },
                                {
                                    "0": "Insurance agencies and brokerages",
                                    "1": "3752"
                                },
                                {
                                    "0": "Hardware and plumbing",
                                    "1": "3758"
                                },
                                {
                                    "0": "Medical and diagnostic laboratories",
                                    "1": "3758"
                                },
                                {
                                    "0": "Druggists' goods",
                                    "1": "3777"
                                },
                                {
                                    "0": "Other specialty trade contractors",
                                    "1": "3779"
                                },
                                {
                                    "0": "Museums",
                                    "1": "3787"
                                },
                                {
                                    "0": "Glass and glazing contractors",
                                    "1": "3814"
                                },
                                {
                                    "0": "Site preparation contractors",
                                    "1": "3828"
                                },
                                {
                                    "0": "Wholesale trade",
                                    "1": "3829"
                                },
                                {
                                    "0": "Motor vehicle metal stamping",
                                    "1": "3846"
                                },
                                {
                                    "0": "Activities related to credit intermediation",
                                    "1": "3847"
                                },
                                {
                                    "0": "Testing laboratories",
                                    "1": "3847"
                                },
                                {
                                    "0": "Crushed and broken limestone mining",
                                    "1": "3856"
                                },
                                {
                                    "0": "Nonresidential property managers",
                                    "1": "3865"
                                },
                                {
                                    "0": "Medical laboratories",
                                    "1": "3871"
                                },
                                {
                                    "0": "Broadcasting",
                                    "1": "3875"
                                },
                                {
                                    "0": "Stone mining and quarrying",
                                    "1": "3889"
                                },
                                {
                                    "0": "Primary metals",
                                    "1": "3918"
                                },
                                {
                                    "0": "Insurance agencies",
                                    "1": "3920"
                                },
                                {
                                    "0": "Construction of buildings",
                                    "1": "3921"
                                },
                                {
                                    "0": "Grantmaking and giving services",
                                    "1": "3923"
                                },
                                {
                                    "0": "Metalworking machinery",
                                    "1": "3926"
                                },
                                {
                                    "0": "Machinery and supplies",
                                    "1": "3934"
                                },
                                {
                                    "0": "Financial activities",
                                    "1": "3935"
                                },
                                {
                                    "0": "Specialty trade contractors",
                                    "1": "3949"
                                },
                                {
                                    "0": "Landscape architectural services",
                                    "1": "3952"
                                },
                                {
                                    "0": "Office administrative services",
                                    "1": "3985"
                                },
                                {
                                    "0": "Boilers",
                                    "1": "3987"
                                },
                                {
                                    "0": "Machinery and equipment rental and leasing",
                                    "1": "4015"
                                },
                                {
                                    "0": "Petroleum",
                                    "1": "4036"
                                },
                                {
                                    "0": "Plumbing and HVAC contractors",
                                    "1": "4049"
                                },
                                {
                                    "0": "Construction",
                                    "1": "4053"
                                },
                                {
                                    "0": "Specialized design services",
                                    "1": "4054"
                                },
                                {
                                    "0": "Computer and electronic products",
                                    "1": "4066"
                                },
                                {
                                    "0": "Business associations",
                                    "1": "4070"
                                },
                                {
                                    "0": "Water and sewer system construction",
                                    "1": "4084"
                                },
                                {
                                    "0": "Special tools",
                                    "1": "4094"
                                },
                                {
                                    "0": "Water",
                                    "1": "4099"
                                },
                                {
                                    "0": "Motor vehicle gasoline engine and parts",
                                    "1": "4101"
                                },
                                {
                                    "0": "Nondepository credit intermediation",
                                    "1": "4108"
                                },
                                {
                                    "0": "Drywall and insulation contractors",
                                    "1": "4115"
                                },
                                {
                                    "0": "Third-party administration of insurance funds",
                                    "1": "4145"
                                },
                                {
                                    "0": "Process and logistics consulting services",
                                    "1": "4157"
                                },
                                {
                                    "0": "Electrical equipment and wiring",
                                    "1": "4167"
                                },
                                {
                                    "0": "Labor unions and similar labor organizations",
                                    "1": "4179"
                                },
                                {
                                    "0": "Turbine and power transmission equipment",
                                    "1": "4207"
                                },
                                {
                                    "0": "Support activities for water transportation",
                                    "1": "4246"
                                },
                                {
                                    "0": "Electric goods",
                                    "1": "4248"
                                },
                                {
                                    "0": "Professional organizations",
                                    "1": "4265"
                                },
                                {
                                    "0": "Managing offices",
                                    "1": "4266"
                                },
                                {
                                    "0": "Air transportation",
                                    "1": "4268"
                                },
                                {
                                    "0": "Advertising and related services",
                                    "1": "4272"
                                },
                                {
                                    "0": "Graphic design services",
                                    "1": "4290"
                                },
                                {
                                    "0": "Management of companies and enterprises",
                                    "1": "4293"
                                },
                                {
                                    "0": "Marketing consulting services",
                                    "1": "4303"
                                },
                                {
                                    "0": "Building equipment contractors",
                                    "1": "4310"
                                },
                                {
                                    "0": "Tile and terrazzo contractors",
                                    "1": "4315"
                                },
                                {
                                    "0": "Other insurance-related activities",
                                    "1": "4324"
                                },
                                {
                                    "0": "Grantmaking foundations",
                                    "1": "4325"
                                },
                                {
                                    "0": "Periodical publishers",
                                    "1": "4331"
                                },
                                {
                                    "0": "Construction equipment",
                                    "1": "4340"
                                },
                                {
                                    "0": "Office equipment",
                                    "1": "4343"
                                },
                                {
                                    "0": "Highway",
                                    "1": "4349"
                                },
                                {
                                    "0": "Commercial and service industry machinery",
                                    "1": "4354"
                                },
                                {
                                    "0": "Resin",
                                    "1": "4355"
                                },
                                {
                                    "0": "Commercial building",
                                    "1": "4368"
                                },
                                {
                                    "0": "Transportation equipment",
                                    "1": "4377"
                                },
                                {
                                    "0": "Hospitals",
                                    "1": "4379"
                                },
                                {
                                    "0": "Information",
                                    "1": "4397"
                                },
                                {
                                    "0": "Financial transaction processing and clearing",
                                    "1": "4419"
                                },
                                {
                                    "0": "General medical and surgical hospitals",
                                    "1": "4452"
                                },
                                {
                                    "0": "Medical equipment",
                                    "1": "4459"
                                },
                                {
                                    "0": "Nonresidential building",
                                    "1": "4465"
                                },
                                {
                                    "0": "Insurance carriers and related activities",
                                    "1": "4473"
                                },
                                {
                                    "0": "Land subdivision",
                                    "1": "4497"
                                },
                                {
                                    "0": "Electrical contractors",
                                    "1": "4524"
                                },
                                {
                                    "0": "Wired telecommunications carriers",
                                    "1": "4549"
                                },
                                {
                                    "0": "Telecommunications",
                                    "1": "4589"
                                },
                                {
                                    "0": "Other information services",
                                    "1": "4609"
                                },
                                {
                                    "0": "Sporting goods",
                                    "1": "4661"
                                },
                                {
                                    "0": "Public relations agencies",
                                    "1": "4723"
                                },
                                {
                                    "0": "Support activities for oil and gas operations",
                                    "1": "4736"
                                },
                                {
                                    "0": "Heavy machinery rental and leasing",
                                    "1": "4738"
                                },
                                {
                                    "0": "Steel and precast concrete contractors",
                                    "1": "4739"
                                },
                                {
                                    "0": "Electronic instruments",
                                    "1": "4768"
                                },
                                {
                                    "0": "Industrial building",
                                    "1": "4786"
                                },
                                {
                                    "0": "Heavy and civil engineering construction",
                                    "1": "4789"
                                },
                                {
                                    "0": "Other building equipment contractors",
                                    "1": "4806"
                                },
                                {
                                    "0": "Direct life and health insurance carriers",
                                    "1": "4811"
                                },
                                {
                                    "0": "Waste treatment and disposal",
                                    "1": "4817"
                                },
                                {
                                    "0": "Motor vehicle power train components",
                                    "1": "4822"
                                },
                                {
                                    "0": "Commercial equipment",
                                    "1": "4845"
                                },
                                {
                                    "0": "Pulp",
                                    "1": "4849"
                                },
                                {
                                    "0": "Real estate credit",
                                    "1": "4856"
                                },
                                {
                                    "0": "Utility system construction",
                                    "1": "4863"
                                },
                                {
                                    "0": "Architectural services",
                                    "1": "4870"
                                },
                                {
                                    "0": "Direct insurers",
                                    "1": "4876"
                                },
                                {
                                    "0": "Insurance carriers",
                                    "1": "4876"
                                },
                                {
                                    "0": "Support activities for mining",
                                    "1": "4924"
                                },
                                {
                                    "0": "Legal services",
                                    "1": "4936"
                                },
                                {
                                    "0": "Management and technical consulting services",
                                    "1": "5001"
                                },
                                {
                                    "0": "Electronic markets and agents and brokers",
                                    "1": "5002"
                                },
                                {
                                    "0": "Management consulting services",
                                    "1": "5003"
                                },
                                {
                                    "0": "Professional and technical services",
                                    "1": "5011"
                                },
                                {
                                    "0": "Data processing",
                                    "1": "5014"
                                },
                                {
                                    "0": "Publishing industries",
                                    "1": "5024"
                                },
                                {
                                    "0": "Mining and logging",
                                    "1": "5043"
                                },
                                {
                                    "0": "Advertising agencies",
                                    "1": "5049"
                                },
                                {
                                    "0": "Wholesale trade agents and brokers",
                                    "1": "5055"
                                },
                                {
                                    "0": "Offices of lawyers",
                                    "1": "5064"
                                },
                                {
                                    "0": "Architectural and engineering services",
                                    "1": "5120"
                                },
                                {
                                    "0": "Power and communication system construction",
                                    "1": "5155"
                                },
                                {
                                    "0": "Investment advice",
                                    "1": "5171"
                                },
                                {
                                    "0": "Semiconductors and related devices",
                                    "1": "5320"
                                },
                                {
                                    "0": "Biotechnology research",
                                    "1": "5325"
                                },
                                {
                                    "0": "Basic chemicals",
                                    "1": "5410"
                                },
                                {
                                    "0": "Administrative management consulting services",
                                    "1": "5439"
                                },
                                {
                                    "0": "Natural gas distribution",
                                    "1": "5529"
                                },
                                {
                                    "0": "Securities brokerage",
                                    "1": "5646"
                                },
                                {
                                    "0": "Oil and gas pipeline construction",
                                    "1": "5679"
                                },
                                {
                                    "0": "Other heavy construction",
                                    "1": "5698"
                                },
                                {
                                    "0": "Other financial investment activities",
                                    "1": "5758"
                                },
                                {
                                    "0": "Coal mining",
                                    "1": "5819"
                                },
                                {
                                    "0": "Computer and software",
                                    "1": "5920"
                                },
                                {
                                    "0": "Scientific research and development services",
                                    "1": "5920"
                                },
                                {
                                    "0": "Oil and gas extraction",
                                    "1": "6106"
                                },
                                {
                                    "0": "Research and development in the physical",
                                    "1": "6193"
                                },
                                {
                                    "0": "Utilities",
                                    "1": "6200"
                                },
                                {
                                    "0": "Portfolio management",
                                    "1": "6349"
                                },
                                {
                                    "0": "Aerospace products and parts",
                                    "1": "6358"
                                },
                                {
                                    "0": "Nondurable goods",
                                    "1": "6383"
                                },
                                {
                                    "0": "Computer systems design and related services",
                                    "1": "6426"
                                },
                                {
                                    "0": "Electric power transmission and distribution",
                                    "1": "6435"
                                },
                                {
                                    "0": "Computer systems design services",
                                    "1": "6459"
                                },
                                {
                                    "0": "Custom computer programming services",
                                    "1": "6517"
                                },
                                {
                                    "0": "Physical",
                                    "1": "6517"
                                },
                                {
                                    "0": "Aircraft",
                                    "1": "6604"
                                },
                                {
                                    "0": "Power generation and supply",
                                    "1": "6654"
                                },
                                {
                                    "0": "Software publishers",
                                    "1": "6757"
                                },
                                {
                                    "0": "Electric power generation",
                                    "1": "6907"
                                },
                                {
                                    "0": "Pipeline transportation",
                                    "1": "6934"
                                },
                                {
                                    "0": "Paper and paper products",
                                    "1": "7104"
                                },
                                {
                                    "0": "Fossil fuel electric power generation",
                                    "1": "7113"
                                },
                                {
                                    "0": "Petroleum and coal products",
                                    "1": "7210"
                                },
                                {
                                    "0": "Reinsurance carriers",
                                    "1": "7242"
                                },
                                {
                                    "0": "Other specialized trucking",
                                    "1": "7546"
                                },
                                {
                                    "0": "Durable goods",
                                    "1": "7556"
                                },
                                {
                                    "0": "Chemicals",
                                    "1": "7984"
                                },
                                {
                                    "0": "Offices of physicians",
                                    "1": "8150"
                                },
                                {
                                    "0": "Industrial machinery",
                                    "1": "8204"
                                },
                                {
                                    "0": "Motor vehicles",
                                    "1": "8459"
                                },
                                {
                                    "0": "Mining",
                                    "1": "10143"
                                },
                                {
                                    "0": "General freight trucking",
                                    "1": "17856"
                                },
                                {
                                    "0": "NULL",
                                    "1": "119157"
                                }
                            ]
                        },
                        "text/html": "<table><tr><th>industry_name</th><th>LOWESTPAYROLL</th></tr><tr><td>Bowling centers</td><td>939</td></tr><tr><td>Family clothing stores</td><td>976</td></tr><tr><td>Fitness and recreational sports centers</td><td>979</td></tr><tr><td>Women's clothing stores</td><td>983</td></tr><tr><td>Limited-service restaurants</td><td>1009</td></tr><tr><td>Clothing stores</td><td>1033</td></tr><tr><td>Snack and nonalcoholic beverage bars</td><td>1044</td></tr><tr><td>Cafeterias</td><td>1089</td></tr><tr><td>Civic and social organizations</td><td>1093</td></tr><tr><td>Gift</td><td>1102</td></tr><tr><td>Clothing accessories stores</td><td>1130</td></tr><tr><td>Drinking places</td><td>1167</td></tr><tr><td>Restaurants and other eating places</td><td>1167</td></tr><tr><td>Food services and drinking places</td><td>1187</td></tr><tr><td>Clothing and clothing accessories stores</td><td>1189</td></tr><tr><td>Skiing facilities</td><td>1199</td></tr><tr><td>Florists</td><td>1212</td></tr><tr><td>Book stores and news dealers</td><td>1250</td></tr><tr><td>Convenience stores</td><td>1253</td></tr><tr><td>Accommodation and food services</td><td>1257</td></tr><tr><td>Car washes</td><td>1261</td></tr><tr><td>Amusements</td><td>1275</td></tr><tr><td>Leisure and hospitality</td><td>1294</td></tr><tr><td>Full-service restaurants</td><td>1312</td></tr><tr><td>Beer</td><td>1320</td></tr><tr><td>Coin-operated laundries and drycleaners</td><td>1324</td></tr><tr><td>Gasoline stations with convenience stores</td><td>1347</td></tr><tr><td>RV parks and recreational camps</td><td>1357</td></tr><tr><td>Specialty food stores</td><td>1360</td></tr><tr><td>Janitorial services</td><td>1366</td></tr><tr><td>Other home furnishings stores</td><td>1373</td></tr><tr><td>Gasoline stations</td><td>1383</td></tr><tr><td>Pet care services</td><td>1398</td></tr><tr><td>Food and beverage stores</td><td>1440</td></tr><tr><td>Shoe stores</td><td>1441</td></tr><tr><td>Special food services</td><td>1443</td></tr><tr><td>Used merchandise stores</td><td>1446</td></tr><tr><td>Grocery stores</td><td>1453</td></tr><tr><td>Hobby</td><td>1457</td></tr><tr><td>Supermarkets and other grocery stores</td><td>1461</td></tr><tr><td>General merchandise stores</td><td>1462</td></tr><tr><td>Services for the elderly and persons with disabilities</td><td>1474</td></tr><tr><td>Office supplies</td><td>1485</td></tr><tr><td>Golf courses and country clubs</td><td>1513</td></tr><tr><td>Miscellaneous store retailers</td><td>1521</td></tr><tr><td>Parking lots and garages</td><td>1533</td></tr><tr><td>Pet and pet supplies stores</td><td>1539</td></tr><tr><td>Sporting goods and musical instrument stores</td><td>1539</td></tr><tr><td>Other personal services</td><td>1541</td></tr><tr><td>Sporting goods stores</td><td>1546</td></tr><tr><td>Other automotive repair and maintenance</td><td>1550</td></tr><tr><td>Food service contractors</td><td>1551</td></tr><tr><td>Arts</td><td>1562</td></tr><tr><td>Child day care services</td><td>1567</td></tr><tr><td>Cosmetic and beauty supply stores</td><td>1597</td></tr><tr><td>Hardware stores</td><td>1624</td></tr><tr><td>Individual and family services</td><td>1652</td></tr><tr><td>Other miscellaneous store retailers</td><td>1658</td></tr><tr><td>Social assistance</td><td>1659</td></tr><tr><td>Other personal care services</td><td>1660</td></tr><tr><td>Other gasoline stations</td><td>1663</td></tr><tr><td>Assisted living facilities for the elderly</td><td>1663</td></tr><tr><td>Personal care services</td><td>1665</td></tr><tr><td>Hair</td><td>1670</td></tr><tr><td>Accommodation</td><td>1687</td></tr><tr><td>Hotels and motels</td><td>1688</td></tr><tr><td>Vocational rehabilitation services</td><td>1689</td></tr><tr><td>Traveler accommodation</td><td>1698</td></tr><tr><td>Personal and laundry services</td><td>1701</td></tr><tr><td>Home centers</td><td>1726</td></tr><tr><td>Airport operations</td><td>1775</td></tr><tr><td>Services to buildings and dwellings</td><td>1796</td></tr><tr><td>Home furnishings stores</td><td>1806</td></tr><tr><td>Retail trade</td><td>1809</td></tr><tr><td>Residential intellectual and developmental disability facilities</td><td>1839</td></tr><tr><td>Community care facilities for the elderly</td><td>1840</td></tr><tr><td>Other health and personal care stores</td><td>1892</td></tr><tr><td>Offices of chiropractors</td><td>1892</td></tr><tr><td>Other ground passenger transportation</td><td>1903</td></tr><tr><td>Carpet and upholstery cleaning services</td><td>1920</td></tr><tr><td>Seafood product preparation and packaging</td><td>1949</td></tr><tr><td>Jewelry</td><td>1953</td></tr><tr><td>Building material and supplies dealers</td><td>1970</td></tr><tr><td>Building material and garden supply stores</td><td>1977</td></tr><tr><td>Apparel</td><td>1979</td></tr><tr><td>Telephone call centers</td><td>1996</td></tr><tr><td>Continuing care retirement communities</td><td>1997</td></tr><tr><td>Residential mental health facilities</td><td>2014</td></tr><tr><td>Used household and office goods moving</td><td>2048</td></tr><tr><td>Office supplies and stationery stores</td><td>2049</td></tr><tr><td>Nursing and residential care facilities</td><td>2053</td></tr><tr><td>School and employee bus transportation</td><td>2066</td></tr><tr><td>Health and personal care stores</td><td>2070</td></tr><tr><td>Security and armored car services</td><td>2076</td></tr><tr><td>Lawn and garden equipment and supplies stores</td><td>2079</td></tr><tr><td>Home health care services</td><td>2087</td></tr><tr><td>Other residential care facilities</td><td>2089</td></tr><tr><td>Linen and uniform supply</td><td>2101</td></tr><tr><td>Offices of optometrists</td><td>2111</td></tr><tr><td>Offices of mental health practitioners</td><td>2136</td></tr><tr><td>Nursery stock and florists' supplies</td><td>2141</td></tr><tr><td>Optical goods stores</td><td>2150</td></tr><tr><td>Textile product mills</td><td>2180</td></tr><tr><td>Nursing care facilities</td><td>2189</td></tr><tr><td>Pharmacies and drug stores</td><td>2190</td></tr><tr><td>Furniture and home furnishings stores</td><td>2192</td></tr><tr><td>Gambling industries</td><td>2193</td></tr><tr><td>Other individual and family services</td><td>2197</td></tr><tr><td>Child and youth services</td><td>2199</td></tr><tr><td>All other support services</td><td>2206</td></tr><tr><td>Emergency and other relief services</td><td>2234</td></tr><tr><td>Household appliance stores</td><td>2240</td></tr><tr><td>Poultry processing</td><td>2241</td></tr><tr><td>Temporary help services</td><td>2244</td></tr><tr><td>Investigation and security services</td><td>2246</td></tr><tr><td>Other services to buildings and dwellings</td><td>2254</td></tr><tr><td>Veterinary services</td><td>2271</td></tr><tr><td>Household goods repair and maintenance</td><td>2271</td></tr><tr><td>Landscaping services</td><td>2290</td></tr><tr><td>Transit and ground passenger transportation</td><td>2291</td></tr><tr><td>Business support services</td><td>2293</td></tr><tr><td>Death care services</td><td>2319</td></tr><tr><td>Administrative and support services</td><td>2327</td></tr><tr><td>Residential mental health and substance abuse facilites</td><td>2332</td></tr><tr><td>Photographic services</td><td>2339</td></tr><tr><td>Employment services</td><td>2345</td></tr><tr><td>Business service centers</td><td>2362</td></tr><tr><td>Tire dealers</td><td>2375</td></tr><tr><td>Consumer lending</td><td>2379</td></tr><tr><td>Marinas</td><td>2381</td></tr><tr><td>Administrative and waste services</td><td>2383</td></tr><tr><td>Auto parts</td><td>2387</td></tr><tr><td>Automotive parts and accessories stores</td><td>2390</td></tr><tr><td>Other services</td><td>2432</td></tr><tr><td>Professional employer organizations</td><td>2435</td></tr><tr><td>Home health equipment rental</td><td>2442</td></tr><tr><td>General rental centers</td><td>2448</td></tr><tr><td>Support activities for air transportation</td><td>2453</td></tr><tr><td>Bakeries and tortilla manufacturing</td><td>2468</td></tr><tr><td>Used car dealers</td><td>2480</td></tr><tr><td>Support activities for road transportation</td><td>2495</td></tr><tr><td>Other support services</td><td>2498</td></tr><tr><td>Offices of other health practitioners</td><td>2515</td></tr><tr><td>Textile mills</td><td>2520</td></tr><tr><td>Other motor vehicle dealers</td><td>2521</td></tr><tr><td>All other wood products</td><td>2522</td></tr><tr><td>Couriers and messengers</td><td>2523</td></tr><tr><td>Performing arts and spectator sports</td><td>2529</td></tr><tr><td>Packaging and labeling services</td><td>2530</td></tr><tr><td>Lessors of real estate</td><td>2530</td></tr><tr><td>Motion picture and sound recording industries</td><td>2543</td></tr><tr><td>Lessors of residential buildings</td><td>2544</td></tr><tr><td>Other household and institutional furniture</td><td>2549</td></tr><tr><td>Outpatient mental health centers</td><td>2550</td></tr><tr><td>Human rights organizations</td><td>2565</td></tr><tr><td>Animal slaughtering and processing</td><td>2566</td></tr><tr><td>Upholstered household furniture</td><td>2572</td></tr><tr><td>Trade</td><td>2577</td></tr><tr><td>Wood containers and pallets</td><td>2609</td></tr><tr><td>Collection agencies</td><td>2619</td></tr><tr><td>Sugar and confectionery products</td><td>2620</td></tr><tr><td>Furniture stores</td><td>2623</td></tr><tr><td>Membership associations and organizations</td><td>2624</td></tr><tr><td>Newspaper publishers</td><td>2634</td></tr><tr><td>General warehousing and storage</td><td>2649</td></tr><tr><td>Automotive repair and maintenance</td><td>2651</td></tr><tr><td>Offices of all other health practitioners</td><td>2653</td></tr><tr><td>Ambulance services</td><td>2662</td></tr><tr><td>Mail-order houses</td><td>2666</td></tr><tr><td>Farm product raw materials</td><td>2684</td></tr><tr><td>Residential property managers</td><td>2692</td></tr><tr><td>Warehousing and storage</td><td>2693</td></tr><tr><td>Other miscellaneous durable goods manufacturing</td><td>2710</td></tr><tr><td>Other wood products</td><td>2710</td></tr><tr><td>Siding contractors</td><td>2713</td></tr><tr><td>Household and institutional furniture</td><td>2720</td></tr><tr><td>Misc. nondurable goods</td><td>2725</td></tr><tr><td>Rental and leasing services</td><td>2738</td></tr><tr><td>Frozen food</td><td>2746</td></tr><tr><td>Framing contractors</td><td>2754</td></tr><tr><td>Spectator sports</td><td>2767</td></tr><tr><td>Signs</td><td>2771</td></tr><tr><td>Food manufacturing</td><td>2782</td></tr><tr><td>Furniture and related products</td><td>2792</td></tr><tr><td>Independent artists</td><td>2799</td></tr><tr><td>Recyclable materials</td><td>2807</td></tr><tr><td>Offices of dentists</td><td>2809</td></tr><tr><td>Private service-providing</td><td>2814</td></tr><tr><td>Electroplating</td><td>2818</td></tr><tr><td>Social advocacy organizations</td><td>2820</td></tr><tr><td>Performing arts companies</td><td>2828</td></tr><tr><td>Motor vehicle and parts dealers</td><td>2828</td></tr><tr><td>Travel agencies</td><td>2831</td></tr><tr><td>Fruit and vegetable preserving and specialty</td><td>2835</td></tr><tr><td>Farm supplies</td><td>2838</td></tr><tr><td>Other plastics products</td><td>2838</td></tr><tr><td>Soaps</td><td>2842</td></tr><tr><td>Repair and maintenance</td><td>2849</td></tr><tr><td>Fruits and vegetables</td><td>2859</td></tr><tr><td>Motor vehicle bodies and trailers</td><td>2860</td></tr><tr><td>Wood products</td><td>2862</td></tr><tr><td>Offices of specialty therapists</td><td>2872</td></tr><tr><td>Exterminating and pest control services</td><td>2873</td></tr><tr><td>Offices of mental health physicians</td><td>2878</td></tr><tr><td>Real estate</td><td>2878</td></tr><tr><td>Automotive mechanical and electrical repair</td><td>2888</td></tr><tr><td>General automotive repair</td><td>2888</td></tr><tr><td>Lessors of nonresidential buildings</td><td>2895</td></tr><tr><td>Millwork</td><td>2897</td></tr><tr><td>Printing and related support activities</td><td>2902</td></tr><tr><td>Coating</td><td>2906</td></tr><tr><td>Floor covering stores</td><td>2909</td></tr><tr><td>Wood kitchen cabinets and countertops</td><td>2932</td></tr><tr><td>Title abstract and settlement offices</td><td>2940</td></tr><tr><td>Total private</td><td>2943</td></tr><tr><td>Plastics products</td><td>2944</td></tr><tr><td>Education and health services</td><td>2956</td></tr><tr><td>Fruit and vegetable canning and drying</td><td>2964</td></tr><tr><td>Dental laboratories</td><td>2967</td></tr><tr><td>Plastics and rubber products</td><td>2972</td></tr><tr><td>Other professional and technical services</td><td>2975</td></tr><tr><td>Real estate property managers</td><td>2989</td></tr><tr><td>Offices of real estate agents and brokers</td><td>2990</td></tr><tr><td>Health care and social assistance</td><td>3019</td></tr><tr><td>Plywood and engineered wood products</td><td>3023</td></tr><tr><td>New motor vehicle parts</td><td>3028</td></tr><tr><td>Ornamental and architectural metal products</td><td>3041</td></tr><tr><td>Miscellaneous durable goods manufacturing</td><td>3043</td></tr><tr><td>Automobile dealers</td><td>3046</td></tr><tr><td>Wood windows and doors</td><td>3047</td></tr><tr><td>Other ambulatory health care services</td><td>3053</td></tr><tr><td>Miscellaneous durable goods</td><td>3055</td></tr><tr><td>Travel arrangement and reservation services</td><td>3056</td></tr><tr><td>Nonstore retailers</td><td>3069</td></tr><tr><td>Rubber products</td><td>3070</td></tr><tr><td>Sheet metal work</td><td>3072</td></tr><tr><td>Apparel and piece goods</td><td>3076</td></tr><tr><td>Savings institutions</td><td>3080</td></tr><tr><td>Electronic shopping and mail-order houses</td><td>3083</td></tr><tr><td>Sawmills and wood preservation</td><td>3093</td></tr><tr><td>Support activities for transportation</td><td>3094</td></tr><tr><td>Freestanding emergency medical centers</td><td>3094</td></tr><tr><td>Waste collection</td><td>3110</td></tr><tr><td>New car dealers</td><td>3114</td></tr><tr><td>Drycleaning and laundry services</td><td>3117</td></tr><tr><td>Painting and wall covering contractors</td><td>3119</td></tr><tr><td>Roofing contractors</td><td>3128</td></tr><tr><td>Activities related to real estate</td><td>3131</td></tr><tr><td>Plastics packaging materials</td><td>3132</td></tr><tr><td>Depository credit intermediation</td><td>3133</td></tr><tr><td>Motor vehicles and parts</td><td>3134</td></tr><tr><td>Alcoholic beverages</td><td>3135</td></tr><tr><td>Paper bags and coated and treated paper</td><td>3146</td></tr><tr><td>Residential remodelers</td><td>3149</td></tr><tr><td>All other motor vehicle parts</td><td>3156</td></tr><tr><td>Commercial banking</td><td>3158</td></tr><tr><td>Surgical appliances and supplies</td><td>3161</td></tr><tr><td>Architectural and structural metals</td><td>3165</td></tr><tr><td>Grocery and related products</td><td>3168</td></tr><tr><td>Communications equipment</td><td>3171</td></tr><tr><td>Ambulatory health care services</td><td>3175</td></tr><tr><td>Computer and office machine repair</td><td>3207</td></tr><tr><td>Facilities support services</td><td>3217</td></tr><tr><td>Transportation and warehousing</td><td>3232</td></tr><tr><td>Electronics and appliance stores</td><td>3233</td></tr><tr><td>HVAC and commercial refrigeration equipment</td><td>3237</td></tr><tr><td>Turned products and screws</td><td>3250</td></tr><tr><td>Farm machinery and equipment</td><td>3286</td></tr><tr><td>Masonry contractors</td><td>3288</td></tr><tr><td>Foundries</td><td>3289</td></tr><tr><td>Security systems services</td><td>3290</td></tr><tr><td>Farm and garden equipment</td><td>3292</td></tr><tr><td>Converted paper products</td><td>3298</td></tr><tr><td>Paperboard containers</td><td>3298</td></tr><tr><td>Automotive body</td><td>3300</td></tr><tr><td>Corrugated and solid fiber boxes</td><td>3308</td></tr><tr><td>Accounting and bookkeeping services</td><td>3317</td></tr><tr><td>Other legal services</td><td>3323</td></tr><tr><td>Plate work and fabricated structural products</td><td>3330</td></tr><tr><td>Medical equipment and supplies</td><td>3335</td></tr><tr><td>Newspaper</td><td>3337</td></tr><tr><td>Nonmetallic mineral products</td><td>3337</td></tr><tr><td>Masonry materials</td><td>3338</td></tr><tr><td>Fabricated structural metal products</td><td>3349</td></tr><tr><td>Finish carpentry contractors</td><td>3350</td></tr><tr><td>Electrical equipment and appliances</td><td>3351</td></tr><tr><td>Fabricated metal products</td><td>3356</td></tr><tr><td>Electronics stores</td><td>3360</td></tr><tr><td>Residential building</td><td>3362</td></tr><tr><td>Specialized freight trucking</td><td>3364</td></tr><tr><td>Furniture and furnishings</td><td>3374</td></tr><tr><td>Employment placement agencies and executive search services</td><td>3375</td></tr><tr><td>New single-family general contractors</td><td>3379</td></tr><tr><td>Logging</td><td>3380</td></tr><tr><td>Outpatient care centers</td><td>3382</td></tr><tr><td>Other building finishing contractors</td><td>3383</td></tr><tr><td>Social science and humanities research</td><td>3390</td></tr><tr><td>Electronic equipment repair and maintenance</td><td>3420</td></tr><tr><td>Cement and concrete products</td><td>3420</td></tr><tr><td>Electrical equipment</td><td>3435</td></tr><tr><td>Ready-mix concrete</td><td>3442</td></tr><tr><td>Manufacturing</td><td>3454</td></tr><tr><td>All other fabricated metal products</td><td>3460</td></tr><tr><td>Machine shops and threaded products</td><td>3465</td></tr><tr><td>Business to business electronic markets</td><td>3466</td></tr><tr><td>Hardware</td><td>3468</td></tr><tr><td>Credit intermediation and related activities</td><td>3473</td></tr><tr><td>Diagnostic imaging centers</td><td>3473</td></tr><tr><td>Professional and similar organizations</td><td>3483</td></tr><tr><td>Motor vehicle parts</td><td>3484</td></tr><tr><td>Building foundation and exterior contractors</td><td>3488</td></tr><tr><td>Truck transportation</td><td>3495</td></tr><tr><td>Radio broadcasting</td><td>3497</td></tr><tr><td>Marketing research and public opinion polling</td><td>3507</td></tr><tr><td>Agricultural</td><td>3511</td></tr><tr><td>Machine shops</td><td>3520</td></tr><tr><td>Other electrical equipment and components</td><td>3528</td></tr><tr><td>Freight transportation arrangement</td><td>3533</td></tr><tr><td>Payroll services</td><td>3540</td></tr><tr><td>Industrial supplies</td><td>3542</td></tr><tr><td>Convention and trade show organizers</td><td>3546</td></tr><tr><td>Other fabricated metal products</td><td>3548</td></tr><tr><td>Lumber and construction supplies</td><td>3554</td></tr><tr><td>Semiconductors and electronic components</td><td>3599</td></tr><tr><td>Other building exterior contractors</td><td>3605</td></tr><tr><td>Forging and stamping</td><td>3615</td></tr><tr><td>Pharmaceuticals and medicines</td><td>3621</td></tr><tr><td>Flooring contractors</td><td>3642</td></tr><tr><td>All other ambulatory health care services</td><td>3646</td></tr><tr><td>Building finishing contractors</td><td>3646</td></tr><tr><td>Dairy products</td><td>3650</td></tr><tr><td>Lumber and wood</td><td>3660</td></tr><tr><td>Metals and minerals</td><td>3674</td></tr><tr><td>Professional and business services</td><td>3676</td></tr><tr><td>General line grocery</td><td>3683</td></tr><tr><td>Plumbing equipment</td><td>3684</td></tr><tr><td>Remediation and other waste services</td><td>3686</td></tr><tr><td>Poured concrete structure contractors</td><td>3687</td></tr><tr><td>Other general purpose machinery</td><td>3687</td></tr><tr><td>Waste management and remediation services</td><td>3689</td></tr><tr><td>Commercial machinery repair and maintenance</td><td>3693</td></tr><tr><td>All other specialty trade contractors</td><td>3703</td></tr><tr><td>Goods-producing</td><td>3718</td></tr><tr><td>Offices of certified public accountants</td><td>3720</td></tr><tr><td>Telecommunications resellers</td><td>3722</td></tr><tr><td>Metal valves</td><td>3724</td></tr><tr><td>Machinery</td><td>3748</td></tr><tr><td>Insurance agencies and brokerages</td><td>3752</td></tr><tr><td>Hardware and plumbing</td><td>3758</td></tr><tr><td>Medical and diagnostic laboratories</td><td>3758</td></tr><tr><td>Druggists' goods</td><td>3777</td></tr><tr><td>Other specialty trade contractors</td><td>3779</td></tr><tr><td>Museums</td><td>3787</td></tr><tr><td>Glass and glazing contractors</td><td>3814</td></tr><tr><td>Site preparation contractors</td><td>3828</td></tr><tr><td>Wholesale trade</td><td>3829</td></tr><tr><td>Motor vehicle metal stamping</td><td>3846</td></tr><tr><td>Activities related to credit intermediation</td><td>3847</td></tr><tr><td>Testing laboratories</td><td>3847</td></tr><tr><td>Crushed and broken limestone mining</td><td>3856</td></tr><tr><td>Nonresidential property managers</td><td>3865</td></tr><tr><td>Medical laboratories</td><td>3871</td></tr><tr><td>Broadcasting</td><td>3875</td></tr><tr><td>Stone mining and quarrying</td><td>3889</td></tr><tr><td>Primary metals</td><td>3918</td></tr><tr><td>Insurance agencies</td><td>3920</td></tr><tr><td>Construction of buildings</td><td>3921</td></tr><tr><td>Grantmaking and giving services</td><td>3923</td></tr><tr><td>Metalworking machinery</td><td>3926</td></tr><tr><td>Machinery and supplies</td><td>3934</td></tr><tr><td>Financial activities</td><td>3935</td></tr><tr><td>Specialty trade contractors</td><td>3949</td></tr><tr><td>Landscape architectural services</td><td>3952</td></tr><tr><td>Office administrative services</td><td>3985</td></tr><tr><td>Boilers</td><td>3987</td></tr><tr><td>Machinery and equipment rental and leasing</td><td>4015</td></tr><tr><td>Petroleum</td><td>4036</td></tr><tr><td>Plumbing and HVAC contractors</td><td>4049</td></tr><tr><td>Construction</td><td>4053</td></tr><tr><td>Specialized design services</td><td>4054</td></tr><tr><td>Computer and electronic products</td><td>4066</td></tr><tr><td>Business associations</td><td>4070</td></tr><tr><td>Water and sewer system construction</td><td>4084</td></tr><tr><td>Special tools</td><td>4094</td></tr><tr><td>Water</td><td>4099</td></tr><tr><td>Motor vehicle gasoline engine and parts</td><td>4101</td></tr><tr><td>Nondepository credit intermediation</td><td>4108</td></tr><tr><td>Drywall and insulation contractors</td><td>4115</td></tr><tr><td>Third-party administration of insurance funds</td><td>4145</td></tr><tr><td>Process and logistics consulting services</td><td>4157</td></tr><tr><td>Electrical equipment and wiring</td><td>4167</td></tr><tr><td>Labor unions and similar labor organizations</td><td>4179</td></tr><tr><td>Turbine and power transmission equipment</td><td>4207</td></tr><tr><td>Support activities for water transportation</td><td>4246</td></tr><tr><td>Electric goods</td><td>4248</td></tr><tr><td>Professional organizations</td><td>4265</td></tr><tr><td>Managing offices</td><td>4266</td></tr><tr><td>Air transportation</td><td>4268</td></tr><tr><td>Advertising and related services</td><td>4272</td></tr><tr><td>Graphic design services</td><td>4290</td></tr><tr><td>Management of companies and enterprises</td><td>4293</td></tr><tr><td>Marketing consulting services</td><td>4303</td></tr><tr><td>Building equipment contractors</td><td>4310</td></tr><tr><td>Tile and terrazzo contractors</td><td>4315</td></tr><tr><td>Other insurance-related activities</td><td>4324</td></tr><tr><td>Grantmaking foundations</td><td>4325</td></tr><tr><td>Periodical publishers</td><td>4331</td></tr><tr><td>Construction equipment</td><td>4340</td></tr><tr><td>Office equipment</td><td>4343</td></tr><tr><td>Highway</td><td>4349</td></tr><tr><td>Commercial and service industry machinery</td><td>4354</td></tr><tr><td>Resin</td><td>4355</td></tr><tr><td>Commercial building</td><td>4368</td></tr><tr><td>Transportation equipment</td><td>4377</td></tr><tr><td>Hospitals</td><td>4379</td></tr><tr><td>Information</td><td>4397</td></tr><tr><td>Financial transaction processing and clearing</td><td>4419</td></tr><tr><td>General medical and surgical hospitals</td><td>4452</td></tr><tr><td>Medical equipment</td><td>4459</td></tr><tr><td>Nonresidential building</td><td>4465</td></tr><tr><td>Insurance carriers and related activities</td><td>4473</td></tr><tr><td>Land subdivision</td><td>4497</td></tr><tr><td>Electrical contractors</td><td>4524</td></tr><tr><td>Wired telecommunications carriers</td><td>4549</td></tr><tr><td>Telecommunications</td><td>4589</td></tr><tr><td>Other information services</td><td>4609</td></tr><tr><td>Sporting goods</td><td>4661</td></tr><tr><td>Public relations agencies</td><td>4723</td></tr><tr><td>Support activities for oil and gas operations</td><td>4736</td></tr><tr><td>Heavy machinery rental and leasing</td><td>4738</td></tr><tr><td>Steel and precast concrete contractors</td><td>4739</td></tr><tr><td>Electronic instruments</td><td>4768</td></tr><tr><td>Industrial building</td><td>4786</td></tr><tr><td>Heavy and civil engineering construction</td><td>4789</td></tr><tr><td>Other building equipment contractors</td><td>4806</td></tr><tr><td>Direct life and health insurance carriers</td><td>4811</td></tr><tr><td>Waste treatment and disposal</td><td>4817</td></tr><tr><td>Motor vehicle power train components</td><td>4822</td></tr><tr><td>Commercial equipment</td><td>4845</td></tr><tr><td>Pulp</td><td>4849</td></tr><tr><td>Real estate credit</td><td>4856</td></tr><tr><td>Utility system construction</td><td>4863</td></tr><tr><td>Architectural services</td><td>4870</td></tr><tr><td>Direct insurers</td><td>4876</td></tr><tr><td>Insurance carriers</td><td>4876</td></tr><tr><td>Support activities for mining</td><td>4924</td></tr><tr><td>Legal services</td><td>4936</td></tr><tr><td>Management and technical consulting services</td><td>5001</td></tr><tr><td>Electronic markets and agents and brokers</td><td>5002</td></tr><tr><td>Management consulting services</td><td>5003</td></tr><tr><td>Professional and technical services</td><td>5011</td></tr><tr><td>Data processing</td><td>5014</td></tr><tr><td>Publishing industries</td><td>5024</td></tr><tr><td>Mining and logging</td><td>5043</td></tr><tr><td>Advertising agencies</td><td>5049</td></tr><tr><td>Wholesale trade agents and brokers</td><td>5055</td></tr><tr><td>Offices of lawyers</td><td>5064</td></tr><tr><td>Architectural and engineering services</td><td>5120</td></tr><tr><td>Power and communication system construction</td><td>5155</td></tr><tr><td>Investment advice</td><td>5171</td></tr><tr><td>Semiconductors and related devices</td><td>5320</td></tr><tr><td>Biotechnology research</td><td>5325</td></tr><tr><td>Basic chemicals</td><td>5410</td></tr><tr><td>Administrative management consulting services</td><td>5439</td></tr><tr><td>Natural gas distribution</td><td>5529</td></tr><tr><td>Securities brokerage</td><td>5646</td></tr><tr><td>Oil and gas pipeline construction</td><td>5679</td></tr><tr><td>Other heavy construction</td><td>5698</td></tr><tr><td>Other financial investment activities</td><td>5758</td></tr><tr><td>Coal mining</td><td>5819</td></tr><tr><td>Computer and software</td><td>5920</td></tr><tr><td>Scientific research and development services</td><td>5920</td></tr><tr><td>Oil and gas extraction</td><td>6106</td></tr><tr><td>Research and development in the physical</td><td>6193</td></tr><tr><td>Utilities</td><td>6200</td></tr><tr><td>Portfolio management</td><td>6349</td></tr><tr><td>Aerospace products and parts</td><td>6358</td></tr><tr><td>Nondurable goods</td><td>6383</td></tr><tr><td>Computer systems design and related services</td><td>6426</td></tr><tr><td>Electric power transmission and distribution</td><td>6435</td></tr><tr><td>Computer systems design services</td><td>6459</td></tr><tr><td>Custom computer programming services</td><td>6517</td></tr><tr><td>Physical</td><td>6517</td></tr><tr><td>Aircraft</td><td>6604</td></tr><tr><td>Power generation and supply</td><td>6654</td></tr><tr><td>Software publishers</td><td>6757</td></tr><tr><td>Electric power generation</td><td>6907</td></tr><tr><td>Pipeline transportation</td><td>6934</td></tr><tr><td>Paper and paper products</td><td>7104</td></tr><tr><td>Fossil fuel electric power generation</td><td>7113</td></tr><tr><td>Petroleum and coal products</td><td>7210</td></tr><tr><td>Reinsurance carriers</td><td>7242</td></tr><tr><td>Other specialized trucking</td><td>7546</td></tr><tr><td>Durable goods</td><td>7556</td></tr><tr><td>Chemicals</td><td>7984</td></tr><tr><td>Offices of physicians</td><td>8150</td></tr><tr><td>Industrial machinery</td><td>8204</td></tr><tr><td>Motor vehicles</td><td>8459</td></tr><tr><td>Mining</td><td>10143</td></tr><tr><td>General freight trucking</td><td>17856</td></tr><tr><td>NULL</td><td>119157</td></tr></table>"
                    },
                    "metadata": {}
                }
            ],
            "execution_count": 8
        },
        {
            "cell_type": "markdown",
            "source": [
                "## <span style=\"font-size: 12pt; font-family: Montserrat, sans-serif; color: rgb(53, 74, 95); background-color: rgb(255, 255, 255); font-weight: 700; font-variant-numeric: normal; font-variant-east-asian: normal; vertical-align: baseline; white-space: pre-wrap;\">Subqueries, Unions, Derived Tables, Oh My!</span>\n",
                "\n",
                "1. <span style=\"background-color: rgb(255, 255, 255); font-size: 10pt; white-space: pre-wrap; color: rgb(102, 102, 102); font-family: Arvo, serif;\">Write a query that returns the series_id, industry_code, industry_name, and value from the january_2017 table but only if that value is greater than the average value for annual_2016 of data_type_code 82.</span>"
            ],
            "metadata": {
                "azdata_cell_guid": "e98ec195-5399-4718-83ef-54fb954662a5"
            }
        },
        {
            "cell_type": "code",
            "source": [
                "SELECT j.series_id, j.value, s.industry_code, i.industry_name\n",
                "FROM LaborStatisticsDB.dbo.january_2017 as j \n",
                "JOIN LaborStatisticsDB.dbo.series as s \n",
                "ON j.series_id = s.series_id \n",
                "JOIN LaborStatisticsDB.dbo.industry as i \n",
                "ON i.industry_code = s.industry_code \n",
                "WHERE j.series_id LIKE '%82' AND j.value > (\n",
                "    SELECT AVG(a.value) \n",
                "    FROM LaborStatisticsDB.dbo.annual_2016 as a \n",
                "    WHERE a.series_id LIKE '%82'\n",
                ")\n",
                "\n",
                "--For subqueries #1, when you get to the where statement, try using data type code 82 AND the value of january.2017 and then have your greater than statement for the average of annual_2016.value."
            ],
            "metadata": {
                "azdata_cell_guid": "7c85f70b-528f-4cbd-bd8e-a6efab1c18df",
                "language": "sql"
            },
            "outputs": [
                {
                    "output_type": "display_data",
                    "data": {
                        "text/html": "(294 rows affected)"
                    },
                    "metadata": {}
                },
                {
                    "output_type": "display_data",
                    "data": {
                        "text/html": "Total execution time: 00:00:00.269"
                    },
                    "metadata": {}
                },
                {
                    "output_type": "execute_result",
                    "metadata": {},
                    "execution_count": 2,
                    "data": {
                        "application/vnd.dataresource+json": {
                            "schema": {
                                "fields": [
                                    {
                                        "name": "series_id"
                                    },
                                    {
                                        "name": "value"
                                    },
                                    {
                                        "name": "industry_code"
                                    },
                                    {
                                        "name": "industry_name"
                                    }
                                ]
                            },
                            "data": [
                                {
                                    "0": "CES0500000082",
                                    "1": "74498171",
                                    "2": "05000000",
                                    "3": "Total private"
                                },
                                {
                                    "0": "CES0500000082",
                                    "1": "74498171",
                                    "2": "05000000",
                                    "3": "Total private"
                                },
                                {
                                    "0": "CEU0500000082",
                                    "1": "73474302",
                                    "2": "05000000",
                                    "3": "Total private"
                                },
                                {
                                    "0": "CEU0500000082",
                                    "1": "73474302",
                                    "2": "05000000",
                                    "3": "Total private"
                                },
                                {
                                    "0": "CES0600000082",
                                    "1": "13426820",
                                    "2": "06000000",
                                    "3": "Goods-producing"
                                },
                                {
                                    "0": "CES0600000082",
                                    "1": "13426820",
                                    "2": "06000000",
                                    "3": "Goods-producing"
                                },
                                {
                                    "0": "CEU0600000082",
                                    "1": "12711945",
                                    "2": "06000000",
                                    "3": "Goods-producing"
                                },
                                {
                                    "0": "CEU0600000082",
                                    "1": "12711945",
                                    "2": "06000000",
                                    "3": "Goods-producing"
                                },
                                {
                                    "0": "CES0800000082",
                                    "1": "60914722",
                                    "2": "08000000",
                                    "3": "Private service-providing"
                                },
                                {
                                    "0": "CES0800000082",
                                    "1": "60914722",
                                    "2": "08000000",
                                    "3": "Private service-providing"
                                },
                                {
                                    "0": "CEU0800000082",
                                    "1": "60807771",
                                    "2": "08000000",
                                    "3": "Private service-providing"
                                },
                                {
                                    "0": "CEU0800000082",
                                    "1": "60807771",
                                    "2": "08000000",
                                    "3": "Private service-providing"
                                },
                                {
                                    "0": "CES2000000082",
                                    "1": "5335274",
                                    "2": "20000000",
                                    "3": "Construction"
                                },
                                {
                                    "0": "CES2000000082",
                                    "1": "5335274",
                                    "2": "20000000",
                                    "3": "Construction"
                                },
                                {
                                    "0": "CEU2000000082",
                                    "1": "4724156",
                                    "2": "20000000",
                                    "3": "Construction"
                                },
                                {
                                    "0": "CEU2000000082",
                                    "1": "4724156",
                                    "2": "20000000",
                                    "3": "Construction"
                                },
                                {
                                    "0": "CES2023600082",
                                    "1": "1008035",
                                    "2": "20236000",
                                    "3": "Construction of buildings"
                                },
                                {
                                    "0": "CES2023600082",
                                    "1": "1008035",
                                    "2": "20236000",
                                    "3": "Construction of buildings"
                                },
                                {
                                    "0": "CEU2023600082",
                                    "1": "940800",
                                    "2": "20236000",
                                    "3": "Construction of buildings"
                                },
                                {
                                    "0": "CEU2023600082",
                                    "1": "940800",
                                    "2": "20236000",
                                    "3": "Construction of buildings"
                                },
                                {
                                    "0": "CES2023700082",
                                    "1": "908374",
                                    "2": "20237000",
                                    "3": "Heavy and civil engineering construction"
                                },
                                {
                                    "0": "CES2023700082",
                                    "1": "908374",
                                    "2": "20237000",
                                    "3": "Heavy and civil engineering construction"
                                },
                                {
                                    "0": "CES2023800082",
                                    "1": "3421902",
                                    "2": "20238000",
                                    "3": "Specialty trade contractors"
                                },
                                {
                                    "0": "CES2023800082",
                                    "1": "3421902",
                                    "2": "20238000",
                                    "3": "Specialty trade contractors"
                                },
                                {
                                    "0": "CEU2023800082",
                                    "1": "3062211",
                                    "2": "20238000",
                                    "3": "Specialty trade contractors"
                                },
                                {
                                    "0": "CEU2023800082",
                                    "1": "3062211",
                                    "2": "20238000",
                                    "3": "Specialty trade contractors"
                                },
                                {
                                    "0": "CES2023820082",
                                    "1": "1696080",
                                    "2": "20238200",
                                    "3": "Building equipment contractors"
                                },
                                {
                                    "0": "CES2023820082",
                                    "1": "1696080",
                                    "2": "20238200",
                                    "3": "Building equipment contractors"
                                },
                                {
                                    "0": "CEU2023820082",
                                    "1": "1621266",
                                    "2": "20238200",
                                    "3": "Building equipment contractors"
                                },
                                {
                                    "0": "CEU2023820082",
                                    "1": "1621266",
                                    "2": "20238200",
                                    "3": "Building equipment contractors"
                                },
                                {
                                    "0": "CES3000000082",
                                    "1": "7491723",
                                    "2": "30000000",
                                    "3": "Manufacturing"
                                },
                                {
                                    "0": "CES3000000082",
                                    "1": "7491723",
                                    "2": "30000000",
                                    "3": "Manufacturing"
                                },
                                {
                                    "0": "CEU3000000082",
                                    "1": "7411960",
                                    "2": "30000000",
                                    "3": "Manufacturing"
                                },
                                {
                                    "0": "CEU3000000082",
                                    "1": "7411960",
                                    "2": "30000000",
                                    "3": "Manufacturing"
                                },
                                {
                                    "0": "CES3100000082",
                                    "1": "4859716",
                                    "2": "31000000",
                                    "3": "Durable goods"
                                },
                                {
                                    "0": "CES3100000082",
                                    "1": "4859716",
                                    "2": "31000000",
                                    "3": "Durable goods"
                                },
                                {
                                    "0": "CEU3100000082",
                                    "1": "4808368",
                                    "2": "31000000",
                                    "3": "Durable goods"
                                },
                                {
                                    "0": "CEU3100000082",
                                    "1": "4808368",
                                    "2": "31000000",
                                    "3": "Durable goods"
                                },
                                {
                                    "0": "CES3133200082",
                                    "1": "871298",
                                    "2": "31332000",
                                    "3": "Fabricated metal products"
                                },
                                {
                                    "0": "CES3133200082",
                                    "1": "871298",
                                    "2": "31332000",
                                    "3": "Fabricated metal products"
                                },
                                {
                                    "0": "CEU3133200082",
                                    "1": "867242",
                                    "2": "31332000",
                                    "3": "Fabricated metal products"
                                },
                                {
                                    "0": "CEU3133200082",
                                    "1": "867242",
                                    "2": "31332000",
                                    "3": "Fabricated metal products"
                                },
                                {
                                    "0": "CES3133600082",
                                    "1": "1257764",
                                    "2": "31336000",
                                    "3": "Transportation equipment"
                                },
                                {
                                    "0": "CES3133600082",
                                    "1": "1257764",
                                    "2": "31336000",
                                    "3": "Transportation equipment"
                                },
                                {
                                    "0": "CEU3133600082",
                                    "1": "1242685",
                                    "2": "31336000",
                                    "3": "Transportation equipment"
                                },
                                {
                                    "0": "CEU3133600082",
                                    "1": "1242685",
                                    "2": "31336000",
                                    "3": "Transportation equipment"
                                },
                                {
                                    "0": "CES3200000082",
                                    "1": "2633628",
                                    "2": "32000000",
                                    "3": "Nondurable goods"
                                },
                                {
                                    "0": "CES3200000082",
                                    "1": "2633628",
                                    "2": "32000000",
                                    "3": "Nondurable goods"
                                },
                                {
                                    "0": "CEU3200000082",
                                    "1": "2605069",
                                    "2": "32000000",
                                    "3": "Nondurable goods"
                                },
                                {
                                    "0": "CEU3200000082",
                                    "1": "2605069",
                                    "2": "32000000",
                                    "3": "Nondurable goods"
                                },
                                {
                                    "0": "CES3231100082",
                                    "1": "851406",
                                    "2": "32311000",
                                    "3": "Food manufacturing"
                                },
                                {
                                    "0": "CES3231100082",
                                    "1": "851406",
                                    "2": "32311000",
                                    "3": "Food manufacturing"
                                },
                                {
                                    "0": "CEU3231100082",
                                    "1": "842201",
                                    "2": "32311000",
                                    "3": "Food manufacturing"
                                },
                                {
                                    "0": "CEU3231100082",
                                    "1": "842201",
                                    "2": "32311000",
                                    "3": "Food manufacturing"
                                },
                                {
                                    "0": "CES4000000082",
                                    "1": "14850661",
                                    "2": "40000000",
                                    "3": "Trade"
                                },
                                {
                                    "0": "CES4000000082",
                                    "1": "14850661",
                                    "2": "40000000",
                                    "3": "Trade"
                                },
                                {
                                    "0": "CEU4000000082",
                                    "1": "14732108",
                                    "2": "40000000",
                                    "3": "Trade"
                                },
                                {
                                    "0": "CEU4000000082",
                                    "1": "14732108",
                                    "2": "40000000",
                                    "3": "Trade"
                                },
                                {
                                    "0": "CES4142000082",
                                    "1": "4480134",
                                    "2": "41420000",
                                    "3": "Wholesale trade"
                                },
                                {
                                    "0": "CES4142000082",
                                    "1": "4480134",
                                    "2": "41420000",
                                    "3": "Wholesale trade"
                                },
                                {
                                    "0": "CEU4142000082",
                                    "1": "4506110",
                                    "2": "41420000",
                                    "3": "Wholesale trade"
                                },
                                {
                                    "0": "CEU4142000082",
                                    "1": "4506110",
                                    "2": "41420000",
                                    "3": "Wholesale trade"
                                },
                                {
                                    "0": "CES4142300082",
                                    "1": "2261006",
                                    "2": "41423000",
                                    "3": "Durable goods"
                                },
                                {
                                    "0": "CES4142300082",
                                    "1": "2261006",
                                    "2": "41423000",
                                    "3": "Durable goods"
                                },
                                {
                                    "0": "CEU4142300082",
                                    "1": "2283094",
                                    "2": "41423000",
                                    "3": "Durable goods"
                                },
                                {
                                    "0": "CEU4142300082",
                                    "1": "2283094",
                                    "2": "41423000",
                                    "3": "Durable goods"
                                },
                                {
                                    "0": "CES4142400082",
                                    "1": "1367413",
                                    "2": "41424000",
                                    "3": "Nondurable goods"
                                },
                                {
                                    "0": "CES4142400082",
                                    "1": "1367413",
                                    "2": "41424000",
                                    "3": "Nondurable goods"
                                },
                                {
                                    "0": "CEU4142400082",
                                    "1": "1348136",
                                    "2": "41424000",
                                    "3": "Nondurable goods"
                                },
                                {
                                    "0": "CEU4142400082",
                                    "1": "1348136",
                                    "2": "41424000",
                                    "3": "Nondurable goods"
                                },
                                {
                                    "0": "CES4142500082",
                                    "1": "855291",
                                    "2": "41425000",
                                    "3": "Electronic markets and agents and brokers"
                                },
                                {
                                    "0": "CES4142500082",
                                    "1": "855291",
                                    "2": "41425000",
                                    "3": "Electronic markets and agents and brokers"
                                },
                                {
                                    "0": "CEU4142500082",
                                    "1": "873578",
                                    "2": "41425000",
                                    "3": "Electronic markets and agents and brokers"
                                },
                                {
                                    "0": "CEU4142500082",
                                    "1": "873578",
                                    "2": "41425000",
                                    "3": "Electronic markets and agents and brokers"
                                },
                                {
                                    "0": "CES4142512082",
                                    "1": "831319",
                                    "2": "41425120",
                                    "3": "Wholesale trade agents and brokers"
                                },
                                {
                                    "0": "CES4142512082",
                                    "1": "831319",
                                    "2": "41425120",
                                    "3": "Wholesale trade agents and brokers"
                                },
                                {
                                    "0": "CEU4142512082",
                                    "1": "851551",
                                    "2": "41425120",
                                    "3": "Wholesale trade agents and brokers"
                                },
                                {
                                    "0": "CEU4142512082",
                                    "1": "851551",
                                    "2": "41425120",
                                    "3": "Wholesale trade agents and brokers"
                                },
                                {
                                    "0": "CES4200000082",
                                    "1": "6123554",
                                    "2": "42000000",
                                    "3": "Retail trade"
                                },
                                {
                                    "0": "CES4200000082",
                                    "1": "6123554",
                                    "2": "42000000",
                                    "3": "Retail trade"
                                },
                                {
                                    "0": "CEU4200000082",
                                    "1": "6060100",
                                    "2": "42000000",
                                    "3": "Retail trade"
                                },
                                {
                                    "0": "CEU4200000082",
                                    "1": "6060100",
                                    "2": "42000000",
                                    "3": "Retail trade"
                                },
                                {
                                    "0": "CES4244100082",
                                    "1": "1180297",
                                    "2": "42441000",
                                    "3": "Motor vehicle and parts dealers"
                                },
                                {
                                    "0": "CES4244100082",
                                    "1": "1180297",
                                    "2": "42441000",
                                    "3": "Motor vehicle and parts dealers"
                                },
                                {
                                    "0": "CEU4244100082",
                                    "1": "1163420",
                                    "2": "42441000",
                                    "3": "Motor vehicle and parts dealers"
                                },
                                {
                                    "0": "CEU4244100082",
                                    "1": "1163420",
                                    "2": "42441000",
                                    "3": "Motor vehicle and parts dealers"
                                },
                                {
                                    "0": "CES4244110082",
                                    "1": "839595",
                                    "2": "42441100",
                                    "3": "Automobile dealers"
                                },
                                {
                                    "0": "CES4244110082",
                                    "1": "839595",
                                    "2": "42441100",
                                    "3": "Automobile dealers"
                                },
                                {
                                    "0": "CEU4244110082",
                                    "1": "831131",
                                    "2": "42441100",
                                    "3": "Automobile dealers"
                                },
                                {
                                    "0": "CEU4244110082",
                                    "1": "831131",
                                    "2": "42441100",
                                    "3": "Automobile dealers"
                                },
                                {
                                    "0": "CES4244500082",
                                    "1": "974710",
                                    "2": "42445000",
                                    "3": "Food and beverage stores"
                                },
                                {
                                    "0": "CES4244500082",
                                    "1": "974710",
                                    "2": "42445000",
                                    "3": "Food and beverage stores"
                                },
                                {
                                    "0": "CEU4244500082",
                                    "1": "963315",
                                    "2": "42445000",
                                    "3": "Food and beverage stores"
                                },
                                {
                                    "0": "CEU4244500082",
                                    "1": "963315",
                                    "2": "42445000",
                                    "3": "Food and beverage stores"
                                },
                                {
                                    "0": "CES4244510082",
                                    "1": "868430",
                                    "2": "42445100",
                                    "3": "Grocery stores"
                                },
                                {
                                    "0": "CES4244510082",
                                    "1": "868430",
                                    "2": "42445100",
                                    "3": "Grocery stores"
                                },
                                {
                                    "0": "CEU4244510082",
                                    "1": "861224",
                                    "2": "42445100",
                                    "3": "Grocery stores"
                                },
                                {
                                    "0": "CEU4244510082",
                                    "1": "861224",
                                    "2": "42445100",
                                    "3": "Grocery stores"
                                },
                                {
                                    "0": "CES4244511082",
                                    "1": "821282",
                                    "2": "42445110",
                                    "3": "Supermarkets and other grocery stores"
                                },
                                {
                                    "0": "CES4244511082",
                                    "1": "821282",
                                    "2": "42445110",
                                    "3": "Supermarkets and other grocery stores"
                                },
                                {
                                    "0": "CES4245200082",
                                    "1": "1065807",
                                    "2": "42452000",
                                    "3": "General merchandise stores"
                                },
                                {
                                    "0": "CES4245200082",
                                    "1": "1065807",
                                    "2": "42452000",
                                    "3": "General merchandise stores"
                                },
                                {
                                    "0": "CEU4245200082",
                                    "1": "1049973",
                                    "2": "42452000",
                                    "3": "General merchandise stores"
                                },
                                {
                                    "0": "CEU4245200082",
                                    "1": "1049973",
                                    "2": "42452000",
                                    "3": "General merchandise stores"
                                },
                                {
                                    "0": "CES4300000082",
                                    "1": "3538683",
                                    "2": "43000000",
                                    "3": "Transportation and warehousing"
                                },
                                {
                                    "0": "CES4300000082",
                                    "1": "3538683",
                                    "2": "43000000",
                                    "3": "Transportation and warehousing"
                                },
                                {
                                    "0": "CEU4300000082",
                                    "1": "3495553",
                                    "2": "43000000",
                                    "3": "Transportation and warehousing"
                                },
                                {
                                    "0": "CEU4300000082",
                                    "1": "3495553",
                                    "2": "43000000",
                                    "3": "Transportation and warehousing"
                                },
                                {
                                    "0": "CES4348400082",
                                    "1": "1131821",
                                    "2": "43484000",
                                    "3": "Truck transportation"
                                },
                                {
                                    "0": "CES4348400082",
                                    "1": "1131821",
                                    "2": "43484000",
                                    "3": "Truck transportation"
                                },
                                {
                                    "0": "CEU4348400082",
                                    "1": "1092427",
                                    "2": "43484000",
                                    "3": "Truck transportation"
                                },
                                {
                                    "0": "CEU4348400082",
                                    "1": "1092427",
                                    "2": "43484000",
                                    "3": "Truck transportation"
                                },
                                {
                                    "0": "CES5000000082",
                                    "1": "2416443",
                                    "2": "50000000",
                                    "3": "Information"
                                },
                                {
                                    "0": "CES5000000082",
                                    "1": "2416443",
                                    "2": "50000000",
                                    "3": "Information"
                                },
                                {
                                    "0": "CEU5000000082",
                                    "1": "2434992",
                                    "2": "50000000",
                                    "3": "Information"
                                },
                                {
                                    "0": "CEU5000000082",
                                    "1": "2434992",
                                    "2": "50000000",
                                    "3": "Information"
                                },
                                {
                                    "0": "CES5500000082",
                                    "1": "6328968",
                                    "2": "55000000",
                                    "3": "Financial activities"
                                },
                                {
                                    "0": "CES5500000082",
                                    "1": "6328968",
                                    "2": "55000000",
                                    "3": "Financial activities"
                                },
                                {
                                    "0": "CEU5500000082",
                                    "1": "6467426",
                                    "2": "55000000",
                                    "3": "Financial activities"
                                },
                                {
                                    "0": "CEU5500000082",
                                    "1": "6467426",
                                    "2": "55000000",
                                    "3": "Financial activities"
                                },
                                {
                                    "0": "CES5552200082",
                                    "1": "1717912",
                                    "2": "55522000",
                                    "3": "Credit intermediation and related activities"
                                },
                                {
                                    "0": "CES5552200082",
                                    "1": "1717912",
                                    "2": "55522000",
                                    "3": "Credit intermediation and related activities"
                                },
                                {
                                    "0": "CEU5552200082",
                                    "1": "1767137",
                                    "2": "55522000",
                                    "3": "Credit intermediation and related activities"
                                },
                                {
                                    "0": "CEU5552200082",
                                    "1": "1767137",
                                    "2": "55522000",
                                    "3": "Credit intermediation and related activities"
                                },
                                {
                                    "0": "CES5552210082",
                                    "1": "971796",
                                    "2": "55522100",
                                    "3": "Depository credit intermediation"
                                },
                                {
                                    "0": "CES5552210082",
                                    "1": "971796",
                                    "2": "55522100",
                                    "3": "Depository credit intermediation"
                                },
                                {
                                    "0": "CEU5552210082",
                                    "1": "1004069",
                                    "2": "55522100",
                                    "3": "Depository credit intermediation"
                                },
                                {
                                    "0": "CEU5552210082",
                                    "1": "1004069",
                                    "2": "55522100",
                                    "3": "Depository credit intermediation"
                                },
                                {
                                    "0": "CES5552300082",
                                    "1": "1044224",
                                    "2": "55523000",
                                    "3": "NULL"
                                },
                                {
                                    "0": "CES5552300082",
                                    "1": "1044224",
                                    "2": "55523000",
                                    "3": "NULL"
                                },
                                {
                                    "0": "CEU5552300082",
                                    "1": "1087325",
                                    "2": "55523000",
                                    "3": "NULL"
                                },
                                {
                                    "0": "CEU5552300082",
                                    "1": "1087325",
                                    "2": "55523000",
                                    "3": "NULL"
                                },
                                {
                                    "0": "CES5552400082",
                                    "1": "2347328",
                                    "2": "55524000",
                                    "3": "Insurance carriers and related activities"
                                },
                                {
                                    "0": "CES5552400082",
                                    "1": "2347328",
                                    "2": "55524000",
                                    "3": "Insurance carriers and related activities"
                                },
                                {
                                    "0": "CEU5552400082",
                                    "1": "2408490",
                                    "2": "55524000",
                                    "3": "Insurance carriers and related activities"
                                },
                                {
                                    "0": "CEU5552400082",
                                    "1": "2408490",
                                    "2": "55524000",
                                    "3": "Insurance carriers and related activities"
                                },
                                {
                                    "0": "CES5552410082",
                                    "1": "1477799",
                                    "2": "55524100",
                                    "3": "Insurance carriers"
                                },
                                {
                                    "0": "CES5552410082",
                                    "1": "1477799",
                                    "2": "55524100",
                                    "3": "Insurance carriers"
                                },
                                {
                                    "0": "CEU5552410082",
                                    "1": "1509979",
                                    "2": "55524100",
                                    "3": "Insurance carriers"
                                },
                                {
                                    "0": "CEU5552410082",
                                    "1": "1509979",
                                    "2": "55524100",
                                    "3": "Insurance carriers"
                                },
                                {
                                    "0": "CES5552420082",
                                    "1": "872398",
                                    "2": "55524200",
                                    "3": "Insurance agencies"
                                },
                                {
                                    "0": "CES5552420082",
                                    "1": "872398",
                                    "2": "55524200",
                                    "3": "Insurance agencies"
                                },
                                {
                                    "0": "CEU5552420082",
                                    "1": "894878",
                                    "2": "55524200",
                                    "3": "Insurance agencies"
                                },
                                {
                                    "0": "CEU5552420082",
                                    "1": "894878",
                                    "2": "55524200",
                                    "3": "Insurance agencies"
                                },
                                {
                                    "0": "CES5553100082",
                                    "1": "862987",
                                    "2": "55531000",
                                    "3": "Real estate"
                                },
                                {
                                    "0": "CES5553100082",
                                    "1": "862987",
                                    "2": "55531000",
                                    "3": "Real estate"
                                },
                                {
                                    "0": "CEU5553100082",
                                    "1": "865620",
                                    "2": "55531000",
                                    "3": "Real estate"
                                },
                                {
                                    "0": "CEU5553100082",
                                    "1": "865620",
                                    "2": "55531000",
                                    "3": "Real estate"
                                },
                                {
                                    "0": "CES6000000082",
                                    "1": "15251268",
                                    "2": "60000000",
                                    "3": "Professional and business services"
                                },
                                {
                                    "0": "CES6000000082",
                                    "1": "15251268",
                                    "2": "60000000",
                                    "3": "Professional and business services"
                                },
                                {
                                    "0": "CEU6000000082",
                                    "1": "15219807",
                                    "2": "60000000",
                                    "3": "Professional and business services"
                                },
                                {
                                    "0": "CEU6000000082",
                                    "1": "15219807",
                                    "2": "60000000",
                                    "3": "Professional and business services"
                                },
                                {
                                    "0": "CES6054000082",
                                    "1": "8821026",
                                    "2": "60540000",
                                    "3": "Professional and technical services"
                                },
                                {
                                    "0": "CES6054000082",
                                    "1": "8821026",
                                    "2": "60540000",
                                    "3": "Professional and technical services"
                                },
                                {
                                    "0": "CEU6054000082",
                                    "1": "8976687",
                                    "2": "60540000",
                                    "3": "Professional and technical services"
                                },
                                {
                                    "0": "CEU6054000082",
                                    "1": "8976687",
                                    "2": "60540000",
                                    "3": "Professional and technical services"
                                },
                                {
                                    "0": "CES6054110082",
                                    "1": "1058862",
                                    "2": "60541100",
                                    "3": "Legal services"
                                },
                                {
                                    "0": "CES6054110082",
                                    "1": "1058862",
                                    "2": "60541100",
                                    "3": "Legal services"
                                },
                                {
                                    "0": "CEU6054110082",
                                    "1": "1093898",
                                    "2": "60541100",
                                    "3": "Legal services"
                                },
                                {
                                    "0": "CEU6054110082",
                                    "1": "1093898",
                                    "2": "60541100",
                                    "3": "Legal services"
                                },
                                {
                                    "0": "CES6054111082",
                                    "1": "1004009",
                                    "2": "60541110",
                                    "3": "Offices of lawyers"
                                },
                                {
                                    "0": "CES6054111082",
                                    "1": "1004009",
                                    "2": "60541110",
                                    "3": "Offices of lawyers"
                                },
                                {
                                    "0": "CEU6054111082",
                                    "1": "1038464",
                                    "2": "60541110",
                                    "3": "Offices of lawyers"
                                },
                                {
                                    "0": "CEU6054111082",
                                    "1": "1038464",
                                    "2": "60541110",
                                    "3": "Offices of lawyers"
                                },
                                {
                                    "0": "CES6054130082",
                                    "1": "1439445",
                                    "2": "60541300",
                                    "3": "Architectural and engineering services"
                                },
                                {
                                    "0": "CES6054130082",
                                    "1": "1439445",
                                    "2": "60541300",
                                    "3": "Architectural and engineering services"
                                },
                                {
                                    "0": "CEU6054130082",
                                    "1": "1422967",
                                    "2": "60541300",
                                    "3": "Architectural and engineering services"
                                },
                                {
                                    "0": "CEU6054130082",
                                    "1": "1422967",
                                    "2": "60541300",
                                    "3": "Architectural and engineering services"
                                },
                                {
                                    "0": "CES6054134082",
                                    "1": "1051499",
                                    "2": "60541340",
                                    "3": "NULL"
                                },
                                {
                                    "0": "CES6054134082",
                                    "1": "1051499",
                                    "2": "60541340",
                                    "3": "NULL"
                                },
                                {
                                    "0": "CEU6054134082",
                                    "1": "1042223",
                                    "2": "60541340",
                                    "3": "NULL"
                                },
                                {
                                    "0": "CEU6054134082",
                                    "1": "1042223",
                                    "2": "60541340",
                                    "3": "NULL"
                                },
                                {
                                    "0": "CES6054150082",
                                    "1": "2666568",
                                    "2": "60541500",
                                    "3": "Computer systems design and related services"
                                },
                                {
                                    "0": "CES6054150082",
                                    "1": "2666568",
                                    "2": "60541500",
                                    "3": "Computer systems design and related services"
                                },
                                {
                                    "0": "CEU6054150082",
                                    "1": "2725031",
                                    "2": "60541500",
                                    "3": "Computer systems design and related services"
                                },
                                {
                                    "0": "CEU6054150082",
                                    "1": "2725031",
                                    "2": "60541500",
                                    "3": "Computer systems design and related services"
                                },
                                {
                                    "0": "CES6054151182",
                                    "1": "1173494",
                                    "2": "60541511",
                                    "3": "Custom computer programming services"
                                },
                                {
                                    "0": "CES6054151182",
                                    "1": "1173494",
                                    "2": "60541511",
                                    "3": "Custom computer programming services"
                                },
                                {
                                    "0": "CEU6054151182",
                                    "1": "1198283",
                                    "2": "60541511",
                                    "3": "Custom computer programming services"
                                },
                                {
                                    "0": "CEU6054151182",
                                    "1": "1198283",
                                    "2": "60541511",
                                    "3": "Custom computer programming services"
                                },
                                {
                                    "0": "CES6054151282",
                                    "1": "1274481",
                                    "2": "60541512",
                                    "3": "Computer systems design services"
                                },
                                {
                                    "0": "CES6054151282",
                                    "1": "1274481",
                                    "2": "60541512",
                                    "3": "Computer systems design services"
                                },
                                {
                                    "0": "CEU6054151282",
                                    "1": "1309441",
                                    "2": "60541512",
                                    "3": "Computer systems design services"
                                },
                                {
                                    "0": "CEU6054151282",
                                    "1": "1309441",
                                    "2": "60541512",
                                    "3": "Computer systems design services"
                                },
                                {
                                    "0": "CES6054160082",
                                    "1": "1330587",
                                    "2": "60541600",
                                    "3": "Management and technical consulting services"
                                },
                                {
                                    "0": "CES6054160082",
                                    "1": "1330587",
                                    "2": "60541600",
                                    "3": "Management and technical consulting services"
                                },
                                {
                                    "0": "CEU6054160082",
                                    "1": "1336594",
                                    "2": "60541600",
                                    "3": "Management and technical consulting services"
                                },
                                {
                                    "0": "CEU6054160082",
                                    "1": "1336594",
                                    "2": "60541600",
                                    "3": "Management and technical consulting services"
                                },
                                {
                                    "0": "CES6054161082",
                                    "1": "1053691",
                                    "2": "60541610",
                                    "3": "Management consulting services"
                                },
                                {
                                    "0": "CES6054161082",
                                    "1": "1053691",
                                    "2": "60541610",
                                    "3": "Management consulting services"
                                },
                                {
                                    "0": "CEU6054161082",
                                    "1": "1066602",
                                    "2": "60541610",
                                    "3": "Management consulting services"
                                },
                                {
                                    "0": "CEU6054161082",
                                    "1": "1066602",
                                    "2": "60541610",
                                    "3": "Management consulting services"
                                },
                                {
                                    "0": "CES6055000082",
                                    "1": "1566036",
                                    "2": "60550000",
                                    "3": "Management of companies and enterprises"
                                },
                                {
                                    "0": "CES6055000082",
                                    "1": "1566036",
                                    "2": "60550000",
                                    "3": "Management of companies and enterprises"
                                },
                                {
                                    "0": "CEU6055000082",
                                    "1": "1587677",
                                    "2": "60550000",
                                    "3": "Management of companies and enterprises"
                                },
                                {
                                    "0": "CEU6055000082",
                                    "1": "1587677",
                                    "2": "60550000",
                                    "3": "Management of companies and enterprises"
                                },
                                {
                                    "0": "CES6055111482",
                                    "1": "1496334",
                                    "2": "60551114",
                                    "3": "Managing offices"
                                },
                                {
                                    "0": "CES6055111482",
                                    "1": "1496334",
                                    "2": "60551114",
                                    "3": "Managing offices"
                                },
                                {
                                    "0": "CEU6055111482",
                                    "1": "1517287",
                                    "2": "60551114",
                                    "3": "Managing offices"
                                },
                                {
                                    "0": "CEU6055111482",
                                    "1": "1517287",
                                    "2": "60551114",
                                    "3": "Managing offices"
                                },
                                {
                                    "0": "CES6056000082",
                                    "1": "4886085",
                                    "2": "60560000",
                                    "3": "Administrative and waste services"
                                },
                                {
                                    "0": "CES6056000082",
                                    "1": "4886085",
                                    "2": "60560000",
                                    "3": "Administrative and waste services"
                                },
                                {
                                    "0": "CEU6056000082",
                                    "1": "4659531",
                                    "2": "60560000",
                                    "3": "Administrative and waste services"
                                },
                                {
                                    "0": "CEU6056000082",
                                    "1": "4659531",
                                    "2": "60560000",
                                    "3": "Administrative and waste services"
                                },
                                {
                                    "0": "CES6056100082",
                                    "1": "4565569",
                                    "2": "60561000",
                                    "3": "Administrative and support services"
                                },
                                {
                                    "0": "CES6056100082",
                                    "1": "4565569",
                                    "2": "60561000",
                                    "3": "Administrative and support services"
                                },
                                {
                                    "0": "CEU6056100082",
                                    "1": "4357866",
                                    "2": "60561000",
                                    "3": "Administrative and support services"
                                },
                                {
                                    "0": "CEU6056100082",
                                    "1": "4357866",
                                    "2": "60561000",
                                    "3": "Administrative and support services"
                                },
                                {
                                    "0": "CES6056130082",
                                    "1": "2013846",
                                    "2": "60561300",
                                    "3": "Employment services"
                                },
                                {
                                    "0": "CES6056130082",
                                    "1": "2013846",
                                    "2": "60561300",
                                    "3": "Employment services"
                                },
                                {
                                    "0": "CEU6056130082",
                                    "1": "1938059",
                                    "2": "60561300",
                                    "3": "Employment services"
                                },
                                {
                                    "0": "CEU6056130082",
                                    "1": "1938059",
                                    "2": "60561300",
                                    "3": "Employment services"
                                },
                                {
                                    "0": "CES6056132082",
                                    "1": "1598939",
                                    "2": "60561320",
                                    "3": "Temporary help services"
                                },
                                {
                                    "0": "CES6056132082",
                                    "1": "1598939",
                                    "2": "60561320",
                                    "3": "Temporary help services"
                                },
                                {
                                    "0": "CEU6056132082",
                                    "1": "1530782",
                                    "2": "60561320",
                                    "3": "Temporary help services"
                                },
                                {
                                    "0": "CEU6056132082",
                                    "1": "1530782",
                                    "2": "60561320",
                                    "3": "Temporary help services"
                                },
                                {
                                    "0": "CES6056170082",
                                    "1": "846000",
                                    "2": "60561700",
                                    "3": "Services to buildings and dwellings"
                                },
                                {
                                    "0": "CES6056170082",
                                    "1": "846000",
                                    "2": "60561700",
                                    "3": "Services to buildings and dwellings"
                                },
                                {
                                    "0": "CES6500000082",
                                    "1": "14765156",
                                    "2": "65000000",
                                    "3": "Education and health services"
                                },
                                {
                                    "0": "CES6500000082",
                                    "1": "14765156",
                                    "2": "65000000",
                                    "3": "Education and health services"
                                },
                                {
                                    "0": "CEU6500000082",
                                    "1": "14816074",
                                    "2": "65000000",
                                    "3": "Education and health services"
                                },
                                {
                                    "0": "CEU6500000082",
                                    "1": "14816074",
                                    "2": "65000000",
                                    "3": "Education and health services"
                                },
                                {
                                    "0": "CES6562000082",
                                    "1": "12762526",
                                    "2": "65620000",
                                    "3": "Health care and social assistance"
                                },
                                {
                                    "0": "CES6562000082",
                                    "1": "12762526",
                                    "2": "65620000",
                                    "3": "Health care and social assistance"
                                },
                                {
                                    "0": "CEU6562000082",
                                    "1": "12878462",
                                    "2": "65620000",
                                    "3": "Health care and social assistance"
                                },
                                {
                                    "0": "CEU6562000082",
                                    "1": "12878462",
                                    "2": "65620000",
                                    "3": "Health care and social assistance"
                                },
                                {
                                    "0": "CES6562000182",
                                    "1": "11413008",
                                    "2": "65620001",
                                    "3": "NULL"
                                },
                                {
                                    "0": "CES6562000182",
                                    "1": "11413008",
                                    "2": "65620001",
                                    "3": "NULL"
                                },
                                {
                                    "0": "CEU6562000182",
                                    "1": "11537267",
                                    "2": "65620001",
                                    "3": "NULL"
                                },
                                {
                                    "0": "CEU6562000182",
                                    "1": "11537267",
                                    "2": "65620001",
                                    "3": "NULL"
                                },
                                {
                                    "0": "CES6562100082",
                                    "1": "4875906",
                                    "2": "65621000",
                                    "3": "Ambulatory health care services"
                                },
                                {
                                    "0": "CES6562100082",
                                    "1": "4875906",
                                    "2": "65621000",
                                    "3": "Ambulatory health care services"
                                },
                                {
                                    "0": "CEU6562100082",
                                    "1": "4907269",
                                    "2": "65621000",
                                    "3": "Ambulatory health care services"
                                },
                                {
                                    "0": "CEU6562100082",
                                    "1": "4907269",
                                    "2": "65621000",
                                    "3": "Ambulatory health care services"
                                },
                                {
                                    "0": "CES6562110082",
                                    "1": "2141331",
                                    "2": "65621100",
                                    "3": "Offices of physicians"
                                },
                                {
                                    "0": "CES6562110082",
                                    "1": "2141331",
                                    "2": "65621100",
                                    "3": "Offices of physicians"
                                },
                                {
                                    "0": "CEU6562110082",
                                    "1": "2149121",
                                    "2": "65621100",
                                    "3": "Offices of physicians"
                                },
                                {
                                    "0": "CEU6562110082",
                                    "1": "2149121",
                                    "2": "65621100",
                                    "3": "Offices of physicians"
                                },
                                {
                                    "0": "CES6562111182",
                                    "1": "2113086",
                                    "2": "65621111",
                                    "3": "Offices of physicians"
                                },
                                {
                                    "0": "CES6562111182",
                                    "1": "2113086",
                                    "2": "65621111",
                                    "3": "Offices of physicians"
                                },
                                {
                                    "0": "CEU6562111182",
                                    "1": "2121845",
                                    "2": "65621111",
                                    "3": "Offices of physicians"
                                },
                                {
                                    "0": "CEU6562111182",
                                    "1": "2121845",
                                    "2": "65621111",
                                    "3": "Offices of physicians"
                                },
                                {
                                    "0": "CES6562200082",
                                    "1": "5048432",
                                    "2": "65622000",
                                    "3": "Hospitals"
                                },
                                {
                                    "0": "CES6562200082",
                                    "1": "5048432",
                                    "2": "65622000",
                                    "3": "Hospitals"
                                },
                                {
                                    "0": "CEU6562200082",
                                    "1": "5105336",
                                    "2": "65622000",
                                    "3": "Hospitals"
                                },
                                {
                                    "0": "CEU6562200082",
                                    "1": "5105336",
                                    "2": "65622000",
                                    "3": "Hospitals"
                                },
                                {
                                    "0": "CES6562210082",
                                    "1": "4716914",
                                    "2": "65622100",
                                    "3": "General medical and surgical hospitals"
                                },
                                {
                                    "0": "CES6562210082",
                                    "1": "4716914",
                                    "2": "65622100",
                                    "3": "General medical and surgical hospitals"
                                },
                                {
                                    "0": "CEU6562210082",
                                    "1": "4773547",
                                    "2": "65622100",
                                    "3": "General medical and surgical hospitals"
                                },
                                {
                                    "0": "CEU6562210082",
                                    "1": "4773547",
                                    "2": "65622100",
                                    "3": "General medical and surgical hospitals"
                                },
                                {
                                    "0": "CES6562300082",
                                    "1": "1489277",
                                    "2": "65623000",
                                    "3": "Nursing and residential care facilities"
                                },
                                {
                                    "0": "CES6562300082",
                                    "1": "1489277",
                                    "2": "65623000",
                                    "3": "Nursing and residential care facilities"
                                },
                                {
                                    "0": "CEU6562300082",
                                    "1": "1525889",
                                    "2": "65623000",
                                    "3": "Nursing and residential care facilities"
                                },
                                {
                                    "0": "CEU6562300082",
                                    "1": "1525889",
                                    "2": "65623000",
                                    "3": "Nursing and residential care facilities"
                                },
                                {
                                    "0": "CES6562400082",
                                    "1": "1337022",
                                    "2": "65624000",
                                    "3": "Social assistance"
                                },
                                {
                                    "0": "CES6562400082",
                                    "1": "1337022",
                                    "2": "65624000",
                                    "3": "Social assistance"
                                },
                                {
                                    "0": "CEU6562400082",
                                    "1": "1357629",
                                    "2": "65624000",
                                    "3": "Social assistance"
                                },
                                {
                                    "0": "CEU6562400082",
                                    "1": "1357629",
                                    "2": "65624000",
                                    "3": "Social assistance"
                                },
                                {
                                    "0": "CES6562410082",
                                    "1": "828771",
                                    "2": "65624100",
                                    "3": "Individual and family services"
                                },
                                {
                                    "0": "CES6562410082",
                                    "1": "828771",
                                    "2": "65624100",
                                    "3": "Individual and family services"
                                },
                                {
                                    "0": "CEU6562410082",
                                    "1": "838886",
                                    "2": "65624100",
                                    "3": "Individual and family services"
                                },
                                {
                                    "0": "CEU6562410082",
                                    "1": "838886",
                                    "2": "65624100",
                                    "3": "Individual and family services"
                                },
                                {
                                    "0": "CES7000000082",
                                    "1": "4537173",
                                    "2": "70000000",
                                    "3": "Leisure and hospitality"
                                },
                                {
                                    "0": "CES7000000082",
                                    "1": "4537173",
                                    "2": "70000000",
                                    "3": "Leisure and hospitality"
                                },
                                {
                                    "0": "CEU7000000082",
                                    "1": "4224098",
                                    "2": "70000000",
                                    "3": "Leisure and hospitality"
                                },
                                {
                                    "0": "CEU7000000082",
                                    "1": "4224098",
                                    "2": "70000000",
                                    "3": "Leisure and hospitality"
                                },
                                {
                                    "0": "CES7072000082",
                                    "1": "3802356",
                                    "2": "70720000",
                                    "3": "Accommodation and food services"
                                },
                                {
                                    "0": "CES7072000082",
                                    "1": "3802356",
                                    "2": "70720000",
                                    "3": "Accommodation and food services"
                                },
                                {
                                    "0": "CEU7072000082",
                                    "1": "3572648",
                                    "2": "70720000",
                                    "3": "Accommodation and food services"
                                },
                                {
                                    "0": "CEU7072000082",
                                    "1": "3572648",
                                    "2": "70720000",
                                    "3": "Accommodation and food services"
                                },
                                {
                                    "0": "CES7072200082",
                                    "1": "3085429",
                                    "2": "70722000",
                                    "3": "Food services and drinking places"
                                },
                                {
                                    "0": "CES7072200082",
                                    "1": "3085429",
                                    "2": "70722000",
                                    "3": "Food services and drinking places"
                                },
                                {
                                    "0": "CEU7072200082",
                                    "1": "2913295",
                                    "2": "70722000",
                                    "3": "Food services and drinking places"
                                },
                                {
                                    "0": "CEU7072200082",
                                    "1": "2913295",
                                    "2": "70722000",
                                    "3": "Food services and drinking places"
                                },
                                {
                                    "0": "CES7072250082",
                                    "1": "2768855",
                                    "2": "70722500",
                                    "3": "Restaurants and other eating places"
                                },
                                {
                                    "0": "CES7072250082",
                                    "1": "2768855",
                                    "2": "70722500",
                                    "3": "Restaurants and other eating places"
                                },
                                {
                                    "0": "CEU7072250082",
                                    "1": "2617225",
                                    "2": "70722500",
                                    "3": "Restaurants and other eating places"
                                },
                                {
                                    "0": "CEU7072250082",
                                    "1": "2617225",
                                    "2": "70722500",
                                    "3": "Restaurants and other eating places"
                                },
                                {
                                    "0": "CES7072251182",
                                    "1": "1626780",
                                    "2": "70722511",
                                    "3": "Full-service restaurants"
                                },
                                {
                                    "0": "CES7072251182",
                                    "1": "1626780",
                                    "2": "70722511",
                                    "3": "Full-service restaurants"
                                },
                                {
                                    "0": "CEU7072251182",
                                    "1": "1528888",
                                    "2": "70722511",
                                    "3": "Full-service restaurants"
                                },
                                {
                                    "0": "CEU7072251182",
                                    "1": "1528888",
                                    "2": "70722511",
                                    "3": "Full-service restaurants"
                                },
                                {
                                    "0": "CES7072251382",
                                    "1": "969748",
                                    "2": "70722513",
                                    "3": "Limited-service restaurants"
                                },
                                {
                                    "0": "CES7072251382",
                                    "1": "969748",
                                    "2": "70722513",
                                    "3": "Limited-service restaurants"
                                },
                                {
                                    "0": "CEU7072251382",
                                    "1": "922041",
                                    "2": "70722513",
                                    "3": "Limited-service restaurants"
                                },
                                {
                                    "0": "CEU7072251382",
                                    "1": "922041",
                                    "2": "70722513",
                                    "3": "Limited-service restaurants"
                                },
                                {
                                    "0": "CES8000000082",
                                    "1": "2875314",
                                    "2": "80000000",
                                    "3": "Other services"
                                },
                                {
                                    "0": "CES8000000082",
                                    "1": "2875314",
                                    "2": "80000000",
                                    "3": "Other services"
                                },
                                {
                                    "0": "CEU8000000082",
                                    "1": "2836698",
                                    "2": "80000000",
                                    "3": "Other services"
                                },
                                {
                                    "0": "CEU8000000082",
                                    "1": "2836698",
                                    "2": "80000000",
                                    "3": "Other services"
                                },
                                {
                                    "0": "CES8081300082",
                                    "1": "1599916",
                                    "2": "80813000",
                                    "3": "Membership associations and organizations"
                                },
                                {
                                    "0": "CES8081300082",
                                    "1": "1599916",
                                    "2": "80813000",
                                    "3": "Membership associations and organizations"
                                },
                                {
                                    "0": "CEU8081300082",
                                    "1": "1594855",
                                    "2": "80813000",
                                    "3": "Membership associations and organizations"
                                },
                                {
                                    "0": "CEU8081300082",
                                    "1": "1594855",
                                    "2": "80813000",
                                    "3": "Membership associations and organizations"
                                }
                            ]
                        },
                        "text/html": [
                            "<table>",
                            "<tr><th>series_id</th><th>value</th><th>industry_code</th><th>industry_name</th></tr>",
                            "<tr><td>CES0500000082</td><td>74498171</td><td>05000000</td><td>Total private</td></tr>",
                            "<tr><td>CES0500000082</td><td>74498171</td><td>05000000</td><td>Total private</td></tr>",
                            "<tr><td>CEU0500000082</td><td>73474302</td><td>05000000</td><td>Total private</td></tr>",
                            "<tr><td>CEU0500000082</td><td>73474302</td><td>05000000</td><td>Total private</td></tr>",
                            "<tr><td>CES0600000082</td><td>13426820</td><td>06000000</td><td>Goods-producing</td></tr>",
                            "<tr><td>CES0600000082</td><td>13426820</td><td>06000000</td><td>Goods-producing</td></tr>",
                            "<tr><td>CEU0600000082</td><td>12711945</td><td>06000000</td><td>Goods-producing</td></tr>",
                            "<tr><td>CEU0600000082</td><td>12711945</td><td>06000000</td><td>Goods-producing</td></tr>",
                            "<tr><td>CES0800000082</td><td>60914722</td><td>08000000</td><td>Private service-providing</td></tr>",
                            "<tr><td>CES0800000082</td><td>60914722</td><td>08000000</td><td>Private service-providing</td></tr>",
                            "<tr><td>CEU0800000082</td><td>60807771</td><td>08000000</td><td>Private service-providing</td></tr>",
                            "<tr><td>CEU0800000082</td><td>60807771</td><td>08000000</td><td>Private service-providing</td></tr>",
                            "<tr><td>CES2000000082</td><td>5335274</td><td>20000000</td><td>Construction</td></tr>",
                            "<tr><td>CES2000000082</td><td>5335274</td><td>20000000</td><td>Construction</td></tr>",
                            "<tr><td>CEU2000000082</td><td>4724156</td><td>20000000</td><td>Construction</td></tr>",
                            "<tr><td>CEU2000000082</td><td>4724156</td><td>20000000</td><td>Construction</td></tr>",
                            "<tr><td>CES2023600082</td><td>1008035</td><td>20236000</td><td>Construction of buildings</td></tr>",
                            "<tr><td>CES2023600082</td><td>1008035</td><td>20236000</td><td>Construction of buildings</td></tr>",
                            "<tr><td>CEU2023600082</td><td>940800</td><td>20236000</td><td>Construction of buildings</td></tr>",
                            "<tr><td>CEU2023600082</td><td>940800</td><td>20236000</td><td>Construction of buildings</td></tr>",
                            "<tr><td>CES2023700082</td><td>908374</td><td>20237000</td><td>Heavy and civil engineering construction</td></tr>",
                            "<tr><td>CES2023700082</td><td>908374</td><td>20237000</td><td>Heavy and civil engineering construction</td></tr>",
                            "<tr><td>CES2023800082</td><td>3421902</td><td>20238000</td><td>Specialty trade contractors</td></tr>",
                            "<tr><td>CES2023800082</td><td>3421902</td><td>20238000</td><td>Specialty trade contractors</td></tr>",
                            "<tr><td>CEU2023800082</td><td>3062211</td><td>20238000</td><td>Specialty trade contractors</td></tr>",
                            "<tr><td>CEU2023800082</td><td>3062211</td><td>20238000</td><td>Specialty trade contractors</td></tr>",
                            "<tr><td>CES2023820082</td><td>1696080</td><td>20238200</td><td>Building equipment contractors</td></tr>",
                            "<tr><td>CES2023820082</td><td>1696080</td><td>20238200</td><td>Building equipment contractors</td></tr>",
                            "<tr><td>CEU2023820082</td><td>1621266</td><td>20238200</td><td>Building equipment contractors</td></tr>",
                            "<tr><td>CEU2023820082</td><td>1621266</td><td>20238200</td><td>Building equipment contractors</td></tr>",
                            "<tr><td>CES3000000082</td><td>7491723</td><td>30000000</td><td>Manufacturing</td></tr>",
                            "<tr><td>CES3000000082</td><td>7491723</td><td>30000000</td><td>Manufacturing</td></tr>",
                            "<tr><td>CEU3000000082</td><td>7411960</td><td>30000000</td><td>Manufacturing</td></tr>",
                            "<tr><td>CEU3000000082</td><td>7411960</td><td>30000000</td><td>Manufacturing</td></tr>",
                            "<tr><td>CES3100000082</td><td>4859716</td><td>31000000</td><td>Durable goods</td></tr>",
                            "<tr><td>CES3100000082</td><td>4859716</td><td>31000000</td><td>Durable goods</td></tr>",
                            "<tr><td>CEU3100000082</td><td>4808368</td><td>31000000</td><td>Durable goods</td></tr>",
                            "<tr><td>CEU3100000082</td><td>4808368</td><td>31000000</td><td>Durable goods</td></tr>",
                            "<tr><td>CES3133200082</td><td>871298</td><td>31332000</td><td>Fabricated metal products</td></tr>",
                            "<tr><td>CES3133200082</td><td>871298</td><td>31332000</td><td>Fabricated metal products</td></tr>",
                            "<tr><td>CEU3133200082</td><td>867242</td><td>31332000</td><td>Fabricated metal products</td></tr>",
                            "<tr><td>CEU3133200082</td><td>867242</td><td>31332000</td><td>Fabricated metal products</td></tr>",
                            "<tr><td>CES3133600082</td><td>1257764</td><td>31336000</td><td>Transportation equipment</td></tr>",
                            "<tr><td>CES3133600082</td><td>1257764</td><td>31336000</td><td>Transportation equipment</td></tr>",
                            "<tr><td>CEU3133600082</td><td>1242685</td><td>31336000</td><td>Transportation equipment</td></tr>",
                            "<tr><td>CEU3133600082</td><td>1242685</td><td>31336000</td><td>Transportation equipment</td></tr>",
                            "<tr><td>CES3200000082</td><td>2633628</td><td>32000000</td><td>Nondurable goods</td></tr>",
                            "<tr><td>CES3200000082</td><td>2633628</td><td>32000000</td><td>Nondurable goods</td></tr>",
                            "<tr><td>CEU3200000082</td><td>2605069</td><td>32000000</td><td>Nondurable goods</td></tr>",
                            "<tr><td>CEU3200000082</td><td>2605069</td><td>32000000</td><td>Nondurable goods</td></tr>",
                            "<tr><td>CES3231100082</td><td>851406</td><td>32311000</td><td>Food manufacturing</td></tr>",
                            "<tr><td>CES3231100082</td><td>851406</td><td>32311000</td><td>Food manufacturing</td></tr>",
                            "<tr><td>CEU3231100082</td><td>842201</td><td>32311000</td><td>Food manufacturing</td></tr>",
                            "<tr><td>CEU3231100082</td><td>842201</td><td>32311000</td><td>Food manufacturing</td></tr>",
                            "<tr><td>CES4000000082</td><td>14850661</td><td>40000000</td><td>Trade</td></tr>",
                            "<tr><td>CES4000000082</td><td>14850661</td><td>40000000</td><td>Trade</td></tr>",
                            "<tr><td>CEU4000000082</td><td>14732108</td><td>40000000</td><td>Trade</td></tr>",
                            "<tr><td>CEU4000000082</td><td>14732108</td><td>40000000</td><td>Trade</td></tr>",
                            "<tr><td>CES4142000082</td><td>4480134</td><td>41420000</td><td>Wholesale trade</td></tr>",
                            "<tr><td>CES4142000082</td><td>4480134</td><td>41420000</td><td>Wholesale trade</td></tr>",
                            "<tr><td>CEU4142000082</td><td>4506110</td><td>41420000</td><td>Wholesale trade</td></tr>",
                            "<tr><td>CEU4142000082</td><td>4506110</td><td>41420000</td><td>Wholesale trade</td></tr>",
                            "<tr><td>CES4142300082</td><td>2261006</td><td>41423000</td><td>Durable goods</td></tr>",
                            "<tr><td>CES4142300082</td><td>2261006</td><td>41423000</td><td>Durable goods</td></tr>",
                            "<tr><td>CEU4142300082</td><td>2283094</td><td>41423000</td><td>Durable goods</td></tr>",
                            "<tr><td>CEU4142300082</td><td>2283094</td><td>41423000</td><td>Durable goods</td></tr>",
                            "<tr><td>CES4142400082</td><td>1367413</td><td>41424000</td><td>Nondurable goods</td></tr>",
                            "<tr><td>CES4142400082</td><td>1367413</td><td>41424000</td><td>Nondurable goods</td></tr>",
                            "<tr><td>CEU4142400082</td><td>1348136</td><td>41424000</td><td>Nondurable goods</td></tr>",
                            "<tr><td>CEU4142400082</td><td>1348136</td><td>41424000</td><td>Nondurable goods</td></tr>",
                            "<tr><td>CES4142500082</td><td>855291</td><td>41425000</td><td>Electronic markets and agents and brokers</td></tr>",
                            "<tr><td>CES4142500082</td><td>855291</td><td>41425000</td><td>Electronic markets and agents and brokers</td></tr>",
                            "<tr><td>CEU4142500082</td><td>873578</td><td>41425000</td><td>Electronic markets and agents and brokers</td></tr>",
                            "<tr><td>CEU4142500082</td><td>873578</td><td>41425000</td><td>Electronic markets and agents and brokers</td></tr>",
                            "<tr><td>CES4142512082</td><td>831319</td><td>41425120</td><td>Wholesale trade agents and brokers</td></tr>",
                            "<tr><td>CES4142512082</td><td>831319</td><td>41425120</td><td>Wholesale trade agents and brokers</td></tr>",
                            "<tr><td>CEU4142512082</td><td>851551</td><td>41425120</td><td>Wholesale trade agents and brokers</td></tr>",
                            "<tr><td>CEU4142512082</td><td>851551</td><td>41425120</td><td>Wholesale trade agents and brokers</td></tr>",
                            "<tr><td>CES4200000082</td><td>6123554</td><td>42000000</td><td>Retail trade</td></tr>",
                            "<tr><td>CES4200000082</td><td>6123554</td><td>42000000</td><td>Retail trade</td></tr>",
                            "<tr><td>CEU4200000082</td><td>6060100</td><td>42000000</td><td>Retail trade</td></tr>",
                            "<tr><td>CEU4200000082</td><td>6060100</td><td>42000000</td><td>Retail trade</td></tr>",
                            "<tr><td>CES4244100082</td><td>1180297</td><td>42441000</td><td>Motor vehicle and parts dealers</td></tr>",
                            "<tr><td>CES4244100082</td><td>1180297</td><td>42441000</td><td>Motor vehicle and parts dealers</td></tr>",
                            "<tr><td>CEU4244100082</td><td>1163420</td><td>42441000</td><td>Motor vehicle and parts dealers</td></tr>",
                            "<tr><td>CEU4244100082</td><td>1163420</td><td>42441000</td><td>Motor vehicle and parts dealers</td></tr>",
                            "<tr><td>CES4244110082</td><td>839595</td><td>42441100</td><td>Automobile dealers</td></tr>",
                            "<tr><td>CES4244110082</td><td>839595</td><td>42441100</td><td>Automobile dealers</td></tr>",
                            "<tr><td>CEU4244110082</td><td>831131</td><td>42441100</td><td>Automobile dealers</td></tr>",
                            "<tr><td>CEU4244110082</td><td>831131</td><td>42441100</td><td>Automobile dealers</td></tr>",
                            "<tr><td>CES4244500082</td><td>974710</td><td>42445000</td><td>Food and beverage stores</td></tr>",
                            "<tr><td>CES4244500082</td><td>974710</td><td>42445000</td><td>Food and beverage stores</td></tr>",
                            "<tr><td>CEU4244500082</td><td>963315</td><td>42445000</td><td>Food and beverage stores</td></tr>",
                            "<tr><td>CEU4244500082</td><td>963315</td><td>42445000</td><td>Food and beverage stores</td></tr>",
                            "<tr><td>CES4244510082</td><td>868430</td><td>42445100</td><td>Grocery stores</td></tr>",
                            "<tr><td>CES4244510082</td><td>868430</td><td>42445100</td><td>Grocery stores</td></tr>",
                            "<tr><td>CEU4244510082</td><td>861224</td><td>42445100</td><td>Grocery stores</td></tr>",
                            "<tr><td>CEU4244510082</td><td>861224</td><td>42445100</td><td>Grocery stores</td></tr>",
                            "<tr><td>CES4244511082</td><td>821282</td><td>42445110</td><td>Supermarkets and other grocery stores</td></tr>",
                            "<tr><td>CES4244511082</td><td>821282</td><td>42445110</td><td>Supermarkets and other grocery stores</td></tr>",
                            "<tr><td>CES4245200082</td><td>1065807</td><td>42452000</td><td>General merchandise stores</td></tr>",
                            "<tr><td>CES4245200082</td><td>1065807</td><td>42452000</td><td>General merchandise stores</td></tr>",
                            "<tr><td>CEU4245200082</td><td>1049973</td><td>42452000</td><td>General merchandise stores</td></tr>",
                            "<tr><td>CEU4245200082</td><td>1049973</td><td>42452000</td><td>General merchandise stores</td></tr>",
                            "<tr><td>CES4300000082</td><td>3538683</td><td>43000000</td><td>Transportation and warehousing</td></tr>",
                            "<tr><td>CES4300000082</td><td>3538683</td><td>43000000</td><td>Transportation and warehousing</td></tr>",
                            "<tr><td>CEU4300000082</td><td>3495553</td><td>43000000</td><td>Transportation and warehousing</td></tr>",
                            "<tr><td>CEU4300000082</td><td>3495553</td><td>43000000</td><td>Transportation and warehousing</td></tr>",
                            "<tr><td>CES4348400082</td><td>1131821</td><td>43484000</td><td>Truck transportation</td></tr>",
                            "<tr><td>CES4348400082</td><td>1131821</td><td>43484000</td><td>Truck transportation</td></tr>",
                            "<tr><td>CEU4348400082</td><td>1092427</td><td>43484000</td><td>Truck transportation</td></tr>",
                            "<tr><td>CEU4348400082</td><td>1092427</td><td>43484000</td><td>Truck transportation</td></tr>",
                            "<tr><td>CES5000000082</td><td>2416443</td><td>50000000</td><td>Information</td></tr>",
                            "<tr><td>CES5000000082</td><td>2416443</td><td>50000000</td><td>Information</td></tr>",
                            "<tr><td>CEU5000000082</td><td>2434992</td><td>50000000</td><td>Information</td></tr>",
                            "<tr><td>CEU5000000082</td><td>2434992</td><td>50000000</td><td>Information</td></tr>",
                            "<tr><td>CES5500000082</td><td>6328968</td><td>55000000</td><td>Financial activities</td></tr>",
                            "<tr><td>CES5500000082</td><td>6328968</td><td>55000000</td><td>Financial activities</td></tr>",
                            "<tr><td>CEU5500000082</td><td>6467426</td><td>55000000</td><td>Financial activities</td></tr>",
                            "<tr><td>CEU5500000082</td><td>6467426</td><td>55000000</td><td>Financial activities</td></tr>",
                            "<tr><td>CES5552200082</td><td>1717912</td><td>55522000</td><td>Credit intermediation and related activities</td></tr>",
                            "<tr><td>CES5552200082</td><td>1717912</td><td>55522000</td><td>Credit intermediation and related activities</td></tr>",
                            "<tr><td>CEU5552200082</td><td>1767137</td><td>55522000</td><td>Credit intermediation and related activities</td></tr>",
                            "<tr><td>CEU5552200082</td><td>1767137</td><td>55522000</td><td>Credit intermediation and related activities</td></tr>",
                            "<tr><td>CES5552210082</td><td>971796</td><td>55522100</td><td>Depository credit intermediation</td></tr>",
                            "<tr><td>CES5552210082</td><td>971796</td><td>55522100</td><td>Depository credit intermediation</td></tr>",
                            "<tr><td>CEU5552210082</td><td>1004069</td><td>55522100</td><td>Depository credit intermediation</td></tr>",
                            "<tr><td>CEU5552210082</td><td>1004069</td><td>55522100</td><td>Depository credit intermediation</td></tr>",
                            "<tr><td>CES5552300082</td><td>1044224</td><td>55523000</td><td>NULL</td></tr>",
                            "<tr><td>CES5552300082</td><td>1044224</td><td>55523000</td><td>NULL</td></tr>",
                            "<tr><td>CEU5552300082</td><td>1087325</td><td>55523000</td><td>NULL</td></tr>",
                            "<tr><td>CEU5552300082</td><td>1087325</td><td>55523000</td><td>NULL</td></tr>",
                            "<tr><td>CES5552400082</td><td>2347328</td><td>55524000</td><td>Insurance carriers and related activities</td></tr>",
                            "<tr><td>CES5552400082</td><td>2347328</td><td>55524000</td><td>Insurance carriers and related activities</td></tr>",
                            "<tr><td>CEU5552400082</td><td>2408490</td><td>55524000</td><td>Insurance carriers and related activities</td></tr>",
                            "<tr><td>CEU5552400082</td><td>2408490</td><td>55524000</td><td>Insurance carriers and related activities</td></tr>",
                            "<tr><td>CES5552410082</td><td>1477799</td><td>55524100</td><td>Insurance carriers</td></tr>",
                            "<tr><td>CES5552410082</td><td>1477799</td><td>55524100</td><td>Insurance carriers</td></tr>",
                            "<tr><td>CEU5552410082</td><td>1509979</td><td>55524100</td><td>Insurance carriers</td></tr>",
                            "<tr><td>CEU5552410082</td><td>1509979</td><td>55524100</td><td>Insurance carriers</td></tr>",
                            "<tr><td>CES5552420082</td><td>872398</td><td>55524200</td><td>Insurance agencies</td></tr>",
                            "<tr><td>CES5552420082</td><td>872398</td><td>55524200</td><td>Insurance agencies</td></tr>",
                            "<tr><td>CEU5552420082</td><td>894878</td><td>55524200</td><td>Insurance agencies</td></tr>",
                            "<tr><td>CEU5552420082</td><td>894878</td><td>55524200</td><td>Insurance agencies</td></tr>",
                            "<tr><td>CES5553100082</td><td>862987</td><td>55531000</td><td>Real estate</td></tr>",
                            "<tr><td>CES5553100082</td><td>862987</td><td>55531000</td><td>Real estate</td></tr>",
                            "<tr><td>CEU5553100082</td><td>865620</td><td>55531000</td><td>Real estate</td></tr>",
                            "<tr><td>CEU5553100082</td><td>865620</td><td>55531000</td><td>Real estate</td></tr>",
                            "<tr><td>CES6000000082</td><td>15251268</td><td>60000000</td><td>Professional and business services</td></tr>",
                            "<tr><td>CES6000000082</td><td>15251268</td><td>60000000</td><td>Professional and business services</td></tr>",
                            "<tr><td>CEU6000000082</td><td>15219807</td><td>60000000</td><td>Professional and business services</td></tr>",
                            "<tr><td>CEU6000000082</td><td>15219807</td><td>60000000</td><td>Professional and business services</td></tr>",
                            "<tr><td>CES6054000082</td><td>8821026</td><td>60540000</td><td>Professional and technical services</td></tr>",
                            "<tr><td>CES6054000082</td><td>8821026</td><td>60540000</td><td>Professional and technical services</td></tr>",
                            "<tr><td>CEU6054000082</td><td>8976687</td><td>60540000</td><td>Professional and technical services</td></tr>",
                            "<tr><td>CEU6054000082</td><td>8976687</td><td>60540000</td><td>Professional and technical services</td></tr>",
                            "<tr><td>CES6054110082</td><td>1058862</td><td>60541100</td><td>Legal services</td></tr>",
                            "<tr><td>CES6054110082</td><td>1058862</td><td>60541100</td><td>Legal services</td></tr>",
                            "<tr><td>CEU6054110082</td><td>1093898</td><td>60541100</td><td>Legal services</td></tr>",
                            "<tr><td>CEU6054110082</td><td>1093898</td><td>60541100</td><td>Legal services</td></tr>",
                            "<tr><td>CES6054111082</td><td>1004009</td><td>60541110</td><td>Offices of lawyers</td></tr>",
                            "<tr><td>CES6054111082</td><td>1004009</td><td>60541110</td><td>Offices of lawyers</td></tr>",
                            "<tr><td>CEU6054111082</td><td>1038464</td><td>60541110</td><td>Offices of lawyers</td></tr>",
                            "<tr><td>CEU6054111082</td><td>1038464</td><td>60541110</td><td>Offices of lawyers</td></tr>",
                            "<tr><td>CES6054130082</td><td>1439445</td><td>60541300</td><td>Architectural and engineering services</td></tr>",
                            "<tr><td>CES6054130082</td><td>1439445</td><td>60541300</td><td>Architectural and engineering services</td></tr>",
                            "<tr><td>CEU6054130082</td><td>1422967</td><td>60541300</td><td>Architectural and engineering services</td></tr>",
                            "<tr><td>CEU6054130082</td><td>1422967</td><td>60541300</td><td>Architectural and engineering services</td></tr>",
                            "<tr><td>CES6054134082</td><td>1051499</td><td>60541340</td><td>NULL</td></tr>",
                            "<tr><td>CES6054134082</td><td>1051499</td><td>60541340</td><td>NULL</td></tr>",
                            "<tr><td>CEU6054134082</td><td>1042223</td><td>60541340</td><td>NULL</td></tr>",
                            "<tr><td>CEU6054134082</td><td>1042223</td><td>60541340</td><td>NULL</td></tr>",
                            "<tr><td>CES6054150082</td><td>2666568</td><td>60541500</td><td>Computer systems design and related services</td></tr>",
                            "<tr><td>CES6054150082</td><td>2666568</td><td>60541500</td><td>Computer systems design and related services</td></tr>",
                            "<tr><td>CEU6054150082</td><td>2725031</td><td>60541500</td><td>Computer systems design and related services</td></tr>",
                            "<tr><td>CEU6054150082</td><td>2725031</td><td>60541500</td><td>Computer systems design and related services</td></tr>",
                            "<tr><td>CES6054151182</td><td>1173494</td><td>60541511</td><td>Custom computer programming services</td></tr>",
                            "<tr><td>CES6054151182</td><td>1173494</td><td>60541511</td><td>Custom computer programming services</td></tr>",
                            "<tr><td>CEU6054151182</td><td>1198283</td><td>60541511</td><td>Custom computer programming services</td></tr>",
                            "<tr><td>CEU6054151182</td><td>1198283</td><td>60541511</td><td>Custom computer programming services</td></tr>",
                            "<tr><td>CES6054151282</td><td>1274481</td><td>60541512</td><td>Computer systems design services</td></tr>",
                            "<tr><td>CES6054151282</td><td>1274481</td><td>60541512</td><td>Computer systems design services</td></tr>",
                            "<tr><td>CEU6054151282</td><td>1309441</td><td>60541512</td><td>Computer systems design services</td></tr>",
                            "<tr><td>CEU6054151282</td><td>1309441</td><td>60541512</td><td>Computer systems design services</td></tr>",
                            "<tr><td>CES6054160082</td><td>1330587</td><td>60541600</td><td>Management and technical consulting services</td></tr>",
                            "<tr><td>CES6054160082</td><td>1330587</td><td>60541600</td><td>Management and technical consulting services</td></tr>",
                            "<tr><td>CEU6054160082</td><td>1336594</td><td>60541600</td><td>Management and technical consulting services</td></tr>",
                            "<tr><td>CEU6054160082</td><td>1336594</td><td>60541600</td><td>Management and technical consulting services</td></tr>",
                            "<tr><td>CES6054161082</td><td>1053691</td><td>60541610</td><td>Management consulting services</td></tr>",
                            "<tr><td>CES6054161082</td><td>1053691</td><td>60541610</td><td>Management consulting services</td></tr>",
                            "<tr><td>CEU6054161082</td><td>1066602</td><td>60541610</td><td>Management consulting services</td></tr>",
                            "<tr><td>CEU6054161082</td><td>1066602</td><td>60541610</td><td>Management consulting services</td></tr>",
                            "<tr><td>CES6055000082</td><td>1566036</td><td>60550000</td><td>Management of companies and enterprises</td></tr>",
                            "<tr><td>CES6055000082</td><td>1566036</td><td>60550000</td><td>Management of companies and enterprises</td></tr>",
                            "<tr><td>CEU6055000082</td><td>1587677</td><td>60550000</td><td>Management of companies and enterprises</td></tr>",
                            "<tr><td>CEU6055000082</td><td>1587677</td><td>60550000</td><td>Management of companies and enterprises</td></tr>",
                            "<tr><td>CES6055111482</td><td>1496334</td><td>60551114</td><td>Managing offices</td></tr>",
                            "<tr><td>CES6055111482</td><td>1496334</td><td>60551114</td><td>Managing offices</td></tr>",
                            "<tr><td>CEU6055111482</td><td>1517287</td><td>60551114</td><td>Managing offices</td></tr>",
                            "<tr><td>CEU6055111482</td><td>1517287</td><td>60551114</td><td>Managing offices</td></tr>",
                            "<tr><td>CES6056000082</td><td>4886085</td><td>60560000</td><td>Administrative and waste services</td></tr>",
                            "<tr><td>CES6056000082</td><td>4886085</td><td>60560000</td><td>Administrative and waste services</td></tr>",
                            "<tr><td>CEU6056000082</td><td>4659531</td><td>60560000</td><td>Administrative and waste services</td></tr>",
                            "<tr><td>CEU6056000082</td><td>4659531</td><td>60560000</td><td>Administrative and waste services</td></tr>",
                            "<tr><td>CES6056100082</td><td>4565569</td><td>60561000</td><td>Administrative and support services</td></tr>",
                            "<tr><td>CES6056100082</td><td>4565569</td><td>60561000</td><td>Administrative and support services</td></tr>",
                            "<tr><td>CEU6056100082</td><td>4357866</td><td>60561000</td><td>Administrative and support services</td></tr>",
                            "<tr><td>CEU6056100082</td><td>4357866</td><td>60561000</td><td>Administrative and support services</td></tr>",
                            "<tr><td>CES6056130082</td><td>2013846</td><td>60561300</td><td>Employment services</td></tr>",
                            "<tr><td>CES6056130082</td><td>2013846</td><td>60561300</td><td>Employment services</td></tr>",
                            "<tr><td>CEU6056130082</td><td>1938059</td><td>60561300</td><td>Employment services</td></tr>",
                            "<tr><td>CEU6056130082</td><td>1938059</td><td>60561300</td><td>Employment services</td></tr>",
                            "<tr><td>CES6056132082</td><td>1598939</td><td>60561320</td><td>Temporary help services</td></tr>",
                            "<tr><td>CES6056132082</td><td>1598939</td><td>60561320</td><td>Temporary help services</td></tr>",
                            "<tr><td>CEU6056132082</td><td>1530782</td><td>60561320</td><td>Temporary help services</td></tr>",
                            "<tr><td>CEU6056132082</td><td>1530782</td><td>60561320</td><td>Temporary help services</td></tr>",
                            "<tr><td>CES6056170082</td><td>846000</td><td>60561700</td><td>Services to buildings and dwellings</td></tr>",
                            "<tr><td>CES6056170082</td><td>846000</td><td>60561700</td><td>Services to buildings and dwellings</td></tr>",
                            "<tr><td>CES6500000082</td><td>14765156</td><td>65000000</td><td>Education and health services</td></tr>",
                            "<tr><td>CES6500000082</td><td>14765156</td><td>65000000</td><td>Education and health services</td></tr>",
                            "<tr><td>CEU6500000082</td><td>14816074</td><td>65000000</td><td>Education and health services</td></tr>",
                            "<tr><td>CEU6500000082</td><td>14816074</td><td>65000000</td><td>Education and health services</td></tr>",
                            "<tr><td>CES6562000082</td><td>12762526</td><td>65620000</td><td>Health care and social assistance</td></tr>",
                            "<tr><td>CES6562000082</td><td>12762526</td><td>65620000</td><td>Health care and social assistance</td></tr>",
                            "<tr><td>CEU6562000082</td><td>12878462</td><td>65620000</td><td>Health care and social assistance</td></tr>",
                            "<tr><td>CEU6562000082</td><td>12878462</td><td>65620000</td><td>Health care and social assistance</td></tr>",
                            "<tr><td>CES6562000182</td><td>11413008</td><td>65620001</td><td>NULL</td></tr>",
                            "<tr><td>CES6562000182</td><td>11413008</td><td>65620001</td><td>NULL</td></tr>",
                            "<tr><td>CEU6562000182</td><td>11537267</td><td>65620001</td><td>NULL</td></tr>",
                            "<tr><td>CEU6562000182</td><td>11537267</td><td>65620001</td><td>NULL</td></tr>",
                            "<tr><td>CES6562100082</td><td>4875906</td><td>65621000</td><td>Ambulatory health care services</td></tr>",
                            "<tr><td>CES6562100082</td><td>4875906</td><td>65621000</td><td>Ambulatory health care services</td></tr>",
                            "<tr><td>CEU6562100082</td><td>4907269</td><td>65621000</td><td>Ambulatory health care services</td></tr>",
                            "<tr><td>CEU6562100082</td><td>4907269</td><td>65621000</td><td>Ambulatory health care services</td></tr>",
                            "<tr><td>CES6562110082</td><td>2141331</td><td>65621100</td><td>Offices of physicians</td></tr>",
                            "<tr><td>CES6562110082</td><td>2141331</td><td>65621100</td><td>Offices of physicians</td></tr>",
                            "<tr><td>CEU6562110082</td><td>2149121</td><td>65621100</td><td>Offices of physicians</td></tr>",
                            "<tr><td>CEU6562110082</td><td>2149121</td><td>65621100</td><td>Offices of physicians</td></tr>",
                            "<tr><td>CES6562111182</td><td>2113086</td><td>65621111</td><td>Offices of physicians</td></tr>",
                            "<tr><td>CES6562111182</td><td>2113086</td><td>65621111</td><td>Offices of physicians</td></tr>",
                            "<tr><td>CEU6562111182</td><td>2121845</td><td>65621111</td><td>Offices of physicians</td></tr>",
                            "<tr><td>CEU6562111182</td><td>2121845</td><td>65621111</td><td>Offices of physicians</td></tr>",
                            "<tr><td>CES6562200082</td><td>5048432</td><td>65622000</td><td>Hospitals</td></tr>",
                            "<tr><td>CES6562200082</td><td>5048432</td><td>65622000</td><td>Hospitals</td></tr>",
                            "<tr><td>CEU6562200082</td><td>5105336</td><td>65622000</td><td>Hospitals</td></tr>",
                            "<tr><td>CEU6562200082</td><td>5105336</td><td>65622000</td><td>Hospitals</td></tr>",
                            "<tr><td>CES6562210082</td><td>4716914</td><td>65622100</td><td>General medical and surgical hospitals</td></tr>",
                            "<tr><td>CES6562210082</td><td>4716914</td><td>65622100</td><td>General medical and surgical hospitals</td></tr>",
                            "<tr><td>CEU6562210082</td><td>4773547</td><td>65622100</td><td>General medical and surgical hospitals</td></tr>",
                            "<tr><td>CEU6562210082</td><td>4773547</td><td>65622100</td><td>General medical and surgical hospitals</td></tr>",
                            "<tr><td>CES6562300082</td><td>1489277</td><td>65623000</td><td>Nursing and residential care facilities</td></tr>",
                            "<tr><td>CES6562300082</td><td>1489277</td><td>65623000</td><td>Nursing and residential care facilities</td></tr>",
                            "<tr><td>CEU6562300082</td><td>1525889</td><td>65623000</td><td>Nursing and residential care facilities</td></tr>",
                            "<tr><td>CEU6562300082</td><td>1525889</td><td>65623000</td><td>Nursing and residential care facilities</td></tr>",
                            "<tr><td>CES6562400082</td><td>1337022</td><td>65624000</td><td>Social assistance</td></tr>",
                            "<tr><td>CES6562400082</td><td>1337022</td><td>65624000</td><td>Social assistance</td></tr>",
                            "<tr><td>CEU6562400082</td><td>1357629</td><td>65624000</td><td>Social assistance</td></tr>",
                            "<tr><td>CEU6562400082</td><td>1357629</td><td>65624000</td><td>Social assistance</td></tr>",
                            "<tr><td>CES6562410082</td><td>828771</td><td>65624100</td><td>Individual and family services</td></tr>",
                            "<tr><td>CES6562410082</td><td>828771</td><td>65624100</td><td>Individual and family services</td></tr>",
                            "<tr><td>CEU6562410082</td><td>838886</td><td>65624100</td><td>Individual and family services</td></tr>",
                            "<tr><td>CEU6562410082</td><td>838886</td><td>65624100</td><td>Individual and family services</td></tr>",
                            "<tr><td>CES7000000082</td><td>4537173</td><td>70000000</td><td>Leisure and hospitality</td></tr>",
                            "<tr><td>CES7000000082</td><td>4537173</td><td>70000000</td><td>Leisure and hospitality</td></tr>",
                            "<tr><td>CEU7000000082</td><td>4224098</td><td>70000000</td><td>Leisure and hospitality</td></tr>",
                            "<tr><td>CEU7000000082</td><td>4224098</td><td>70000000</td><td>Leisure and hospitality</td></tr>",
                            "<tr><td>CES7072000082</td><td>3802356</td><td>70720000</td><td>Accommodation and food services</td></tr>",
                            "<tr><td>CES7072000082</td><td>3802356</td><td>70720000</td><td>Accommodation and food services</td></tr>",
                            "<tr><td>CEU7072000082</td><td>3572648</td><td>70720000</td><td>Accommodation and food services</td></tr>",
                            "<tr><td>CEU7072000082</td><td>3572648</td><td>70720000</td><td>Accommodation and food services</td></tr>",
                            "<tr><td>CES7072200082</td><td>3085429</td><td>70722000</td><td>Food services and drinking places</td></tr>",
                            "<tr><td>CES7072200082</td><td>3085429</td><td>70722000</td><td>Food services and drinking places</td></tr>",
                            "<tr><td>CEU7072200082</td><td>2913295</td><td>70722000</td><td>Food services and drinking places</td></tr>",
                            "<tr><td>CEU7072200082</td><td>2913295</td><td>70722000</td><td>Food services and drinking places</td></tr>",
                            "<tr><td>CES7072250082</td><td>2768855</td><td>70722500</td><td>Restaurants and other eating places</td></tr>",
                            "<tr><td>CES7072250082</td><td>2768855</td><td>70722500</td><td>Restaurants and other eating places</td></tr>",
                            "<tr><td>CEU7072250082</td><td>2617225</td><td>70722500</td><td>Restaurants and other eating places</td></tr>",
                            "<tr><td>CEU7072250082</td><td>2617225</td><td>70722500</td><td>Restaurants and other eating places</td></tr>",
                            "<tr><td>CES7072251182</td><td>1626780</td><td>70722511</td><td>Full-service restaurants</td></tr>",
                            "<tr><td>CES7072251182</td><td>1626780</td><td>70722511</td><td>Full-service restaurants</td></tr>",
                            "<tr><td>CEU7072251182</td><td>1528888</td><td>70722511</td><td>Full-service restaurants</td></tr>",
                            "<tr><td>CEU7072251182</td><td>1528888</td><td>70722511</td><td>Full-service restaurants</td></tr>",
                            "<tr><td>CES7072251382</td><td>969748</td><td>70722513</td><td>Limited-service restaurants</td></tr>",
                            "<tr><td>CES7072251382</td><td>969748</td><td>70722513</td><td>Limited-service restaurants</td></tr>",
                            "<tr><td>CEU7072251382</td><td>922041</td><td>70722513</td><td>Limited-service restaurants</td></tr>",
                            "<tr><td>CEU7072251382</td><td>922041</td><td>70722513</td><td>Limited-service restaurants</td></tr>",
                            "<tr><td>CES8000000082</td><td>2875314</td><td>80000000</td><td>Other services</td></tr>",
                            "<tr><td>CES8000000082</td><td>2875314</td><td>80000000</td><td>Other services</td></tr>",
                            "<tr><td>CEU8000000082</td><td>2836698</td><td>80000000</td><td>Other services</td></tr>",
                            "<tr><td>CEU8000000082</td><td>2836698</td><td>80000000</td><td>Other services</td></tr>",
                            "<tr><td>CES8081300082</td><td>1599916</td><td>80813000</td><td>Membership associations and organizations</td></tr>",
                            "<tr><td>CES8081300082</td><td>1599916</td><td>80813000</td><td>Membership associations and organizations</td></tr>",
                            "<tr><td>CEU8081300082</td><td>1594855</td><td>80813000</td><td>Membership associations and organizations</td></tr>",
                            "<tr><td>CEU8081300082</td><td>1594855</td><td>80813000</td><td>Membership associations and organizations</td></tr>",
                            "</table>"
                        ]
                    }
                }
            ],
            "execution_count": 2
        },
        {
            "cell_type": "markdown",
            "source": [
                "2. <span style=\"background-color: rgb(255, 255, 255); font-size: 10pt; white-space: pre-wrap; color: rgb(102, 102, 102); font-family: Arvo, serif;\">Create a Union table comparing average weekly earnings&nbsp; of production and nonsupervisory employees between annual_16 and january_17 using the data type 30.&nbsp; Round to the nearest penny.&nbsp; You should have a column for the average earnings and a column for the year, and the period.</span>"
            ],
            "metadata": {
                "azdata_cell_guid": "1bb0ed09-4b02-4132-910e-5903697628af"
            }
        },
        {
            "cell_type": "code",
            "source": [
                "-- SELECT j.series_id, j.value, j.year, j.period \n",
                "-- FROM LaborStatisticsDB.dbo.january_2017 as j \n",
                "-- WHERE j.series_id LIKE '%30'\n",
                "-- UNION\n",
                "-- SELECT a.series_id, a.value, a.year, a.period  \n",
                "-- FROM LaborStatisticsDB.dbo.annual_2016 as a \n",
                "-- WHERE a.series_id LIKE '%30'\n",
                "\n",
                "\n",
                "\n",
                "-- ON j.series_id = s.series_id \n",
                "-- JOIN LaborStatisticsDB.dbo.industry as i \n",
                "-- ON i.industry_code = s.industry_code \n",
                "-- WHERE j.value > (\n",
                "--     SELECT AVG(a.value) \n",
                "--     FROM LaborStatisticsDB.dbo.annual_2016 as a \n",
                "--     WHERE a.series_id LIKE '%82'\n",
                "\n",
                "-- data_type_code = 6\n",
                "\n",
                "\n",
                "\n",
                "SELECT ROUND(AVG(annual_2016.value), 2), MAX(annual_2016.year) AS Year\n",
                "FROM LaborStatisticsDB.dbo.annual_2016\n",
                "Where annual_2016.series_id LIKE '%30'\n",
                "GROUP BY annual_2016.period\n",
                "UNION\n",
                "SELECT ROUND(AVG(january_2017.value), 2), MAX(january_2017.year) AS Earnings\n",
                "FROM LaborStatisticsDB.dbo.january_2017\n",
                "Where january_2017.series_id LIKE '%30'\n",
                "\n",
                ""
            ],
            "metadata": {
                "azdata_cell_guid": "0841b6d6-9af2-41ba-8e28-dc40d08bd061",
                "language": "sql"
            },
            "outputs": [
                {
                    "output_type": "display_data",
                    "data": {
                        "text/html": "(2 rows affected)"
                    },
                    "metadata": {}
                },
                {
                    "output_type": "display_data",
                    "data": {
                        "text/html": "Total execution time: 00:00:00.269"
                    },
                    "metadata": {}
                },
                {
                    "output_type": "execute_result",
                    "execution_count": 6,
                    "data": {
                        "application/vnd.dataresource+json": {
                            "schema": {
                                "fields": [
                                    {
                                        "name": "(No column name)"
                                    },
                                    {
                                        "name": "Year"
                                    }
                                ]
                            },
                            "data": [
                                {
                                    "0": "797.2",
                                    "1": "2016"
                                },
                                {
                                    "0": "808.53",
                                    "1": "2017"
                                }
                            ]
                        },
                        "text/html": "<table><tr><th>(No column name)</th><th>Year</th></tr><tr><td>797.2</td><td>2016</td></tr><tr><td>808.53</td><td>2017</td></tr></table>"
                    },
                    "metadata": {}
                }
            ],
            "execution_count": 6
        },
        {
            "cell_type": "code",
            "source": [
                "SELECT AVG(j.value) AS 'JANUARY 2017'\n",
                "FROM LaborStatisticsDB.dbo.january_2017 as j \n",
                "WHERE j.series_id LIKE '%30'\n",
                "-- JOIN \n",
                "\n",
                "SELECT AVG(a.value) AS 'ANNUAL 2016'\n",
                "FROM LaborStatisticsDB.dbo.annual_2016 as a \n",
                "-- ON a.series_id, a.value, a.year, a.period \n",
                "WHERE a.series_id LIKE '%30'"
            ],
            "metadata": {
                "azdata_cell_guid": "bf953310-5c5a-45b7-991c-107c671778f9",
                "language": "sql"
            },
            "outputs": [
                {
                    "output_type": "display_data",
                    "data": {
                        "text/html": "(1 row affected)"
                    },
                    "metadata": {}
                },
                {
                    "output_type": "display_data",
                    "data": {
                        "text/html": "(1 row affected)"
                    },
                    "metadata": {}
                },
                {
                    "output_type": "display_data",
                    "data": {
                        "text/html": "Total execution time: 00:00:00.188"
                    },
                    "metadata": {}
                },
                {
                    "output_type": "execute_result",
                    "execution_count": 53,
                    "data": {
                        "application/vnd.dataresource+json": {
                            "schema": {
                                "fields": [
                                    {
                                        "name": "JANUARY 2017"
                                    }
                                ]
                            },
                            "data": [
                                {
                                    "0": "808.5303811252254"
                                }
                            ]
                        },
                        "text/html": "<table><tr><th>JANUARY 2017</th></tr><tr><td>808.5303811252254</td></tr></table>"
                    },
                    "metadata": {}
                },
                {
                    "output_type": "execute_result",
                    "execution_count": 53,
                    "data": {
                        "application/vnd.dataresource+json": {
                            "schema": {
                                "fields": [
                                    {
                                        "name": "ANNUAL 2016"
                                    }
                                ]
                            },
                            "data": [
                                {
                                    "0": "797.1962613430123"
                                }
                            ]
                        },
                        "text/html": "<table><tr><th>ANNUAL 2016</th></tr><tr><td>797.1962613430123</td></tr></table>"
                    },
                    "metadata": {}
                }
            ],
            "execution_count": 53
        },
        {
            "cell_type": "code",
            "source": [
                "SELECT SUM(j.value) as 'JANUARY FARE'\n",
                "FROM LaborStatisticsDB.dbo.january_2017 as j \n",
                "WHERE j.period = 'M01' AND j.series_id LIKE '%30'\n",
                "\n",
                "\n",
                "SELECT SUM(a.value) as 'ANNUAL FARE'\n",
                "FROM LaborStatisticsDB.dbo.annual_2016 as a\n",
                "WHERE a.period = 'M13' AND a.series_id LIKE '%30'"
            ],
            "metadata": {
                "azdata_cell_guid": "d20563e8-f8c4-4eee-8390-ac78d5b68459",
                "language": "sql"
            },
            "outputs": [
                {
                    "output_type": "display_data",
                    "data": {
                        "text/html": "(1 row affected)"
                    },
                    "metadata": {}
                },
                {
                    "output_type": "display_data",
                    "data": {
                        "text/html": "(1 row affected)"
                    },
                    "metadata": {}
                },
                {
                    "output_type": "display_data",
                    "data": {
                        "text/html": "Total execution time: 00:00:00.224"
                    },
                    "metadata": {}
                },
                {
                    "output_type": "execute_result",
                    "execution_count": 72,
                    "data": {
                        "application/vnd.dataresource+json": {
                            "schema": {
                                "fields": [
                                    {
                                        "name": "JANUARY FARE"
                                    }
                                ]
                            },
                            "data": [
                                {
                                    "0": "1782000.9599999967"
                                }
                            ]
                        },
                        "text/html": "<table><tr><th>JANUARY FARE</th></tr><tr><td>1782000.9599999967</td></tr></table>"
                    },
                    "metadata": {}
                },
                {
                    "output_type": "execute_result",
                    "execution_count": 72,
                    "data": {
                        "application/vnd.dataresource+json": {
                            "schema": {
                                "fields": [
                                    {
                                        "name": "ANNUAL FARE"
                                    }
                                ]
                            },
                            "data": [
                                {
                                    "0": "878510.2799999996"
                                }
                            ]
                        },
                        "text/html": "<table><tr><th>ANNUAL FARE</th></tr><tr><td>878510.2799999996</td></tr></table>"
                    },
                    "metadata": {}
                }
            ],
            "execution_count": 72
        },
        {
            "cell_type": "markdown",
            "source": [
                "## <span style=\"font-size:12pt;font-family:Montserrat, sans-serif;color:rgb(53, 74, 95);background-color:rgb(255, 255, 255);font-weight:700;vertical-align:baseline;white-space:pre-wrap;\">Summarize Your Results</span>\n",
                "\n",
                "<span style=\"font-size:10pt;font-family:Arvo, serif;color:rgb(102, 102, 102);background-color:rgb(255, 255, 255);vertical-align:baseline;white-space:pre-wrap;\">With what you know now about the </span> <span style=\"background-color:rgb(255, 255, 255);color:rgb(102, 102, 102);font-family:&quot;Times New Roman&quot;;font-size:13.3333px;white-space:pre-wrap;\">Bureau of Labor Statistics (BLS) Current Employment Survey (CES) results and working with the</span> <span style=\"color:rgb(102, 102, 102);white-space:pre-wrap;font-family:&quot;Times New Roman&quot;;font-size:13.3333px;\">Labor Statistics Database</span><span style=\"background-color:rgb(255, 255, 255);color:rgb(102, 102, 102);font-family:Arvo, serif;font-size:10pt;white-space:pre-wrap;\">, answer the following questions. Note that while this is subjective, you should include relevant data to back up your opinion.</span>\n",
                "\n",
                "1. <span style=\"background-color:rgb(255, 255, 255);font-size:10pt;white-space:pre-wrap;color:rgb(102, 102, 102);font-family:Arvo, serif;\">During which time period did production and nonsupervisory employees fare better?</span>"
            ],
            "metadata": {
                "azdata_cell_guid": "780f65a6-b9e7-4f24-9132-293c47f559e8"
            }
        },
        {
            "cell_type": "markdown",
            "source": [
                "During Period 'M01' or January, is when the production and nonsupervisory employees fare better as seen with the following code: \n",
                "\n",
                "  \n",
                "\n",
                "<span style=\"color: #0000ff;\">SELECT</span> <span style=\"color: #795e26;\">SUM</span>(j.value) <span style=\"color: #0000ff;\">as</span> <span style=\"color: #a31515;\">'JANUARY FARE'</span>\n",
                "\n",
                "<span style=\"color: #0000ff;\">FROM</span> LaborStatisticsDB.dbo.january\\_2017 <span style=\"color: #0000ff;\">as</span> j\n",
                "\n",
                "<span style=\"color: #0000ff;\">WHERE</span> j.period <span style=\"color: #000000;\">=</span> <span style=\"color: #a31515;\">'M01'</span> <span style=\"color: #0000ff;\">AND</span> j.series\\_id <span style=\"color: #0000ff;\">LIKE</span> <span style=\"color: #a31515;\">'%30'</span>\n",
                "\n",
                "  \n",
                "  \n",
                "\n",
                "<span style=\"color: #0000ff;\">SELECT</span> <span style=\"color: #795e26;\">SUM</span>(a.value) <span style=\"color: #0000ff;\">as</span> <span style=\"color: #a31515;\">'ANNUAL FARE'</span>\n",
                "\n",
                "<span style=\"color: #0000ff;\">FROM</span> LaborStatisticsDB.dbo.annual\\_2016 <span style=\"color: #0000ff;\">as</span> a\n",
                "\n",
                "<span style=\"color: #0000ff;\">WHERE</span> a.period <span style=\"color: #000000;\">=</span> <span style=\"color: #a31515;\">'M13'</span> <span style=\"color: #0000ff;\">AND</span> a.series\\_id <span style=\"color: #0000ff;\">LIKE</span> <span style=\"color: #a31515;\">'%30'</span><span style=\"color: rgb(0, 0, 255);\">SELECT</span> <span style=\"color: rgb(121, 94, 38);\">SUM</span>(j.value) <span style=\"color: rgb(0, 0, 255);\">as</span> <span style=\"color: rgb(163, 21, 21);\">'JANUARY FARE'</span>\n",
                "\n",
                "<span style=\"color: #0000ff;\">FROM</span> LaborStatisticsDB.dbo.january\\_2017 <span style=\"color: #0000ff;\">as</span> j\n",
                "\n",
                "<span style=\"color: #0000ff;\">WHERE</span> j.period <span style=\"color: #000000;\">=</span> <span style=\"color: #a31515;\">'M01'</span> <span style=\"color: #0000ff;\">AND</span> j.series\\_id <span style=\"color: #0000ff;\">LIKE</span> <span style=\"color: #a31515;\">'%30'</span>\n",
                "\n",
                "  \n",
                "  \n",
                "\n",
                "which shows that January's fare was 1782000.96 and the 'M13' period totaled 878510.28"
            ],
            "metadata": {
                "azdata_cell_guid": "f11f1fb2-f7d1-41e5-bc9c-84087d7cfc93"
            },
            "attachments": {}
        },
        {
            "cell_type": "markdown",
            "source": [
                "2. <span style=\"background-color: rgb(255, 255, 255); font-size: 10pt; white-space: pre-wrap; color: rgb(102, 102, 102); font-family: Arvo, serif;\">In which industries did production and nonsupervisory employees fare better? The industries with the highest pay include \"Total Private\", \"Private Service-Providing\" and \"Professional and business services.\"</span>"
            ],
            "metadata": {
                "azdata_cell_guid": "f606e5e5-f6f1-4070-bbfa-e31617b43e56"
            },
            "attachments": {}
        },
        {
            "cell_type": "markdown",
            "source": [
                "Double click here to add your answer."
            ],
            "metadata": {
                "azdata_cell_guid": "94e18f5d-b87b-4ba6-b1fd-bde035dafc04"
            }
        },
        {
            "cell_type": "markdown",
            "source": [
                "3. <span style=\"font-size: 10pt; font-family: Arvo, serif; color: rgb(102, 102, 102); background-color: rgb(255, 255, 255); font-variant-numeric: normal; font-variant-east-asian: normal; vertical-align: baseline; white-space: pre-wrap;\">Now that you have explored the datasets, is there any data or information that you wish you had in this analysis?</span>\n",
                "\n",
                "<span style=\"font-size: 13.3333px; white-space: pre-wrap;\">It would have been nice to have the foreign keys and primary keys listed out for us as well as a table/spreadsheet with the January_2017 and Annual_2016 infomation.</span>"
            ],
            "metadata": {
                "azdata_cell_guid": "101e4449-601a-46c6-b217-23f3339cfa76"
            },
            "attachments": {}
        }
    ]
}